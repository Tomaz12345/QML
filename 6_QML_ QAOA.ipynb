{
 "cells": [
  {
   "cell_type": "markdown",
   "metadata": {
    "id": "9Ew_SZnZ-Egt"
   },
   "source": [
    "**Setting up the environment**"
   ]
  },
  {
   "cell_type": "code",
   "execution_count": 1,
   "metadata": {
    "executionInfo": {
     "elapsed": 24790,
     "status": "ok",
     "timestamp": 1744973267461,
     "user": {
      "displayName": "Tomaž Poljanšek",
      "userId": "16982243430376534286"
     },
     "user_tz": -120
    },
    "id": "PR8t5jHwupyF"
   },
   "outputs": [],
   "source": [
    "%%capture\n",
    "files = !ls\n",
    "files = [f.split(\"  \") for f in files][0]\n",
    "\n",
    "isFRIQML = 'fri_qml' in files\n",
    "isFRIQMLPath = isFRIQML and \"setup.py\" in files\n",
    "\n",
    "# Clone the entire repo. Only run once!\n",
    "if not isFRIQML:\n",
    "  !git clone -l -s https://github.com/znajob/fri_qml.git fri_qml\n",
    "\n",
    "if not isFRIQMLPath:\n",
    "  %cd fri_qml\n",
    "\n",
    "!git pull\n",
    "!pip install -e ."
   ]
  },
  {
   "cell_type": "code",
   "execution_count": 2,
   "metadata": {
    "executionInfo": {
     "elapsed": 10018,
     "status": "ok",
     "timestamp": 1744973280738,
     "user": {
      "displayName": "Tomaž Poljanšek",
      "userId": "16982243430376534286"
     },
     "user_tz": -120
    },
    "id": "6NKitHqB8qJm"
   },
   "outputs": [],
   "source": [
    "# MAIN IMPORTS\n",
    "import pennylane as qml\n",
    "from pennylane import numpy as np\n",
    "from friqml.visualisation import plot_quantum_state, plot_histogram\n",
    "from friqml.utils import eps, random_state_normalized, random_state_unnormalized\n",
    "from functools import partial\n",
    "from tqdm.notebook import tqdm\n",
    "from friqml.utils import eps"
   ]
  },
  {
   "cell_type": "markdown",
   "metadata": {
    "id": "QgFYEP3Nqj3r"
   },
   "source": [
    "When solving the exercises refer to the [PennyLane documentation](https://pennylane.readthedocs.io/en/stable/)."
   ]
  },
  {
   "cell_type": "markdown",
   "metadata": {
    "id": "qKRvM0Nd58ni"
   },
   "source": [
    "Pennylane [max cut problem presentation](https://pennylane.ai/qml/demos/tutorial_qaoa_maxcut)"
   ]
  },
  {
   "cell_type": "markdown",
   "metadata": {
    "id": "nilHmCvKDbfM"
   },
   "source": [
    "## Quantum aproximate optimisation algorithm"
   ]
  },
  {
   "cell_type": "markdown",
   "metadata": {
    "id": "51Z983XmRqbw"
   },
   "source": [
    "### Exercise 1\n",
    "In the max cut problem we have to evolve the state with two competing Hamiltonians, $H_0=\\sum_{j=1}^n\\sigma^{\\rm x}_j$ and $H_1=\\sum_{i,j=1}^nG_{ij}(1-\\sigma^{\\rm z}_i\\sigma^{\\rm z}_j)$. Write a template `U_B` with arguments `n` and `beta` that evolves a state with the unitary $U_{\\rm B}(\\beta)=\\exp(-i \\beta H_0)$. Write also a template `U_C` that evolves a state with the unitary $U_{\\rm C}(\\gamma)=\\exp(-i \\gamma H_1)$. The template `U_C` should have one argument `graph` which is a list of edges representing pairs of connected vertices/wires."
   ]
  },
  {
   "cell_type": "code",
   "execution_count": 3,
   "metadata": {
    "executionInfo": {
     "elapsed": 7,
     "status": "ok",
     "timestamp": 1744973280751,
     "user": {
      "displayName": "Tomaž Poljanšek",
      "userId": "16982243430376534286"
     },
     "user_tz": -120
    },
    "id": "olp9ZArxTxJ4"
   },
   "outputs": [],
   "source": [
    "# DEVICE\n",
    "dev = qml.device('default.qubit', wires=4, shots=None)"
   ]
  },
  {
   "cell_type": "code",
   "execution_count": null,
   "metadata": {
    "executionInfo": {
     "elapsed": 7,
     "status": "ok",
     "timestamp": 1744974568606,
     "user": {
      "displayName": "Tomaž Poljanšek",
      "userId": "16982243430376534286"
     },
     "user_tz": -120
    },
    "id": "kW5pyBjxRUCk"
   },
   "outputs": [],
   "source": [
    "def U_B(beta, n):\n",
    "    \"\"\"Implements the unitary UB(beta) = exp(-i beta H0) where H0 = sum X_j.\"\"\"\n",
    "    for j in range(n):\n",
    "        qml.RX(2 * beta, wires=j)\n",
    "\n",
    "def U_C(gamma, graph):\n",
    "    \"\"\"Implements the unitary UC(gamma) = exp(-i gamma H1) where H1 = sum (1 - Z_i Z_j) for edges (i,j).\"\"\"\n",
    "    for edge in graph:\n",
    "        i, j = edge\n",
    "        qml.IsingZZ(gamma, wires=[i,j])\n",
    "        #qml.CNOT(wires=[i, j])\n",
    "        #qml.RZ(gamma, wires=j)\n",
    "        #qml.CNOT(wires=[i, j])\n"
   ]
  },
  {
   "cell_type": "code",
   "execution_count": 37,
   "metadata": {
    "executionInfo": {
     "elapsed": 7,
     "status": "ok",
     "timestamp": 1744974569396,
     "user": {
      "displayName": "Tomaž Poljanšek",
      "userId": "16982243430376534286"
     },
     "user_tz": -120
    },
    "id": "01JeZk6QYjQV"
   },
   "outputs": [],
   "source": [
    "@qml.qnode(dev)\n",
    "def circuit(beta,gamma,graph,n):\n",
    "  U_B(beta,n)\n",
    "  U_C(gamma,graph)\n",
    "  return qml.state()"
   ]
  },
  {
   "cell_type": "code",
   "execution_count": 38,
   "metadata": {
    "colab": {
     "base_uri": "https://localhost:8080/"
    },
    "executionInfo": {
     "elapsed": 28,
     "status": "ok",
     "timestamp": 1744974570300,
     "user": {
      "displayName": "Tomaž Poljanšek",
      "userId": "16982243430376534286"
     },
     "user_tz": -120
    },
    "id": "oja9Kz3kY7f6",
    "outputId": "cd1adb9d-e0c6-4ba2-c181-b97665027b5b"
   },
   "outputs": [
    {
     "data": {
      "text/plain": [
       "True"
      ]
     },
     "execution_count": 38,
     "metadata": {},
     "output_type": "execute_result"
    }
   ],
   "source": [
    "# TESTS\n",
    "n = 4\n",
    "beta=0.23\n",
    "gamma= 1.4\n",
    "graph = [(0, 1), (0, 3), (1, 2), (2, 3)]\n",
    "np.allclose(np.round(circuit(beta,gamma,graph,n),8),np.array([-0.84682588-0.30107186j, -0.-0.21043723j,0.-0.21043723j, -0.04927248+0.j,0.        -0.21043723j,  0.04642563-0.0165057j , -0.04927248+0.j        ,  0.        +0.01153682j, -0.        -0.21043723j, -0.04927248+0.j        , 0.04642563-0.0165057j , -0.        +0.01153682j, -0.04927248+0.j        ,  0.        +0.01153682j, 0.        +0.01153682j, -0.0025452 -0.00090489j]))"
   ]
  },
  {
   "cell_type": "markdown",
   "metadata": {
    "id": "MzTHGD8jS0Kl"
   },
   "source": [
    "### Exercise 2\n",
    "\n",
    "Use the templates `U_B` and `U_C` to write a function `max_cut` which implements the QAOA solution to the max cut problem. The arguments of the function are `betas` (list of angles $\\beta$), `gammas` (list of angles $\\gamma$), `n` (number of vertices), `graph` (a list of edges (vertex pairs) defining the graph), `edge` (a pair of wires $(i,j)$ representing an edge of the graph for which the expectation $\\sigma_i^{\\rm z}\\otimes\\sigma^{\\rm z}_j$ should be calculated). The function/circuit should first prepare a state $|+\\rangle^{\\otimes n}$ followed by alternating applications of the unitaries $U_{\\rm C}(\\gamma_j)$ and $U_{\\rm B}(\\beta_j)$. If the `edge` is `None` the circuit should return a sample, else it should return an expectation value for the specified `edge`."
   ]
  },
  {
   "cell_type": "code",
   "execution_count": null,
   "metadata": {
    "executionInfo": {
     "elapsed": 8,
     "status": "ok",
     "timestamp": 1744976642777,
     "user": {
      "displayName": "Tomaž Poljanšek",
      "userId": "16982243430376534286"
     },
     "user_tz": -120
    },
    "id": "9AH92A8zS0Km"
   },
   "outputs": [],
   "source": [
    "pauli_z_2 = np.array([[1, 0, 0, 0], [0, -1, 0, 0], [0, 0, -1, 0], [0, 0, 0, 1]])\n",
    "\n",
    "def max_cut(betas, gammas, n, graph, edge=None):\n",
    "    assert len(gammas) == len(\n",
    "        betas), 'Betas and gammas should have equal length.'\n",
    "    # apply Hadamards to get the n qubit |+> state\n",
    "    for wire in range(n):\n",
    "        qml.Hadamard(wires=wire)\n",
    "    # p instances of unitary operators\n",
    "    n_layers = len(gammas)\n",
    "    for i in range(n_layers):\n",
    "        U_C(gammas[i], graph)\n",
    "        U_B(betas[i], n)\n",
    "    if edge is None:\n",
    "        # measurement phase\n",
    "        return qml.sample()\n",
    "    # during the optimization phase we are evaluating a term\n",
    "    # in the objective using expval\n",
    "    [i,j] = edge\n",
    "    return qml.expval(qml.PauliZ(i) @ qml.PauliZ(j))\n"
   ]
  },
  {
   "cell_type": "code",
   "execution_count": 52,
   "metadata": {
    "executionInfo": {
     "elapsed": 316,
     "status": "ok",
     "timestamp": 1744976644901,
     "user": {
      "displayName": "Tomaž Poljanšek",
      "userId": "16982243430376534286"
     },
     "user_tz": -120
    },
    "id": "-QHcqL5ZKaDL"
   },
   "outputs": [],
   "source": [
    "dev_sample = qml.device('default.qubit', wires=4, shots=1)\n",
    "dev_exact = qml.device('default.qubit', wires=4, shots=None)\n",
    "\n",
    "circuit_sample = qml.qnode(dev_sample)(max_cut)\n",
    "circuit_exact = qml.qnode(dev_exact)(max_cut)"
   ]
  },
  {
   "cell_type": "code",
   "execution_count": 53,
   "metadata": {
    "colab": {
     "base_uri": "https://localhost:8080/"
    },
    "executionInfo": {
     "elapsed": 12,
     "status": "ok",
     "timestamp": 1744976645969,
     "user": {
      "displayName": "Tomaž Poljanšek",
      "userId": "16982243430376534286"
     },
     "user_tz": -120
    },
    "id": "8Gs_O7pqS0Km",
    "outputId": "f4c50ba3-99fd-4a4b-a596-8a51babbafac"
   },
   "outputs": [
    {
     "name": "stdout",
     "output_type": "stream",
     "text": [
      "True\n",
      "True\n"
     ]
    }
   ],
   "source": [
    "# TESTS\n",
    "# Basis test\n",
    "betas = [1.4,2.2,0.31]\n",
    "gammas = [0.4,1.2,2.1]\n",
    "print(np.isclose(circuit_exact(betas,gammas,n,graph,[0,1]),-0.565547665503964))\n",
    "print(len(circuit_sample(betas,gammas,n,graph,None))==4)"
   ]
  },
  {
   "cell_type": "markdown",
   "metadata": {
    "id": "-3XW1pw1dAXZ"
   },
   "source": [
    "### Exercise 3\n",
    "\n",
    "Finally, we optimize the `max_cut` circuit. Complete the function `qaoa_maxcut`. The function should:\n",
    "1.   Create a random initial guess for `betas` and `gammas` and store it in a variable `params`\n",
    "2.   Create/define a function `objective` that calculates the objective function for the max cut problem for a given graph. The argument of the function is `params` which is a list containing the lists `betas` and `gammas`.\n",
    "3.   Define the optimiser\n",
    "4.   Optimize for 30 steps\n",
    "5.   Calculate 100 samples from the `max_cut` circuit and convert the samples to integers (use the provided function `bitstring_to_int`)\n",
    "6.   Return the objective for the current parameter values and the samples\n",
    "\n"
   ]
  },
  {
   "cell_type": "code",
   "execution_count": 54,
   "metadata": {
    "executionInfo": {
     "elapsed": 14,
     "status": "ok",
     "timestamp": 1744977179663,
     "user": {
      "displayName": "Tomaž Poljanšek",
      "userId": "16982243430376534286"
     },
     "user_tz": -120
    },
    "id": "RFe2e-9vdAXa"
   },
   "outputs": [],
   "source": [
    "# DEVICE\n",
    "dev = qml.device('default.qubit', wires=4, shots=1)"
   ]
  },
  {
   "cell_type": "code",
   "execution_count": 55,
   "metadata": {
    "executionInfo": {
     "elapsed": 35,
     "status": "ok",
     "timestamp": 1744977180991,
     "user": {
      "displayName": "Tomaž Poljanšek",
      "userId": "16982243430376534286"
     },
     "user_tz": -120
    },
    "id": "0OnW9-4TdAXb"
   },
   "outputs": [],
   "source": [
    "# SOLUTION\n",
    "from friqml.solutions.phase_estimation import ipowers_of_unitary ,iqpe"
   ]
  },
  {
   "cell_type": "markdown",
   "metadata": {},
   "source": [
    "??"
   ]
  },
  {
   "cell_type": "code",
   "execution_count": null,
   "metadata": {
    "executionInfo": {
     "elapsed": 835,
     "status": "ok",
     "timestamp": 1744977183117,
     "user": {
      "displayName": "Tomaž Poljanšek",
      "userId": "16982243430376534286"
     },
     "user_tz": -120
    },
    "id": "YNlxia0udAXc"
   },
   "outputs": [],
   "source": [
    "def bitstring_to_int(bit_string_sample):\n",
    "    bit_string = \"\".join(str(bs) for bs in bit_string_sample)\n",
    "    return int(bit_string, base=2)\n",
    "\n",
    "def qaoa_maxcut(n_layers, graph, n):\n",
    "    print(\"\\np={:d}\".format(n_layers))\n",
    "\n",
    "    # initialize the parameters near zero\n",
    "    init_params = 0.01 * np.random.rand(2, n_layers, requires_grad=True)\n",
    "\n",
    "    # minimize the negative of the objective function\n",
    "    def objective(params):\n",
    "        betas = params[0]\n",
    "        gammas = params[1]\n",
    "        neg_obj = 0\n",
    "        for edge in graph:\n",
    "            # objective for the MaxCut problem\n",
    "            neg_obj -= 0.5 * \\\n",
    "                (1 - circuit_sample(betas, gammas, n, graph, edge=edge))\n",
    "        return neg_obj\n",
    "\n",
    "    # initialize optimizer: Adagrad works well empirically\n",
    "    opt = qml.AdagradOptimizer(stepsize=0.5)\n",
    "\n",
    "    # optimize parameters in objective\n",
    "    params = init_params\n",
    "    steps = 30\n",
    "    for i in range(steps):\n",
    "        params = opt.step(objective, params)\n",
    "        if (i + 1) % 5 == 0:\n",
    "            print(\"Objective after step {:5d}: {: .7f}\".format(\n",
    "                i + 1, -objective(params)))\n",
    "\n",
    "    # sample measured bitstrings 100 times\n",
    "    bit_strings = []\n",
    "    n_samples = 100\n",
    "    for i in range(0, n_samples):\n",
    "        bit_strings.append(bitstring_to_int(circuit_sample(\n",
    "            params[0], params[1], n, graph, edge=None)))\n",
    "\n",
    "    return -objective(params), bit_strings\n",
    "\n",
    "\n",
    "# perform qaoa on our graph with p=1,2 and"
   ]
  },
  {
   "cell_type": "code",
   "execution_count": null,
   "metadata": {
    "id": "m1hVltcQatW0"
   },
   "outputs": [],
   "source": [
    "# keep the bitstring sample lists\n",
    "bitstrings1 = qaoa_maxcut(1,graph,4)[1]\n",
    "bitstrings2 = qaoa_maxcut(2,graph,4)[1]"
   ]
  },
  {
   "cell_type": "code",
   "execution_count": 57,
   "metadata": {
    "colab": {
     "base_uri": "https://localhost:8080/",
     "height": 630
    },
    "executionInfo": {
     "elapsed": 1329,
     "status": "error",
     "timestamp": 1744977355302,
     "user": {
      "displayName": "Tomaž Poljanšek",
      "userId": "16982243430376534286"
     },
     "user_tz": -120
    },
    "id": "9OkqLgksdAXc",
    "outputId": "9f255dca-a016-4075-bda4-1fa5a5ab67bf"
   },
   "outputs": [
    {
     "ename": "NameError",
     "evalue": "name 'bitstrings1' is not defined",
     "output_type": "error",
     "traceback": [
      "\u001b[0;31m---------------------------------------------------------------------------\u001b[0m",
      "\u001b[0;31mNameError\u001b[0m                                 Traceback (most recent call last)",
      "\u001b[0;32m<ipython-input-57-96457c89b897>\u001b[0m in \u001b[0;36m<cell line: 0>\u001b[0;34m()\u001b[0m\n\u001b[1;32m     11\u001b[0m \u001b[0mplt\u001b[0m\u001b[0;34m.\u001b[0m\u001b[0mylabel\u001b[0m\u001b[0;34m(\u001b[0m\u001b[0;34m\"freq.\"\u001b[0m\u001b[0;34m)\u001b[0m\u001b[0;34m\u001b[0m\u001b[0;34m\u001b[0m\u001b[0m\n\u001b[1;32m     12\u001b[0m \u001b[0mplt\u001b[0m\u001b[0;34m.\u001b[0m\u001b[0mxticks\u001b[0m\u001b[0;34m(\u001b[0m\u001b[0mxticks\u001b[0m\u001b[0;34m,\u001b[0m \u001b[0mxtick_labels\u001b[0m\u001b[0;34m,\u001b[0m \u001b[0mrotation\u001b[0m\u001b[0;34m=\u001b[0m\u001b[0;34m\"vertical\"\u001b[0m\u001b[0;34m)\u001b[0m\u001b[0;34m\u001b[0m\u001b[0;34m\u001b[0m\u001b[0m\n\u001b[0;32m---> 13\u001b[0;31m \u001b[0mplt\u001b[0m\u001b[0;34m.\u001b[0m\u001b[0mhist\u001b[0m\u001b[0;34m(\u001b[0m\u001b[0mbitstrings1\u001b[0m\u001b[0;34m,\u001b[0m \u001b[0mbins\u001b[0m\u001b[0;34m=\u001b[0m\u001b[0mbins\u001b[0m\u001b[0;34m)\u001b[0m\u001b[0;34m\u001b[0m\u001b[0;34m\u001b[0m\u001b[0m\n\u001b[0m\u001b[1;32m     14\u001b[0m \u001b[0mplt\u001b[0m\u001b[0;34m.\u001b[0m\u001b[0msubplot\u001b[0m\u001b[0;34m(\u001b[0m\u001b[0;36m1\u001b[0m\u001b[0;34m,\u001b[0m \u001b[0;36m2\u001b[0m\u001b[0;34m,\u001b[0m \u001b[0;36m2\u001b[0m\u001b[0;34m)\u001b[0m\u001b[0;34m\u001b[0m\u001b[0;34m\u001b[0m\u001b[0m\n\u001b[1;32m     15\u001b[0m \u001b[0mplt\u001b[0m\u001b[0;34m.\u001b[0m\u001b[0mtitle\u001b[0m\u001b[0;34m(\u001b[0m\u001b[0;34m\"n_layers=2\"\u001b[0m\u001b[0;34m)\u001b[0m\u001b[0;34m\u001b[0m\u001b[0;34m\u001b[0m\u001b[0m\n",
      "\u001b[0;31mNameError\u001b[0m: name 'bitstrings1' is not defined"
     ]
    },
    {
     "data": {
      "image/png": "[encoded data removed]",
      "text/plain": [
       "<Figure size 800x400 with 2 Axes>"
      ]
     },
     "metadata": {},
     "output_type": "display_data"
    }
   ],
   "source": [
    "import matplotlib.pyplot as plt\n",
    "\n",
    "xticks = range(0, 16)\n",
    "xtick_labels = list(map(lambda x: format(x, \"04b\"), xticks))\n",
    "bins = np.arange(0, 17) - 0.5\n",
    "\n",
    "fig, (ax1, ax2) = plt.subplots(1, 2, figsize=(8, 4))\n",
    "plt.subplot(1, 2, 1)\n",
    "plt.title(\"n_layers=1\")\n",
    "plt.xlabel(\"bitstrings\")\n",
    "plt.ylabel(\"freq.\")\n",
    "plt.xticks(xticks, xtick_labels, rotation=\"vertical\")\n",
    "plt.hist(bitstrings1, bins=bins)\n",
    "plt.subplot(1, 2, 2)\n",
    "plt.title(\"n_layers=2\")\n",
    "plt.xlabel(\"bitstrings\")\n",
    "plt.ylabel(\"freq.\")\n",
    "plt.xticks(xticks, xtick_labels, rotation=\"vertical\")\n",
    "plt.hist(bitstrings2, bins=bins)\n",
    "plt.tight_layout()\n",
    "plt.show()"
   ]
  },
  {
   "cell_type": "code",
   "execution_count": null,
   "metadata": {
    "id": "bfHbqBsMaWKE"
   },
   "outputs": [],
   "source": []
  }
 ],
 "metadata": {
  "colab": {
   "provenance": [
    {
     "file_id": "1V0_0XfqoYKwmZnE0K9d4NUCFDRmwFwJb",
     "timestamp": 1744973110485
    },
    {
     "file_id": "10YfGhMvgduOv-CmLGNrP_kimYXpINMYj",
     "timestamp": 1647770577166
    },
    {
     "file_id": "1uscUoaBTjaLceiKMYhwmSVMPQTPzNI6c",
     "timestamp": 1647114218785
    },
    {
     "file_id": "17hKzm3w2ic8Ey0lply4bohRE8wUBdD74",
     "timestamp": 1646565126779
    }
   ]
  },
  "kernelspec": {
   "display_name": "Python 3",
   "name": "python3"
  },
  "language_info": {
   "name": "python"
  }
 },
 "nbformat": 4,
 "nbformat_minor": 0
}
