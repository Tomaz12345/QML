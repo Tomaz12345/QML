{
 "cells": [
  {
   "cell_type": "markdown",
   "metadata": {
    "id": "9Ew_SZnZ-Egt"
   },
   "source": [
    "**Setting up the environment**"
   ]
  },
  {
   "cell_type": "code",
   "execution_count": 1,
   "metadata": {
    "executionInfo": {
     "elapsed": 36483,
     "status": "ok",
     "timestamp": 1743762332863,
     "user": {
      "displayName": "Tomaž Poljanšek",
      "userId": "16982243430376534286"
     },
     "user_tz": -120
    },
    "id": "PR8t5jHwupyF"
   },
   "outputs": [],
   "source": [
    "%%capture\n",
    "files = !ls\n",
    "files = [f.split(\"  \") for f in files][0]\n",
    "\n",
    "isFRIQML = 'fri_qml' in files\n",
    "isFRIQMLPath = isFRIQML and \"setup.py\" in files\n",
    "\n",
    "# Clone the entire repo. Only run once!\n",
    "if not isFRIQML:\n",
    "  !git clone -l -s https://github.com/znajob/fri_qml.git fri_qml\n",
    "\n",
    "if not isFRIQMLPath:\n",
    "  %cd fri_qml\n",
    "\n",
    "!git pull\n",
    "!pip install -e ."
   ]
  },
  {
   "cell_type": "code",
   "execution_count": 2,
   "metadata": {
    "executionInfo": {
     "elapsed": 27522,
     "status": "ok",
     "timestamp": 1743762360429,
     "user": {
      "displayName": "Tomaž Poljanšek",
      "userId": "16982243430376534286"
     },
     "user_tz": -120
    },
    "id": "6NKitHqB8qJm"
   },
   "outputs": [],
   "source": [
    "# MAIN IMPORTS\n",
    "import pennylane as qml\n",
    "from pennylane import numpy as np\n",
    "from friqml.visualisation import plot_quantum_state, plot_histogram\n",
    "from friqml.utils import eps, random_state_normalized, random_state_unnormalized\n",
    "from functools import partial\n",
    "from tqdm.notebook import tqdm\n",
    "from friqml.utils import eps"
   ]
  },
  {
   "cell_type": "markdown",
   "metadata": {
    "id": "QgFYEP3Nqj3r"
   },
   "source": [
    "When solving the exercises refer to the [PennyLane documentation](https://pennylane.readthedocs.io/en/stable/)."
   ]
  },
  {
   "cell_type": "markdown",
   "metadata": {
    "id": "nilHmCvKDbfM"
   },
   "source": [
    "## Quantum protocols"
   ]
  },
  {
   "cell_type": "markdown",
   "metadata": {
    "id": "51Z983XmRqbw"
   },
   "source": [
    "### Exercise 1\n",
    "\n",
    "Write a template `cU` that implements a controlled single qubit unitary operation by using only the `CNOT` and single unitary gates. The template should have four arguments `alpha`, `beta`, `gamma`, and `delta` which specify the unitary as $U=\\exp(i\\alpha)R_z(\\beta)R_y(\\gamma)R_z(\\delta)$. Hint: use the decomposition $U = \\exp(i\\alpha)AXBXC$, where $ABC=\\mathbb{I}_2$."
   ]
  },
  {
   "cell_type": "code",
   "execution_count": 3,
   "metadata": {
    "executionInfo": {
     "elapsed": 63,
     "status": "ok",
     "timestamp": 1743762360459,
     "user": {
      "displayName": "Tomaž Poljanšek",
      "userId": "16982243430376534286"
     },
     "user_tz": -120
    },
    "id": "olp9ZArxTxJ4"
   },
   "outputs": [],
   "source": [
    "# DEVICE\n",
    "dev = qml.device('default.qubit', wires=2, shots=None)"
   ]
  },
  {
   "cell_type": "code",
   "execution_count": 40,
   "metadata": {
    "executionInfo": {
     "elapsed": 8,
     "status": "ok",
     "timestamp": 1743763008549,
     "user": {
      "displayName": "Tomaž Poljanšek",
      "userId": "16982243430376534286"
     },
     "user_tz": -120
    },
    "id": "A6J1qyvLVGS2"
   },
   "outputs": [],
   "source": [
    "def cU(alpha, beta, gamma, delta, wires=[0, 1]):\n",
    "    qml.RZ(beta, wires=wires[1])\n",
    "    qml.RY(gamma/2., wires=wires[1])\n",
    "\n",
    "    qml.CNOT(wires)\n",
    "\n",
    "    qml.RY(-gamma/2, wires=wires[1])\n",
    "    qml.RZ(-(delta+beta)/2, wires=wires[1])\n",
    "\n",
    "    qml.CNOT(wires)\n",
    "\n",
    "    qml.RZ((delta-beta)/2, wires=wires[1])\n",
    "    qml.PhaseShift(alpha,wires=wires[0])"
   ]
  },
  {
   "cell_type": "code",
   "execution_count": 41,
   "metadata": {
    "executionInfo": {
     "elapsed": 70,
     "status": "ok",
     "timestamp": 1743763010420,
     "user": {
      "displayName": "Tomaž Poljanšek",
      "userId": "16982243430376534286"
     },
     "user_tz": -120
    },
    "id": "01JeZk6QYjQV"
   },
   "outputs": [],
   "source": [
    "@qml.qnode(dev)\n",
    "def circuit_0(x):\n",
    "  cU(x[0],x[1],x[2],x[3])\n",
    "  return qml.state()\n",
    "\n",
    "@qml.qnode(dev)\n",
    "def circuit_1(x):\n",
    "  qml.PauliX(wires=0)\n",
    "  cU(x[0],x[1],x[2],x[3],wires=[0,1])\n",
    "  qml.PhaseShift(-x[0],wires=0)\n",
    "  qml.RZ(-x[3],wires=1)\n",
    "  qml.RY(-x[2],wires=1)\n",
    "  qml.RZ(-x[1],wires=1)\n",
    "  return qml.state()"
   ]
  },
  {
   "cell_type": "code",
   "execution_count": 42,
   "metadata": {
    "colab": {
     "base_uri": "https://localhost:8080/"
    },
    "executionInfo": {
     "elapsed": 74,
     "status": "ok",
     "timestamp": 1743763011702,
     "user": {
      "displayName": "Tomaž Poljanšek",
      "userId": "16982243430376534286"
     },
     "user_tz": -120
    },
    "id": "oja9Kz3kY7f6",
    "outputId": "10eb8c16-0d39-4d87-a7f9-d1370f022d5f"
   },
   "outputs": [
    {
     "name": "stdout",
     "output_type": "stream",
     "text": [
      "True\n",
      "True\n"
     ]
    }
   ],
   "source": [
    "print(np.isclose(circuit_0(np.random.rand(4)*np.pi*2)[0],1))\n",
    "print(np.isclose(abs(circuit_1(np.random.rand(4)*np.pi*2)[2]),1))"
   ]
  },
  {
   "cell_type": "markdown",
   "metadata": {
    "id": "aDnnOfzxDj0t"
   },
   "source": [
    "### Exercise 2\n",
    "\n",
    "Write a template `teleportation` that implements the one qubit teleportation protocol. The first qubit should be transferred to the third qubit. The second and third qubit are initially in the state $|00⟩$."
   ]
  },
  {
   "cell_type": "code",
   "execution_count": 64,
   "metadata": {
    "executionInfo": {
     "elapsed": 25,
     "status": "ok",
     "timestamp": 1743763865408,
     "user": {
      "displayName": "Tomaž Poljanšek",
      "userId": "16982243430376534286"
     },
     "user_tz": -120
    },
    "id": "uhvb10klGrdv"
   },
   "outputs": [],
   "source": [
    "# DEVICE\n",
    "dev = qml.device('default.qubit', wires=3, shots=None)"
   ]
  },
  {
   "cell_type": "code",
   "execution_count": 69,
   "metadata": {
    "executionInfo": {
     "elapsed": 33,
     "status": "ok",
     "timestamp": 1743763972175,
     "user": {
      "displayName": "Tomaž Poljanšek",
      "userId": "16982243430376534286"
     },
     "user_tz": -120
    },
    "id": "EOuMOlYrbwKV"
   },
   "outputs": [],
   "source": [
    "###\n",
    "### YOUR CODE HERE\n",
    "###\n",
    "\n",
    "def teleportation(wires=[0,1,2]):\n",
    "    w0 = wires[0]\n",
    "    w1 = wires[1]\n",
    "    w2 = wires[2]\n",
    "\n",
    "    qml.Hadamard(wires=1)\n",
    "    qml.CNOT(wires=[w1, w2])\n",
    "\n",
    "    qml.CNOT(wires=[w0, w1])\n",
    "    qml.Hadamard(wires=0)\n",
    "\n",
    "    qml.CNOT(wires=[w1, w2])\n",
    "    qml.CZ(wires=[w0, w2])"
   ]
  },
  {
   "cell_type": "code",
   "execution_count": 70,
   "metadata": {
    "executionInfo": {
     "elapsed": 23,
     "status": "ok",
     "timestamp": 1743763974802,
     "user": {
      "displayName": "Tomaž Poljanšek",
      "userId": "16982243430376534286"
     },
     "user_tz": -120
    },
    "id": "LSeb287kG3rY"
   },
   "outputs": [],
   "source": [
    "@qml.qnode(dev)\n",
    "def circuit(x):\n",
    "  qml.RY(x,wires=0)\n",
    "  teleportation(wires=[0,1,2])\n",
    "  qml.RY(-x,wires=2)\n",
    "  qml.Hadamard(wires=0)\n",
    "  qml.Hadamard(wires=1)\n",
    "  return qml.state()"
   ]
  },
  {
   "cell_type": "code",
   "execution_count": 71,
   "metadata": {
    "colab": {
     "base_uri": "https://localhost:8080/"
    },
    "executionInfo": {
     "elapsed": 68,
     "status": "ok",
     "timestamp": 1743763976055,
     "user": {
      "displayName": "Tomaž Poljanšek",
      "userId": "16982243430376534286"
     },
     "user_tz": -120
    },
    "id": "auCmHr_kHHOd",
    "outputId": "44314d9b-3fc3-4ff4-bcde-e288d52b9374"
   },
   "outputs": [
    {
     "name": "stdout",
     "output_type": "stream",
     "text": [
      "True\n"
     ]
    }
   ],
   "source": [
    "# TESTS\n",
    "print(np.isclose(circuit(2*np.random.rand()*np.pi)[0],1))"
   ]
  },
  {
   "cell_type": "markdown",
   "metadata": {
    "id": "G6vSYsXhHHPL"
   },
   "source": [
    "\n",
    "## Quantum fourier transform"
   ]
  },
  {
   "cell_type": "markdown",
   "metadata": {
    "id": "jumhaWG3L_Yg"
   },
   "source": [
    "### Exercise 1\n",
    "\n",
    "The quantum fourier transform acts on the amplitudes of basis vectors. To use it on a classical vector $x$ we first have to encode it as amplitudes of the basis states. Such encoding of a classical vector on the amplitudes of quantum states is called amplitude encoding. Implement a templet `amplitude_encoding` that receives a vector $x=(x_0,x_1,x_2,x_3)$ and writes the elements into the amplitudes of a two qubit state."
   ]
  },
  {
   "cell_type": "code",
   "execution_count": 72,
   "metadata": {
    "executionInfo": {
     "elapsed": 8,
     "status": "ok",
     "timestamp": 1743764045996,
     "user": {
      "displayName": "Tomaž Poljanšek",
      "userId": "16982243430376534286"
     },
     "user_tz": -120
    },
    "id": "jgMIZboOzdBA"
   },
   "outputs": [],
   "source": [
    "# DEVICE\n",
    "dev = qml.device('default.qubit', wires=2, shots=None)"
   ]
  },
  {
   "cell_type": "code",
   "execution_count": null,
   "metadata": {
    "id": "yr6KXbxvH7DW"
   },
   "outputs": [],
   "source": [
    "def amplitude_encoding(x, wires=[0, 1]):\n",
    "    # Normalize the vector to represent a quantum state\n",
    "    y = x/np.linalg.norm(x)\n",
    "    x0 = y[0]\n",
    "    x1 = y[1]\n",
    "    x2 = y[2]\n",
    "    x3 = y[3]\n",
    "    fi0 = np.arccos(np.sqrt(x0**2+x1**2))\n",
    "    fi1 = np.arctan2(x1, x0)\n",
    "    fi2 = np.arctan2(x3, x2)\n",
    "    fi3 = (fi2-fi1)\n",
    "    qml.RY(2*fi0, wires=wires[0])\n",
    "    qml.RY(2*fi1, wires=wires[1])\n",
    "    U = np.array([[np.cos(fi3), -np.sin(fi3)], [np.sin(fi3), np.cos(fi3)]])\n",
    "    qml.ControlledQubitUnitary(U, control_wires=[wires[0]], wires=wires[1])"
   ]
  },
  {
   "cell_type": "code",
   "execution_count": null,
   "metadata": {
    "id": "P1KoQ4BL5gDF"
   },
   "outputs": [],
   "source": [
    "@qml.qnode(dev)\n",
    "def circuit(x):\n",
    "  amplitude_encoding(x,wires=[0,1])\n",
    "  return qml.state()"
   ]
  },
  {
   "cell_type": "code",
   "execution_count": null,
   "metadata": {
    "colab": {
     "base_uri": "https://localhost:8080/"
    },
    "executionInfo": {
     "elapsed": 62,
     "status": "ok",
     "timestamp": 1743758679575,
     "user": {
      "displayName": "Bojan Žunkovič",
      "userId": "04354960200638355485"
     },
     "user_tz": -120
    },
    "id": "TNxLynTlH_2p",
    "outputId": "fb1ab820-b837-4b85-a40f-09aaa65f33bc"
   },
   "outputs": [
    {
     "name": "stdout",
     "output_type": "stream",
     "text": [
      "True\n",
      "True\n",
      "True\n",
      "True\n",
      "True\n",
      "True\n",
      "True\n",
      "True\n",
      "True\n",
      "True\n",
      "True\n",
      "True\n",
      "True\n",
      "True\n"
     ]
    }
   ],
   "source": [
    "# TESTS\n",
    "x = (1,0,0,0)\n",
    "print(np.isclose(np.linalg.norm(x-circuit(x)),0))\n",
    "x = (0,1,0,0)\n",
    "print(np.isclose(np.linalg.norm(x-circuit(x)),0))\n",
    "x = (0,0,1,0)\n",
    "print(np.isclose(np.linalg.norm(x-circuit(x)),0))\n",
    "x = (0,0,0,1)\n",
    "print(np.isclose(np.linalg.norm(x-circuit(x)),0))\n",
    "for i in range(10):\n",
    "  x = np.random.rand(4) - np.random.rand(4)\n",
    "  x /= np.linalg.norm(x)\n",
    "  print(np.isclose(np.linalg.norm(x-circuit(x)),0))"
   ]
  },
  {
   "cell_type": "markdown",
   "metadata": {
    "id": "PmivJwfYMMmq"
   },
   "source": [
    "### Exercise 2\n",
    "Write a template `qft` that implements a quantum fourier transform on two qubits.   "
   ]
  },
  {
   "cell_type": "code",
   "execution_count": null,
   "metadata": {
    "id": "OhEhsjzN85J9"
   },
   "outputs": [],
   "source": [
    "import dimod"
   ]
  },
  {
   "cell_type": "code",
   "execution_count": null,
   "metadata": {
    "id": "3Wn8vIvDbyiD"
   },
   "outputs": [],
   "source": [
    "def qft_rot(k):\n",
    "    return 2*np.pi/2**k\n",
    "\n",
    "\n",
    "def qft(wires=[0, 1]):\n",
    "    qml.Hadamard(wires=wires[0])\n",
    "    qml.ControlledPhaseShift(qft_rot(2), wires=[wires[1], wires[0]])\n",
    "    qml.Hadamard(wires=wires[1])\n",
    "    qml.SWAP(wires=[wires[0], wires[1]])"
   ]
  },
  {
   "cell_type": "code",
   "execution_count": null,
   "metadata": {
    "id": "Z0hn1W1G-JeM"
   },
   "outputs": [],
   "source": [
    "@qml.qnode(dev)\n",
    "def circuit(x):\n",
    "  amplitude_encoding(x,wires=[0,1])\n",
    "  qft(wires=[0,1])\n",
    "  return qml.state()\n",
    "\n",
    "\n",
    "def DFT(x):\n",
    "    \"\"\"\n",
    "    Simple implementation of the discrete Fourier Transform of a 1D real-valued vector x\n",
    "    \"\"\"\n",
    "\n",
    "    N = len(x)\n",
    "    n = np.arange(N)\n",
    "    k = n.reshape((N, 1))\n",
    "    e = np.exp(2j * np.pi * k * n / N)\n",
    "\n",
    "    X = np.dot(e, x)/np.sqrt(N)\n",
    "\n",
    "    return X"
   ]
  },
  {
   "cell_type": "code",
   "execution_count": null,
   "metadata": {
    "colab": {
     "base_uri": "https://localhost:8080/"
    },
    "executionInfo": {
     "elapsed": 80,
     "status": "ok",
     "timestamp": 1743758683291,
     "user": {
      "displayName": "Bojan Žunkovič",
      "userId": "04354960200638355485"
     },
     "user_tz": -120
    },
    "id": "stdkEo8fPQE_",
    "outputId": "01e74612-7aed-46a9-f708-9c713160be3f"
   },
   "outputs": [
    {
     "name": "stdout",
     "output_type": "stream",
     "text": [
      "True\n",
      "True\n",
      "True\n",
      "True\n",
      "True\n",
      "True\n",
      "True\n",
      "True\n",
      "True\n",
      "True\n",
      "True\n",
      "True\n",
      "True\n",
      "True\n"
     ]
    }
   ],
   "source": [
    "# TESTS\n",
    "x = (1,0,0,0)\n",
    "print(np.isclose(np.linalg.norm(circuit(x)-DFT(x)),0))\n",
    "x = (0,1,0,0)\n",
    "print(np.isclose(np.linalg.norm(circuit(x)-DFT(x)),0))\n",
    "x = (0,0,1,0)\n",
    "print(np.isclose(np.linalg.norm(circuit(x)-DFT(x)),0))\n",
    "x = (0,0,0,1)\n",
    "print(np.isclose(np.linalg.norm(circuit(x)-DFT(x)),0))\n",
    "for i in range(10):\n",
    "  x = np.random.rand(4) - np.random.rand(4)\n",
    "  x /= np.linalg.norm(x)\n",
    "  print(np.isclose(np.linalg.norm(circuit(x)-DFT(x)),0))\n"
   ]
  },
  {
   "cell_type": "markdown",
   "metadata": {
    "id": "il_YzsARPEHL"
   },
   "source": [
    "### Exercise 3\n",
    "Write a template `iqft` that implements the inverse quantum fourier transform on two qubits."
   ]
  },
  {
   "cell_type": "code",
   "execution_count": null,
   "metadata": {
    "id": "pYx7nI9u97sk"
   },
   "outputs": [],
   "source": [
    "def iqft(wires=[0, 1]):\n",
    "    qml.SWAP(wires=[wires[0], wires[1]])\n",
    "    qml.Hadamard(wires=wires[1])\n",
    "    qml.ControlledPhaseShift(-qft_rot(2), wires=[wires[1], wires[0]])\n",
    "    qml.Hadamard(wires=wires[0])"
   ]
  },
  {
   "cell_type": "code",
   "execution_count": null,
   "metadata": {
    "id": "45R0YyVh73uw"
   },
   "outputs": [],
   "source": [
    "@qml.qnode(dev)\n",
    "def circuit(x):\n",
    "  amplitude_encoding(x,wires=[0,1])\n",
    "  qft(wires=[0,1])\n",
    "  iqft(wires=[0,1])\n",
    "  return qml.state()"
   ]
  },
  {
   "cell_type": "code",
   "execution_count": null,
   "metadata": {
    "colab": {
     "base_uri": "https://localhost:8080/"
    },
    "executionInfo": {
     "elapsed": 35,
     "status": "ok",
     "timestamp": 1743758686945,
     "user": {
      "displayName": "Bojan Žunkovič",
      "userId": "04354960200638355485"
     },
     "user_tz": -120
    },
    "id": "vxW-S1KuV9ej",
    "outputId": "526aca23-945b-4320-cc73-7e2ba12a6297"
   },
   "outputs": [
    {
     "name": "stdout",
     "output_type": "stream",
     "text": [
      "True\n",
      "True\n",
      "True\n",
      "True\n",
      "True\n",
      "True\n",
      "True\n",
      "True\n",
      "True\n",
      "True\n",
      "True\n",
      "True\n",
      "True\n",
      "True\n"
     ]
    }
   ],
   "source": [
    "# TESTS\n",
    "x = (1,0,0,0)\n",
    "print(np.isclose(np.linalg.norm(x-circuit(x)),0))\n",
    "x = (0,1,0,0)\n",
    "print(np.isclose(np.linalg.norm(x-circuit(x)),0))\n",
    "x = (0,0,1,0)\n",
    "print(np.isclose(np.linalg.norm(x-circuit(x)),0))\n",
    "x = (0,0,0,1)\n",
    "print(np.isclose(np.linalg.norm(x-circuit(x)),0))\n",
    "for i in range(10):\n",
    "  x = np.random.rand(4) - np.random.rand(4)\n",
    "  x /= np.linalg.norm(x)\n",
    "  print(np.isclose(np.linalg.norm(x-circuit(x)),0))"
   ]
  }
 ],
 "metadata": {
  "colab": {
   "provenance": [
    {
     "file_id": "10YfGhMvgduOv-CmLGNrP_kimYXpINMYj",
     "timestamp": 1743762260566
    },
    {
     "file_id": "1uscUoaBTjaLceiKMYhwmSVMPQTPzNI6c",
     "timestamp": 1647114218785
    },
    {
     "file_id": "17hKzm3w2ic8Ey0lply4bohRE8wUBdD74",
     "timestamp": 1646565126779
    }
   ]
  },
  "kernelspec": {
   "display_name": "Python 3",
   "name": "python3"
  },
  "language_info": {
   "name": "python"
  }
 },
 "nbformat": 4,
 "nbformat_minor": 0
}
