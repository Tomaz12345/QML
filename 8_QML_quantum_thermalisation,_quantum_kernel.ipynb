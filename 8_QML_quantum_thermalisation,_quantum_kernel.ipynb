{
  "cells": [
    {
      "cell_type": "markdown",
      "metadata": {
        "id": "9Ew_SZnZ-Egt"
      },
      "source": [
        "# Setting up the environment"
      ]
    },
    {
      "cell_type": "code",
      "execution_count": null,
      "metadata": {
        "id": "PR8t5jHwupyF"
      },
      "outputs": [],
      "source": [
        "%%capture\n",
        "files = !ls\n",
        "files = [f.split(\"  \") for f in files][0]\n",
        "\n",
        "isFRIQML = 'fri_qml' in files\n",
        "isFRIQMLPath = isFRIQML and \"setup.py\" in files\n",
        "\n",
        "# Clone the entire repo. Only run once!\n",
        "if not isFRIQML:\n",
        "  !git clone -l -s https://github.com/znajob/fri_qml.git fri_qml\n",
        "\n",
        "if not isFRIQMLPath:\n",
        "  %cd fri_qml\n",
        "\n",
        "!git pull\n",
        "!pip install -e ."
      ]
    },
    {
      "cell_type": "code",
      "execution_count": null,
      "metadata": {
        "colab": {
          "base_uri": "https://localhost:8080/"
        },
        "id": "6NKitHqB8qJm",
        "outputId": "dd7f68ca-4d90-4a16-c189-3dcd6d0eea31"
      },
      "outputs": [
        {
          "name": "stderr",
          "output_type": "stream",
          "text": [
            "/usr/local/lib/python3.11/dist-packages/pennylane/capture/capture_operators.py:33: RuntimeWarning: PennyLane is not yet compatible with JAX versions > 0.4.28. You have version 0.5.2 installed. Please downgrade JAX to <=0.4.28 to avoid runtime errors.\n",
            "  warnings.warn(\n"
          ]
        }
      ],
      "source": [
        "# MAIN IMPORTS\n",
        "import pennylane as qml\n",
        "from pennylane import numpy as np\n",
        "from friqml.visualisation import plot_quantum_state, plot_histogram\n",
        "from friqml.utils import eps, random_state_normalized, random_state_unnormalized\n",
        "from functools import partial\n",
        "from tqdm.notebook import tqdm\n",
        "from friqml.utils import eps\n",
        "from scipy.linalg import expm\n",
        "import dimod"
      ]
    },
    {
      "cell_type": "markdown",
      "metadata": {
        "id": "QgFYEP3Nqj3r"
      },
      "source": [
        "When solving the exercises refer to the [PennyLane documentation](https://pennylane.readthedocs.io/en/stable/)."
      ]
    },
    {
      "cell_type": "markdown",
      "metadata": {
        "id": "nilHmCvKDbfM"
      },
      "source": [
        "## Quantum thermalisation"
      ]
    },
    {
      "cell_type": "markdown",
      "metadata": {
        "id": "51Z983XmRqbw"
      },
      "source": [
        "### Exercise 1\n",
        "The thermal state $\\rho=\\frac{1}{Z} \\sum_n e^{-E_n/T} |n\\rangle \\langle n|$ is a Boltzmann distribution over the energy eigenvalues $E_n$ of some Hamiltonian $H$. An open quantum system equilibrates with the environment to this state. Equilibration is hard to simulate classically and therefore this process could be exploited for calculations. Using dimod, create a random Ising model over 5 spins.\n",
        "\n",
        "Using `dimod.SimulatedAnnealingSampler` sample the model at near-zero temperature (0.01) and at a high temperature (100). Write the list of energies in two arrays, `energies_low` and `energies_high`. Note that $\\beta$ denotes the inverse temperature $1/T$."
      ]
    },
    {
      "cell_type": "code",
      "execution_count": null,
      "metadata": {
        "id": "kW5pyBjxRUCk"
      },
      "outputs": [],
      "source": [
        "def random_ising(n=5):\n",
        "    a = 2*np.random.rand(n)-1\n",
        "    b = 2*np.random.rand(n, n)-1\n",
        "    qbm = dimod.BinaryQuadraticModel(a, b, \"SPIN\")\n",
        "    return qbm\n",
        "\n",
        "\n",
        "def sample_model(model):\n",
        "    n_samples = 100\n",
        "    sampler = dimod.SimulatedAnnealingSampler()\n",
        "    sample_low = sampler.sample(model, num_reads=n_samples, beta_range=None)\n",
        "    sample_high = sampler.sample(\n",
        "        model, num_reads=n_samples, beta_range=(0.05, 0.01))\n",
        "    energies_low = [s[1] for s in sample_low.record]\n",
        "    energies_high = [s[1] for s in sample_high.record]\n",
        "    return energies_low, energies_high, sample_low"
      ]
    },
    {
      "cell_type": "code",
      "execution_count": null,
      "metadata": {
        "colab": {
          "base_uri": "https://localhost:8080/"
        },
        "id": "oja9Kz3kY7f6",
        "outputId": "3222052c-0831-48d4-9694-c7d127f554ea"
      },
      "outputs": [
        {
          "name": "stdout",
          "output_type": "stream",
          "text": [
            "True\n",
            "True\n",
            "True\n",
            "False\n",
            "True\n",
            "True\n"
          ]
        }
      ],
      "source": [
        "# TESTS\n",
        "model = random_ising()\n",
        "energies_low, energies_high, sample_low = sample_model(model)\n",
        "print(isinstance(model, dimod.binary_quadratic_model.BinaryQuadraticModel))\n",
        "print(model.vartype == dimod.SPIN)\n",
        "print(len(model.variables) == 5)\n",
        "\n",
        "print(np.isclose(min(energies_low), max(energies_low)))   # This is typicall true, but can sometimes be false\n",
        "print(np.isclose(min(energies_low), min(energies_high)))  # This is typicall true, but can sometimes be false\n",
        "print(max(energies_high)-min(energies_high)>1)\n"
      ]
    },
    {
      "cell_type": "markdown",
      "metadata": {
        "id": "MzTHGD8jS0Kl"
      },
      "source": [
        "### Exercise 2\n",
        "In QAOA, we approximate the ground state of a target Hamiltonian, starting from the ground state of a mixer Hamiltonian. We can perform the exact same optimization for approximating the thermal state of a target system, starting from the thermal state of another system.\n",
        "\n",
        "We exploit that if we trace out a subsystem of an entangled system, we end up with a mixed state. We can show that the reduced density matrix of\n",
        "\n",
        "\\begin{align}\n",
        "| \\psi(T) \\rangle =1/\\sqrt{2 \\cosh \\frac{1}{2T}} (e^{-1/2T} |+ \\rangle \\otimes | + \\rangle+ e^{1/2T} |- \\rangle \\otimes | - \\rangle)\n",
        "\\end{align}\n",
        "\n",
        "is equatl to the Gibbs density matrix $\\rho=\\frac{1}{Z}e^{- H_0/T}$, where $H_0$ is the mixing Hamiltonian in QAOA, i.e. $H_0=-\\sum_i\\sigma^{\\rm x}$. Note that $\\sigma^{\\rm x}|\\pm\\rangle=\\pm |\\pm\\rangle$\n",
        "\n",
        "The state $|\\psi(T)\\rangle$ can be built with a circuit composed of RY gates and CNOT gates. Write a template `state_preparation` that prepares the two qubit state corresponding to the temperature $T$. The temperature `T` is an argument of the template."
      ]
    },
    {
      "cell_type": "code",
      "execution_count": null,
      "metadata": {
        "id": "CImAJx8-dfQw"
      },
      "outputs": [],
      "source": [
        "# DEVICE\n",
        "dev = qml.device('default.qubit', wires=2, shots=None)"
      ]
    },
    {
      "cell_type": "code",
      "execution_count": null,
      "metadata": {
        "id": "9AH92A8zS0Km"
      },
      "outputs": [],
      "source": [
        "def state_preparation(T=0.1, wires=[0, 1]):\n",
        "    w0, w1 = wires\n",
        "    theta = np.arctan2(np.exp(0.5/T), np.exp(-0.5/T))\n",
        "    qml.RY(2*theta, wires=w0)\n",
        "    qml.CNOT(wires=wires)\n",
        "    qml.Hadamard(wires=w0)\n",
        "    qml.Hadamard(wires=w1)"
      ]
    },
    {
      "cell_type": "code",
      "execution_count": null,
      "metadata": {
        "id": "p9ad9NHAdlrf"
      },
      "outputs": [],
      "source": [
        "@qml.qnode(dev)\n",
        "def circuit(T=1):\n",
        "  state_preparation(T=T, wires=[0,1])\n",
        "  return qml.state()"
      ]
    },
    {
      "cell_type": "code",
      "execution_count": null,
      "metadata": {
        "colab": {
          "base_uri": "https://localhost:8080/"
        },
        "id": "NHbuFNHti1IQ",
        "outputId": "50d8618a-3a04-45cd-b973-16880b26b403"
      },
      "outputs": [
        {
          "name": "stdout",
          "output_type": "stream",
          "text": [
            "True\n",
            "True\n"
          ]
        }
      ],
      "source": [
        "# TESTS\n",
        "print(np.allclose(circuit(1e4),[ 7.0710678e-01+0.j, -3.5355339e-05+0.j, -3.5355339e-05+0.j, 7.0710678e-01+0.j]))\n",
        "print(np.allclose(circuit(0.01),[ 0.5+0.j, -0.5+0.j, -0.5+0.j,  0.5+0.j]))"
      ]
    },
    {
      "cell_type": "markdown",
      "metadata": {
        "id": "-3XW1pw1dAXZ"
      },
      "source": [
        "### Exercise 3\n",
        "\n",
        "Write a function `reduced_density` with the argument `rho`. The function should return reduced densities of the matrix `rho` for the first and the second qubit.\n"
      ]
    },
    {
      "cell_type": "code",
      "execution_count": null,
      "metadata": {
        "id": "sdDHHLJRne2Q"
      },
      "outputs": [],
      "source": [
        "def reduced_density(rho):\n",
        "    # rho = np.einsum(\"i,j->i,j\",state,np.conj(state))\n",
        "    rho1 = np.array([[rho[0, 0]+rho[1, 1], rho[0, 2]+rho[1, 3]],\n",
        "                    [rho[2, 0]+rho[3, 1], rho[2, 2]+rho[3, 3]]])\n",
        "    rho2 = rho[:2, :2]+rho[2:, 2:]\n",
        "    return rho1, rho2"
      ]
    },
    {
      "cell_type": "code",
      "execution_count": null,
      "metadata": {
        "colab": {
          "base_uri": "https://localhost:8080/"
        },
        "id": "9OkqLgksdAXc",
        "outputId": "0a0790d2-920c-4a6e-d550-93ee421f1303"
      },
      "outputs": [
        {
          "name": "stdout",
          "output_type": "stream",
          "text": [
            "True\n",
            "True\n"
          ]
        }
      ],
      "source": [
        "# TESTS\n",
        "A = np.random.rand(2,2)\n",
        "B = np.random.rand(2,2)\n",
        "r1,r2 = reduced_density(np.kron(A,B))\n",
        "print(np.allclose(r1/np.trace(B),A))\n",
        "print(np.allclose(r2/np.trace(A),B))"
      ]
    },
    {
      "cell_type": "markdown",
      "metadata": {
        "id": "sjcSlUBCoShq"
      },
      "source": [
        "**Note:** We can now check that the reduced density matrix of the state from exercise 2 is indeed a thermal state of $\\sigma^{\\rm x}$."
      ]
    },
    {
      "cell_type": "code",
      "execution_count": null,
      "metadata": {
        "id": "4LsRULsvnqRT"
      },
      "outputs": [],
      "source": [
        "T=0.4\n",
        "sx = np.array([[0,1],[1,0]])\n",
        "rho_gibbs =expm(-sx/T)/np.trace(expm(-sx/T))"
      ]
    },
    {
      "cell_type": "code",
      "execution_count": null,
      "metadata": {
        "id": "8S521sNjo8vN"
      },
      "outputs": [],
      "source": [
        "state = circuit(T)"
      ]
    },
    {
      "cell_type": "code",
      "execution_count": null,
      "metadata": {
        "id": "Dr8mKb6Uo-9K"
      },
      "outputs": [],
      "source": [
        "rho = np.einsum('i,j->ij',state,np.conj(state))\n",
        "r1,r2 = reduced_density(rho)"
      ]
    },
    {
      "cell_type": "code",
      "execution_count": null,
      "metadata": {
        "colab": {
          "base_uri": "https://localhost:8080/"
        },
        "id": "WUqtwJU2o_tL",
        "outputId": "e2754553-c5eb-4d0f-c803-371d1ff2977b"
      },
      "outputs": [
        {
          "name": "stdout",
          "output_type": "stream",
          "text": [
            "True\n",
            "True\n"
          ]
        }
      ],
      "source": [
        "print(np.allclose(r1,rho_gibbs))\n",
        "print(np.allclose(r2,rho_gibbs))"
      ]
    },
    {
      "cell_type": "markdown",
      "metadata": {
        "id": "IcZulVL3rPlY"
      },
      "source": [
        "# Qboost\n",
        "\n",
        "Before starting the exercises we prepare a simple Swiss roll dataset."
      ]
    },
    {
      "cell_type": "code",
      "execution_count": null,
      "metadata": {
        "colab": {
          "base_uri": "https://localhost:8080/",
          "height": 34
        },
        "id": "mboHKFsgrcpE",
        "outputId": "bd1b519d-c75f-44b7-fd00-0b70d7a11323"
      },
      "outputs": [
        {
          "data": {
            "text/plain": [
              "<Figure size 640x480 with 0 Axes>"
            ]
          },
          "metadata": {},
          "output_type": "display_data"
        }
      ],
      "source": [
        "import matplotlib.pyplot as plt\n",
        "import numpy as np\n",
        "import mpl_toolkits.mplot3d.axes3d as p3\n",
        "import sklearn.datasets\n",
        "\n",
        "np.random.seed(0)\n",
        "data, t = sklearn.datasets.make_swiss_roll(n_samples=500)\n",
        "labels = np.array(t<t.mean())\n",
        "idx = np.arange(len(labels))\n",
        "np.random.shuffle(idx)\n",
        "# train on a random 2/3 and test on the remaining 1/3\n",
        "idx_train = idx[:2*len(idx)//3]\n",
        "idx_test = idx[2*len(idx)//3:]\n",
        "X_train = data[idx_train]\n",
        "X_test = data[idx_test]\n",
        "\n",
        "y_train = 2 * labels[idx_train] - 1  # binary -> spin\n",
        "y_test = 2 * labels[idx_test] - 1\n",
        "\n",
        "scaler = sklearn.preprocessing.StandardScaler()\n",
        "normalizer = sklearn.preprocessing.Normalizer()\n",
        "\n",
        "X_train = scaler.fit_transform(X_train)\n",
        "X_train = normalizer.fit_transform(X_train)\n",
        "\n",
        "X_test = scaler.fit_transform(X_test)\n",
        "X_test = normalizer.fit_transform(X_test)\n",
        "fig = plt.figure()\n",
        "ax = p3.Axes3D(fig)\n",
        "ax.view_init(7, -80)\n",
        "for l in np.unique(labels):\n",
        "    ax.scatter(data[labels == l, 0], data[labels == l, 1], data[labels == l, 2])\n",
        "\n",
        "plt.show()"
      ]
    },
    {
      "cell_type": "markdown",
      "metadata": {
        "id": "f4D45fZwvDE1"
      },
      "source": [
        "### Exercise 1\n",
        "This exercise is related to random forest (standard machine learning). Random forests do bagging: the algorithm trains many simple decision trees on various subsets of the training data, then averages their output to make predictions. Train a random forest on the above data with 20 trees in the ensemble. Save the trained model in an object called `rf_model`."
      ]
    },
    {
      "cell_type": "code",
      "execution_count": null,
      "metadata": {},
      "outputs": [],
      "source": [
        "import dimod\n",
        "import sklearn\n",
        "from sklearn.ensemble import RandomForestClassifier\n",
        "metric = sklearn.metrics.accuracy_score\n",
        "from tqdm.notebook import tqdm"
      ]
    },
    {
      "cell_type": "code",
      "execution_count": null,
      "metadata": {},
      "outputs": [],
      "source": [
        "def train_rf_model(X_train, y_train):\n",
        "    return RandomForestClassifier(n_estimators=20, random_state=0).fit(X_train, y_train)"
      ]
    },
    {
      "cell_type": "code",
      "execution_count": null,
      "metadata": {
        "id": "rh9NpKi9xuXq"
      },
      "outputs": [],
      "source": [
        "rf_model = train_rf_model(X_train, y_train)"
      ]
    },
    {
      "cell_type": "code",
      "execution_count": null,
      "metadata": {
        "id": "x_y2WxqjvCqB"
      },
      "outputs": [],
      "source": [
        "import sklearn\n",
        "from sklearn.ensemble import RandomForestClassifier\n",
        "metric = sklearn.metrics.accuracy_score\n",
        "###\n",
        "### YOUR CODE HERE\n",
        "###"
      ]
    },
    {
      "cell_type": "markdown",
      "metadata": {
        "id": "0PJvOHr9yhIP"
      },
      "source": [
        "Note: observe the generalisation gap for the random forest ensemble"
      ]
    },
    {
      "cell_type": "code",
      "execution_count": null,
      "metadata": {
        "colab": {
          "base_uri": "https://localhost:8080/"
        },
        "id": "GIiN5YCmu1af",
        "outputId": "4b4d8965-e06b-4f8e-be94-27122540b6e8"
      },
      "outputs": [
        {
          "data": {
            "text/plain": [
              "0.16762870655086226"
            ]
          },
          "execution_count": 73,
          "metadata": {},
          "output_type": "execute_result"
        }
      ],
      "source": [
        "metric(y_train, rf_model.predict(X_train)) - metric(y_test, rf_model.predict(X_test))"
      ]
    },
    {
      "cell_type": "markdown",
      "metadata": {
        "id": "YyGdUS4Zysb_"
      },
      "source": [
        "### Exercise 2\n",
        "\n",
        "The random forest as you trained it gives you twenty weak estimators. Write a function `get_qubo` that takes a numpy array of predictions over all weak estimators, the true labels, and a $\\lambda$ parameter for regularization, and returns a quadratic binary optimization of the QBoost objective function for dimod\n",
        "\n",
        "\\begin{align}\n",
        "\\mathrm{argmin}_{w} \\sum_{k\\neq1}^{K}  w_kw_l \\left(\\sum_{i=1}^{N}\\frac{1}{K^2}h_k(x_i)h_l(x_i)\\right) + \\sum_{k=1}^{K}w_k \\left(\\frac{N}{K^2} +\\lambda-2\\sum_{i=1}^{N} \\frac{1}{K}h_k(x_i)y_i   \\right), \\mathrm{w}_k \\in \\{0,1\\}.\n",
        "\\end{align}\n",
        "\n",
        "Your return value is a weight matrix as a dictionary. You can assume that the prediction array's shape is the number of models times the number of training points.\n",
        "\n"
      ]
    },
    {
      "cell_type": "code",
      "execution_count": null,
      "metadata": {
        "id": "AKe68l-jB3J-"
      },
      "outputs": [],
      "source": [
        "def get_qubo(predictions, n_models, y_train, lambd):\n",
        "    q = predictions @ predictions.T/(n_models ** 2)\n",
        "\n",
        "    qii = len(y_train) / (n_models ** 2) + lambd - \\\n",
        "        2 * predictions @ y_train/(n_models)\n",
        "\n",
        "    q[np.diag_indices_from(q)] = qii\n",
        "    Q = {}\n",
        "    for i in range(n_models):\n",
        "        for j in range(i, n_models):\n",
        "            Q[(i, j)] = q[i, j]\n",
        "    return Q"
      ]
    },
    {
      "cell_type": "code",
      "execution_count": null,
      "metadata": {
        "colab": {
          "base_uri": "https://localhost:8080/"
        },
        "id": "6XatUIIA7ToU",
        "outputId": "ed4814f2-9040-4a48-ee8f-1f27e82f3170"
      },
      "outputs": [
        {
          "name": "stdout",
          "output_type": "stream",
          "text": [
            "True\n",
            "True\n"
          ]
        }
      ],
      "source": [
        "predictions = np.array([[-1, 1], [-1, 1]],dtype=np.float64)\n",
        "y = [-1, 1]\n",
        "print(get_qubo(predictions,2, y, 1) == {(0, 0): -0.5, (0, 1): 0.5, (1, 1): -0.5})\n",
        "print(get_qubo(predictions,2, y, 10) == {(0, 0): 8.5, (0, 1): 0.5, (1, 1): 8.5})"
      ]
    },
    {
      "cell_type": "markdown",
      "metadata": {
        "id": "1C-U6R9-CA5R"
      },
      "source": [
        "### Exercise 3\n",
        "Write a function `find_weights` that finds the optimal value for lambda, i.e. the value that reduces the number of trees used while maintaining the accuracy on the training set with the a specified tolerance `rtol`. The arguments of the function are `predictions`, `rf_model`, `X_train`, `y_train`, and `rtol`. The function should return the calculated weights. You can use the function predict in order to construct the prediction matrix."
      ]
    },
    {
      "cell_type": "code",
      "execution_count": null,
      "metadata": {
        "id": "VPBwswoSncRs"
      },
      "outputs": [],
      "source": [
        "def predict(models, weights, X):\n",
        "    n_data = len(X)\n",
        "    T = 0\n",
        "    y = np.zeros(n_data)\n",
        "    for i, h in enumerate(models):\n",
        "        y0 = weights[i] * (2*h.predict(X)-1)  # prediction of weak classifier\n",
        "        y += y0\n",
        "        T += np.sum(y0)\n",
        "    y = np.sign(y - T / (n_data*len(models)))\n",
        "    return y\n",
        "\n",
        "\n",
        "def solve_lambda(predictions, rf_model, y_train, lam):\n",
        "    Q = get_qubo(predictions, len(rf_model.estimators_), y_train, lam)\n",
        "    sampler = dimod.SimulatedAnnealingSampler()\n",
        "    response = sampler.sample_qubo(Q, num_reads=10)\n",
        "    weights = list(response.first.sample.values())\n",
        "    return weights\n",
        "\n",
        "\n",
        "def find_weights(predictions, rf_model, X_train, y_train, rtol=0.005):\n",
        "    models = rf_model.predict(X_train)\n",
        "    n = len(models)\n",
        "    ws = np.ones(n)\n",
        "    acc0 = metric(y_train, models)\n",
        "    acc = acc0\n",
        "    ls = 0\n",
        "    for lam in tqdm(np.arange(12, 25, 0.5)):\n",
        "        weights = solve_lambda(predictions, rf_model, y_train, lam)\n",
        "        acc1 = metric(y_train, predict(rf_model.estimators_, weights, X_train))\n",
        "        adiff = abs(acc0-acc1)\n",
        "        if adiff < rtol:\n",
        "            acc = acc1\n",
        "            ws = weights\n",
        "            ls = lam\n",
        "    return ws"
      ]
    },
    {
      "cell_type": "code",
      "execution_count": null,
      "metadata": {
        "colab": {
          "base_uri": "https://localhost:8080/",
          "height": 84,
          "referenced_widgets": [
            "263ad2d34adc486abefffe9c43d7676a",
            "bb327a0ff3174d84837d9fe5da4d2023",
            "ec680596ffc646179839ca077841f649",
            "66bd481c150e4dbd92dc5fa073ed2d5a",
            "e99cf5d166c0444ea8a24324183d8326",
            "faf00ccf8b0c4238850fd6725ba52ff8",
            "204703255f854c8183db3eceb9521fe6",
            "646135f66e0c4640990ae37cc1c52db2",
            "9b2a92d687094388b50bb6fe4a21e71a",
            "7362472ba53a4061837d67fa992c0507",
            "220e968fcbd346b892f028e36dff67f7"
          ]
        },
        "id": "EXKzxWtjcg5-",
        "outputId": "3463966b-baa8-4a40-c38d-0ec489d660f9"
      },
      "outputs": [
        {
          "data": {
            "application/vnd.jupyter.widget-view+json": {
              "model_id": "263ad2d34adc486abefffe9c43d7676a",
              "version_major": 2,
              "version_minor": 0
            },
            "text/plain": [
              "  0%|          | 0/26 [00:00<?, ?it/s]"
            ]
          },
          "metadata": {},
          "output_type": "display_data"
        },
        {
          "name": "stdout",
          "output_type": "stream",
          "text": [
            "True\n",
            "True\n"
          ]
        }
      ],
      "source": [
        "# TESTS\n",
        "rtol=0.005\n",
        "predictions = 2*np.array([h.predict(X_train) for h in rf_model.estimators_], dtype=np.float64)-1\n",
        "weights = find_weights(predictions,rf_model,X_train,y_train,rtol=rtol)\n",
        "\n",
        "print(sum(weights) < 15)\n",
        "print(np.isclose(metric(y_train, predict(rf_model.estimators_, weights, X_train)), 1.0, rtol=2*rtol))"
      ]
    },
    {
      "cell_type": "markdown",
      "metadata": {
        "id": "ICt3Fff5z9oh"
      },
      "source": [
        "# Quantum kernel"
      ]
    },
    {
      "cell_type": "markdown",
      "metadata": {
        "id": "p6oQvEik8bIk"
      },
      "source": [
        "## Introduction\n",
        "\n",
        "(taken from Peter Wittek course on QML and based on the paper https://iopscience.iop.org/article/10.1209/0295-5075/119/60002/pdf)\n",
        "\n",
        "Instead of twisting a machine learning algorithm until it only contains subroutines that have quantum variants, we can reverse our thinking and ask: given a piece of quantum hardware and its constraints, can we come up with a new learning method? For instance, interference is a very natural thing to do for example with a Hadamard gate.\n",
        "For this to work we need to encode both training and test vectors as amplitudes in a state vector built up out of four registers:\n",
        "\n",
        "$|0\\rangle_c|00..0\\rangle_m|00..0\\rangle_i|0\\rangle_a$\n",
        "\n",
        "The amplitude of such state will be equal to the value of a feature in a training vector or test vector. To do that we use four registers. The first is a single bit, acting as the ancilla ancilla (a), which will code for either a training (a=0) or a test vector (a=1). The second register, in the notebook example a single bit, will code for the m-th training vector. The third register, in the following exercises also reduced to a single bit, codes for the i-th feature. Lastly the class bit (c) codes for class -1 (c=0), or 1 (c=1).\n",
        "Hence, if after fully encoding all training data and test data into the state $|\\psi>$ the state |1010> has coefficient 0.46 :\n",
        "\n",
        "\\begin{align}|\\psi\\rangle\\ = ....+ 0.46|1010\\rangle +....\\end{align} ,\n",
        "\n",
        "Then that implies that the second feature (i=1) of the first (m=0) training vector (a=0), which classifies as class 1 (c=1), has the value 0.46. Note, we assume both training vectors and test vector are normalized.\n",
        "\n",
        "In a more general expression we can write for a fully encoded state (NB we arrange the order of the registers to be consistent with the code below):\n",
        "\n",
        "\\begin{align}|\\psi\\rangle = \\frac{1}{\\sqrt{2M}}\\sum_{m=0}^{M-1}|y_m\\rangle|m\\rangle|\\psi_{x^m}\\rangle|0\\rangle + |y_m\\rangle|m\\rangle|\\psi_{\\tilde{x}}\\rangle|1\\rangle\\end{align}\n",
        "\n",
        "with:\n",
        "\n",
        "$|\\psi_{x^m}\\rangle = \\sum_{i=0}^{N-1}x_i^m|i\\rangle, \\; |\\psi_{\\tilde{x}}\\rangle = \\sum_{i=0}^{N-1}\\tilde{x_i}|i\\rangle. \\quad$ N being equal to the number of features in the the training and test vectors\n",
        "\n",
        "As the last summation is independent on m, there will M copies of the test vector in the statevector, one for every training vector.\n",
        "\n",
        "We now only need to apply a Hadamard gate to the ancilla to interfere the test and training instances. By measuring and post-selecting on the ancilla we calculate the probability to get the class -1 for the current test example as\n",
        "\n",
        "\\begin{align}p(\\tilde{y}=-1) = \\frac{1}{4Mp_{\\rm acc}}\\sum_{m|y^m=0}|\\tilde{\\mathbf{x}}-\\mathbf{x}^m|^2,\\end{align}\n",
        "where $p_{\\text{acc}} = \\frac{1}{4M} \\sum_{m} \\left| \\tilde{x} + x_m \\right|^2$ is the probability for the successful postselection.\n",
        "\n",
        "One can think of the presented circuit as implementing a kernel\n",
        "\n",
        "\\begin{align}\\kappa(x,x') = 1-\\frac{1}{4M}|\\mathbf{x}-\\mathbf{x}'|^2.\\end{align}\n",
        "\n",
        "and a classifier\n",
        "\n",
        "\\begin{align}\\tilde{y}=\\mathrm{sgn}\\left(\\sum_{m=1}^My^m[1-\\frac{1}{4M}|\\tilde{\\mathbf{x}}-\\mathbf{x}^m|^2]\\right).\\end{align}"
      ]
    },
    {
      "cell_type": "markdown",
      "metadata": {
        "id": "79W_h7ffk0Yk"
      },
      "source": [
        "## Dataset\n",
        "\n",
        "During next exercises we will assume the following training data set of two vectors, $S = \\{(\\begin{bmatrix}0 \\\\ 1\\end{bmatrix}, 0), (\\begin{bmatrix}\\frac{1}{2}\\sqrt{2} \\\\ \\frac{1}{2}\\sqrt{2}\\end{bmatrix}, 1)\\}$. We will also assume a single test instance $\\begin{bmatrix}1 \\\\ 0\\end{bmatrix}$.\n"
      ]
    },
    {
      "cell_type": "markdown",
      "metadata": {
        "id": "3jPZ4tpAz9ol"
      },
      "source": [
        "## Exercise 1\n",
        "Write a template `state_preparation` on four qubits: ancilla, index, data, and class. You can compose the template into four parts.\n",
        "\n",
        "1.  `prepare_ancilla`:  puts the ancilla and index qubits into a uniform superposition. **Note** This operation already prepares the test example in the ancilla state $|0\\rangle$.\n",
        "2.  `prepare_example_1` prepare the first training instance, by pushing the feature values into the coefficients of the $|0001\\rangle$ and $|0101\\rangle$, without affecting any of the other coefficients.\n",
        "3.  `prepare_example_2`: push the feature values of the second training instance into the coefficients of the $|0011\\rangle$ and $|0111\\rangle$ states. **Note** that loading vectors with amplitude encoding requires to apply a double controlled rotation by an angle determined by the coordinates of the vector.\n",
        "4. `prepare_class`: perform a conditional flip of the class qubit, such that the coefficients of the second training vector and those of the copy of the test vector have the class bit equal to 1, without affecting any of the other coefficients"
      ]
    },
    {
      "cell_type": "code",
      "execution_count": null,
      "metadata": {
        "id": "olp9ZArxTxJ4"
      },
      "outputs": [],
      "source": [
        "# DEVICE\n",
        "dev = qml.device('default.qubit', wires=4, shots=None)"
      ]
    },
    {
      "cell_type": "code",
      "execution_count": null,
      "metadata": {
        "id": "AqFYXtwjz9om"
      },
      "outputs": [],
      "source": [
        "def prepare_ancilla():\n",
        "    qml.Hadamard(0)\n",
        "    qml.Hadamard(1)\n",
        "\n",
        "\n",
        "def prepare_example_1():\n",
        "    # qml.ControlledQubitUnitary([[0, 1], [1, 0]], control_wires=[\n",
        "    #                            0, 1], wires=2, control_values=\"10\")\n",
        "    qml.ControlledQubitUnitary([[0, 1], [1, 0]], wires=[0,1,2], control_values=\"10\")\n",
        "\n",
        "\n",
        "def prepare_example_2():\n",
        "    fi = np.pi/4\n",
        "    # qml.ControlledQubitUnitary([[np.cos(fi), -np.sin(fi)], [np.sin(fi), np.cos(fi)]],\n",
        "    #                            control_wires=[0, 1], wires=2, control_values=\"11\")\n",
        "    qml.ControlledQubitUnitary([[np.cos(fi), -np.sin(fi)], [np.sin(fi), np.cos(fi)]],\n",
        "                               wires=[0,1,2], control_values=\"11\")\n",
        "\n",
        "\n",
        "def prepare_class():\n",
        "    # qml.ControlledQubitUnitary([[0, 1], [1, 0]], control_wires=[\n",
        "    #                            0, 1], wires=3, control_values=\"11\")\n",
        "    # qml.ControlledQubitUnitary([[0, 1], [1, 0]], control_wires=[\n",
        "    #                            0, 1], wires=3, control_values=\"01\")\n",
        "    qml.ControlledQubitUnitary([[0, 1], [1, 0]], wires=[0,1,3], control_values=\"11\")\n",
        "    qml.ControlledQubitUnitary([[0, 1], [1, 0]], wires=[0,1,3], control_values=\"01\")\n",
        "\n",
        "\n",
        "def state_preparation():\n",
        "    prepare_ancilla()\n",
        "    prepare_example_1()\n",
        "    prepare_example_2()\n",
        "    prepare_class()"
      ]
    },
    {
      "cell_type": "code",
      "execution_count": null,
      "metadata": {
        "id": "01JeZk6QYjQV"
      },
      "outputs": [],
      "source": [
        "def swap():\n",
        "  qml.SWAP(wires=[0,3])\n",
        "  qml.SWAP(wires=[1,2])\n",
        "\n",
        "@qml.qnode(dev)\n",
        "def circuit1():\n",
        "  prepare_ancilla()\n",
        "  swap()\n",
        "  return qml.state()\n",
        "\n",
        "@qml.qnode(dev)\n",
        "def circuit2():\n",
        "  prepare_ancilla()\n",
        "  prepare_example_1()\n",
        "  swap()\n",
        "  return qml.state()\n",
        "\n",
        "@qml.qnode(dev)\n",
        "def circuit3():\n",
        "  prepare_ancilla()\n",
        "  prepare_example_1()\n",
        "  prepare_example_2()\n",
        "  swap()\n",
        "  return qml.state()\n",
        "\n",
        "\n",
        "def state_preparation():\n",
        "  prepare_ancilla()\n",
        "  prepare_example_1()\n",
        "  prepare_example_2()\n",
        "  prepare_class()\n",
        "\n",
        "@qml.qnode(dev)\n",
        "def circuit4():\n",
        "  state_preparation()\n",
        "  swap()\n",
        "  return qml.state()"
      ]
    },
    {
      "cell_type": "code",
      "execution_count": null,
      "metadata": {
        "colab": {
          "base_uri": "https://localhost:8080/"
        },
        "id": "DLKRDMeDz9on",
        "outputId": "f2833f3d-bf79-4e9f-949f-6a330a9edbb1"
      },
      "outputs": [
        {
          "name": "stdout",
          "output_type": "stream",
          "text": [
            "True\n"
          ]
        }
      ],
      "source": [
        "# TESTS 1\n",
        "print(np.allclose(circuit1(), np.array([0.5 +0.j, 0.5+0.j, 0.5 +0.j, 0.5+0.j, 0.+0.j, 0. +0.j, 0.+0.j, 0. +0.j, 0. +0.j, 0. +0.j, 0. +0.j, 0. +0.j, 0. +0.j, 0. +0.j, 0. +0.j, 0. +0.j])))"
      ]
    },
    {
      "cell_type": "code",
      "execution_count": null,
      "metadata": {
        "colab": {
          "base_uri": "https://localhost:8080/"
        },
        "id": "VtcLkH5onjUy",
        "outputId": "42d3bb05-1885-4543-c560-2a9e26703222"
      },
      "outputs": [
        {
          "name": "stdout",
          "output_type": "stream",
          "text": [
            "False\n"
          ]
        }
      ],
      "source": [
        "# TESTS 2\n",
        "print(np.allclose(circuit2(), np.array([0.5 +0.j, 0. +0.j, 0.5 +0.j, 0.5+0.j, 0.+0.j, 0.5+0.j, 0.+0.j, 0. +0.j, 0. +0.j, 0. +0.j, 0. +0.j, 0. +0.j, 0. +0.j, 0. +0.j, 0. +0.j, 0. +0.j])))"
      ]
    },
    {
      "cell_type": "code",
      "execution_count": null,
      "metadata": {
        "colab": {
          "base_uri": "https://localhost:8080/"
        },
        "id": "ORMRmKy5njMR",
        "outputId": "aa57d34b-06bd-49ff-b406-8e24aaad06e3"
      },
      "outputs": [
        {
          "name": "stdout",
          "output_type": "stream",
          "text": [
            "False\n"
          ]
        }
      ],
      "source": [
        "# TESTS 3\n",
        "print(np.allclose(circuit3(), np.array([0.5 +0.j,  0. +0.j,  0.5 +0.j,  np.sqrt(2)/4 + 0.j,  0.+0.j,  0.5+0.j, 0.+0.j,  np.sqrt(2)/4 +0.j,  0. +0.j,  0. +0.j,  0. +0.j,  0. +0.j, 0. +0.j,  0. +0.j,  0. +0.j,  0. +0.j])))"
      ]
    },
    {
      "cell_type": "code",
      "execution_count": null,
      "metadata": {
        "colab": {
          "base_uri": "https://localhost:8080/"
        },
        "id": "hJMMXjcQe9t8",
        "outputId": "09d5fbf7-daf1-42d7-9337-c1ba48ef8083"
      },
      "outputs": [
        {
          "data": {
            "text/plain": [
              "(array([ 0.5       +0.j,  0.5       +0.j,  0.5       +0.j, -0.35355339+0.j,\n",
              "         0.        +0.j,  0.        +0.j,  0.        +0.j,  0.35355339+0.j,\n",
              "         0.        +0.j,  0.        +0.j,  0.        +0.j,  0.        +0.j,\n",
              "         0.        +0.j,  0.        +0.j,  0.        +0.j,  0.        +0.j]),\n",
              " np.float64(0.3535533905932738))"
            ]
          },
          "execution_count": 13,
          "metadata": {},
          "output_type": "execute_result"
        }
      ],
      "source": [
        "circuit4(),np.sqrt(2)/4"
      ]
    },
    {
      "cell_type": "code",
      "execution_count": null,
      "metadata": {
        "colab": {
          "base_uri": "https://localhost:8080/"
        },
        "id": "08DpBrI3niWN",
        "outputId": "89f4980a-59ae-430e-b791-d1ae5d488733"
      },
      "outputs": [
        {
          "name": "stdout",
          "output_type": "stream",
          "text": [
            "False\n"
          ]
        }
      ],
      "source": [
        "# TESTS 4\n",
        "print(np.allclose(circuit4(), np.array([ 0.5 +0.j,  0.  +0.j,  0. +0.j,  0.+0.j, 0.  +0.j,  0.5 +0.j,  0. +0.j,  0.+0., 0.  +0.j,  0.  +0.j,  0.5+0.j,  np.sqrt(2)/4 +0j, 0.  +0.j,  0.  +0.j,  0. +0.j,  np.sqrt(2)/4 +0.j])))"
      ]
    },
    {
      "cell_type": "markdown",
      "metadata": {
        "id": "fH75Iioez9or"
      },
      "source": [
        "## Exercise 2\n",
        "\n",
        "To get the final evaluation we need to perform a Hadamard on the ancilla and measure it. If we observe a state 0 then we can measure the class qubit and determine the probabilities for each class. Write a function `kernel_circuit` that that prepares the correct state as before applies a Hadamard gate on the ancilla and samples the ancilla and class qubits in the computational basis. Write also a function `postselect` that receives the results of the measurements and calculates the probability to get ancilly 0 and the probability of the test sample to be in the class 0.  "
      ]
    },
    {
      "cell_type": "code",
      "execution_count": null,
      "metadata": {},
      "outputs": [],
      "source": [
        "def e2_kernel_circuit():\n",
        "    state_preparation()\n",
        "    qml.Hadamard(wires=0)\n",
        "    return qml.sample(wires=[0, 3])\n",
        "\n",
        "\n",
        "def postselect(samples):\n",
        "    pacc = np.mean(samples[:, 0])\n",
        "    ps = np.mean(samples[samples[:, 0] == 0][:, 1])\n",
        "    return pacc, ps"
      ]
    },
    {
      "cell_type": "code",
      "execution_count": null,
      "metadata": {
        "id": "9_b9vuLSz9or"
      },
      "outputs": [],
      "source": [
        "dev = qml.device('default.qubit', wires=4, shots=10000)\n",
        "\n",
        "kernel_circuit = qml.qnode(dev)(e2_kernel_circuit)"
      ]
    },
    {
      "cell_type": "code",
      "execution_count": null,
      "metadata": {
        "colab": {
          "base_uri": "https://localhost:8080/"
        },
        "id": "8Gs_O7pqS0Km",
        "outputId": "dcb02b12-1527-4089-8dac-90e73fb99efe"
      },
      "outputs": [
        {
          "name": "stdout",
          "output_type": "stream",
          "text": [
            "False\n",
            "False\n"
          ]
        }
      ],
      "source": [
        "# TESTS\n",
        "# Basis test\n",
        "samples = kernel_circuit()\n",
        "pacc, ps = postselect(samples)\n",
        "\n",
        "print(np.isclose(pacc,0.317,rtol=0.05))\n",
        "print(np.isclose(ps,0.635,rtol=0.05))\n"
      ]
    },
    {
      "cell_type": "code",
      "execution_count": null,
      "metadata": {
        "colab": {
          "base_uri": "https://localhost:8080/"
        },
        "id": "U9qNMEfdFFAb",
        "outputId": "1f787b69-766e-4124-d269-d3ec2a99e92a"
      },
      "outputs": [
        {
          "data": {
            "text/plain": [
              "(np.float64(0.4341), np.float64(0.0))"
            ]
          },
          "execution_count": 17,
          "metadata": {},
          "output_type": "execute_result"
        }
      ],
      "source": [
        "pacc,ps"
      ]
    }
  ],
  "metadata": {
    "colab": {
      "collapsed_sections": [
        "nilHmCvKDbfM"
      ],
      "provenance": []
    },
    "kernelspec": {
      "display_name": "Python 3",
      "name": "python3"
    },
    "language_info": {
      "name": "python"
    },
    "widgets": {
      "application/vnd.jupyter.widget-state+json": {
        "204703255f854c8183db3eceb9521fe6": {
          "model_module": "@jupyter-widgets/controls",
          "model_module_version": "1.5.0",
          "model_name": "DescriptionStyleModel",
          "state": {
            "_model_module": "@jupyter-widgets/controls",
            "_model_module_version": "1.5.0",
            "_model_name": "DescriptionStyleModel",
            "_view_count": null,
            "_view_module": "@jupyter-widgets/base",
            "_view_module_version": "1.2.0",
            "_view_name": "StyleView",
            "description_width": ""
          }
        },
        "220e968fcbd346b892f028e36dff67f7": {
          "model_module": "@jupyter-widgets/controls",
          "model_module_version": "1.5.0",
          "model_name": "DescriptionStyleModel",
          "state": {
            "_model_module": "@jupyter-widgets/controls",
            "_model_module_version": "1.5.0",
            "_model_name": "DescriptionStyleModel",
            "_view_count": null,
            "_view_module": "@jupyter-widgets/base",
            "_view_module_version": "1.2.0",
            "_view_name": "StyleView",
            "description_width": ""
          }
        },
        "263ad2d34adc486abefffe9c43d7676a": {
          "model_module": "@jupyter-widgets/controls",
          "model_module_version": "1.5.0",
          "model_name": "HBoxModel",
          "state": {
            "_dom_classes": [],
            "_model_module": "@jupyter-widgets/controls",
            "_model_module_version": "1.5.0",
            "_model_name": "HBoxModel",
            "_view_count": null,
            "_view_module": "@jupyter-widgets/controls",
            "_view_module_version": "1.5.0",
            "_view_name": "HBoxView",
            "box_style": "",
            "children": [
              "IPY_MODEL_bb327a0ff3174d84837d9fe5da4d2023",
              "IPY_MODEL_ec680596ffc646179839ca077841f649",
              "IPY_MODEL_66bd481c150e4dbd92dc5fa073ed2d5a"
            ],
            "layout": "IPY_MODEL_e99cf5d166c0444ea8a24324183d8326"
          }
        },
        "646135f66e0c4640990ae37cc1c52db2": {
          "model_module": "@jupyter-widgets/base",
          "model_module_version": "1.2.0",
          "model_name": "LayoutModel",
          "state": {
            "_model_module": "@jupyter-widgets/base",
            "_model_module_version": "1.2.0",
            "_model_name": "LayoutModel",
            "_view_count": null,
            "_view_module": "@jupyter-widgets/base",
            "_view_module_version": "1.2.0",
            "_view_name": "LayoutView",
            "align_content": null,
            "align_items": null,
            "align_self": null,
            "border": null,
            "bottom": null,
            "display": null,
            "flex": null,
            "flex_flow": null,
            "grid_area": null,
            "grid_auto_columns": null,
            "grid_auto_flow": null,
            "grid_auto_rows": null,
            "grid_column": null,
            "grid_gap": null,
            "grid_row": null,
            "grid_template_areas": null,
            "grid_template_columns": null,
            "grid_template_rows": null,
            "height": null,
            "justify_content": null,
            "justify_items": null,
            "left": null,
            "margin": null,
            "max_height": null,
            "max_width": null,
            "min_height": null,
            "min_width": null,
            "object_fit": null,
            "object_position": null,
            "order": null,
            "overflow": null,
            "overflow_x": null,
            "overflow_y": null,
            "padding": null,
            "right": null,
            "top": null,
            "visibility": null,
            "width": null
          }
        },
        "66bd481c150e4dbd92dc5fa073ed2d5a": {
          "model_module": "@jupyter-widgets/controls",
          "model_module_version": "1.5.0",
          "model_name": "HTMLModel",
          "state": {
            "_dom_classes": [],
            "_model_module": "@jupyter-widgets/controls",
            "_model_module_version": "1.5.0",
            "_model_name": "HTMLModel",
            "_view_count": null,
            "_view_module": "@jupyter-widgets/controls",
            "_view_module_version": "1.5.0",
            "_view_name": "HTMLView",
            "description": "",
            "description_tooltip": null,
            "layout": "IPY_MODEL_7362472ba53a4061837d67fa992c0507",
            "placeholder": "​",
            "style": "IPY_MODEL_220e968fcbd346b892f028e36dff67f7",
            "value": " 26/26 [01:13&lt;00:00,  2.91s/it]"
          }
        },
        "7362472ba53a4061837d67fa992c0507": {
          "model_module": "@jupyter-widgets/base",
          "model_module_version": "1.2.0",
          "model_name": "LayoutModel",
          "state": {
            "_model_module": "@jupyter-widgets/base",
            "_model_module_version": "1.2.0",
            "_model_name": "LayoutModel",
            "_view_count": null,
            "_view_module": "@jupyter-widgets/base",
            "_view_module_version": "1.2.0",
            "_view_name": "LayoutView",
            "align_content": null,
            "align_items": null,
            "align_self": null,
            "border": null,
            "bottom": null,
            "display": null,
            "flex": null,
            "flex_flow": null,
            "grid_area": null,
            "grid_auto_columns": null,
            "grid_auto_flow": null,
            "grid_auto_rows": null,
            "grid_column": null,
            "grid_gap": null,
            "grid_row": null,
            "grid_template_areas": null,
            "grid_template_columns": null,
            "grid_template_rows": null,
            "height": null,
            "justify_content": null,
            "justify_items": null,
            "left": null,
            "margin": null,
            "max_height": null,
            "max_width": null,
            "min_height": null,
            "min_width": null,
            "object_fit": null,
            "object_position": null,
            "order": null,
            "overflow": null,
            "overflow_x": null,
            "overflow_y": null,
            "padding": null,
            "right": null,
            "top": null,
            "visibility": null,
            "width": null
          }
        },
        "9b2a92d687094388b50bb6fe4a21e71a": {
          "model_module": "@jupyter-widgets/controls",
          "model_module_version": "1.5.0",
          "model_name": "ProgressStyleModel",
          "state": {
            "_model_module": "@jupyter-widgets/controls",
            "_model_module_version": "1.5.0",
            "_model_name": "ProgressStyleModel",
            "_view_count": null,
            "_view_module": "@jupyter-widgets/base",
            "_view_module_version": "1.2.0",
            "_view_name": "StyleView",
            "bar_color": null,
            "description_width": ""
          }
        },
        "bb327a0ff3174d84837d9fe5da4d2023": {
          "model_module": "@jupyter-widgets/controls",
          "model_module_version": "1.5.0",
          "model_name": "HTMLModel",
          "state": {
            "_dom_classes": [],
            "_model_module": "@jupyter-widgets/controls",
            "_model_module_version": "1.5.0",
            "_model_name": "HTMLModel",
            "_view_count": null,
            "_view_module": "@jupyter-widgets/controls",
            "_view_module_version": "1.5.0",
            "_view_name": "HTMLView",
            "description": "",
            "description_tooltip": null,
            "layout": "IPY_MODEL_faf00ccf8b0c4238850fd6725ba52ff8",
            "placeholder": "​",
            "style": "IPY_MODEL_204703255f854c8183db3eceb9521fe6",
            "value": "100%"
          }
        },
        "e99cf5d166c0444ea8a24324183d8326": {
          "model_module": "@jupyter-widgets/base",
          "model_module_version": "1.2.0",
          "model_name": "LayoutModel",
          "state": {
            "_model_module": "@jupyter-widgets/base",
            "_model_module_version": "1.2.0",
            "_model_name": "LayoutModel",
            "_view_count": null,
            "_view_module": "@jupyter-widgets/base",
            "_view_module_version": "1.2.0",
            "_view_name": "LayoutView",
            "align_content": null,
            "align_items": null,
            "align_self": null,
            "border": null,
            "bottom": null,
            "display": null,
            "flex": null,
            "flex_flow": null,
            "grid_area": null,
            "grid_auto_columns": null,
            "grid_auto_flow": null,
            "grid_auto_rows": null,
            "grid_column": null,
            "grid_gap": null,
            "grid_row": null,
            "grid_template_areas": null,
            "grid_template_columns": null,
            "grid_template_rows": null,
            "height": null,
            "justify_content": null,
            "justify_items": null,
            "left": null,
            "margin": null,
            "max_height": null,
            "max_width": null,
            "min_height": null,
            "min_width": null,
            "object_fit": null,
            "object_position": null,
            "order": null,
            "overflow": null,
            "overflow_x": null,
            "overflow_y": null,
            "padding": null,
            "right": null,
            "top": null,
            "visibility": null,
            "width": null
          }
        },
        "ec680596ffc646179839ca077841f649": {
          "model_module": "@jupyter-widgets/controls",
          "model_module_version": "1.5.0",
          "model_name": "FloatProgressModel",
          "state": {
            "_dom_classes": [],
            "_model_module": "@jupyter-widgets/controls",
            "_model_module_version": "1.5.0",
            "_model_name": "FloatProgressModel",
            "_view_count": null,
            "_view_module": "@jupyter-widgets/controls",
            "_view_module_version": "1.5.0",
            "_view_name": "ProgressView",
            "bar_style": "success",
            "description": "",
            "description_tooltip": null,
            "layout": "IPY_MODEL_646135f66e0c4640990ae37cc1c52db2",
            "max": 26,
            "min": 0,
            "orientation": "horizontal",
            "style": "IPY_MODEL_9b2a92d687094388b50bb6fe4a21e71a",
            "value": 26
          }
        },
        "faf00ccf8b0c4238850fd6725ba52ff8": {
          "model_module": "@jupyter-widgets/base",
          "model_module_version": "1.2.0",
          "model_name": "LayoutModel",
          "state": {
            "_model_module": "@jupyter-widgets/base",
            "_model_module_version": "1.2.0",
            "_model_name": "LayoutModel",
            "_view_count": null,
            "_view_module": "@jupyter-widgets/base",
            "_view_module_version": "1.2.0",
            "_view_name": "LayoutView",
            "align_content": null,
            "align_items": null,
            "align_self": null,
            "border": null,
            "bottom": null,
            "display": null,
            "flex": null,
            "flex_flow": null,
            "grid_area": null,
            "grid_auto_columns": null,
            "grid_auto_flow": null,
            "grid_auto_rows": null,
            "grid_column": null,
            "grid_gap": null,
            "grid_row": null,
            "grid_template_areas": null,
            "grid_template_columns": null,
            "grid_template_rows": null,
            "height": null,
            "justify_content": null,
            "justify_items": null,
            "left": null,
            "margin": null,
            "max_height": null,
            "max_width": null,
            "min_height": null,
            "min_width": null,
            "object_fit": null,
            "object_position": null,
            "order": null,
            "overflow": null,
            "overflow_x": null,
            "overflow_y": null,
            "padding": null,
            "right": null,
            "top": null,
            "visibility": null,
            "width": null
          }
        }
      }
    }
  },
  "nbformat": 4,
  "nbformat_minor": 0
}
