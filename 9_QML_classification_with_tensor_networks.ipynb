{
  "cells": [
    {
      "cell_type": "markdown",
      "metadata": {
        "id": "9Ew_SZnZ-Egt"
      },
      "source": [
        "**Setting up the environment**"
      ]
    },
    {
      "cell_type": "code",
      "execution_count": null,
      "metadata": {
        "id": "PR8t5jHwupyF"
      },
      "outputs": [],
      "source": [
        "%%capture\n",
        "files = !ls\n",
        "files = [f.split(\"  \") for f in files][0]\n",
        "\n",
        "isFRIQML = 'fri_qml' in files\n",
        "isFRIQMLPath = isFRIQML and \"setup.py\" in files\n",
        "\n",
        "# Clone the entire repo. Only run once!\n",
        "if not isFRIQML:\n",
        "  !git clone -l -s https://github.com/znajob/fri_qml.git fri_qml\n",
        "\n",
        "if not isFRIQMLPath:\n",
        "  %cd fri_qml\n",
        "\n",
        "!git pull\n",
        "!pip install -e ."
      ]
    },
    {
      "cell_type": "code",
      "execution_count": null,
      "metadata": {
        "id": "6NKitHqB8qJm"
      },
      "outputs": [],
      "source": [
        "# MAIN IMPORTS\n",
        "import numpy as np\n",
        "import tensorflow as tf\n",
        "import scipy\n",
        "import matplotlib.pyplot as plt"
      ]
    },
    {
      "cell_type": "markdown",
      "metadata": {
        "id": "nilHmCvKDbfM"
      },
      "source": [
        "## Matrix Product State Classification\n",
        "\n"
      ]
    },
    {
      "cell_type": "markdown",
      "metadata": {
        "id": "51Z983XmRqbw"
      },
      "source": [
        "### Exercise 1\n",
        "\n",
        "Write a function `tensor_to_mps` that transforms that transforms a tensor into its MPS form with a given bond dimension. The arguments of the function are a tensor `A` to be decomposed and `D` the maximal bond dimension of the MPS decomposition. The function should return a list of MPS core tensors.\n",
        "\n",
        "Write also a function `mps_to_tensor` that receives the MPS representation of a tensor (as a list of core tensors) and returns the contracted full tensor."
      ]
    },
    {
      "cell_type": "code",
      "execution_count": null,
      "metadata": {},
      "outputs": [],
      "source": [
        "import tensorflow as tf\n",
        "from tensorflow_probability import math as tfp_math"
      ]
    },
    {
      "cell_type": "code",
      "execution_count": null,
      "metadata": {
        "id": "kW5pyBjxRUCk"
      },
      "outputs": [],
      "source": [
        "def tensor_to_mps(A, Dmax=8):\n",
        "    N = int(np.log(np.prod(A.shape))/np.log(2))\n",
        "    # Write the tensor as a matrid with only 2 rows\n",
        "    B = np.reshape(A, [2, -1])\n",
        "    mps = []\n",
        "    for i in range(N-1):\n",
        "        # Apply the SVD on the matrix B representing the remaining part of the tensor which has not been yet compressed\n",
        "        # The option full_matrices=False means we only get non-zero singular values\n",
        "        u, s, vh = np.linalg.svd(B, full_matrices=False)\n",
        "        # We take only the first Dmax singular values if there are more\n",
        "        D = min([Dmax, len(s)])\n",
        "        # We reshape the tensor u into the shape [Dl,2,D], where Dl is determined automatically\n",
        "        # and add it to the list of MPS tensors\n",
        "        mps.append(np.reshape(u[:, :D], [-1, 2, D]))\n",
        "        # We calculate the new B by concatenating s and vh and then reshaping.\n",
        "        B = np.einsum(\"i,ij->ij\", s[:D], vh[:D, :])\n",
        "        B = np.reshape(B, [D*2, -1])\n",
        "    # Finally we only reshape the last matrix B and append it to the MPS tensors\n",
        "    mps.append(np.reshape(B, [D, 2, -1]))\n",
        "    return mps\n",
        "\n",
        "\n",
        "def mps_to_tensor(mps):\n",
        "    tensor = np.array([[1]])\n",
        "    N = len(mps)\n",
        "    for i in range(N):\n",
        "        tensor = np.einsum(\"...l,lir->...ir\", tensor, mps[i])\n",
        "    return tensor"
      ]
    },
    {
      "cell_type": "code",
      "execution_count": null,
      "metadata": {
        "colab": {
          "base_uri": "https://localhost:8080/"
        },
        "id": "3P0Qs_lkCHzP",
        "outputId": "ff8fa10a-8195-4d2c-9d8d-796ac673f6ea"
      },
      "outputs": [
        {
          "name": "stdout",
          "output_type": "stream",
          "text": [
            "True\n",
            "True\n"
          ]
        }
      ],
      "source": [
        "# TESTS\n",
        "d = 512\n",
        "A = np.dot(np.dot(np.random.rand(d,d),np.diag(list(np.random.rand(2))+list(np.zeros(d-2)))),np.random.rand(d,d))\n",
        "N = int(np.log(np.prod(A.shape))/np.log(2))\n",
        "\n",
        "mps = tensor_to_mps(A,Dmax=1024)\n",
        "Ap = mps_to_tensor(mps)\n",
        "diff_norm = np.linalg.norm(np.reshape(Ap,[-1])-np.reshape(A,[-1]))\n",
        "print(np.linalg.norm(np.reshape(Ap,[-1])-np.reshape(A,[-1]))<1e-10)\n",
        "\n",
        "\n",
        "mps = tensor_to_mps(A,Dmax=2**(int(N/4)+1))\n",
        "Ap = mps_to_tensor(mps)\n",
        "diff_norm = np.linalg.norm(np.reshape(Ap,[-1])-np.reshape(A,[-1]))/np.linalg.norm(A)\n",
        "print(np.linalg.norm(np.reshape(Ap,[-1])-np.reshape(A,[-1]))<1e-10)"
      ]
    },
    {
      "cell_type": "code",
      "execution_count": null,
      "metadata": {
        "colab": {
          "base_uri": "https://localhost:8080/"
        },
        "id": "Y6531u_rEZ16",
        "outputId": "9f3c29d7-de83-4dbe-e8b4-594205724186"
      },
      "outputs": [
        {
          "name": "stdout",
          "output_type": "stream",
          "text": [
            "Rank of the matrix is 2\n",
            "Tensor A has shape (512, 512) and can be written as a tensor with N=18 legs of size 2.\n",
            "The original tensor has 262144 parameters\n",
            "The compressed tensor has 19112 parameters\n"
          ]
        }
      ],
      "source": [
        "# Compression rate\n",
        "print(f\"Rank of the matrix is {np.sum(np.linalg.eig(A)[0]>1e-12)}\")\n",
        "print(f\"Tensor A has shape {A.shape} and can be written as a tensor with N={N} legs of size 2.\")\n",
        "\n",
        "print(f\"The original tensor has {np.prod(A.shape)} parameters\")\n",
        "print(f\"The compressed tensor has {np.sum([np.prod(M.shape) for M in mps])} parameters\")"
      ]
    },
    {
      "cell_type": "markdown",
      "metadata": {
        "id": "MzTHGD8jS0Kl"
      },
      "source": [
        "### Exercise 2\n",
        "\n",
        "Write an embedding layer/class `Embedding` that transforms the input (possibly batched) tensor according to a generalised angle encoding\n",
        "\n",
        "\\begin{align}\n",
        "  \\left[\\phi(x_j)\\right]_\\alpha= \\sqrt{\\begin{pmatrix}d-1\\\\ \\alpha\\end{pmatrix}} \\cos^{d-\\alpha}\\left(\\frac{\\pi}{2}x_j\\right) \\sin^{\\alpha}\\left(\\frac{\\pi}{2}x_j\\right).\n",
        "\\end{align}\n",
        "\n",
        "The output of the layer should have the size $N\\times N_{\\rm batch}\\times d$, where $N$ is the number of features of each input, $N_{\\rm batch}$ is the batch size, and $d$ is the feature size. The constructor can take the feature size `d` as an argument."
      ]
    },
    {
      "cell_type": "code",
      "execution_count": null,
      "metadata": {
        "id": "9AH92A8zS0Km"
      },
      "outputs": [],
      "source": [
        "class Embedding(tf.keras.layers.Layer):\n",
        "    def __init__(self, d=2):\n",
        "        super(Embedding, self).__init__()\n",
        "        self.d = d\n",
        "        self.flatten = tf.keras.layers.Flatten()\n",
        "        self.pi_half = tf.constant(np.pi / 2, dtype=tf.float32)\n",
        "\n",
        "    def _binom(self, n, k):\n",
        "        n = tf.cast(n, tf.float32)\n",
        "        k = tf.cast(k, tf.float32)\n",
        "        return tf.exp(tf.math.lgamma(n + 1) - tf.math.lgamma(k + 1) - tf.math.lgamma(n - k + 1))\n",
        "\n",
        "    def call(self, inputs):\n",
        "        x = self.flatten(inputs)  # (batch_size, N)\n",
        "        x = tf.transpose(x)       # (N, batch_size)\n",
        "        x = tf.cast(x, tf.float32)\n",
        "        xc = tf.math.cos(x * self.pi_half)\n",
        "        xs = tf.math.sin(x * self.pi_half)\n",
        "\n",
        "        emb = []\n",
        "        for j in range(self.d):\n",
        "            coeff = tf.sqrt(self._binom(self.d - 1, j))\n",
        "            term = coeff * tf.pow(xc, self.d - j - 1.0) * tf.pow(xs, j)\n",
        "            emb.append(term)\n",
        "\n",
        "        return tf.stack(emb, axis=-1)  # (N, batch_size, d)"
      ]
    },
    {
      "cell_type": "code",
      "execution_count": null,
      "metadata": {
        "colab": {
          "base_uri": "https://localhost:8080/"
        },
        "id": "8Gs_O7pqS0Km",
        "outputId": "2cbf5b77-8dae-46f4-c007-cf83933e5bed"
      },
      "outputs": [
        {
          "data": {
            "text/plain": [
              "True"
            ]
          },
          "execution_count": 9,
          "metadata": {},
          "output_type": "execute_result"
        }
      ],
      "source": [
        "# TESTS\n",
        "# Basis test\n",
        "embedding = Embedding()\n",
        "np.allclose(np.array(embedding(np.array([[1,0.5,0.]]))),np.array([[[-4.3711388e-08,  1.0000000e+00]],[[ 7.0710677e-01,  7.0710677e-01]],[[ 1.0000000e+00,  0.0000000e+00]]]))"
      ]
    },
    {
      "cell_type": "markdown",
      "metadata": {
        "id": "MHh-Rnc5IQTv"
      },
      "source": [
        "### Exercise 3\n",
        "\n",
        "Write a layer/class `MPS` that receives the output of the previously defined embedding and calculates the following contraction\n",
        "\n",
        "\\begin{align}\n",
        "f^c(x)=\\sum_{i_1,\\ldots i_N=0}^1 A^{(1)}_{i_1}A^{(2)}_{i_2}\\ldots A^{(N/2-1)}_{i_{N/2-1}} B^c_{i_{N/2}} A^{(N/2+1)}_{i_{N/2+1}}\\ldots A^{(N)}_{i_N} \\phi(x_1)_{i_1}\\phi(x_2)_{i_2}\\ldots \\phi(x_N)_{i_N}\n",
        "\\end{align}\n",
        "The tensors $A^{(j)}_{i_j}$ are matrices except for the first and the last one which are vectors. The index $c$ denotes the class and $B^c_{i_{N/2}}$ is a matrix. The output of the layer is a $N_{\\rm batch}\\times N_{\\rm classes}$ tensor. The constructor parameters are\n",
        "*  `D` -  bond dimension of the MPS,\n",
        "*  `d` -  the feature size,\n",
        "*  `C` -  number of classes.\n",
        "\n",
        "The initial MPS tensors can be chosen randomly according to a Gaussian or a uniform distribution.\n"
      ]
    },
    {
      "cell_type": "code",
      "execution_count": null,
      "metadata": {
        "id": "D7QN4gx4MBdN"
      },
      "outputs": [],
      "source": [
        "class MPS(tf.keras.layers.Layer):\n",
        "    def __init__(self, D, C, d=2, stddev=0.5):\n",
        "        super(MPS, self).__init__()\n",
        "        self.D = D\n",
        "        self.d = d\n",
        "        self.C = C\n",
        "        self.stddev = stddev\n",
        "\n",
        "    def build(self, input_shape):\n",
        "        # input_shape: (N, batch_size, d)\n",
        "        N = input_shape[0]\n",
        "        d = input_shape[2]\n",
        "        self.n = N\n",
        "\n",
        "        self.tensor = self.add_weight(\n",
        "            shape=(N, self.D, self.D, d),\n",
        "            initializer=tf.keras.initializers.RandomNormal(stddev=self.stddev),\n",
        "            trainable=True,\n",
        "            name=\"core\"\n",
        "        )\n",
        "        self.Aout = self.add_weight(\n",
        "            shape=(self.C, self.D, self.D),\n",
        "            initializer=tf.keras.initializers.RandomNormal(stddev=self.stddev),\n",
        "            trainable=True,\n",
        "            name=\"output\"\n",
        "        )\n",
        "\n",
        "    def call(self, inputs):\n",
        "        # inputs: (N, batch_size, d)\n",
        "        A = tf.einsum(\"nbi,nlri->nblr\", inputs,\n",
        "                      self.tensor)  # (N, batch, D, D)\n",
        "\n",
        "        nhalf = self.n // 2\n",
        "        Al = A[0, :, 0, :]  # (batch, D)\n",
        "        for i in range(1, nhalf):\n",
        "            Al = tf.einsum(\"bl,blr->br\", Al, A[i])\n",
        "\n",
        "        Ar = A[-1, :, :, 0]  # (batch, D)\n",
        "        for i in range(self.n - 2, nhalf - 1, -1):\n",
        "            Ar = tf.einsum(\"blr,br->bl\", A[i], Ar)\n",
        "\n",
        "        Aout = tf.einsum(\"bl,olr->bor\", Al, self.Aout)  # (batch, C, D)\n",
        "        out = tf.einsum(\"bor,br->bo\", Aout, Ar)         # (batch, C)\n",
        "        return out"
      ]
    },
    {
      "cell_type": "code",
      "execution_count": null,
      "metadata": {
        "colab": {
          "base_uri": "https://localhost:8080/"
        },
        "id": "r6tnLO-1KpbO",
        "outputId": "539d11c3-fa27-4b27-fb9c-fda36bfc742d"
      },
      "outputs": [
        {
          "name": "stdout",
          "output_type": "stream",
          "text": [
            "True\n"
          ]
        }
      ],
      "source": [
        "# TEST\n",
        "embedding = Embedding()\n",
        "mps = MPS(D=3,C=8)\n",
        "out = mps(embedding(np.random.rand(3,15)))\n",
        "print((np.array(out.shape)==np.array([3,8])).all())"
      ]
    },
    {
      "cell_type": "markdown",
      "metadata": {
        "id": "bDjPSqWyMPem"
      },
      "source": [
        "### Exercise 4\n",
        "Combine the `Embedding`  and the `MPS` layers in a simple MPS classification model (name it `MPS_model`) and train it on the prepared toy dataset."
      ]
    },
    {
      "cell_type": "code",
      "execution_count": null,
      "metadata": {
        "id": "Gqdrb7vrNXqX"
      },
      "outputs": [],
      "source": [
        "class MPS_model(tf.keras.Model):\n",
        "    def __init__(self, D, C=1, d=2, stddev=0.5):\n",
        "        super(MPS_model, self).__init__()\n",
        "        self.embedding = Embedding(d)\n",
        "        self.mps = MPS(D=D, d=d, C=C, stddev=stddev)\n",
        "        self.C = C\n",
        "\n",
        "    def call(self, inputs):\n",
        "        x = self.embedding(inputs)\n",
        "        x = self.mps(x)\n",
        "        if self.C > 1:\n",
        "            return tf.keras.activations.softmax(x)\n",
        "        else:\n",
        "            return tf.keras.activations.sigmoid(x)"
      ]
    },
    {
      "cell_type": "markdown",
      "metadata": {
        "id": "nykK3LjRMqVr"
      },
      "source": [
        "**Toy dataset with two classes**"
      ]
    },
    {
      "cell_type": "code",
      "execution_count": null,
      "metadata": {
        "colab": {
          "base_uri": "https://localhost:8080/",
          "height": 430
        },
        "id": "CD--rG-MMt-s",
        "outputId": "28e2e50d-fae2-4833-ab4b-e7e0f646a8e0"
      },
      "outputs": [
        {
          "data": {
            "image/png": "[encoded data removed]",
            "text/plain": [
              "<Figure size 640x480 with 1 Axes>"
            ]
          },
          "metadata": {},
          "output_type": "display_data"
        }
      ],
      "source": [
        "from numpy import pi\n",
        "# import matplotlib.pyplot as plt\n",
        "\n",
        "N = 1000\n",
        "theta = np.sqrt(np.random.rand(N))*2*pi # np.linspace(0,2*pi,100)\n",
        "\n",
        "r_a = 2*theta + pi\n",
        "data_a = np.array([np.cos(theta)*r_a, np.sin(theta)*r_a]).T\n",
        "x_a = data_a + np.random.randn(N,2)\n",
        "\n",
        "r_b = -2*theta - pi\n",
        "data_b = np.array([np.cos(theta)*r_b, np.sin(theta)*r_b]).T\n",
        "x_b = data_b + np.random.randn(N,2)\n",
        "\n",
        "\n",
        "x_a = x_a/20.\n",
        "x_b = x_b/20.\n",
        "\n",
        "res_a = np.append(x_a, np.zeros((N,1)), axis=1)\n",
        "res_b = np.append(x_b, np.ones((N,1)), axis=1)\n",
        "\n",
        "res = np.append(res_a, res_b, axis=0)\n",
        "np.random.shuffle(res)\n",
        "\n",
        "X_train = res[:N//2,:2]\n",
        "Y_train = res[:N//2,2]\n",
        "\n",
        "X_test = res[N//2:,:2]\n",
        "Y_test = res[N//2:,2]\n",
        "\n",
        "\n",
        "plt.scatter(x_a[:,0],x_a[:,1])\n",
        "plt.scatter(x_b[:,0],x_b[:,1])\n",
        "plt.show()"
      ]
    },
    {
      "cell_type": "markdown",
      "metadata": {
        "id": "xws_yLGxM791"
      },
      "source": [
        "**Training**"
      ]
    },
    {
      "cell_type": "code",
      "execution_count": null,
      "metadata": {
        "id": "QYSPzxXpMumJ"
      },
      "outputs": [],
      "source": [
        "# By changing D, and d you can change the expressability of the model.\n",
        "\n",
        "model = MPS_model(D=6,d=6,C=1,stddev=0.1)\n",
        "\n",
        "loss = tf.keras.losses.BinaryCrossentropy()\n",
        "optimizer = tf.optimizers.Adam(learning_rate=0.01)\n",
        "model.compile(optimizer=optimizer, loss=loss, metrics=[\"accuracy\"])"
      ]
    },
    {
      "cell_type": "code",
      "execution_count": null,
      "metadata": {
        "colab": {
          "base_uri": "https://localhost:8080/"
        },
        "id": "DtldR5nRM9yR",
        "outputId": "7b61ef0e-80e6-44ff-b53a-d0fecb64072f"
      },
      "outputs": [
        {
          "name": "stdout",
          "output_type": "stream",
          "text": [
            "Epoch 1/1000\n",
            "2/2 - 2s - 859ms/step - accuracy: 0.4844 - loss: 0.6940 - val_accuracy: 0.4800 - val_loss: 0.6926 - learning_rate: 0.0100\n",
            "Epoch 2/1000\n",
            "2/2 - 0s - 75ms/step - accuracy: 0.6044 - loss: 0.6916 - val_accuracy: 0.7000 - val_loss: 0.6901 - learning_rate: 0.0100\n",
            "Epoch 3/1000\n",
            "2/2 - 0s - 48ms/step - accuracy: 0.7356 - loss: 0.6891 - val_accuracy: 0.8600 - val_loss: 0.6871 - learning_rate: 0.0100\n",
            "Epoch 4/1000\n",
            "2/2 - 0s - 51ms/step - accuracy: 0.8022 - loss: 0.6861 - val_accuracy: 0.8600 - val_loss: 0.6833 - learning_rate: 0.0100\n",
            "Epoch 5/1000\n",
            "2/2 - 0s - 48ms/step - accuracy: 0.8400 - loss: 0.6818 - val_accuracy: 0.8200 - val_loss: 0.6784 - learning_rate: 0.0100\n",
            "Epoch 6/1000\n",
            "2/2 - 0s - 49ms/step - accuracy: 0.8422 - loss: 0.6761 - val_accuracy: 0.7800 - val_loss: 0.6720 - learning_rate: 0.0100\n",
            "Epoch 7/1000\n",
            "2/2 - 0s - 48ms/step - accuracy: 0.8356 - loss: 0.6684 - val_accuracy: 0.7800 - val_loss: 0.6637 - learning_rate: 0.0100\n",
            "Epoch 8/1000\n",
            "2/2 - 0s - 46ms/step - accuracy: 0.8311 - loss: 0.6584 - val_accuracy: 0.7800 - val_loss: 0.6533 - learning_rate: 0.0100\n",
            "Epoch 9/1000\n",
            "2/2 - 0s - 49ms/step - accuracy: 0.8333 - loss: 0.6457 - val_accuracy: 0.7800 - val_loss: 0.6406 - learning_rate: 0.0100\n",
            "Epoch 10/1000\n",
            "2/2 - 0s - 51ms/step - accuracy: 0.8289 - loss: 0.6300 - val_accuracy: 0.7800 - val_loss: 0.6253 - learning_rate: 0.0100\n",
            "Epoch 11/1000\n",
            "2/2 - 0s - 79ms/step - accuracy: 0.8289 - loss: 0.6116 - val_accuracy: 0.7800 - val_loss: 0.6073 - learning_rate: 0.0100\n",
            "Epoch 12/1000\n",
            "2/2 - 0s - 58ms/step - accuracy: 0.8178 - loss: 0.5906 - val_accuracy: 0.7800 - val_loss: 0.5862 - learning_rate: 0.0100\n",
            "Epoch 13/1000\n",
            "2/2 - 0s - 68ms/step - accuracy: 0.8111 - loss: 0.5678 - val_accuracy: 0.7600 - val_loss: 0.5624 - learning_rate: 0.0100\n",
            "Epoch 14/1000\n",
            "2/2 - 0s - 69ms/step - accuracy: 0.8044 - loss: 0.5432 - val_accuracy: 0.7600 - val_loss: 0.5369 - learning_rate: 0.0100\n",
            "Epoch 15/1000\n",
            "2/2 - 0s - 70ms/step - accuracy: 0.7933 - loss: 0.5197 - val_accuracy: 0.8000 - val_loss: 0.5109 - learning_rate: 0.0100\n",
            "Epoch 16/1000\n",
            "2/2 - 0s - 67ms/step - accuracy: 0.7844 - loss: 0.4952 - val_accuracy: 0.8000 - val_loss: 0.4857 - learning_rate: 0.0100\n",
            "Epoch 17/1000\n",
            "2/2 - 0s - 49ms/step - accuracy: 0.7867 - loss: 0.4725 - val_accuracy: 0.8000 - val_loss: 0.4611 - learning_rate: 0.0100\n",
            "Epoch 18/1000\n",
            "2/2 - 0s - 50ms/step - accuracy: 0.7978 - loss: 0.4495 - val_accuracy: 0.8000 - val_loss: 0.4351 - learning_rate: 0.0100\n",
            "Epoch 19/1000\n",
            "2/2 - 0s - 76ms/step - accuracy: 0.8089 - loss: 0.4263 - val_accuracy: 0.8400 - val_loss: 0.4075 - learning_rate: 0.0100\n",
            "Epoch 20/1000\n",
            "2/2 - 0s - 48ms/step - accuracy: 0.8244 - loss: 0.4020 - val_accuracy: 0.9000 - val_loss: 0.3797 - learning_rate: 0.0100\n",
            "Epoch 21/1000\n",
            "2/2 - 0s - 50ms/step - accuracy: 0.8533 - loss: 0.3776 - val_accuracy: 0.9000 - val_loss: 0.3534 - learning_rate: 0.0100\n",
            "Epoch 22/1000\n",
            "2/2 - 0s - 49ms/step - accuracy: 0.8778 - loss: 0.3539 - val_accuracy: 0.9000 - val_loss: 0.3308 - learning_rate: 0.0100\n",
            "Epoch 23/1000\n",
            "2/2 - 0s - 46ms/step - accuracy: 0.8978 - loss: 0.3319 - val_accuracy: 0.9400 - val_loss: 0.3131 - learning_rate: 0.0100\n",
            "Epoch 24/1000\n",
            "2/2 - 0s - 50ms/step - accuracy: 0.9111 - loss: 0.3123 - val_accuracy: 0.9200 - val_loss: 0.2971 - learning_rate: 0.0100\n",
            "Epoch 25/1000\n",
            "2/2 - 0s - 68ms/step - accuracy: 0.9133 - loss: 0.2958 - val_accuracy: 0.9200 - val_loss: 0.2822 - learning_rate: 0.0100\n",
            "Epoch 26/1000\n",
            "2/2 - 0s - 70ms/step - accuracy: 0.9200 - loss: 0.2809 - val_accuracy: 0.9200 - val_loss: 0.2701 - learning_rate: 0.0100\n",
            "Epoch 27/1000\n",
            "2/2 - 0s - 48ms/step - accuracy: 0.9222 - loss: 0.2685 - val_accuracy: 0.9200 - val_loss: 0.2613 - learning_rate: 0.0100\n",
            "Epoch 28/1000\n",
            "2/2 - 0s - 58ms/step - accuracy: 0.9267 - loss: 0.2585 - val_accuracy: 0.9400 - val_loss: 0.2552 - learning_rate: 0.0100\n",
            "Epoch 29/1000\n",
            "2/2 - 0s - 48ms/step - accuracy: 0.9267 - loss: 0.2504 - val_accuracy: 0.9400 - val_loss: 0.2512 - learning_rate: 0.0100\n",
            "Epoch 30/1000\n",
            "2/2 - 0s - 69ms/step - accuracy: 0.9289 - loss: 0.2441 - val_accuracy: 0.9400 - val_loss: 0.2476 - learning_rate: 0.0100\n",
            "Epoch 31/1000\n",
            "2/2 - 0s - 70ms/step - accuracy: 0.9289 - loss: 0.2375 - val_accuracy: 0.9400 - val_loss: 0.2428 - learning_rate: 0.0100\n",
            "Epoch 32/1000\n",
            "2/2 - 0s - 52ms/step - accuracy: 0.9289 - loss: 0.2309 - val_accuracy: 0.9400 - val_loss: 0.2377 - learning_rate: 0.0100\n",
            "Epoch 33/1000\n",
            "2/2 - 0s - 67ms/step - accuracy: 0.9289 - loss: 0.2247 - val_accuracy: 0.9400 - val_loss: 0.2337 - learning_rate: 0.0100\n",
            "Epoch 34/1000\n",
            "2/2 - 0s - 70ms/step - accuracy: 0.9289 - loss: 0.2196 - val_accuracy: 0.9400 - val_loss: 0.2307 - learning_rate: 0.0100\n",
            "Epoch 35/1000\n",
            "2/2 - 0s - 48ms/step - accuracy: 0.9289 - loss: 0.2152 - val_accuracy: 0.9400 - val_loss: 0.2278 - learning_rate: 0.0100\n",
            "Epoch 36/1000\n",
            "2/2 - 0s - 76ms/step - accuracy: 0.9311 - loss: 0.2112 - val_accuracy: 0.9400 - val_loss: 0.2248 - learning_rate: 0.0100\n",
            "Epoch 37/1000\n",
            "2/2 - 0s - 62ms/step - accuracy: 0.9311 - loss: 0.2075 - val_accuracy: 0.9400 - val_loss: 0.2222 - learning_rate: 0.0100\n",
            "Epoch 38/1000\n",
            "2/2 - 0s - 49ms/step - accuracy: 0.9356 - loss: 0.2043 - val_accuracy: 0.9400 - val_loss: 0.2200 - learning_rate: 0.0100\n",
            "Epoch 39/1000\n",
            "2/2 - 0s - 71ms/step - accuracy: 0.9378 - loss: 0.2016 - val_accuracy: 0.9400 - val_loss: 0.2183 - learning_rate: 0.0100\n",
            "Epoch 40/1000\n",
            "2/2 - 0s - 64ms/step - accuracy: 0.9356 - loss: 0.2006 - val_accuracy: 0.9400 - val_loss: 0.2157 - learning_rate: 0.0100\n",
            "Epoch 41/1000\n",
            "2/2 - 0s - 69ms/step - accuracy: 0.9333 - loss: 0.1984 - val_accuracy: 0.9400 - val_loss: 0.2109 - learning_rate: 0.0100\n",
            "Epoch 42/1000\n",
            "2/2 - 0s - 49ms/step - accuracy: 0.9356 - loss: 0.1958 - val_accuracy: 0.9400 - val_loss: 0.2060 - learning_rate: 0.0100\n",
            "Epoch 43/1000\n",
            "2/2 - 0s - 69ms/step - accuracy: 0.9378 - loss: 0.1933 - val_accuracy: 0.9400 - val_loss: 0.2015 - learning_rate: 0.0100\n",
            "Epoch 44/1000\n",
            "2/2 - 0s - 68ms/step - accuracy: 0.9378 - loss: 0.1913 - val_accuracy: 0.9400 - val_loss: 0.1977 - learning_rate: 0.0100\n",
            "Epoch 45/1000\n",
            "2/2 - 0s - 70ms/step - accuracy: 0.9378 - loss: 0.1897 - val_accuracy: 0.9400 - val_loss: 0.1947 - learning_rate: 0.0100\n",
            "Epoch 46/1000\n",
            "2/2 - 0s - 66ms/step - accuracy: 0.9378 - loss: 0.1881 - val_accuracy: 0.9400 - val_loss: 0.1924 - learning_rate: 0.0100\n",
            "Epoch 47/1000\n",
            "2/2 - 0s - 69ms/step - accuracy: 0.9378 - loss: 0.1865 - val_accuracy: 0.9400 - val_loss: 0.1905 - learning_rate: 0.0100\n",
            "Epoch 48/1000\n",
            "2/2 - 0s - 69ms/step - accuracy: 0.9378 - loss: 0.1849 - val_accuracy: 0.9400 - val_loss: 0.1894 - learning_rate: 0.0100\n",
            "Epoch 49/1000\n",
            "2/2 - 0s - 53ms/step - accuracy: 0.9333 - loss: 0.1837 - val_accuracy: 0.9400 - val_loss: 0.1888 - learning_rate: 0.0100\n",
            "Epoch 50/1000\n",
            "2/2 - 0s - 74ms/step - accuracy: 0.9356 - loss: 0.1822 - val_accuracy: 0.9400 - val_loss: 0.1886 - learning_rate: 0.0100\n",
            "Epoch 51/1000\n",
            "2/2 - 0s - 161ms/step - accuracy: 0.9356 - loss: 0.1813 - val_accuracy: 0.9400 - val_loss: 0.1884 - learning_rate: 0.0100\n",
            "Epoch 52/1000\n",
            "2/2 - 0s - 145ms/step - accuracy: 0.9356 - loss: 0.1803 - val_accuracy: 0.9400 - val_loss: 0.1881 - learning_rate: 0.0100\n",
            "Epoch 53/1000\n",
            "2/2 - 0s - 92ms/step - accuracy: 0.9333 - loss: 0.1792 - val_accuracy: 0.9400 - val_loss: 0.1881 - learning_rate: 0.0100\n",
            "Epoch 54/1000\n",
            "2/2 - 0s - 84ms/step - accuracy: 0.9311 - loss: 0.1777 - val_accuracy: 0.9400 - val_loss: 0.1885 - learning_rate: 0.0100\n",
            "Epoch 55/1000\n",
            "2/2 - 0s - 138ms/step - accuracy: 0.9311 - loss: 0.1763 - val_accuracy: 0.9400 - val_loss: 0.1900 - learning_rate: 0.0100\n",
            "Epoch 56/1000\n",
            "2/2 - 0s - 163ms/step - accuracy: 0.9333 - loss: 0.1748 - val_accuracy: 0.9200 - val_loss: 0.1929 - learning_rate: 0.0100\n",
            "Epoch 57/1000\n",
            "2/2 - 0s - 146ms/step - accuracy: 0.9333 - loss: 0.1741 - val_accuracy: 0.9000 - val_loss: 0.1966 - learning_rate: 0.0100\n",
            "Epoch 58/1000\n",
            "2/2 - 0s - 114ms/step - accuracy: 0.9311 - loss: 0.1743 - val_accuracy: 0.9000 - val_loss: 0.1985 - learning_rate: 0.0100\n",
            "Epoch 59/1000\n",
            "2/2 - 0s - 69ms/step - accuracy: 0.9333 - loss: 0.1736 - val_accuracy: 0.9000 - val_loss: 0.1973 - learning_rate: 0.0100\n",
            "Epoch 60/1000\n",
            "2/2 - 0s - 68ms/step - accuracy: 0.9311 - loss: 0.1721 - val_accuracy: 0.9000 - val_loss: 0.1942 - learning_rate: 0.0100\n",
            "Epoch 61/1000\n",
            "2/2 - 0s - 48ms/step - accuracy: 0.9311 - loss: 0.1707 - val_accuracy: 0.9200 - val_loss: 0.1908 - learning_rate: 0.0100\n",
            "Epoch 62/1000\n",
            "2/2 - 0s - 47ms/step - accuracy: 0.9356 - loss: 0.1699 - val_accuracy: 0.9200 - val_loss: 0.1885 - learning_rate: 0.0100\n",
            "Epoch 63/1000\n",
            "2/2 - 0s - 73ms/step - accuracy: 0.9311 - loss: 0.1699 - val_accuracy: 0.9200 - val_loss: 0.1873 - learning_rate: 0.0100\n",
            "Epoch 64/1000\n",
            "2/2 - 0s - 193ms/step - accuracy: 0.9311 - loss: 0.1691 - val_accuracy: 0.9200 - val_loss: 0.1872 - learning_rate: 0.0100\n",
            "Epoch 65/1000\n",
            "2/2 - 0s - 195ms/step - accuracy: 0.9311 - loss: 0.1675 - val_accuracy: 0.9200 - val_loss: 0.1872 - learning_rate: 0.0100\n",
            "Epoch 66/1000\n",
            "2/2 - 0s - 48ms/step - accuracy: 0.9333 - loss: 0.1658 - val_accuracy: 0.9200 - val_loss: 0.1865 - learning_rate: 0.0100\n",
            "Epoch 67/1000\n",
            "2/2 - 0s - 160ms/step - accuracy: 0.9333 - loss: 0.1649 - val_accuracy: 0.9200 - val_loss: 0.1871 - learning_rate: 0.0100\n",
            "Epoch 68/1000\n",
            "2/2 - 0s - 71ms/step - accuracy: 0.9289 - loss: 0.1644 - val_accuracy: 0.9200 - val_loss: 0.1885 - learning_rate: 0.0100\n",
            "Epoch 69/1000\n",
            "2/2 - 0s - 55ms/step - accuracy: 0.9289 - loss: 0.1642 - val_accuracy: 0.9200 - val_loss: 0.1885 - learning_rate: 0.0100\n",
            "Epoch 70/1000\n",
            "2/2 - 0s - 63ms/step - accuracy: 0.9311 - loss: 0.1637 - val_accuracy: 0.9200 - val_loss: 0.1877 - learning_rate: 0.0100\n",
            "Epoch 71/1000\n",
            "2/2 - 0s - 50ms/step - accuracy: 0.9333 - loss: 0.1632 - val_accuracy: 0.9200 - val_loss: 0.1866 - learning_rate: 0.0100\n",
            "Epoch 72/1000\n",
            "2/2 - 0s - 125ms/step - accuracy: 0.9378 - loss: 0.1621 - val_accuracy: 0.9200 - val_loss: 0.1838 - learning_rate: 0.0100\n",
            "Epoch 73/1000\n",
            "2/2 - 0s - 122ms/step - accuracy: 0.9333 - loss: 0.1607 - val_accuracy: 0.9200 - val_loss: 0.1806 - learning_rate: 0.0100\n",
            "Epoch 74/1000\n",
            "2/2 - 0s - 113ms/step - accuracy: 0.9289 - loss: 0.1596 - val_accuracy: 0.9200 - val_loss: 0.1782 - learning_rate: 0.0100\n",
            "Epoch 75/1000\n",
            "2/2 - 0s - 47ms/step - accuracy: 0.9311 - loss: 0.1593 - val_accuracy: 0.9200 - val_loss: 0.1775 - learning_rate: 0.0100\n",
            "Epoch 76/1000\n",
            "2/2 - 0s - 48ms/step - accuracy: 0.9333 - loss: 0.1593 - val_accuracy: 0.9200 - val_loss: 0.1779 - learning_rate: 0.0100\n",
            "Epoch 77/1000\n",
            "2/2 - 0s - 48ms/step - accuracy: 0.9333 - loss: 0.1578 - val_accuracy: 0.9200 - val_loss: 0.1793 - learning_rate: 0.0100\n",
            "Epoch 78/1000\n",
            "2/2 - 0s - 48ms/step - accuracy: 0.9378 - loss: 0.1552 - val_accuracy: 0.9000 - val_loss: 0.1828 - learning_rate: 0.0100\n",
            "Epoch 79/1000\n",
            "2/2 - 0s - 51ms/step - accuracy: 0.9356 - loss: 0.1539 - val_accuracy: 0.9000 - val_loss: 0.1873 - learning_rate: 0.0100\n",
            "Epoch 80/1000\n",
            "2/2 - 0s - 47ms/step - accuracy: 0.9333 - loss: 0.1531 - val_accuracy: 0.8800 - val_loss: 0.1902 - learning_rate: 0.0100\n",
            "Epoch 81/1000\n",
            "2/2 - 0s - 50ms/step - accuracy: 0.9311 - loss: 0.1528 - val_accuracy: 0.8800 - val_loss: 0.1873 - learning_rate: 0.0100\n",
            "Epoch 82/1000\n",
            "2/2 - 0s - 68ms/step - accuracy: 0.9311 - loss: 0.1512 - val_accuracy: 0.9000 - val_loss: 0.1785 - learning_rate: 0.0100\n",
            "Epoch 83/1000\n",
            "2/2 - 0s - 48ms/step - accuracy: 0.9356 - loss: 0.1491 - val_accuracy: 0.9200 - val_loss: 0.1703 - learning_rate: 0.0100\n",
            "Epoch 84/1000\n",
            "2/2 - 0s - 58ms/step - accuracy: 0.9378 - loss: 0.1475 - val_accuracy: 0.9200 - val_loss: 0.1658 - learning_rate: 0.0100\n",
            "Epoch 85/1000\n",
            "2/2 - 0s - 61ms/step - accuracy: 0.9378 - loss: 0.1462 - val_accuracy: 0.9200 - val_loss: 0.1636 - learning_rate: 0.0100\n",
            "Epoch 86/1000\n",
            "2/2 - 0s - 68ms/step - accuracy: 0.9378 - loss: 0.1451 - val_accuracy: 0.9200 - val_loss: 0.1630 - learning_rate: 0.0100\n",
            "Epoch 87/1000\n",
            "2/2 - 0s - 52ms/step - accuracy: 0.9378 - loss: 0.1434 - val_accuracy: 0.9200 - val_loss: 0.1642 - learning_rate: 0.0100\n",
            "Epoch 88/1000\n",
            "2/2 - 0s - 67ms/step - accuracy: 0.9444 - loss: 0.1415 - val_accuracy: 0.9000 - val_loss: 0.1666 - learning_rate: 0.0100\n",
            "Epoch 89/1000\n",
            "2/2 - 0s - 49ms/step - accuracy: 0.9422 - loss: 0.1397 - val_accuracy: 0.9000 - val_loss: 0.1705 - learning_rate: 0.0100\n",
            "Epoch 90/1000\n",
            "2/2 - 0s - 69ms/step - accuracy: 0.9378 - loss: 0.1385 - val_accuracy: 0.8800 - val_loss: 0.1753 - learning_rate: 0.0100\n",
            "Epoch 91/1000\n",
            "2/2 - 0s - 50ms/step - accuracy: 0.9356 - loss: 0.1386 - val_accuracy: 0.8800 - val_loss: 0.1771 - learning_rate: 0.0100\n",
            "Epoch 92/1000\n",
            "2/2 - 0s - 67ms/step - accuracy: 0.9333 - loss: 0.1377 - val_accuracy: 0.8800 - val_loss: 0.1757 - learning_rate: 0.0100\n",
            "Epoch 93/1000\n",
            "2/2 - 0s - 50ms/step - accuracy: 0.9333 - loss: 0.1359 - val_accuracy: 0.8800 - val_loss: 0.1708 - learning_rate: 0.0100\n",
            "Epoch 94/1000\n",
            "2/2 - 0s - 52ms/step - accuracy: 0.9333 - loss: 0.1336 - val_accuracy: 0.8800 - val_loss: 0.1606 - learning_rate: 0.0100\n",
            "Epoch 95/1000\n",
            "2/2 - 0s - 52ms/step - accuracy: 0.9378 - loss: 0.1298 - val_accuracy: 0.9000 - val_loss: 0.1517 - learning_rate: 0.0100\n",
            "Epoch 96/1000\n",
            "2/2 - 0s - 66ms/step - accuracy: 0.9422 - loss: 0.1265 - val_accuracy: 0.9200 - val_loss: 0.1476 - learning_rate: 0.0100\n",
            "Epoch 97/1000\n",
            "2/2 - 0s - 48ms/step - accuracy: 0.9378 - loss: 0.1237 - val_accuracy: 0.9400 - val_loss: 0.1422 - learning_rate: 0.0100\n",
            "Epoch 98/1000\n",
            "2/2 - 0s - 48ms/step - accuracy: 0.9422 - loss: 0.1203 - val_accuracy: 0.9400 - val_loss: 0.1335 - learning_rate: 0.0100\n",
            "Epoch 99/1000\n",
            "2/2 - 0s - 49ms/step - accuracy: 0.9444 - loss: 0.1161 - val_accuracy: 0.9400 - val_loss: 0.1266 - learning_rate: 0.0100\n",
            "Epoch 100/1000\n",
            "2/2 - 0s - 69ms/step - accuracy: 0.9467 - loss: 0.1127 - val_accuracy: 0.9400 - val_loss: 0.1225 - learning_rate: 0.0100\n",
            "Epoch 101/1000\n",
            "2/2 - 0s - 55ms/step - accuracy: 0.9511 - loss: 0.1086 - val_accuracy: 0.9400 - val_loss: 0.1205 - learning_rate: 0.0100\n",
            "Epoch 102/1000\n",
            "2/2 - 0s - 52ms/step - accuracy: 0.9533 - loss: 0.1050 - val_accuracy: 0.9400 - val_loss: 0.1190 - learning_rate: 0.0100\n",
            "Epoch 103/1000\n",
            "2/2 - 0s - 49ms/step - accuracy: 0.9600 - loss: 0.1008 - val_accuracy: 0.9600 - val_loss: 0.1177 - learning_rate: 0.0100\n",
            "Epoch 104/1000\n",
            "2/2 - 0s - 50ms/step - accuracy: 0.9622 - loss: 0.0968 - val_accuracy: 0.9600 - val_loss: 0.1152 - learning_rate: 0.0100\n",
            "Epoch 105/1000\n",
            "2/2 - 0s - 68ms/step - accuracy: 0.9667 - loss: 0.0925 - val_accuracy: 0.9600 - val_loss: 0.1122 - learning_rate: 0.0100\n",
            "Epoch 106/1000\n",
            "2/2 - 0s - 48ms/step - accuracy: 0.9756 - loss: 0.0883 - val_accuracy: 0.9600 - val_loss: 0.1095 - learning_rate: 0.0100\n",
            "Epoch 107/1000\n",
            "2/2 - 0s - 70ms/step - accuracy: 0.9756 - loss: 0.0842 - val_accuracy: 0.9600 - val_loss: 0.1064 - learning_rate: 0.0100\n",
            "Epoch 108/1000\n",
            "2/2 - 0s - 66ms/step - accuracy: 0.9756 - loss: 0.0799 - val_accuracy: 0.9600 - val_loss: 0.1020 - learning_rate: 0.0100\n",
            "Epoch 109/1000\n",
            "2/2 - 0s - 51ms/step - accuracy: 0.9756 - loss: 0.0759 - val_accuracy: 0.9600 - val_loss: 0.0977 - learning_rate: 0.0100\n",
            "Epoch 110/1000\n",
            "2/2 - 0s - 57ms/step - accuracy: 0.9756 - loss: 0.0723 - val_accuracy: 0.9600 - val_loss: 0.0943 - learning_rate: 0.0100\n",
            "Epoch 111/1000\n",
            "2/2 - 0s - 48ms/step - accuracy: 0.9756 - loss: 0.0690 - val_accuracy: 0.9600 - val_loss: 0.0914 - learning_rate: 0.0100\n",
            "Epoch 112/1000\n",
            "2/2 - 0s - 69ms/step - accuracy: 0.9778 - loss: 0.0651 - val_accuracy: 0.9600 - val_loss: 0.0891 - learning_rate: 0.0100\n",
            "Epoch 113/1000\n",
            "2/2 - 0s - 50ms/step - accuracy: 0.9800 - loss: 0.0611 - val_accuracy: 0.9600 - val_loss: 0.0848 - learning_rate: 0.0100\n",
            "Epoch 114/1000\n",
            "2/2 - 0s - 67ms/step - accuracy: 0.9800 - loss: 0.0572 - val_accuracy: 0.9600 - val_loss: 0.0775 - learning_rate: 0.0100\n",
            "Epoch 115/1000\n",
            "2/2 - 0s - 69ms/step - accuracy: 0.9867 - loss: 0.0534 - val_accuracy: 0.9600 - val_loss: 0.0705 - learning_rate: 0.0100\n",
            "Epoch 116/1000\n",
            "2/2 - 0s - 69ms/step - accuracy: 0.9867 - loss: 0.0498 - val_accuracy: 0.9600 - val_loss: 0.0648 - learning_rate: 0.0100\n",
            "Epoch 117/1000\n",
            "2/2 - 0s - 70ms/step - accuracy: 0.9889 - loss: 0.0471 - val_accuracy: 0.9800 - val_loss: 0.0600 - learning_rate: 0.0100\n",
            "Epoch 118/1000\n",
            "2/2 - 0s - 55ms/step - accuracy: 0.9889 - loss: 0.0444 - val_accuracy: 1.0000 - val_loss: 0.0558 - learning_rate: 0.0100\n",
            "Epoch 119/1000\n",
            "2/2 - 0s - 62ms/step - accuracy: 0.9889 - loss: 0.0422 - val_accuracy: 1.0000 - val_loss: 0.0513 - learning_rate: 0.0100\n",
            "Epoch 120/1000\n",
            "2/2 - 0s - 72ms/step - accuracy: 0.9889 - loss: 0.0397 - val_accuracy: 1.0000 - val_loss: 0.0457 - learning_rate: 0.0100\n",
            "Epoch 121/1000\n",
            "2/2 - 0s - 49ms/step - accuracy: 0.9889 - loss: 0.0372 - val_accuracy: 1.0000 - val_loss: 0.0401 - learning_rate: 0.0100\n",
            "Epoch 122/1000\n",
            "2/2 - 0s - 67ms/step - accuracy: 0.9911 - loss: 0.0347 - val_accuracy: 1.0000 - val_loss: 0.0352 - learning_rate: 0.0100\n",
            "Epoch 123/1000\n",
            "2/2 - 0s - 69ms/step - accuracy: 0.9933 - loss: 0.0327 - val_accuracy: 1.0000 - val_loss: 0.0311 - learning_rate: 0.0100\n",
            "Epoch 124/1000\n",
            "2/2 - 0s - 72ms/step - accuracy: 0.9956 - loss: 0.0307 - val_accuracy: 1.0000 - val_loss: 0.0280 - learning_rate: 0.0100\n",
            "Epoch 125/1000\n",
            "2/2 - 0s - 94ms/step - accuracy: 0.9956 - loss: 0.0292 - val_accuracy: 1.0000 - val_loss: 0.0255 - learning_rate: 0.0100\n",
            "Epoch 126/1000\n",
            "2/2 - 0s - 48ms/step - accuracy: 0.9978 - loss: 0.0276 - val_accuracy: 1.0000 - val_loss: 0.0236 - learning_rate: 0.0100\n",
            "Epoch 127/1000\n",
            "2/2 - 0s - 67ms/step - accuracy: 0.9978 - loss: 0.0261 - val_accuracy: 1.0000 - val_loss: 0.0221 - learning_rate: 0.0100\n",
            "Epoch 128/1000\n",
            "2/2 - 0s - 50ms/step - accuracy: 0.9978 - loss: 0.0250 - val_accuracy: 1.0000 - val_loss: 0.0210 - learning_rate: 0.0100\n",
            "Epoch 129/1000\n",
            "2/2 - 0s - 73ms/step - accuracy: 0.9978 - loss: 0.0238 - val_accuracy: 1.0000 - val_loss: 0.0200 - learning_rate: 0.0100\n",
            "Epoch 130/1000\n",
            "2/2 - 0s - 88ms/step - accuracy: 0.9978 - loss: 0.0229 - val_accuracy: 1.0000 - val_loss: 0.0189 - learning_rate: 0.0100\n",
            "Epoch 131/1000\n",
            "2/2 - 0s - 145ms/step - accuracy: 0.9978 - loss: 0.0220 - val_accuracy: 1.0000 - val_loss: 0.0176 - learning_rate: 0.0100\n",
            "Epoch 132/1000\n",
            "2/2 - 0s - 87ms/step - accuracy: 0.9978 - loss: 0.0210 - val_accuracy: 1.0000 - val_loss: 0.0162 - learning_rate: 0.0100\n",
            "Epoch 133/1000\n",
            "2/2 - 0s - 133ms/step - accuracy: 0.9978 - loss: 0.0202 - val_accuracy: 1.0000 - val_loss: 0.0149 - learning_rate: 0.0100\n",
            "Epoch 134/1000\n",
            "2/2 - 0s - 148ms/step - accuracy: 0.9978 - loss: 0.0195 - val_accuracy: 1.0000 - val_loss: 0.0140 - learning_rate: 0.0100\n",
            "Epoch 135/1000\n",
            "2/2 - 0s - 88ms/step - accuracy: 0.9978 - loss: 0.0188 - val_accuracy: 1.0000 - val_loss: 0.0134 - learning_rate: 0.0100\n",
            "Epoch 136/1000\n",
            "2/2 - 0s - 80ms/step - accuracy: 0.9978 - loss: 0.0181 - val_accuracy: 1.0000 - val_loss: 0.0129 - learning_rate: 0.0100\n",
            "Epoch 137/1000\n",
            "2/2 - 0s - 156ms/step - accuracy: 0.9978 - loss: 0.0173 - val_accuracy: 1.0000 - val_loss: 0.0127 - learning_rate: 0.0100\n",
            "Epoch 138/1000\n",
            "2/2 - 0s - 91ms/step - accuracy: 0.9978 - loss: 0.0169 - val_accuracy: 1.0000 - val_loss: 0.0126 - learning_rate: 0.0100\n",
            "Epoch 139/1000\n",
            "2/2 - 0s - 52ms/step - accuracy: 0.9978 - loss: 0.0165 - val_accuracy: 1.0000 - val_loss: 0.0124 - learning_rate: 0.0100\n",
            "Epoch 140/1000\n",
            "2/2 - 0s - 68ms/step - accuracy: 0.9978 - loss: 0.0162 - val_accuracy: 1.0000 - val_loss: 0.0120 - learning_rate: 0.0100\n",
            "Epoch 141/1000\n",
            "2/2 - 0s - 49ms/step - accuracy: 0.9978 - loss: 0.0158 - val_accuracy: 1.0000 - val_loss: 0.0114 - learning_rate: 0.0100\n",
            "Epoch 142/1000\n",
            "2/2 - 0s - 52ms/step - accuracy: 0.9978 - loss: 0.0154 - val_accuracy: 1.0000 - val_loss: 0.0106 - learning_rate: 0.0100\n",
            "Epoch 143/1000\n",
            "2/2 - 0s - 69ms/step - accuracy: 0.9978 - loss: 0.0149 - val_accuracy: 1.0000 - val_loss: 0.0099 - learning_rate: 0.0100\n",
            "Epoch 144/1000\n",
            "2/2 - 0s - 68ms/step - accuracy: 0.9978 - loss: 0.0144 - val_accuracy: 1.0000 - val_loss: 0.0092 - learning_rate: 0.0100\n",
            "Epoch 145/1000\n",
            "2/2 - 0s - 72ms/step - accuracy: 0.9978 - loss: 0.0140 - val_accuracy: 1.0000 - val_loss: 0.0087 - learning_rate: 0.0100\n",
            "Epoch 146/1000\n",
            "2/2 - 0s - 67ms/step - accuracy: 0.9978 - loss: 0.0137 - val_accuracy: 1.0000 - val_loss: 0.0084 - learning_rate: 0.0100\n",
            "Epoch 147/1000\n",
            "2/2 - 0s - 87ms/step - accuracy: 0.9978 - loss: 0.0134 - val_accuracy: 1.0000 - val_loss: 0.0082 - learning_rate: 0.0100\n",
            "Epoch 148/1000\n",
            "2/2 - 0s - 48ms/step - accuracy: 0.9978 - loss: 0.0132 - val_accuracy: 1.0000 - val_loss: 0.0080 - learning_rate: 0.0100\n",
            "Epoch 149/1000\n",
            "2/2 - 0s - 69ms/step - accuracy: 0.9978 - loss: 0.0130 - val_accuracy: 1.0000 - val_loss: 0.0079 - learning_rate: 0.0100\n",
            "Epoch 150/1000\n",
            "2/2 - 0s - 59ms/step - accuracy: 0.9978 - loss: 0.0129 - val_accuracy: 1.0000 - val_loss: 0.0078 - learning_rate: 0.0100\n",
            "Epoch 151/1000\n",
            "2/2 - 0s - 50ms/step - accuracy: 0.9978 - loss: 0.0127 - val_accuracy: 1.0000 - val_loss: 0.0078 - learning_rate: 0.0100\n",
            "Epoch 152/1000\n",
            "2/2 - 0s - 67ms/step - accuracy: 0.9978 - loss: 0.0123 - val_accuracy: 1.0000 - val_loss: 0.0078 - learning_rate: 0.0100\n",
            "Epoch 153/1000\n",
            "2/2 - 0s - 50ms/step - accuracy: 0.9978 - loss: 0.0118 - val_accuracy: 1.0000 - val_loss: 0.0078 - learning_rate: 0.0100\n",
            "Epoch 154/1000\n",
            "2/2 - 0s - 51ms/step - accuracy: 0.9978 - loss: 0.0114 - val_accuracy: 1.0000 - val_loss: 0.0079 - learning_rate: 0.0100\n",
            "Epoch 155/1000\n",
            "2/2 - 0s - 49ms/step - accuracy: 0.9978 - loss: 0.0112 - val_accuracy: 1.0000 - val_loss: 0.0079 - learning_rate: 0.0100\n",
            "Epoch 156/1000\n",
            "2/2 - 0s - 67ms/step - accuracy: 0.9978 - loss: 0.0111 - val_accuracy: 1.0000 - val_loss: 0.0078 - learning_rate: 0.0100\n",
            "Epoch 157/1000\n",
            "2/2 - 0s - 50ms/step - accuracy: 0.9978 - loss: 0.0109 - val_accuracy: 1.0000 - val_loss: 0.0076 - learning_rate: 0.0100\n",
            "Epoch 158/1000\n",
            "2/2 - 0s - 69ms/step - accuracy: 0.9978 - loss: 0.0107 - val_accuracy: 1.0000 - val_loss: 0.0073 - learning_rate: 0.0100\n",
            "Epoch 159/1000\n",
            "2/2 - 0s - 56ms/step - accuracy: 0.9978 - loss: 0.0105 - val_accuracy: 1.0000 - val_loss: 0.0069 - learning_rate: 0.0100\n",
            "Epoch 160/1000\n",
            "2/2 - 0s - 86ms/step - accuracy: 0.9978 - loss: 0.0103 - val_accuracy: 1.0000 - val_loss: 0.0067 - learning_rate: 0.0100\n",
            "Epoch 161/1000\n",
            "2/2 - 0s - 52ms/step - accuracy: 0.9978 - loss: 0.0101 - val_accuracy: 1.0000 - val_loss: 0.0065 - learning_rate: 0.0100\n",
            "Epoch 162/1000\n",
            "2/2 - 0s - 50ms/step - accuracy: 0.9978 - loss: 0.0099 - val_accuracy: 1.0000 - val_loss: 0.0063 - learning_rate: 0.0100\n",
            "Epoch 163/1000\n",
            "2/2 - 0s - 68ms/step - accuracy: 0.9978 - loss: 0.0097 - val_accuracy: 1.0000 - val_loss: 0.0061 - learning_rate: 0.0100\n",
            "Epoch 164/1000\n",
            "2/2 - 0s - 67ms/step - accuracy: 0.9978 - loss: 0.0096 - val_accuracy: 1.0000 - val_loss: 0.0060 - learning_rate: 0.0100\n",
            "Epoch 165/1000\n",
            "2/2 - 0s - 67ms/step - accuracy: 0.9978 - loss: 0.0093 - val_accuracy: 1.0000 - val_loss: 0.0060 - learning_rate: 0.0100\n",
            "Epoch 166/1000\n",
            "2/2 - 0s - 51ms/step - accuracy: 0.9978 - loss: 0.0093 - val_accuracy: 1.0000 - val_loss: 0.0059 - learning_rate: 0.0100\n",
            "Epoch 167/1000\n",
            "2/2 - 0s - 70ms/step - accuracy: 0.9978 - loss: 0.0091 - val_accuracy: 1.0000 - val_loss: 0.0058 - learning_rate: 0.0100\n",
            "Epoch 168/1000\n",
            "2/2 - 0s - 68ms/step - accuracy: 0.9978 - loss: 0.0090 - val_accuracy: 1.0000 - val_loss: 0.0057 - learning_rate: 0.0100\n",
            "Epoch 169/1000\n",
            "2/2 - 0s - 48ms/step - accuracy: 0.9978 - loss: 0.0088 - val_accuracy: 1.0000 - val_loss: 0.0055 - learning_rate: 0.0100\n",
            "Epoch 170/1000\n",
            "2/2 - 0s - 71ms/step - accuracy: 0.9978 - loss: 0.0087 - val_accuracy: 1.0000 - val_loss: 0.0054 - learning_rate: 0.0100\n",
            "Epoch 171/1000\n",
            "2/2 - 0s - 67ms/step - accuracy: 0.9978 - loss: 0.0086 - val_accuracy: 1.0000 - val_loss: 0.0052 - learning_rate: 0.0100\n",
            "Epoch 172/1000\n",
            "2/2 - 0s - 49ms/step - accuracy: 0.9978 - loss: 0.0084 - val_accuracy: 1.0000 - val_loss: 0.0050 - learning_rate: 0.0100\n",
            "Epoch 173/1000\n",
            "2/2 - 0s - 67ms/step - accuracy: 1.0000 - loss: 0.0083 - val_accuracy: 1.0000 - val_loss: 0.0048 - learning_rate: 0.0100\n",
            "Epoch 174/1000\n",
            "2/2 - 0s - 91ms/step - accuracy: 1.0000 - loss: 0.0082 - val_accuracy: 1.0000 - val_loss: 0.0047 - learning_rate: 0.0100\n",
            "Epoch 175/1000\n",
            "2/2 - 0s - 49ms/step - accuracy: 0.9978 - loss: 0.0080 - val_accuracy: 1.0000 - val_loss: 0.0045 - learning_rate: 0.0100\n",
            "Epoch 176/1000\n",
            "2/2 - 0s - 70ms/step - accuracy: 0.9978 - loss: 0.0079 - val_accuracy: 1.0000 - val_loss: 0.0044 - learning_rate: 0.0100\n",
            "Epoch 177/1000\n",
            "2/2 - 0s - 51ms/step - accuracy: 1.0000 - loss: 0.0078 - val_accuracy: 1.0000 - val_loss: 0.0044 - learning_rate: 0.0100\n",
            "Epoch 178/1000\n",
            "2/2 - 0s - 68ms/step - accuracy: 1.0000 - loss: 0.0077 - val_accuracy: 1.0000 - val_loss: 0.0045 - learning_rate: 0.0100\n",
            "Epoch 179/1000\n",
            "2/2 - 0s - 48ms/step - accuracy: 1.0000 - loss: 0.0078 - val_accuracy: 1.0000 - val_loss: 0.0046 - learning_rate: 0.0100\n",
            "Epoch 180/1000\n",
            "2/2 - 0s - 68ms/step - accuracy: 1.0000 - loss: 0.0078 - val_accuracy: 1.0000 - val_loss: 0.0047 - learning_rate: 0.0100\n",
            "Epoch 181/1000\n",
            "2/2 - 0s - 50ms/step - accuracy: 1.0000 - loss: 0.0078 - val_accuracy: 1.0000 - val_loss: 0.0047 - learning_rate: 0.0100\n",
            "Epoch 182/1000\n",
            "2/2 - 0s - 52ms/step - accuracy: 1.0000 - loss: 0.0077 - val_accuracy: 1.0000 - val_loss: 0.0046 - learning_rate: 0.0100\n",
            "Epoch 183/1000\n",
            "2/2 - 0s - 68ms/step - accuracy: 1.0000 - loss: 0.0076 - val_accuracy: 1.0000 - val_loss: 0.0045 - learning_rate: 0.0100\n",
            "Epoch 184/1000\n",
            "2/2 - 0s - 68ms/step - accuracy: 1.0000 - loss: 0.0074 - val_accuracy: 1.0000 - val_loss: 0.0043 - learning_rate: 0.0100\n",
            "Epoch 185/1000\n",
            "2/2 - 0s - 68ms/step - accuracy: 1.0000 - loss: 0.0071 - val_accuracy: 1.0000 - val_loss: 0.0042 - learning_rate: 0.0100\n",
            "Epoch 186/1000\n",
            "2/2 - 0s - 49ms/step - accuracy: 1.0000 - loss: 0.0069 - val_accuracy: 1.0000 - val_loss: 0.0041 - learning_rate: 0.0100\n",
            "Epoch 187/1000\n",
            "2/2 - 0s - 69ms/step - accuracy: 1.0000 - loss: 0.0067 - val_accuracy: 1.0000 - val_loss: 0.0041 - learning_rate: 0.0100\n",
            "Epoch 188/1000\n",
            "2/2 - 0s - 67ms/step - accuracy: 1.0000 - loss: 0.0067 - val_accuracy: 1.0000 - val_loss: 0.0041 - learning_rate: 0.0100\n",
            "Epoch 189/1000\n",
            "2/2 - 0s - 53ms/step - accuracy: 0.9978 - loss: 0.0066 - val_accuracy: 1.0000 - val_loss: 0.0041 - learning_rate: 0.0100\n",
            "Epoch 190/1000\n",
            "2/2 - 0s - 89ms/step - accuracy: 0.9978 - loss: 0.0066 - val_accuracy: 1.0000 - val_loss: 0.0041 - learning_rate: 0.0100\n",
            "Epoch 191/1000\n",
            "2/2 - 0s - 49ms/step - accuracy: 0.9978 - loss: 0.0066 - val_accuracy: 1.0000 - val_loss: 0.0041 - learning_rate: 0.0100\n",
            "Epoch 192/1000\n",
            "2/2 - 0s - 71ms/step - accuracy: 0.9978 - loss: 0.0065 - val_accuracy: 1.0000 - val_loss: 0.0040 - learning_rate: 0.0100\n",
            "Epoch 193/1000\n",
            "2/2 - 0s - 48ms/step - accuracy: 0.9978 - loss: 0.0064 - val_accuracy: 1.0000 - val_loss: 0.0039 - learning_rate: 0.0100\n",
            "Epoch 194/1000\n",
            "2/2 - 0s - 69ms/step - accuracy: 0.9978 - loss: 0.0063 - val_accuracy: 1.0000 - val_loss: 0.0038 - learning_rate: 0.0100\n",
            "Epoch 195/1000\n",
            "2/2 - 0s - 50ms/step - accuracy: 0.9978 - loss: 0.0063 - val_accuracy: 1.0000 - val_loss: 0.0037 - learning_rate: 0.0100\n",
            "Epoch 196/1000\n",
            "\n",
            "Epoch 196: ReduceLROnPlateau reducing learning rate to 0.004999999888241291.\n",
            "2/2 - 0s - 49ms/step - accuracy: 0.9978 - loss: 0.0062 - val_accuracy: 1.0000 - val_loss: 0.0037 - learning_rate: 0.0100\n",
            "Epoch 197/1000\n",
            "2/2 - 0s - 68ms/step - accuracy: 0.9978 - loss: 0.0061 - val_accuracy: 1.0000 - val_loss: 0.0036 - learning_rate: 0.0050\n",
            "Epoch 198/1000\n",
            "2/2 - 0s - 90ms/step - accuracy: 0.9978 - loss: 0.0061 - val_accuracy: 1.0000 - val_loss: 0.0036 - learning_rate: 0.0050\n",
            "Epoch 199/1000\n",
            "2/2 - 0s - 49ms/step - accuracy: 0.9978 - loss: 0.0060 - val_accuracy: 1.0000 - val_loss: 0.0036 - learning_rate: 0.0050\n",
            "Epoch 200/1000\n",
            "2/2 - 0s - 54ms/step - accuracy: 0.9978 - loss: 0.0060 - val_accuracy: 1.0000 - val_loss: 0.0035 - learning_rate: 0.0050\n",
            "Epoch 201/1000\n",
            "2/2 - 0s - 49ms/step - accuracy: 0.9978 - loss: 0.0059 - val_accuracy: 1.0000 - val_loss: 0.0035 - learning_rate: 0.0050\n",
            "Epoch 202/1000\n",
            "2/2 - 0s - 49ms/step - accuracy: 0.9978 - loss: 0.0059 - val_accuracy: 1.0000 - val_loss: 0.0035 - learning_rate: 0.0050\n",
            "Epoch 203/1000\n",
            "2/2 - 0s - 67ms/step - accuracy: 0.9978 - loss: 0.0058 - val_accuracy: 1.0000 - val_loss: 0.0035 - learning_rate: 0.0050\n",
            "Epoch 204/1000\n",
            "2/2 - 0s - 69ms/step - accuracy: 1.0000 - loss: 0.0058 - val_accuracy: 1.0000 - val_loss: 0.0036 - learning_rate: 0.0050\n",
            "Epoch 205/1000\n",
            "2/2 - 0s - 50ms/step - accuracy: 1.0000 - loss: 0.0058 - val_accuracy: 1.0000 - val_loss: 0.0036 - learning_rate: 0.0050\n",
            "Epoch 206/1000\n",
            "2/2 - 0s - 49ms/step - accuracy: 1.0000 - loss: 0.0058 - val_accuracy: 1.0000 - val_loss: 0.0037 - learning_rate: 0.0050\n",
            "Epoch 207/1000\n",
            "2/2 - 0s - 57ms/step - accuracy: 1.0000 - loss: 0.0059 - val_accuracy: 1.0000 - val_loss: 0.0039 - learning_rate: 0.0050\n",
            "Epoch 208/1000\n",
            "2/2 - 0s - 61ms/step - accuracy: 1.0000 - loss: 0.0059 - val_accuracy: 1.0000 - val_loss: 0.0040 - learning_rate: 0.0050\n",
            "Epoch 209/1000\n",
            "2/2 - 0s - 49ms/step - accuracy: 1.0000 - loss: 0.0059 - val_accuracy: 1.0000 - val_loss: 0.0040 - learning_rate: 0.0050\n",
            "Epoch 210/1000\n",
            "2/2 - 0s - 67ms/step - accuracy: 1.0000 - loss: 0.0058 - val_accuracy: 1.0000 - val_loss: 0.0040 - learning_rate: 0.0050\n",
            "Epoch 211/1000\n",
            "2/2 - 0s - 68ms/step - accuracy: 1.0000 - loss: 0.0057 - val_accuracy: 1.0000 - val_loss: 0.0040 - learning_rate: 0.0050\n",
            "Epoch 212/1000\n",
            "\n",
            "Epoch 212: ReduceLROnPlateau reducing learning rate to 0.0024999999441206455.\n",
            "2/2 - 0s - 70ms/step - accuracy: 1.0000 - loss: 0.0057 - val_accuracy: 1.0000 - val_loss: 0.0040 - learning_rate: 0.0050\n",
            "Epoch 213/1000\n",
            "2/2 - 0s - 67ms/step - accuracy: 1.0000 - loss: 0.0056 - val_accuracy: 1.0000 - val_loss: 0.0040 - learning_rate: 0.0025\n",
            "Epoch 214/1000\n",
            "2/2 - 0s - 52ms/step - accuracy: 1.0000 - loss: 0.0055 - val_accuracy: 1.0000 - val_loss: 0.0039 - learning_rate: 0.0025\n",
            "Epoch 215/1000\n",
            "2/2 - 0s - 72ms/step - accuracy: 1.0000 - loss: 0.0055 - val_accuracy: 1.0000 - val_loss: 0.0039 - learning_rate: 0.0025\n",
            "Epoch 216/1000\n",
            "2/2 - 0s - 49ms/step - accuracy: 1.0000 - loss: 0.0055 - val_accuracy: 1.0000 - val_loss: 0.0039 - learning_rate: 0.0025\n",
            "Epoch 217/1000\n",
            "2/2 - 0s - 84ms/step - accuracy: 1.0000 - loss: 0.0054 - val_accuracy: 1.0000 - val_loss: 0.0038 - learning_rate: 0.0025\n",
            "Epoch 218/1000\n",
            "2/2 - 0s - 147ms/step - accuracy: 1.0000 - loss: 0.0054 - val_accuracy: 1.0000 - val_loss: 0.0038 - learning_rate: 0.0025\n",
            "Epoch 219/1000\n",
            "2/2 - 0s - 146ms/step - accuracy: 1.0000 - loss: 0.0054 - val_accuracy: 1.0000 - val_loss: 0.0037 - learning_rate: 0.0025\n",
            "Epoch 220/1000\n",
            "2/2 - 0s - 88ms/step - accuracy: 1.0000 - loss: 0.0054 - val_accuracy: 1.0000 - val_loss: 0.0037 - learning_rate: 0.0025\n",
            "Epoch 221/1000\n",
            "2/2 - 0s - 67ms/step - accuracy: 1.0000 - loss: 0.0054 - val_accuracy: 1.0000 - val_loss: 0.0037 - learning_rate: 0.0025\n",
            "Epoch 222/1000\n",
            "\n",
            "Epoch 222: ReduceLROnPlateau reducing learning rate to 0.0012499999720603228.\n",
            "2/2 - 0s - 73ms/step - accuracy: 1.0000 - loss: 0.0053 - val_accuracy: 1.0000 - val_loss: 0.0036 - learning_rate: 0.0025\n",
            "Epoch 222: early stopping\n"
          ]
        }
      ],
      "source": [
        "callbacks = [tf.keras.callbacks.ReduceLROnPlateau(\n",
        "    monitor='loss', factor=0.5, patience=10, verbose=2,\n",
        "    mode='auto', min_delta=0.001, cooldown=0, min_lr=1e-6)]\n",
        "\n",
        "callbacks.append(tf.keras.callbacks.EarlyStopping(\n",
        "    monitor='loss', min_delta=1e-3, patience=20, verbose=2,\n",
        "    mode='auto', baseline=None, restore_best_weights=False\n",
        "))\n",
        "\n",
        "hist = model.fit(X_train,Y_train, batch_size=400, validation_split=0.1, epochs=1000, callbacks=callbacks, verbose=2)"
      ]
    },
    {
      "cell_type": "code",
      "execution_count": null,
      "metadata": {
        "colab": {
          "base_uri": "https://localhost:8080/",
          "height": 430
        },
        "id": "BBf3t3XfNCgu",
        "outputId": "375bb024-fe1c-4fcc-9023-14a66baf16ac"
      },
      "outputs": [
        {
          "data": {
            "image/png": "[encoded data removed]",
            "text/plain": [
              "<Figure size 640x480 with 1 Axes>"
            ]
          },
          "metadata": {},
          "output_type": "display_data"
        }
      ],
      "source": [
        "preds = tf.reshape(model(X_test)>0.5,[-1]).numpy()\n",
        "plt.scatter(X_test[preds==1,0],X_test[preds==1,1])\n",
        "plt.scatter(X_test[preds==0,0],X_test[preds==0,1])\n",
        "plt.show()"
      ]
    },
    {
      "cell_type": "code",
      "execution_count": null,
      "metadata": {
        "colab": {
          "base_uri": "https://localhost:8080/",
          "height": 214
        },
        "id": "sfQYyExKn3RT",
        "outputId": "9e158ede-837b-45e7-ae67-bf32241f8afd"
      },
      "outputs": [
        {
          "data": {
            "text/html": [
              "<pre style=\"white-space:pre;overflow-x:auto;line-height:normal;font-family:Menlo,'DejaVu Sans Mono',consolas,'Courier New',monospace\"><span style=\"font-weight: bold\">Model: \"mps_model\"</span>\n",
              "</pre>\n"
            ],
            "text/plain": [
              "\u001b[1mModel: \"mps_model\"\u001b[0m\n"
            ]
          },
          "metadata": {},
          "output_type": "display_data"
        },
        {
          "data": {
            "text/html": [
              "<pre style=\"white-space:pre;overflow-x:auto;line-height:normal;font-family:Menlo,'DejaVu Sans Mono',consolas,'Courier New',monospace\">┏━━━━━━━━━━━━━━━━━━━━━━━━━━━━━━━━━┳━━━━━━━━━━━━━━━━━━━━━━━━┳━━━━━━━━━━━━━━━┓\n",
              "┃<span style=\"font-weight: bold\"> Layer (type)                    </span>┃<span style=\"font-weight: bold\"> Output Shape           </span>┃<span style=\"font-weight: bold\">       Param # </span>┃\n",
              "┡━━━━━━━━━━━━━━━━━━━━━━━━━━━━━━━━━╇━━━━━━━━━━━━━━━━━━━━━━━━╇━━━━━━━━━━━━━━━┩\n",
              "│ embedding_2 (<span style=\"color: #0087ff; text-decoration-color: #0087ff\">Embedding</span>)         │ ?                      │             <span style=\"color: #00af00; text-decoration-color: #00af00\">0</span> │\n",
              "├─────────────────────────────────┼────────────────────────┼───────────────┤\n",
              "│ mps_1 (<span style=\"color: #0087ff; text-decoration-color: #0087ff\">MPS</span>)                     │ ?                      │           <span style=\"color: #00af00; text-decoration-color: #00af00\">468</span> │\n",
              "└─────────────────────────────────┴────────────────────────┴───────────────┘\n",
              "</pre>\n"
            ],
            "text/plain": [
              "┏━━━━━━━━━━━━━━━━━━━━━━━━━━━━━━━━━┳━━━━━━━━━━━━━━━━━━━━━━━━┳━━━━━━━━━━━━━━━┓\n",
              "┃\u001b[1m \u001b[0m\u001b[1mLayer (type)                   \u001b[0m\u001b[1m \u001b[0m┃\u001b[1m \u001b[0m\u001b[1mOutput Shape          \u001b[0m\u001b[1m \u001b[0m┃\u001b[1m \u001b[0m\u001b[1m      Param #\u001b[0m\u001b[1m \u001b[0m┃\n",
              "┡━━━━━━━━━━━━━━━━━━━━━━━━━━━━━━━━━╇━━━━━━━━━━━━━━━━━━━━━━━━╇━━━━━━━━━━━━━━━┩\n",
              "│ embedding_2 (\u001b[38;5;33mEmbedding\u001b[0m)         │ ?                      │             \u001b[38;5;34m0\u001b[0m │\n",
              "├─────────────────────────────────┼────────────────────────┼───────────────┤\n",
              "│ mps_1 (\u001b[38;5;33mMPS\u001b[0m)                     │ ?                      │           \u001b[38;5;34m468\u001b[0m │\n",
              "└─────────────────────────────────┴────────────────────────┴───────────────┘\n"
            ]
          },
          "metadata": {},
          "output_type": "display_data"
        },
        {
          "data": {
            "text/html": [
              "<pre style=\"white-space:pre;overflow-x:auto;line-height:normal;font-family:Menlo,'DejaVu Sans Mono',consolas,'Courier New',monospace\"><span style=\"font-weight: bold\"> Total params: </span><span style=\"color: #00af00; text-decoration-color: #00af00\">1,406</span> (5.50 KB)\n",
              "</pre>\n"
            ],
            "text/plain": [
              "\u001b[1m Total params: \u001b[0m\u001b[38;5;34m1,406\u001b[0m (5.50 KB)\n"
            ]
          },
          "metadata": {},
          "output_type": "display_data"
        },
        {
          "data": {
            "text/html": [
              "<pre style=\"white-space:pre;overflow-x:auto;line-height:normal;font-family:Menlo,'DejaVu Sans Mono',consolas,'Courier New',monospace\"><span style=\"font-weight: bold\"> Trainable params: </span><span style=\"color: #00af00; text-decoration-color: #00af00\">468</span> (1.83 KB)\n",
              "</pre>\n"
            ],
            "text/plain": [
              "\u001b[1m Trainable params: \u001b[0m\u001b[38;5;34m468\u001b[0m (1.83 KB)\n"
            ]
          },
          "metadata": {},
          "output_type": "display_data"
        },
        {
          "data": {
            "text/html": [
              "<pre style=\"white-space:pre;overflow-x:auto;line-height:normal;font-family:Menlo,'DejaVu Sans Mono',consolas,'Courier New',monospace\"><span style=\"font-weight: bold\"> Non-trainable params: </span><span style=\"color: #00af00; text-decoration-color: #00af00\">0</span> (0.00 B)\n",
              "</pre>\n"
            ],
            "text/plain": [
              "\u001b[1m Non-trainable params: \u001b[0m\u001b[38;5;34m0\u001b[0m (0.00 B)\n"
            ]
          },
          "metadata": {},
          "output_type": "display_data"
        },
        {
          "data": {
            "text/html": [
              "<pre style=\"white-space:pre;overflow-x:auto;line-height:normal;font-family:Menlo,'DejaVu Sans Mono',consolas,'Courier New',monospace\"><span style=\"font-weight: bold\"> Optimizer params: </span><span style=\"color: #00af00; text-decoration-color: #00af00\">938</span> (3.67 KB)\n",
              "</pre>\n"
            ],
            "text/plain": [
              "\u001b[1m Optimizer params: \u001b[0m\u001b[38;5;34m938\u001b[0m (3.67 KB)\n"
            ]
          },
          "metadata": {},
          "output_type": "display_data"
        }
      ],
      "source": [
        "model.summary()"
      ]
    },
    {
      "cell_type": "code",
      "execution_count": null,
      "metadata": {
        "id": "olYJL9Dtn7wf"
      },
      "outputs": [],
      "source": []
    }
  ],
  "metadata": {
    "colab": {
      "collapsed_sections": [
        "nilHmCvKDbfM",
        "51Z983XmRqbw",
        "MzTHGD8jS0Kl",
        "MHh-Rnc5IQTv",
        "bDjPSqWyMPem"
      ],
      "provenance": []
    },
    "kernelspec": {
      "display_name": "Python 3",
      "name": "python3"
    },
    "language_info": {
      "name": "python"
    }
  },
  "nbformat": 4,
  "nbformat_minor": 0
}
