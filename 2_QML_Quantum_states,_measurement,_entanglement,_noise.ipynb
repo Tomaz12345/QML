{
  "cells": [
    {
      "cell_type": "markdown",
      "metadata": {
        "id": "9Ew_SZnZ-Egt"
      },
      "source": [
        "## Setting up the environment"
      ]
    },
    {
      "cell_type": "code",
      "execution_count": null,
      "metadata": {
        "id": "PR8t5jHwupyF"
      },
      "outputs": [],
      "source": [
        "%%capture\n",
        "files = !ls\n",
        "files = [f.split(\"  \") for f in files][0]\n",
        "\n",
        "isFRIQML = 'fri_qml' in files\n",
        "isFRIQMLPath = isFRIQML and \"setup.py\" in files\n",
        "\n",
        "# Clone the entire repo. Only run once!\n",
        "if not isFRIQML:\n",
        "  !git clone -l -s https://github.com/znajob/fri_qml.git fri_qml\n",
        "\n",
        "if not isFRIQMLPath:\n",
        "  %cd fri_qml\n",
        "\n",
        "!git pull\n",
        "!pip install -e ."
      ]
    },
    {
      "cell_type": "code",
      "execution_count": null,
      "metadata": {
        "id": "6NKitHqB8qJm"
      },
      "outputs": [
        {
          "name": "stderr",
          "output_type": "stream",
          "text": [
            "DEBUG:matplotlib:matplotlib data path: c:\\ProgramData\\anaconda3\\envs\\Quantum_ML\\Lib\\site-packages\\matplotlib\\mpl-data\n",
            "DEBUG:matplotlib:CONFIGDIR=C:\\Users\\tomaz\\.matplotlib\n",
            "DEBUG:matplotlib:interactive is False\n",
            "DEBUG:matplotlib:platform is win32\n",
            "DEBUG:matplotlib:CACHEDIR=C:\\Users\\tomaz\\.matplotlib\n",
            "DEBUG:matplotlib.font_manager:Using fontManager instance from C:\\Users\\tomaz\\.matplotlib\\fontlist-v390.json\n"
          ]
        }
      ],
      "source": [
        "# MAIN IMPORTS\n",
        "import logging\n",
        "logging.basicConfig(level=logging.DEBUG)\n",
        "import pennylane as qml\n",
        "from pennylane import numpy as np\n",
        "from friqml.visualisation import plot_quantum_state, plot_histogram\n",
        "from friqml.utils import eps, random_state_normalized, random_state_unnormalized\n",
        "from functools import partial"
      ]
    },
    {
      "cell_type": "markdown",
      "metadata": {
        "id": "QgFYEP3Nqj3r"
      },
      "source": [
        "When solving the exercises refer to the [PennyLane documentation](https://pennylane.readthedocs.io/en/stable/)."
      ]
    },
    {
      "cell_type": "markdown",
      "metadata": {
        "id": "G6vSYsXhHHPL"
      },
      "source": [
        "## Quantum states"
      ]
    },
    {
      "cell_type": "markdown",
      "metadata": {
        "id": "jumhaWG3L_Yg"
      },
      "source": [
        "### Exercise 1\n",
        "\n",
        "A quantum state is a pure quantum probability. A qubit state is a pure quantum probability over two values. A major difference with classical probability vector ($\\vec{p}$ is real $L_1$ normalised) is that the entries are complex numbers and the normalization is in the $L_2$ norm. Create a function `is_quantum_state` that checks whether a vector is a valid quantum state. The input is a numpy array and the output should be boolean."
      ]
    },
    {
      "cell_type": "code",
      "execution_count": null,
      "metadata": {
        "id": "yr6KXbxvH7DW"
      },
      "outputs": [],
      "source": [
        "###\n",
        "### YOUR CODE HERE\n",
        "###\n",
        "\n",
        "def is_quantum_state(x):\n",
        "  return np.allclose(np.linalg.norm(x),1)\n"
      ]
    },
    {
      "cell_type": "code",
      "execution_count": null,
      "metadata": {
        "colab": {
          "base_uri": "https://localhost:8080/"
        },
        "id": "TNxLynTlH_2p",
        "outputId": "db92a92b-5f84-4d2c-d0f3-6178542cf10f"
      },
      "outputs": [
        {
          "name": "stdout",
          "output_type": "stream",
          "text": [
            "True\n",
            "True\n",
            "True\n",
            "True\n",
            "True\n",
            "True\n",
            "True\n"
          ]
        }
      ],
      "source": [
        "# TESTS\n",
        "print(is_quantum_state(np.array([1/np.sqrt(2), 1/np.sqrt(2)])))\n",
        "print(is_quantum_state(np.array([-1/np.sqrt(2), 1/np.sqrt(2)])))\n",
        "print(is_quantum_state(np.array([-1/3, 2*np.sqrt(2)/3])))\n",
        "print(is_quantum_state(np.array([-1j/3, 2*np.sqrt(2)/3])))\n",
        "print(is_quantum_state(random_state_normalized(n=7)))\n",
        "print(not is_quantum_state(random_state_unnormalized(n=6)))\n",
        "print(not is_quantum_state(np.array([0.2, 0.8])))"
      ]
    },
    {
      "cell_type": "markdown",
      "metadata": {
        "id": "PmivJwfYMMmq"
      },
      "source": [
        "### Exercise 2\n",
        "Quantum circuit starts with a well defined state. In the qubit case, which we will consider, the initial state is a product state with all qubits in the state $|0\\rangle$. Create a function `circuit` with 2 qubits in PennyLane and output the expectation values of the operator $A=\\sigma_1^{z}+\\sigma_2^z$."
      ]
    },
    {
      "cell_type": "code",
      "execution_count": null,
      "metadata": {
        "id": "Seml-pIMOnkI"
      },
      "outputs": [],
      "source": [
        "# DEVICE\n",
        "dev = qml.device('default.qubit', wires=2, shots=None)"
      ]
    },
    {
      "cell_type": "code",
      "execution_count": null,
      "metadata": {
        "id": "nh1jrgpZMiY7"
      },
      "outputs": [],
      "source": [
        "###\n",
        "### YOUR CODE HERE\n",
        "###\n",
        "\n",
        "@qml.qnode(dev)\n",
        "def circuit():\n",
        "  return qml.expval(qml.PauliZ(0)+qml.PauliZ(1))\n"
      ]
    },
    {
      "cell_type": "code",
      "execution_count": null,
      "metadata": {
        "colab": {
          "base_uri": "https://localhost:8080/"
        },
        "id": "OfgtrHLuMpFQ",
        "outputId": "2dab07a3-a40f-4005-f85c-a98c54b4799b"
      },
      "outputs": [],
      "source": [
        "# TESTS\n",
        "mz = circuit()\n",
        "print(mz==2)\n",
        "print((dev.state==np.array([1,0,0,0])).all())"
      ]
    },
    {
      "cell_type": "markdown",
      "metadata": {
        "id": "il_YzsARPEHL"
      },
      "source": [
        "### Exercise 3\n",
        "A qubit can be conveniently represented in a bloch sphere. Create function `circuit` that rotates the initial qubit around the $y$ axis for angle `theta`, then rotates the qubit around the `z` axis for angle `phi`. and finally returns the expectation values of observable (random variable) $A=\\sigma_x$.  "
      ]
    },
    {
      "cell_type": "code",
      "execution_count": null,
      "metadata": {
        "id": "AU7ayDv3ToN4"
      },
      "outputs": [],
      "source": [
        "# DEVICE\n",
        "dev = qml.device('default.qubit', wires=1, shots=None)"
      ]
    },
    {
      "cell_type": "code",
      "execution_count": null,
      "metadata": {
        "id": "pYx7nI9u97sk"
      },
      "outputs": [],
      "source": [
        "###\n",
        "### YOUR CODE HERE\n",
        "###\n",
        "@qml.qnode(dev)\n",
        "def circuit(theta,phi):\n",
        "  qml.RY(theta,wires=0)\n",
        "  qml.RZ(phi,wires=0)\n",
        "  return qml.expval(qml.PauliX(0))"
      ]
    },
    {
      "cell_type": "code",
      "execution_count": null,
      "metadata": {
        "colab": {
          "base_uri": "https://localhost:8080/"
        },
        "id": "vxW-S1KuV9ej",
        "outputId": "c0647e5c-5129-43c2-861d-c204020cc510"
      },
      "outputs": [],
      "source": [
        "# TESTS\n",
        "phi=2*np.pi*np.random.rand()\n",
        "theta=2*np.pi*np.random.rand()\n",
        "circuit(phi,theta)\n",
        "print(circuit(phi,theta)-np.cos(phi)*np.sin(theta)<eps)"
      ]
    },
    {
      "cell_type": "markdown",
      "metadata": {
        "id": "AHZpZfEgVhyj"
      },
      "source": [
        "**Note:** We can conveniently draw our circuit with `qml.draw(circuit)(*circuit_args)` functionallity which represents our circuit as a string. If you wand a nicer outpu you can use also the `qml.drawer` module."
      ]
    },
    {
      "cell_type": "code",
      "execution_count": null,
      "metadata": {
        "colab": {
          "base_uri": "https://localhost:8080/"
        },
        "id": "BEn6ho_KUkcE",
        "outputId": "c1b25760-e379-4e2d-b6a6-78ce0f6eabe1"
      },
      "outputs": [],
      "source": [
        "print(qml.draw(circuit)(np.pi/4, np.pi/2))"
      ]
    },
    {
      "cell_type": "code",
      "execution_count": null,
      "metadata": {
        "colab": {
          "base_uri": "https://localhost:8080/",
          "height": 237
        },
        "id": "WQuFD-XKrBB1",
        "outputId": "485e4716-678f-401f-e6bf-4fd12f15b662"
      },
      "outputs": [],
      "source": [
        "qml.drawer.use_style('black_white')\n",
        "fig, ax = qml.draw_mpl(circuit)(1.2345, 1.2345)"
      ]
    },
    {
      "cell_type": "markdown",
      "metadata": {
        "id": "d2EIfNI8gdfB"
      },
      "source": [
        "### Exercise 4\n",
        "Since any observable quantity is a function of $\\rho=|\\psi⟩⟨\\psi|$ all states/vectors $|\\psi(\\varphi)⟩$ of the form $|\\psi(\\varphi)⟩=\\exp ({\\rm i}\\varphi)|\\psi⟩$, where $\\varphi\\in[0,2\\pi]$, represent the same quantum probability. Write a function `compare_states` with two inputs `psi1` and `psi2`. The function should return `True` if the quantum states represent the same system and `False` otherwise."
      ]
    },
    {
      "cell_type": "code",
      "execution_count": null,
      "metadata": {
        "id": "l1WhaXYOzoGc"
      },
      "outputs": [],
      "source": [
        "# DEVICE\n",
        "dev = qml.device('default.qubit', wires=1, shots=None)"
      ]
    },
    {
      "cell_type": "code",
      "execution_count": null,
      "metadata": {
        "id": "Lbtpw-u0gdfE"
      },
      "outputs": [],
      "source": [
        "###\n",
        "### YOUR CODE HERE\n",
        "###\n",
        "\n",
        "def compare_states(psi1,psi2):\n",
        "  overlap = np.abs(np.vdot(psi1,psi2))\n",
        "  return np.isclose(1,overlap)\n"
      ]
    },
    {
      "cell_type": "code",
      "execution_count": null,
      "metadata": {
        "colab": {
          "base_uri": "https://localhost:8080/"
        },
        "id": "RbQtb2cbgdfF",
        "outputId": "afc9a67b-d8c0-453f-90e4-5ea44e7c600b"
      },
      "outputs": [],
      "source": [
        "# TESTS\n",
        "psi1 = random_state_normalized(4)\n",
        "psi2 = random_state_normalized(4)\n",
        "psi3 = psi1*np.exp(1j*np.random.rand()*np.pi*2)\n",
        "\n",
        "print(compare_states(psi1,psi1))\n",
        "print(compare_states(psi2,psi2))\n",
        "print(compare_states(psi1,psi3))\n",
        "print(not compare_states(psi1,psi2))"
      ]
    },
    {
      "cell_type": "markdown",
      "metadata": {
        "id": "Y9D5QuKUJ1VE"
      },
      "source": [
        "## Entanglement"
      ]
    },
    {
      "cell_type": "markdown",
      "metadata": {
        "id": "StdSHpECryug"
      },
      "source": [
        "### Exercise 1\n",
        "We now consider a two qubit example. A two qubit state $|\\psi⟩$ is a product state if it can be written as a tensor product of two one qubit states $|\\psi⟩=|\\psi_1⟩⊗|\\psi_2⟩$. In the opposite case we call it entangled. Write a function `is_entangled` that recieves a two qubit state represented by a numpy array and returns `True` if the state is entangled and `False` otherwise."
      ]
    },
    {
      "cell_type": "code",
      "execution_count": null,
      "metadata": {
        "id": "IxBXjtG_oH2C"
      },
      "outputs": [],
      "source": [
        "###\n",
        "### YOUR CODE HERE\n",
        "###\n",
        "\n",
        "def is_entangled(psi):\n",
        "  # rho = np.einsum(\"i,j->ij\",np.conj(psi),psi)\n",
        "  rho = np.outer(np.conj(psi),psi)\n",
        "  rho1 = rho[:2,:2]+rho[2:,2:]\n",
        "  val, _ = np.linalg.eigh(rho1)\n",
        "  return  not np.allclose(val[0],0)"
      ]
    },
    {
      "cell_type": "code",
      "execution_count": null,
      "metadata": {
        "colab": {
          "base_uri": "https://localhost:8080/"
        },
        "id": "1bOlDCJKt_nn",
        "outputId": "5056c3d3-3c6e-4a39-dfff-def2f91d943c"
      },
      "outputs": [],
      "source": [
        "psi_rand4 = random_state_normalized(4)\n",
        "psi_prod2 = np.kron(random_state_normalized(2),random_state_normalized(2))\n",
        "print(is_entangled(psi_rand4))\n",
        "print(not is_entangled(psi_prod2))\n"
      ]
    },
    {
      "cell_type": "markdown",
      "metadata": {
        "id": "edmDTb1ouldl"
      },
      "source": [
        "**Note:** Since product states are very unlikely a random state will be entangled with probability $1-\\epsilon$."
      ]
    },
    {
      "cell_type": "markdown",
      "metadata": {
        "id": "yppY1A3-EoDw"
      },
      "source": [
        "### Exercise 2\n",
        "Write a two qubit function `circuit` that creates an entengled state $\\phi^-=\\frac{1}{\\sqrt{2}}(|00⟩-|11⟩)$ and returns the expectation values of observables $A_1=\\sigma^{\\rm z}⊗\\mathbb{I}_2$, $A_2=\\mathbb{I}_2\\otimes\\sigma^{\\rm z}$, and $A_3=\\sigma^{\\rm z}_1\\otimes \\sigma^{\\rm z}_2$"
      ]
    },
    {
      "cell_type": "code",
      "execution_count": null,
      "metadata": {
        "id": "0yWYBVKWFzBF"
      },
      "outputs": [],
      "source": [
        "# DEVICE\n",
        "dev = qml.device('default.qubit', wires=2, shots=None)"
      ]
    },
    {
      "cell_type": "code",
      "execution_count": null,
      "metadata": {
        "id": "3q9ymbr-X_H0"
      },
      "outputs": [],
      "source": [
        "###\n",
        "### YOUR CODE HERE\n",
        "###\n",
        "\n",
        "@qml.qnode(dev)\n",
        "def circuit():\n",
        "  qml.PauliX(wires=0)\n",
        "  qml.Hadamard(wires=0)\n",
        "  qml.CNOT(wires=[0,1])\n",
        "  return qml.expval(qml.PauliZ(0)), qml.expval(qml.PauliZ(1)), qml.expval(qml.PauliZ(0) @ qml.PauliZ(1))"
      ]
    },
    {
      "cell_type": "code",
      "execution_count": null,
      "metadata": {
        "colab": {
          "base_uri": "https://localhost:8080/"
        },
        "id": "90ueQo-JGgOd",
        "outputId": "a03d3e65-48f4-42e3-9337-4c638250f078"
      },
      "outputs": [],
      "source": [
        "print(np.abs(circuit()-np.array([0,0,1]))<eps)\n",
        "print(compare_states(dev.state,np.array([1,0,0,-1])/np.sqrt(2.)))"
      ]
    },
    {
      "cell_type": "markdown",
      "metadata": {
        "id": "YjztY2W2KNZI"
      },
      "source": [
        "## Measurement"
      ]
    },
    {
      "cell_type": "markdown",
      "metadata": {
        "id": "1wv0z60tpbT7"
      },
      "source": [
        "### Exercise 1\n",
        "The measurements in current NISQ devices are performed in the computational basis. After a measurement is performed the state continues to be in a state that corresponding the the projected basis state. Write a function `circuit_x` and `circuit_z` that first create a superposition state $|\\psi⟩=\\frac{1}{\\sqrt{2}}(|0⟩+|1⟩)$ and then use the method `qml.sample` in order return samples of the observables $A=\\sigma^{\\rm x}$ and $A=\\sigma^{\\rm z}$, respectively. Sampling in PennyLane is performed in the eigenbasis of the specified observable $A$. This means that the results are eigenvalues of the observable $\\lambda_i$ with the probability $p_i=|⟨\\xi_i|\\psi⟩|^2$, where $A = \\sum_{i}\\lambda_i|\\xi_i⟩⟨\\xi_i|$."
      ]
    },
    {
      "cell_type": "code",
      "execution_count": null,
      "metadata": {
        "id": "CTSJHpkutki_"
      },
      "outputs": [],
      "source": [
        "# DEVICE\n",
        "dev = qml.device('default.qubit', wires=1, shots=100)"
      ]
    },
    {
      "cell_type": "code",
      "execution_count": null,
      "metadata": {
        "id": "wVObW_X8tdLj"
      },
      "outputs": [],
      "source": [
        "###\n",
        "### YOUR CODE HERE\n",
        "###\n",
        "\n",
        "@qml.qnode(dev)\n",
        "def circuit_x():\n",
        "    qml.RY(np.pi/2, wires=0)\n",
        "    return qml.sample(qml.PauliX(wires=0))\n",
        "\n",
        "@qml.qnode(dev)\n",
        "def circuit_z():\n",
        "    qml.RY(np.pi/2, wires=0)\n",
        "    return qml.sample(qml.PauliZ(wires=0))"
      ]
    },
    {
      "cell_type": "code",
      "execution_count": null,
      "metadata": {
        "colab": {
          "base_uri": "https://localhost:8080/"
        },
        "id": "O2sk6Lbptxpy",
        "outputId": "c4739655-cf3b-45fb-ae78-0be9fafa4756"
      },
      "outputs": [],
      "source": [
        "print(np.mean([circuit_x() for _ in range(100)])==1.)\n",
        "print(np.mean([circuit_z()  for _ in range(100)])<0.5)"
      ]
    },
    {
      "cell_type": "markdown",
      "metadata": {
        "id": "T8fiU8RYxK51"
      },
      "source": [
        "**Note:** The output in the $x$ direction is deterministic, whereas the outpu in the $z$ direction is completely random. For any pure quantum state there is always an observable with a deterministic outcome and an observable which is completely random."
      ]
    },
    {
      "cell_type": "markdown",
      "metadata": {
        "id": "HOgriY1CprXM"
      },
      "source": [
        "### Exercise 2\n",
        "Write a function `circuit_zz` that prepares a two qubit entangled state $|\\phi^+⟩=\\frac{1}{\\sqrt{2}}(|00⟩+|11⟩)$ and returns samples from observables $A_1 = \\sigma^{\\rm z}\\otimes\\mathbb{I}$ and $A_2 = \\mathbb{I}⊗\\sigma^{\\rm z}$. Write also a function `circuit_zx` that also prepares the state $|\\phi^+⟩$ and returns the samples from observables $A_1 = \\sigma^{\\rm z}\\otimes\\mathbb{I}$ and $A_2 = \\mathbb{I}⊗\\sigma^{\\rm x}$."
      ]
    },
    {
      "cell_type": "code",
      "execution_count": null,
      "metadata": {
        "id": "UsQ1-PVS4F-B"
      },
      "outputs": [],
      "source": [
        "# DEVICE\n",
        "dev = qml.device('default.qubit', wires=2, shots=100)"
      ]
    },
    {
      "cell_type": "code",
      "execution_count": null,
      "metadata": {
        "id": "hMWSmStH1skC"
      },
      "outputs": [],
      "source": [
        "@qml.qnode(dev)\n",
        "def circuit_zz():\n",
        "    qml.RY(np.pi/2, wires=0)\n",
        "    qml.CNOT(wires=[0, 1])\n",
        "    return qml.sample(qml.PauliZ(wires=0)), qml.sample(qml.PauliZ(wires=1))\n",
        "\n",
        "@qml.qnode(dev)\n",
        "def circuit_zx():\n",
        "    qml.RY(np.pi/2, wires=0)\n",
        "    qml.CNOT(wires=[0, 1])\n",
        "    return qml.sample(qml.PauliZ(wires=0)), qml.sample(qml.PauliX(wires=1))"
      ]
    },
    {
      "cell_type": "code",
      "execution_count": null,
      "metadata": {
        "colab": {
          "base_uri": "https://localhost:8080/"
        },
        "id": "eIpddoQ335M-",
        "outputId": "ba20760e-b1c1-472e-ba75-5acf3b56c40f"
      },
      "outputs": [],
      "source": [
        "samples=circuit_zz()\n",
        "print(np.mean(samples[0]==samples[1])==1.0)\n",
        "\n",
        "samples=circuit_zx()\n",
        "print(np.abs(np.mean(samples[0]==samples[1])-0.5)<0.1)"
      ]
    },
    {
      "cell_type": "markdown",
      "metadata": {
        "id": "i6spLScZ6RPR"
      },
      "source": [
        "**Note:** Samples in the $zz$ case are completely correlated since the state is entangled. However, if we choose a one observable in the $z$ direction and the other in the $x$ direction the samples become again completely uncorrelated, i.e. approx. 50\\% of the time they agree."
      ]
    },
    {
      "cell_type": "markdown",
      "metadata": {
        "id": "tIWiueOnxi2j"
      },
      "source": [
        "### Exercise 3\n",
        "Informationally complete measurement (ICM) is a measurement that uniquly determines the quantum probability. Create a set of functions `circuit1`, `circuit2`, `circuit3` that first prepare a state with the `hidden_preparation` template and then return one of the informatilnally complete measurement expectation values. Then wirte a function `reconstruct_hidden_state` that accepts the values of the ICM and returns a vector representing the original state. You can assume that the hidden state is pure."
      ]
    },
    {
      "cell_type": "code",
      "execution_count": null,
      "metadata": {
        "id": "alaU2HX8CGbf"
      },
      "outputs": [],
      "source": [
        "# DEVICE\n",
        "dev = qml.device('default.qubit', wires=1, shots=None)"
      ]
    },
    {
      "cell_type": "code",
      "execution_count": null,
      "metadata": {
        "id": "bm3iPLW4xi2l"
      },
      "outputs": [],
      "source": [
        "from friqml.exercises.measurement import hidden_preparation, check_hidden_state\n",
        "\n",
        "def e3_circuit1():\n",
        "    hidden_preparation(wires=0)\n",
        "    return qml.expval(qml.PauliX(0))\n",
        "\n",
        "def e3_circuit2():\n",
        "    hidden_preparation(wires=0)\n",
        "    return qml.expval(qml.PauliY(0))\n",
        "\n",
        "def e3_circuit3():\n",
        "    hidden_preparation(wires=0)\n",
        "    return qml.expval(qml.PauliZ(0))\n",
        "\n",
        "@qml.qnode(dev)\n",
        "def reconstruct_hidden_state(dev):\n",
        "    circuit1 = qml.qnode(dev)(e3_circuit1)\n",
        "    circuit2 = qml.qnode(dev)(e3_circuit2)\n",
        "    circuit3 = qml.qnode(dev)(e3_circuit3)\n",
        "    mx = circuit1()\n",
        "    my = circuit2()\n",
        "    mz = circuit3()\n",
        "\n",
        "    phi = np.arctan2(my, mx)\n",
        "    theta = np.arctan2(np.sqrt(mx**2+my**2), mz)\n",
        "    psi = np.array([np.cos(theta/2), np.exp(-1j*phi)*np.sin(theta/2)])\n",
        "    return psi"
      ]
    },
    {
      "cell_type": "code",
      "execution_count": null,
      "metadata": {
        "id": "rKqgpTlVxi2k"
      },
      "outputs": [],
      "source": [
        "#@qml.qnode(dev)\n",
        "#def circuit(phi, theta):\n",
        "#    qml.RY(theta, wires=0)\n",
        "#    qml.RZ(phi, wires=0)\n",
        "#    return qml.expval(qml.PauliX(0))"
      ]
    },
    {
      "cell_type": "code",
      "execution_count": null,
      "metadata": {
        "colab": {
          "base_uri": "https://localhost:8080/"
        },
        "id": "XJkXFZIyxi2m",
        "outputId": "2ac7a63e-29a7-43bf-a9fc-996d21985925"
      },
      "outputs": [],
      "source": [
        "check_hidden_state(reconstruct_hidden_state())"
      ]
    },
    {
      "cell_type": "markdown",
      "metadata": {
        "id": "mpNO1Dkixi2n"
      },
      "source": [
        "**Note:** Since product states are very unlikely a random state will be entangled with probability $1-\\epsilon$."
      ]
    },
    {
      "cell_type": "markdown",
      "metadata": {
        "id": "TrdSFxrhKZFm"
      },
      "source": [
        "## Noisy operations"
      ]
    },
    {
      "cell_type": "markdown",
      "metadata": {
        "id": "1N1YtMhCCCPa"
      },
      "source": [
        "### Exercise 1\n",
        "Quantum devices are noisy. Noise sources can be divided into coherent and incoherent noise. Incoherent noise is modelled by quantum channels. One simple and important channel is a bit flip channel, that can be described by Kraus operators\n",
        "\\begin{align}\n",
        "K_0 = \\sqrt{1-p}\\begin{pmatrix}1 & 0\\\\ 0 & 1\\end{pmatrix}, \\quad K_1 &= \\sqrt{p}\\begin{pmatrix}0 & 1\\\\ 1 & 0\\end{pmatrix}.\n",
        "\\end{align}\n",
        "This channel is implemented in PennyLane using the\n",
        "`qml.BitFlip` operation. Create a function `circuit` with one argument `p` that creates an entangled state $|\\psi\\rangle$ and then simulates a noisy bit flip with the specified probability `p`. Finally the function should return the expectation value of the observable $A_{12}=\\sigma^{\\rm z}\\otimes\\sigma^{\\rm z}$."
      ]
    },
    {
      "cell_type": "code",
      "execution_count": null,
      "metadata": {
        "id": "kZP79cewDgkP"
      },
      "outputs": [],
      "source": [
        "# DEVICE\n",
        "# In order to have support for mixed noisy operations\n",
        "# we have to use the default.mixed device\n",
        "dev = qml.device('default.mixed', wires=2)"
      ]
    },
    {
      "cell_type": "code",
      "execution_count": null,
      "metadata": {
        "id": "gLEzqCDfEoI9"
      },
      "outputs": [],
      "source": [
        "@qml.qnode(dev)\n",
        "def circuit(p):\n",
        "    qml.Hadamard(wires=0)\n",
        "    qml.CNOT(wires=[0, 1])\n",
        "    qml.BitFlip(p, wires=0)\n",
        "    qml.BitFlip(p, wires=1)\n",
        "    return qml.expval(qml.PauliZ(0) @ qml.PauliZ(1))"
      ]
    },
    {
      "cell_type": "code",
      "execution_count": null,
      "metadata": {
        "colab": {
          "base_uri": "https://localhost:8080/"
        },
        "id": "z2jXLf5tbHdY",
        "outputId": "91018b43-dea4-4bed-f74c-28fbc2834e4f"
      },
      "outputs": [],
      "source": [
        "ps = [0.001, 0.01, 0.1, 0.2]\n",
        "evals=[0.996,0.9604,0.64,0.36]\n",
        "for p,e in zip(ps,evals):\n",
        "    print(np.round(circuit(p),4)==e)"
      ]
    },
    {
      "cell_type": "markdown",
      "metadata": {
        "id": "pJyE3HqDep0h"
      },
      "source": [
        "### Exercise 2\n",
        "Noise destroys quantum effects like interference. If we have a circuit with two Haddamard operations we get back the initial state. However if a depolarising noise is added in between the interference is reduced. Write a function `circuit` with an argument `p` which applies two Haddamard gates and between a depolarising noise with `qml.DepolarizingChannel(p, wires=0)`. Retrun the probabilities for the computational basis states.\n",
        "\n",
        "Depolarising noise is given by Kraus operators\n",
        "\\begin{align}\n",
        "K_0 &= \\sqrt{1-p}\\begin{pmatrix}1 & 0\\\\ 0 & 1\\end{pmatrix}, &\n",
        "K_1 &= \\sqrt{p/3}\\begin{pmatrix}0 & 1\\\\ 1 & 0\\end{pmatrix}, \\\\\n",
        "K_2 &= \\sqrt{p/3}\\begin{pmatrix}0 & -i\\\\ i & 0\\end{pmatrix}, &\n",
        "K_3 &= \\sqrt{p/3}\\begin{pmatrix}1 & 0\\\\ 0 & -1\\end{pmatrix}.\n",
        "\\end{align}\n",
        "What would happen if we would use `BitFlip` noise instead?"
      ]
    },
    {
      "cell_type": "code",
      "execution_count": null,
      "metadata": {
        "id": "odUnZcPRsR2K"
      },
      "outputs": [],
      "source": [
        "# DEVICE\n",
        "# In order to have support for mixed noisy operations\n",
        "# we have to use the default.mixed device\n",
        "dev = qml.device('default.mixed', wires=1)"
      ]
    },
    {
      "cell_type": "code",
      "execution_count": null,
      "metadata": {
        "id": "IZ0cXwERsRa9"
      },
      "outputs": [],
      "source": [
        "@qml.qnode(dev)\n",
        "def circuit(p):\n",
        "    qml.Hadamard(wires=0)\n",
        "    qml.DepolarizingChannel(p, wires=0)\n",
        "    qml.Hadamard(wires=0)\n",
        "    return qml.probs(wires=[0])\n",
        "\n",
        "@qml.qnode(dev)\n",
        "def circuit_bf(p):\n",
        "    qml.Hadamard(wires=0)\n",
        "    qml.BitFlip(p, wires=0)\n",
        "    qml.Hadamard(wires=0)\n",
        "    return qml.probs(wires=[0])"
      ]
    },
    {
      "cell_type": "code",
      "execution_count": null,
      "metadata": {
        "colab": {
          "base_uri": "https://localhost:8080/"
        },
        "id": "cabRZN0Z1QcX",
        "outputId": "a77c5276-0d65-4b9c-8c76-9beb48730fe8"
      },
      "outputs": [],
      "source": [
        "print(abs(circuit(0.3)[0]-0.8)<eps)\n",
        "print(abs(circuit_bf(0.4)[0]-1)<eps)"
      ]
    },
    {
      "cell_type": "markdown",
      "metadata": {
        "id": "6K6hBCH3v0t7"
      },
      "source": [
        "## Entanglement game\n",
        "\n",
        "Let us consider the following game played by two players; player A and player B. Each of the players has a fair coin. First, they flip the coin and then they send the result of the coin flip and a number ($a$ and $b$ respectively) -1 or 1 to the referee. The referee multiplies the numbers obtained from the players. The players win the game if the multiplied numbers satisfy the following table based on the coin flips\n",
        "\n",
        "| Player A     | Player B  | Win ($a\\cdot b$) |\n",
        "|--------------|-----------|------------------|\n",
        "|     0        | 0         | -1                |\n",
        "|     0        | 1         | 1                |\n",
        "|     1        | 0         | 1                |\n",
        "|     1        | 1         | 1               |\n",
        "\n",
        "The players can not communicate inbetween the game but can use all other resources and can decide on a strategy how they will play the game. The best classical strategy has a winning probability of 75%. Assuming the players share an entangled quantum state the best quantum strategy has a higher winning probability. The best quantum strategy is as follows. The player A performs two different sets of measurements, which is determined based on the result of the coin flip. If the result of the coin flip is 0 the player performs the measurement determined by the projectors {$|\\psi(0)⟩⟨\\psi(0)|$, $|\\psi(\\pi)⟩⟨\\psi(\\pi)|$}. If the result of the coin flip is 1 the player A performs the measurement {$|\\psi(\\pi/2)⟩⟨\\psi(\\pi/2)|$, $|\\psi(-\\pi/2)⟩⟨-\\psi(\\pi/2)|$}. Similarly the player B performs the measurement {$|\\psi(\\pi/4)⟩⟨\\psi(\\pi/4)|$, $|\\psi(5\\pi/4)⟩⟨\\psi(5\\pi/4)|$} if his coin is 1 and the measurement {$|\\psi(3\\pi/4)⟩⟨\\psi(3\\pi/4)|$, $|\\psi(-\\pi/4)⟩⟨\\psi(-\\pi/4)|$} if his coind is 0. For all measurements if the first state is observed the players return 1 to the referee otherwise they return -1. The projectors are defined by the state on the Bloch sphere\n",
        "\n",
        "\\begin{align}\n",
        "  |\\psi(\\theta)\\rangle &=\\cos\\theta/2|0⟩+\\sin\\theta/2|1⟩ \\\\\n",
        "\\end{align}\n",
        "\n",
        "Write a function `circuit` that gets as arguments the results of the coin flips and then returns a sample from the correct observable. Use that function to determine the winning probability of the quantum strategy.\n"
      ]
    },
    {
      "cell_type": "code",
      "execution_count": null,
      "metadata": {
        "id": "cwdFZh5Rv3x3"
      },
      "outputs": [],
      "source": [
        "# DEVICE\n",
        "dev = qml.device('default.qubit', wires=2, shots=1)"
      ]
    },
    {
      "cell_type": "code",
      "execution_count": null,
      "metadata": {
        "id": "XhxMmqFLaQM7"
      },
      "outputs": [],
      "source": [
        "@qml.qnode(dev)\n",
        "def entangled_phi():\n",
        "    qml.RY(np.pi/2, wires=0)\n",
        "    qml.CNOT(wires=[0, 1])\n",
        "\n",
        "@qml.qnode(dev)\n",
        "def circuit00():\n",
        "    entangled_phi()\n",
        "    qml.RY(-3*np.pi/4,wires=1)\n",
        "    return qml.sample(qml.PauliZ(0) @ qml.PauliZ(1))\n",
        "\n",
        "@qml.qnode(dev)\n",
        "def circuit01():\n",
        "    entangled_phi()\n",
        "    qml.RY(np.pi/4,wires=1)\n",
        "    return qml.sample(qml.PauliZ(0) @ qml.PauliX(1))\n",
        "\n",
        "@qml.qnode(dev)\n",
        "def circuit10():\n",
        "    entangled_phi()\n",
        "    qml.RY(-3*np.pi/4,wires=1)\n",
        "    return qml.sample(qml.PauliX(0) @ qml.PauliZ(1))\n",
        "\n",
        "@qml.qnode(dev)\n",
        "def circuit11():\n",
        "    entangled_phi()\n",
        "    qml.RY(np.pi/4,wires=1)\n",
        "    return qml.sample(qml.PauliX(0) @ qml.PauliX(1)) "
      ]
    },
    {
      "cell_type": "code",
      "execution_count": null,
      "metadata": {
        "id": "HZDm67bgbGR2"
      },
      "outputs": [],
      "source": [
        "def circuit(a,b):\n",
        "  if a==0 and b == 0:\n",
        "    return circuit00()\n",
        "  if a==1 and b == 0:\n",
        "    return circuit01()\n",
        "  if a==0 and b == 1:\n",
        "    return circuit10()\n",
        "  if a==1 and b == 1:\n",
        "    return circuit11()\n",
        "\n",
        "def win(a,b):\n",
        "  if a==0 and b==0:\n",
        "    return -1\n",
        "  return 1\n",
        "\n",
        "def one_game():\n",
        "  a = np.random.randint(2)\n",
        "  b = np.random.randint(2)\n",
        "  sab = circuit(a,b)\n",
        "  return sab ==  win(a,b)\n",
        "\n",
        "def quantum_strategy_probability(n):\n",
        "  res = [one_game() for i in range(n)]\n",
        "  return np.mean(res)"
      ]
    },
    {
      "cell_type": "code",
      "execution_count": null,
      "metadata": {
        "colab": {
          "base_uri": "https://localhost:8080/"
        },
        "id": "KnQ2gNWaaUL_",
        "outputId": "4cf9c952-ff48-410c-b8cc-5a24befb397a"
      },
      "outputs": [],
      "source": [
        "print(f\"Win rate of the best quantum strategy is {quantum_strategy_probability(1000)}.\")\n",
        "quantum_strategy_probability(1000)>0.75"
      ]
    },
    {
      "cell_type": "code",
      "execution_count": null,
      "metadata": {
        "id": "2TBi-FODKuen"
      },
      "outputs": [],
      "source": []
    }
  ],
  "metadata": {
    "colab": {
      "provenance": []
    },
    "kernelspec": {
      "display_name": "Quantum_ML",
      "language": "python",
      "name": "python3"
    },
    "language_info": {
      "codemirror_mode": {
        "name": "ipython",
        "version": 3
      },
      "file_extension": ".py",
      "mimetype": "text/x-python",
      "name": "python",
      "nbconvert_exporter": "python",
      "pygments_lexer": "ipython3",
      "version": "3.11.11"
    }
  },
  "nbformat": 4,
  "nbformat_minor": 0
}
