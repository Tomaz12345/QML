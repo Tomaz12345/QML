{
 "cells": [
  {
   "cell_type": "markdown",
   "metadata": {
    "id": "9Ew_SZnZ-Egt"
   },
   "source": [
    "**Setting up the environment**"
   ]
  },
  {
   "cell_type": "code",
   "execution_count": 77,
   "metadata": {
    "executionInfo": {
     "elapsed": 7506,
     "status": "ok",
     "timestamp": 1745583504532,
     "user": {
      "displayName": "Tomaž Poljanšek",
      "userId": "16982243430376534286"
     },
     "user_tz": -120
    },
    "id": "PR8t5jHwupyF"
   },
   "outputs": [],
   "source": [
    "%%capture\n",
    "files = !ls\n",
    "files = [f.split(\"  \") for f in files][0]\n",
    "\n",
    "isFRIQML = 'fri_qml' in files\n",
    "isFRIQMLPath = isFRIQML and \"setup.py\" in files\n",
    "\n",
    "# Clone the entire repo. Only run once!\n",
    "if not isFRIQML:\n",
    "  !git clone -l -s https://github.com/znajob/fri_qml.git fri_qml\n",
    "\n",
    "if not isFRIQMLPath:\n",
    "  %cd fri_qml\n",
    "\n",
    "!git pull\n",
    "!pip install -e ."
   ]
  },
  {
   "cell_type": "code",
   "execution_count": 78,
   "metadata": {
    "executionInfo": {
     "elapsed": 35,
     "status": "ok",
     "timestamp": 1745583504571,
     "user": {
      "displayName": "Tomaž Poljanšek",
      "userId": "16982243430376534286"
     },
     "user_tz": -120
    },
    "id": "6NKitHqB8qJm"
   },
   "outputs": [],
   "source": [
    "# MAIN IMPORTS\n",
    "import pennylane as qml\n",
    "from pennylane import numpy as np\n",
    "from friqml.visualisation import plot_quantum_state, plot_histogram\n",
    "from friqml.utils import eps, random_state_normalized, random_state_unnormalized\n",
    "from functools import partial\n",
    "from tqdm.notebook import tqdm\n",
    "from friqml.utils import eps"
   ]
  },
  {
   "cell_type": "markdown",
   "metadata": {
    "id": "QgFYEP3Nqj3r"
   },
   "source": [
    "When solving the exercises refer to the [PennyLane documentation](https://pennylane.readthedocs.io/en/stable/)."
   ]
  },
  {
   "cell_type": "markdown",
   "metadata": {
    "id": "qKRvM0Nd58ni"
   },
   "source": [
    "Pennylane [LCU and block encoding](https://pennylane.ai/qml/demos/tutorial_lcu_blockencoding#block-encodings)"
   ]
  },
  {
   "cell_type": "markdown",
   "metadata": {
    "id": "tQsNvgONu6TN"
   },
   "source": [
    "# Block encoding"
   ]
  },
  {
   "cell_type": "markdown",
   "metadata": {
    "id": "51Z983XmRqbw"
   },
   "source": [
    "## Exercise 1\n",
    "\n",
    "Linear combinations of unitaries (LCUs) are decompositions of matrices into a weighted sum of unitaries. More precisely, this means expressing a matrix $A$ in terms of coefficients $\\alpha_k$ and unitaries $U_k$ as:\n",
    "\n",
    "$$A = \\sum_{k=0}^{N-1} \\alpha_k U_k$$\n",
    "\n",
    "A general way to build LCUs is to employ properties of the Pauli basis. This is the set of all products of Pauli matrices:\n",
    "\n",
    "$$\n",
    "\\{I, X, Y, Z\\}\n",
    "$$\n",
    "\n",
    "For the space of operators acting on $n$ qubits, this set forms a complete basis. Thus, any operator can be expressed in the Pauli basis, which immediately gives an LCU decomposition.\n",
    "\n",
    "Write a `pauli_decompose(A)` function which returns the coefficients $\\alpha_k$ and the corresponding Pauli strings of a Pauli decomposition of a matrix `A`."
   ]
  },
  {
   "cell_type": "code",
   "execution_count": 89,
   "metadata": {
    "executionInfo": {
     "elapsed": 8,
     "status": "ok",
     "timestamp": 1745583546484,
     "user": {
      "displayName": "Tomaž Poljanšek",
      "userId": "16982243430376534286"
     },
     "user_tz": -120
    },
    "id": "kW5pyBjxRUCk"
   },
   "outputs": [],
   "source": [
    "from itertools import product\n",
    "\n",
    "paulis_1q = {\n",
    "    'I': np.array([[1, 0], [0, 1]], dtype=complex),\n",
    "    'X': np.array([[0, 1], [1, 0]], dtype=complex),\n",
    "    'Y': np.array([[0, -1j], [1j, 0]], dtype=complex),\n",
    "    'Z': np.array([[1, 0], [0, -1]], dtype=complex)\n",
    "}\n",
    "\n",
    "def get_pauli_strings(nqubits):\n",
    "    \"\"\"Generate all possible Pauli strings for nqubits.\"\"\"\n",
    "    paulis = ['I', 'X', 'Y', 'Z']\n",
    "    return [''.join(p) for p in product(paulis, repeat=nqubits)]\n",
    "\n",
    "\n",
    "def pauli_word_to_operator(word, wires):\n",
    "    \"\"\"Convert a Pauli word to a PennyLane operator.\"\"\"\n",
    "    op = qml.Identity(wires=wires[0])  # start with identity\n",
    "    for i, pauli in enumerate(word):\n",
    "        if pauli == 'I':\n",
    "            continue\n",
    "        elif pauli == 'X':\n",
    "            op = op @ qml.PauliX(wires=wires[i])\n",
    "        elif pauli == 'Y':\n",
    "            op = op @ qml.PauliY(wires=wires[i])\n",
    "        elif pauli == 'Z':\n",
    "            op = op @ qml.PauliZ(wires=wires[i])\n",
    "    return op\n",
    "\n",
    "def pauli_matrix_from_string(s):\n",
    "    \"\"\"Generate full matrix from Pauli string (e.g. 'IXZ').\"\"\"\n",
    "    mat = paulis_1q[s[0]]\n",
    "    pw = {}\n",
    "    if s[0] != \"I\":\n",
    "        pw[0] = s[0]\n",
    "    for i, c in enumerate(s[1:]):\n",
    "        mat = np.kron(mat, paulis_1q[c])\n",
    "        if c != \"I\":\n",
    "            pw[i+1] = c\n",
    "    return mat\n",
    "\n",
    "def pauli_decompose(matrix):\n",
    "    \"\"\"Decomposes a Hermitian matrix into Pauli strings.\"\"\"\n",
    "    n = int(np.log2(matrix.shape[0]))\n",
    "    if matrix.shape != (2**n, 2**n):\n",
    "        raise ValueError(\"Matrix must be 2^n x 2^n in size.\")\n",
    "    if not np.allclose(matrix, matrix.conj().T):\n",
    "        raise ValueError(\"Matrix must be Hermitian.\")\n",
    "\n",
    "    coeffs = []\n",
    "    pstrings = []\n",
    "    for p_str in get_pauli_strings(n):\n",
    "        P = pauli_matrix_from_string(p_str)\n",
    "        # real part only; Hermitian ensures imaginary ~0\n",
    "        alpha = np.trace(P @ matrix).real / (2**n)\n",
    "        if not np.isclose(alpha, 0):\n",
    "            coeffs.append(alpha)\n",
    "            pstrings.append(p_str)\n",
    "    return coeffs, pstrings"
   ]
  },
  {
   "cell_type": "code",
   "execution_count": 90,
   "metadata": {
    "colab": {
     "base_uri": "https://localhost:8080/"
    },
    "executionInfo": {
     "elapsed": 53,
     "status": "ok",
     "timestamp": 1745583550179,
     "user": {
      "displayName": "Tomaž Poljanšek",
      "userId": "16982243430376534286"
     },
     "user_tz": -120
    },
    "id": "01JeZk6QYjQV",
    "outputId": "75f0f426-598c-42d0-9dbf-aeb42e96e772"
   },
   "outputs": [
    {
     "name": "stdout",
     "output_type": "stream",
     "text": [
      "[ True  True  True]\n",
      "[True, True, True]\n"
     ]
    }
   ],
   "source": [
    "# TESTS\n",
    "nqubits = 2\n",
    "nalphas = 3\n",
    "\n",
    "# Random hermitian matrix with positive coefficients\n",
    "all_pauli_strings = list(get_pauli_strings(nqubits))\n",
    "pauli_strings = np.random.choice(all_pauli_strings,nalphas,replace=False)\n",
    "coeffs = 3*np.random.rand(nalphas)\n",
    "# coeffs = coeffs/np.sum(abs(coeffs))\n",
    "\n",
    "# matrix to be decomposed\n",
    "A = 0\n",
    "for c,s in zip(coeffs,pauli_strings):\n",
    "  A += c*pauli_word_to_operator(str(s),wires=[0,1]).matrix()\n",
    "\n",
    "LCU = qml.pauli_decompose(A)\n",
    "LCU_coeffs, LCU_ops = LCU.terms()\n",
    "LCU_terms = [op.matrix() for op in LCU_ops]\n",
    "\n",
    "alphas, pws = pauli_decompose(A)\n",
    "\n",
    "print((LCU_coeffs==alphas))\n",
    "print([np.allclose(op1.matrix(),pauli_word_to_operator(op2,wires=[0,1]).matrix()) for op1,op2 in zip(LCU_ops,pws)])"
   ]
  },
  {
   "cell_type": "markdown",
   "metadata": {
    "id": "mJxM8zu6yfM-"
   },
   "source": [
    "## Exercise 2\n",
    "We implement the LCU as a quantum circuit by applying the **prepare** and **select** unitaries.\n",
    "\n",
    "Starting from the LCU decomposition (see Exercise 1) with positive, real coefficients $ \\alpha_k $, we define the **prepare** (`PREP`) operator as:\n",
    "\n",
    "$$\n",
    "\\text{PREP} \\, |0\\rangle = \\sum_k \\frac{\\sqrt{|\\alpha_k|}}{\\sqrt{\\lambda}} \\, |k\\rangle\n",
    "$$\n",
    "\n",
    "where $ \\lambda $ is a normalization constant:\n",
    "\n",
    "$$\n",
    "\\lambda = \\sum_k |\\alpha_k|\n",
    "$$\n",
    "\n",
    "The **select** (`SEL`) operator is defined by:\n",
    "\n",
    "$$\n",
    "\\text{SEL} \\, |k\\rangle |\\psi\\rangle = |k\\rangle U_k |\\psi\\rangle\n",
    "$$\n",
    "\n",
    "Write the templates `select(pauli_strings, wires, wires_aux)` and `prep(alphas, wires_aux)` that implement the `SEL` and `PREP` unitaries. The argument `pauli_strings` is a list of pauli strings acting on qubits defined by the argument `wires`. The argument `wires_aux` determines the auxiliary qubits for `PREP` and `SEL` unitaries. The minimum number of auxiliary qubits is determined by the number of terms in the LCU decomposition and should be calculated on the fly."
   ]
  },
  {
   "cell_type": "code",
   "execution_count": 92,
   "metadata": {
    "executionInfo": {
     "elapsed": 5,
     "status": "ok",
     "timestamp": 1745583555141,
     "user": {
      "displayName": "Tomaž Poljanšek",
      "userId": "16982243430376534286"
     },
     "user_tz": -120
    },
    "id": "U50RHiHJyfM_"
   },
   "outputs": [],
   "source": [
    "def prep(alphas, wires):\n",
    "    qml.StatePrep(alphas, wires=wires, pad_with=0)\n",
    "\n",
    "def select(pauli_strings, wires, wires_aux):\n",
    "    \"\"\"Apply unitary U_k to wires, controlled by wires_aux in |k⟩.\"\"\"\n",
    "    ops = [pauli_word_to_operator(p, wires=wires) for p in pauli_strings]\n",
    "    qml.Select(ops, control=wires_aux)"
   ]
  },
  {
   "cell_type": "code",
   "execution_count": 93,
   "metadata": {
    "colab": {
     "base_uri": "https://localhost:8080/"
    },
    "executionInfo": {
     "elapsed": 12,
     "status": "ok",
     "timestamp": 1745583556205,
     "user": {
      "displayName": "Tomaž Poljanšek",
      "userId": "16982243430376534286"
     },
     "user_tz": -120
    },
    "id": "6IpBaZOCyfNA",
    "outputId": "cdd7e15c-1f78-4312-d1f9-20d0f1812758"
   },
   "outputs": [
    {
     "name": "stdout",
     "output_type": "stream",
     "text": [
      "True\n",
      "True\n"
     ]
    }
   ],
   "source": [
    "# TESTS\n",
    "\n",
    "alpha_prep = np.sqrt((alphas/np.sum(np.abs(alphas))).astype(complex))\n",
    "\n",
    "a=int(np.ceil(np.log2(len(alpha_prep))))\n",
    "n=int(np.ceil(np.log2(len(A))))\n",
    "\n",
    "# DEVICE\n",
    "dev = qml.device('default.qubit', wires=a, shots=None)\n",
    "@qml.qnode(dev)\n",
    "def circuit_prep(alphas):\n",
    "  wires = range(a)\n",
    "  prep(alphas,wires)\n",
    "  return qml.state()\n",
    "\n",
    "print(np.array([np.allclose(a1,a2) for a1,a2 in zip(circuit_prep(alpha_prep),alpha_prep)]).all())\n",
    "\n",
    "# DEVICE\n",
    "dev = qml.device('default.qubit', wires=a+n, shots=None)\n",
    "@qml.qnode(dev)\n",
    "def circuit_sel():\n",
    "  wires = range(n)\n",
    "  wires_aux = range(n,a+n)\n",
    "  prep(alpha_prep,wires_aux)\n",
    "  select(pws,wires=wires,wires_aux=wires_aux)\n",
    "  return qml.state()\n",
    "\n",
    "dev = qml.device('default.qubit', wires=a+n, shots=None)\n",
    "@qml.qnode(dev)\n",
    "def circuit_sel_pennylane():\n",
    "  wires = range(n)\n",
    "  wires_aux = range(n,a+n)\n",
    "  prep(alpha_prep,wires_aux)\n",
    "  unitaries = [pauli_word_to_operator(pw,wires=wires) for pw in pws]\n",
    "  qml.Select(unitaries, control=wires_aux)\n",
    "  return qml.state()\n",
    "\n",
    "print(np.array([np.allclose(a1,a2) for a1,a2 in zip(circuit_sel(),circuit_sel_pennylane())]).all())\n"
   ]
  },
  {
   "cell_type": "markdown",
   "metadata": {
    "id": "ALZGQxl0lqP2"
   },
   "source": [
    "## Exercise 3\n"
   ]
  },
  {
   "cell_type": "code",
   "execution_count": 95,
   "metadata": {
    "executionInfo": {
     "elapsed": 51,
     "status": "ok",
     "timestamp": 1745583558854,
     "user": {
      "displayName": "Tomaž Poljanšek",
      "userId": "16982243430376534286"
     },
     "user_tz": -120
    },
    "id": "Kgnk6dM7lqP3"
   },
   "outputs": [],
   "source": [
    "def block_encoding(A, wires, wires_aux):\n",
    "    coeffs, pauli_strings = pauli_decompose(A)\n",
    "    coeffs = np.array(coeffs, dtype=complex)\n",
    "    coeffs_normalized = np.sqrt(coeffs/np.sum(np.abs(coeffs)))\n",
    "    n = int(np.log2(len(A)))\n",
    "    a = int(np.ceil(np.log2(len(coeffs))))\n",
    "\n",
    "    qml.StatePrep(coeffs_normalized, wires_aux, pad_with=0)\n",
    "    select(pauli_strings, wires=wires, wires_aux=wires_aux)\n",
    "    qml.adjoint(qml.StatePrep(coeffs_normalized, wires_aux, pad_with=0))\n"
   ]
  },
  {
   "cell_type": "code",
   "execution_count": 96,
   "metadata": {
    "colab": {
     "base_uri": "https://localhost:8080/"
    },
    "executionInfo": {
     "elapsed": 20,
     "status": "ok",
     "timestamp": 1745583560975,
     "user": {
      "displayName": "Tomaž Poljanšek",
      "userId": "16982243430376534286"
     },
     "user_tz": -120
    },
    "id": "FuO9_uw4lqP4",
    "outputId": "608d694e-51a4-48a5-885c-fbb4adf31b81"
   },
   "outputs": [
    {
     "name": "stdout",
     "output_type": "stream",
     "text": [
      "A:\n",
      " [[ 0.   +0.j     0.202+0.j     0.574+0.j     0.   -0.223j]\n",
      " [ 0.202+0.j     0.   +0.j     0.   -0.223j -0.574+0.j   ]\n",
      " [ 0.574+0.j     0.   +0.223j  0.   +0.j     0.202+0.j   ]\n",
      " [ 0.   +0.223j -0.574+0.j     0.202+0.j     0.   +0.j   ]] \n",
      "\n",
      "Block-encoded A:\n",
      "\n",
      "[[ 0.   +0.j     0.202+0.j     0.574+0.j     0.   -0.223j]\n",
      " [ 0.202+0.j     0.   +0.j     0.   -0.223j -0.574+0.j   ]\n",
      " [ 0.574+0.j     0.   +0.223j  0.   +0.j     0.202+0.j   ]\n",
      " [ 0.   +0.223j -0.574+0.j     0.202+0.j     0.   +0.j   ]] \n",
      "\n",
      "Norm difference\n",
      "\n",
      "2.830524433501838e-16\n"
     ]
    }
   ],
   "source": [
    "# TESTS\n",
    "\n",
    "a=int(np.ceil(np.log2(len(alpha_prep))))\n",
    "n=int(np.ceil(np.log2(len(A))))\n",
    "\n",
    "wires_aux = range(a)\n",
    "wires = range(a,a+n)\n",
    "\n",
    "dev = qml.device('default.qubit', wires=a+n, shots=None)\n",
    "@qml.qnode(dev)\n",
    "def circuit_block_encoding():\n",
    "  block_encoding(A,wires,wires_aux)\n",
    "  return qml.state()\n",
    "\n",
    "output_matrix = qml.matrix(circuit_block_encoding)()\n",
    "print(\"A:\\n\", np.round(A/np.sum(alphas),3), \"\\n\")\n",
    "print(\"Block-encoded A:\\n\")\n",
    "print(np.round(output_matrix[:4,:4],3),\"\\n\")\n",
    "print(\"Norm difference\\n\")\n",
    "print(np.linalg.norm(A/np.sum(alphas)-output_matrix[:4,:4]))"
   ]
  },
  {
   "cell_type": "markdown",
   "metadata": {
    "id": "BWJf4jMIKLz1"
   },
   "source": [
    "# Exponential encoding"
   ]
  },
  {
   "cell_type": "markdown",
   "metadata": {
    "id": "Rid0pnBaKPIo"
   },
   "source": [
    "## Exercise 1\n",
    "Prepare the template `variational_layer(weights,wires)` which consists of `RY` rotations followed by `CNOTS`. The argument `weights` stores the angles of the rotations and `wires` denotes the wires on which the template is acting."
   ]
  },
  {
   "cell_type": "code",
   "execution_count": 98,
   "metadata": {
    "executionInfo": {
     "elapsed": 16,
     "status": "ok",
     "timestamp": 1745583564974,
     "user": {
      "displayName": "Tomaž Poljanšek",
      "userId": "16982243430376534286"
     },
     "user_tz": -120
    },
    "id": "oLyEcFslLXy_"
   },
   "outputs": [],
   "source": [
    "n_qubits = 3\n",
    "dev = qml.device(\"default.qubit\", wires=n_qubits)"
   ]
  },
  {
   "cell_type": "code",
   "execution_count": 99,
   "metadata": {
    "executionInfo": {
     "elapsed": 6,
     "status": "ok",
     "timestamp": 1745583566224,
     "user": {
      "displayName": "Tomaž Poljanšek",
      "userId": "16982243430376534286"
     },
     "user_tz": -120
    },
    "id": "FduvCHrVF9BG"
   },
   "outputs": [],
   "source": [
    "def variational_layer(weights, wires):\n",
    "    n_qubits = len(weights)\n",
    "    for i in range(n_qubits):\n",
    "        qml.RX(weights[i, 0], wires=wires[i])\n",
    "        qml.RY(weights[i, 1], wires=wires[i])\n",
    "        qml.RZ(weights[i, 2], wires=wires[i])\n",
    "    for i in range(n_qubits - 1):\n",
    "        qml.CNOT(wires=[wires[i], wires[i+1]])\n"
   ]
  },
  {
   "cell_type": "code",
   "execution_count": 100,
   "metadata": {
    "colab": {
     "base_uri": "https://localhost:8080/"
    },
    "executionInfo": {
     "elapsed": 35,
     "status": "ok",
     "timestamp": 1745583567503,
     "user": {
      "displayName": "Tomaž Poljanšek",
      "userId": "16982243430376534286"
     },
     "user_tz": -120
    },
    "id": "2k11tfbeLR58",
    "outputId": "24f6730f-4d46-4c08-9bb4-bad4b577b275"
   },
   "outputs": [
    {
     "name": "stdout",
     "output_type": "stream",
     "text": [
      "0: ──RX(0.96)──RY(0.25)──RZ(0.50)─╭●────┤  State\n",
      "1: ──RX(0.30)──RY(0.28)──RZ(0.04)─╰X─╭●─┤  State\n",
      "2: ──RX(0.61)──RY(0.50)──RZ(0.05)────╰X─┤  State\n"
     ]
    }
   ],
   "source": [
    "# TESTS\n",
    "\n",
    "@qml.qnode(dev)\n",
    "def test_var(weights):\n",
    "    variational_layer(weights,wires=range(len(weights)))\n",
    "    return qml.state()\n",
    "\n",
    "print(qml.draw(test_var)(np.random.rand(n_qubits,3)))"
   ]
  },
  {
   "cell_type": "markdown",
   "metadata": {
    "id": "P-JM7-pdLpGv"
   },
   "source": [
    "## Exercise 2\n",
    "Write the template `exponential_encoding(x,wires)` with arguments `x` a real input and `wires` list of wires on which the input is encoded. You should use rotations around the `x` axis. Also, write a template `parallel_pauli_encoding(x,wires)` which uses a fixed angle $2 \\pi x$ for each rotation."
   ]
  },
  {
   "cell_type": "code",
   "execution_count": 102,
   "metadata": {
    "executionInfo": {
     "elapsed": 3,
     "status": "ok",
     "timestamp": 1745583570654,
     "user": {
      "displayName": "Tomaž Poljanšek",
      "userId": "16982243430376534286"
     },
     "user_tz": -120
    },
    "id": "zkOQfOX1Laut"
   },
   "outputs": [],
   "source": [
    "def exponential_encoding(x, wires):\n",
    "    for i, w in enumerate(wires):\n",
    "        qml.RX(3**i * x, wires=w)\n",
    "\n",
    "\n",
    "def parallel_pauli_encoding(x, wires):\n",
    "    for i, w in enumerate(wires):\n",
    "        qml.RX(2*np.pi * x, wires=w)\n"
   ]
  },
  {
   "cell_type": "code",
   "execution_count": 103,
   "metadata": {
    "colab": {
     "base_uri": "https://localhost:8080/"
    },
    "executionInfo": {
     "elapsed": 17,
     "status": "ok",
     "timestamp": 1745583572378,
     "user": {
      "displayName": "Tomaž Poljanšek",
      "userId": "16982243430376534286"
     },
     "user_tz": -120
    },
    "id": "ncKI6YdRMCjQ",
    "outputId": "3342fbcb-a055-44e8-bd6e-1e19d7cc1afb"
   },
   "outputs": [
    {
     "name": "stdout",
     "output_type": "stream",
     "text": [
      "0: ──RX(0.79)─┤  State\n",
      "1: ──RX(2.36)─┤  State\n",
      "2: ──RX(7.07)─┤  State\n"
     ]
    }
   ],
   "source": [
    "# TESTS\n",
    "\n",
    "@qml.qnode(dev)\n",
    "def test_encoding(x):\n",
    "    exponential_encoding(x, range(n_qubits))\n",
    "    return qml.state()\n",
    "\n",
    "print(qml.draw(test_encoding)(np.pi / 4))\n"
   ]
  },
  {
   "cell_type": "markdown",
   "metadata": {
    "id": "SLePgGJDMJmE"
   },
   "source": [
    "## Exercise 3\n",
    "Implement and compare two parameterized quantum circuits (PQCs) for fitting a target function using a single input parameter `x`.\n",
    "\n",
    "The first PQC should use the template `pqc_exponential(x,weights)` which should have variable number of interchanging `variational_layer` and `exponential_encoding` layers and should return the expectation value of a chosen operator.\n",
    "\n",
    "The second `pqc_parallel_pauli(x,weights)` should have exactly the same structure as `pqc_exponential` only the exponential encoding layer should be replaced with the `parallel_pauli_encoding` layer.\n",
    "\n",
    "In both cases the `weights` trainable parameters should have the dimension $n_{\\rm layers} \\times n_{\\rm qubits} \\times 3$. The last dimension three is related to the rotation angles in the variational_layer\n",
    "\n",
    "Fit the models and plot the solutions."
   ]
  },
  {
   "cell_type": "markdown",
   "metadata": {
    "id": "TROyvZRSnUNN"
   },
   "source": [
    "**Example of PQC with 3 qubits and 4 layers**\n",
    "![image.png](data:image/png;base64,iVBORw0KGgoAAAANSUhEUgAACjwAAAGjCAIAAAAddrmDAAAgAElEQVR4Aezdf4wd1Xn4/7O/TSgGIuxFJJXXNgrgiDSxDTSydglJK5pGGKWxg4sUEQzGK4OxjVCIXSAgpayT4KIIpaUNOClVk/4IjuxGUYxtHAqVIHEwNsEkYg1WkpYfNfgH/rHsZne+fDOfngwze+c+984zZ87MffuPZO7cM885z2vOnGfsg9cm4BcCCCCAAAIIIIAAAggggAACCCCAAAIIIIAAAggggAACCCCAAAIFCZiC+qVbBBBAAAEEEEAAAQQQQAABBBBAAAEEEEAAAQQQQAABBBBAAAEEAjatmQQIIIAAAggggAACCCCAAAIIIIAAAggggAACCCCAAAIIIIAAAoUJsGldGD0dI4AAAggggAACCCCAAAIIIIAAAggggAACCCCAAAIIIIAAAgiwac0cQAABBBBAAAEEEEAAAQQQQAABBBBAAAEEEEAAAQQQQAABBBAoTIBN68Lo6RgBBBBAAAEEEEAAAQQQQAABBBBAAAEEEEAAAQQQQAABBBBAgE1r5gACCCCAAAIIIIAAAggggAACCCCAAAIIIIAAAggggAACCCCAQGECbFoXRk/HCCCAAAIIIIAAAggggAACCCCAAAIIIIAAAggggAACCCCAAAJsWjMHEEAAAQQQQAABBBBAAAEEEEAAAQQQQAABBBBAAAEEEEAAAQQKE2DTujB6OkYAAQQQQAABBBBAAAEEEEAAAQQQQAABBBBAAAEEEEAAAQQQYNOaOYAAAggggAACCCCAAAIIIIAAAggggAACCCCAAAIIIIAAAgggUJgAm9aF0dMxAggggAACCCCAAAIIIIAAAggggAACCCCAAAIIIIAAAggggACb1swBBBBAAAEEEEAAAQQQQAABBBBAAAEEEEAAAQQQQAABBBBAAIHCBNi0LoyejhFAAAEEEEAAAQQQQAABBBBAAAEEEEAAAQQQQAABBBBAAAEE2LRmDiCAAAIIIIAAAggggAACCCCAAAIIIIAAAggggAACCCCAAAIIFCbApnVh9HSMAAIIIIAAAggggAACCCCAAAIIIIAAAggggAACCCCAAAIIIMCmNXMAAQQQQAABBBBAAAEEEEAAAQQQQAABBBBAAAEEEEAAAQQQQKAwATatC6OnYwQQQAABBBBAAAEEEEAAAQQQQAABBBBAAAEEEEAAAQQQQAABNq2ZAwgggAACCCCAAAIIIIAAAggggAACCCCAAAIIIIAAAggggAAChQmwaV0YPR0jgAACCCCAAAIIIIAAAggggAACCCCAAAIIIIAAAggggAACCLBpzRxAAAEEEEAAAQQQQAABBBBAAAEEEEAAAQQQQAABBBBAAAEEEChMgE3rwujpGAEEEEAAAQQQQAABBBBAAAEEEEAAAQQQQAABBBBAAAEEEECATWvmAAIIIIAAAggggAACCCCAAAIIIIAAAggggAACCCCAAAIIIIBAYQJsWhdGT8cIIIAAAggggAACCCCAAAIIIIAAAggggAACCCCAAAIIIIAAAmxaMwcQQAABBBBAAAEEEEAAAQQQQAABBBBAAAEEEEAAAQQQQAABBAoTYNO6MHo6RgABBBBAAAEEEEAAAQQQQAABBBBAAAEEEEAAAQQQQAABBBBg05o5gAACCCCAAAIIIIAAAggggAACCCCAAAIIIIAAAggggAACCCBQmACb1oXR0zECCCCAAAIIIIAAAggggAACCCCAAAIIIIAAAggggAACCCCAAJvWzAEEEEAAAQQQQAABBBBAAAEEEEAAAQQQQAABBBBAAAEEEEAAgcIE2LQujJ6OEUAAAQQQQAABBBBAAAEEEEAAAQQQQAABBBBAAAEEEEAAAQTYtGYOIIAAAggggAACCCCAAAIIIIAAAggggAACCCCAAAIIIIAAAggUJsCmdWH0dIwAAggggAACCCCAAAIIIIAAAggggAACCCCAAAIIIIAAAgggwKY1cwABBBBAAAEEEEAAAQQQQAABBBBAAAEEEEAAAQQQQAABBBBAoDABNq0Lo6djBBBAAAEEEEAAAQQQQAABBBBAAAEEEEAAAQQQQAABBBBAAAE2rZkDCCCAAAIIIIAAAggggAACCCCAAAIIIIAAAggggAACCCCAAAKFCbBpXRg9HSOAAAIIIIAAAggggAACCCCAAAIIIIAAAggggAACCCCAAAIIsGnNHEAAAQQQQAABBBBAAAEEEEAAAQQQQAABBBBAAAEEEEAAAQQQKEyATevC6OkYAQQQQAABBBBAAAEEEEAAAQQQQAABBBBAAAEEEEAAAQQQQIBNa+YAAggggAACCCCAAAIIIIAAAggggAACCCCAAAIIIIAAAggggEBhAmxaF0ZPxwgggAACCCCAAAIIIIAAAggggAACCCCAAAIIIIAAAggggAACbFozBxBAAAEEEEAAAQQQQAABBBBAAAEEEEAAAQQQQAABBBBAAAEEChNg07owejpGAAEEEEAAAQQQQAABBBBAAAEEEEAAAQQQQAABBBBAAAEEEGDTmjmAAAIIIIAAAggggAACCCCAAAIIIIAAAggggAACCCCAAAIIIFCYAJvWhdHTMQIIIIAAAggggAACCCCAAAIIIIAAAggggAACCCCAAAIIIIAAm9bMAQQQQAABBBBAAAEEEEAAAQQQQAABBBBAAAEEEEAAAQQQQACBwgTYtC6Mno4RQAABBBBAAAEEEEAAAQQQQAABBBBAAAEEEEAAAQQQQAABBNi0Zg4ggAACCCCAAAIIIIAAAggggAACCCCAAAIIIIAAAggggAACCBQmwKZ1YfR0jAACCCCAAAIIIIAAAggggAACCCCAAAIIIIAAAggggAACCCDApjVzAAEEEEAAAQQQQAABBBBAAAEEEEAAAQQQQAABBBBAAAEEEECgMAE2rQujp2MEEEAAAQQQQAABBBBAAAEEEEAAAQQQQAABBBBAAAEEEEAAATatmQMIIIAAAggggAACCCCAAAIIIIAAAggggAACCCCAAAIIIIAAAoUJsGldGD0dI4AAAggggAACCCCAAAIIIIAAAggggAACCCCAAAIIIIAAAgiwac0cQAABBBBAAAEEEEAAAQQQQAABBBBAAAEEEEAAAQQQQAABBBAoTIBN68Lo6RgBBBBAAAEEEEAAAQQQQAABBBBAAAEEEEAAAQQQQAABBBBAgE1r5gACCCCAAAIIIIAAAggggAACCCCAAAIIIIAAAggggAACCCCAQGECbFoXRk/HCCCAAAIIIIAAAggggAACCCCAAAIIIIAAAggggAACCCCAAAJsWjMHEEAAAQQQQAABBBBAAAEEEEAAAQQQQAABBBBAAAEEEEAAAQQKE2DTujB6OkYAAQQQQAABBBBAAAEEEEAAAQQQQAABBBBAAAEEEEAAAQQQYNOaOYAAAggggAACCCCAAAIIIIAAAggggAACCCCAAAIIIIAAAgggUJgAm9aF0dMxAggggAACCCCAAAIIIIAAAggggAACCCCAAAIIIIAAAggggACb1swBBBBAAAEEEEAAAQQQQAABBBBAAAEEEEAAAQQQQAABBBBAAIHCBNi0LoyejhFAAAEEEEAAAQQQQAABBBBAAAEEEEAAAQQQQAABBBBAAAEE2LRmDiCAAAIIIIAAAggggAACCCCAAAIIIIAAAggggAACCCCAAAIIFCbApnVh9HSMAAIIIIAAAggggAACCCCAAAIIIIAAAggggAACCCCAAAIIIMCmNXMAAQQQQAABBBBAAAEEEEAAAQQQQAABBBBAAAEEEEAAAQQQQKAwATatC6OnYwQQQAABBBBAAAEEEEAAAQQQQAABBBBAAAEEEEAAAQQQQAABNq2ZAwgggAACCCCAAAIIIIAAAggggAACCCCAAAIIIIAAAggggAAChQmwaV0YPR0jgAACCCCAAAIIIIAAAggggAACCCCAAAIIIIAAAggggAACCLBpzRxAAAEEEEAAAQQQQAABBBBAAAEEEEAAAQQQQAABBBBAAAEEEChMgE3rwujL2PHIyMi+ffs2b968YcOGtWvXrlmzZoXDX2vWrFm7du2GDRs2b968b9++kZERnw2xkt8drORWtJQLMK+wkgvIWzKvsJIL0BKBYgVYr+T+WGElF5C3ZF7JrWiJQB4CPINyVaywkgvIWzKv5Fa0RACBYgVYr4r1T/bOpnXShDPvEhgbG9u+ffvy5cv7+vra2tqMN7/a2tr6+vqWL1++ffv2sbGxdw26oA9YyeGxklvRUi7AvMJKLiBvybzCSi5ASwSKFWC9kvtjhZVcQN6SeSW3oiUCeQjwDMpVscJKLiBvybySW9ESAQSKFWC9KtY/vXc2rdN9WvrbF198cXBwcNq0ad7sU9ccyLRp0wYHB4eHh4u6YVjJ5bGSW9FSLsC8wkouIG/JvMJKLkBLBIoVYL2S+2OFlVxA3pJ5JbeiJQJ5CPAMylWxwkouIG/JvJJb0RIBBIoVYL0q1l/SO5vWEqWWa3P8+PE77riju7u75i6xl1/09PTccccdx48fd3nDsJJrYyW3oqVcgHmFlVxA3pJ5hZVcgJYIFCvAeiX3xworuYC8JfNKbkVLBPIQ4BmUq2KFlVxA3pJ5JbeiJQIIFCvAelWsv7x3Nq3lVq3ScuvWrTNmzEjZle7t7V2wYMGSJUuWLl06ODjo5l+1HhwcXLp06ZIlSxYsWNDb25syvL6+vq1bt7q5W1jJnbGSW9FSLsC8wkouIG/JvMJKLkBLBIoVYL2S+2OFlVxA3pJ5JbeiJQJ5CPAMylWxwkouIG/JvJJb0RIBBIoVYL0q1r+h3tm0boir+o03bdrU2dmZ3BKeN2/e+vXrd+3adeTIER8Ujhw5smvXrvXr18+dOzc52s7Ozk2bNuU9TqzkwljJrWgpF2BeYSUXkLdkXmElF6AlAsUKsF7J/bHCSi4gb8m8klvREoE8BHgG5apYYSUXkLdkXsmtaIkAAsUKsF4V699o72xaNypW5fbJp7ejo2P16tX79+/3Oe3h4eHVq1d3dHREd6/z3rfGSj4lsJJb0VIuwLzCSi4gb8m8wkouQEsEihVgvZL7Y4WVXEDeknklt6IlAnkI8AzKVbHCSi4gb8m8klvREgEEihVgvSrWv4ne2bRuAq2al2zdujX2d6wHBgaee+65smT73HPPDQwMxPatc/o54VjJZwVWcitaygWYV1jJBeQtmVdYyQVoiUCxAqxXcn+ssJILyFsyr+RWtEQgDwGeQbkqVljJBeQtmVdyK1oigECxAiVar/7zP/8zaeVyzyvZe1Fn2LQuSt6vfo8fPx77d6yXLVs2Pj7u1yjrjWZ8fHzZsmXRfeu+vr4TJ07Uu66x77GSe2Elt6KlXIB5hRVre605QB2sJZM878Yq2S9nEMguQB2UG2KFFe8MteYAdbCWDOf9F2Btl98jrLCiDtaaA9TBWjKcR6BKAmWpg+Pj47fddtv1118/KX4LrldsWk86E1ru5B133BHd6y3jjnV4z5LP8J133ql7O7GSe2Ilt6KlXIB5hZUxhrW91jSgDtaSSZ53YJXslDMIZBegDsoNscKKd4aUOUAdTMHhK58FWNvldwcrrKiDKXOAOpiCw1cIVEOgFHXwxIkTixYtMsY89NBDtdhbbb1i07rWTGih8y+++GJPT4/dtB4YGCjd37GO3q3x8fH+/n6bTk9Pz/DwcLRBlmOs5HpYya1oKRdgXmEVLu+s7SkzgTqYghP7KlerWF98REBFgDooZ8QKK94Z6s4B6mBdIhr4JsDaLr8jWGFFHaw7B6iDdYlogEB5BUpRB1999dWLL744XK737duXot1S6xWb1ikzoVW+GhwcDB8MY0xHR0eJ/h3rWndo7969HR0dNqnBwcFaLRs9j5VcDCu5FS3lAswrrFjbJXOAOihRCtvkZyUfAy0RkAtQB7GiDkrmQH5rO8+gxJ82COQnwDMot8UKK94ZJHMgv3cGSe+0QQCB/AT8r4M///nP7b/Ye8YZZ9T9e6Sts16xaZ3fc1GOyGNjY9OmTbPvMatXry7HuOuNcvXq1Tap6dOnj42N1bui/vdY1Tf6vxZY/Z8E/68pwLySa2KFFXVQPgfysJL3TksE5AKs7VjlsV4xr5hXecwruSotEZALsF5hlcd6xbxiXuUxr+SqtEQAgTwE/F/bt23bNnXqVLuBdfnll0scWmS9YtNaMhmq3Gb79u322TDG7N+/vxrZDg8PR/PasWNH9rywkhtiJbeipVyAeYUVa7t8DmBVrJW8d1oiIBegDmLF2i6fA1gVayXvnZYIyAWog1ixtsvnAFbFWsl7pyUCCOQh4Pk7wze/+c3Ozs7o7tVdd90lcchjbZf067gNm9aOwb3rbvny5fbxmDdvnnfjyzCguXPn2tRUfkI4VvK7gZXcipZyAeYVVkEQsLbLpwFWBVrJu6YlAnIB6iBW1EH5HMCqWKuGeqcxAkIB6qAQKggCrLCiDsrnQB5WDfVOYwQQUBfwtg6Oj49/4QtfsJtW9mDr1q1CBPU/6xP267IZm9YutX3sq6+vzz4b69ev93GIzY5paGjIpjZz5sxmw/z+Oqx+b1HvCKt6QnzfjADzSq6GFVZBEFAH5dNA3UreNS0RkAuwtmPF2i6fA1gVa9VQ7zRGQChAHRRCBUGAFVbUQfkcyMOqod5pjAAC6gJ+1sETJ0585jOfsTtW9qCtre3w4cNChFb48ys2rYWToZrNRkZG2tra7OOxa9euKuW5a9cum1p7e/vIyEiW7LCS62Elt6KlXIB5hVUowNounwlYFWUl75eWCMgFqINYhQKs7fKZgFVRVvJ+aYmAXIA6iFUowNounwlYFWUl75eWCCCQh4Cf7wyvvvrqxRdfbLerogcf/OAH5Q66a7u8X5ct2bR2qe1dX/v27Ys+HkePHvVuiBkGdOTIkWh2L7zwQoZgAVZyPazkVrSUCzCvsAoFWNvlMwGroqzk/dISAbkAdRCrUIC1XT4TsCrKSt4vLRGQC1AHsQoFWNvlMwGroqzk/dISAQTyEPDwneHnP//5jBkzontV0ePrr79e7qC7tsv7ddmSTWuX2t71tXnzZvt49Pb2eje+zAOaPn26TXDLli1Z4mEl18NKbkVLuQDzCisrwNpuKeoeYFWXyDZQtLIxOUBAUYA6KMfECisroLi2M6+sKgcIFCLAMyhnxworK0AdtBR1DxSt6vZFAwQQyFXAtzr46KOPTp061e5SGWNOP/309vZ2e+ahhx5qCKTy6xWb1g3Nh6o13rBhg302FixYULX0gmDBggU2wQ0bNmRJECu5HlZyK1rKBZhXWFkB1nZLUfcAq7pEtoGilY3JAQKKAtRBOSZWWFkBxbWdeWVVOUCgEAGeQTk7VlhZAeqgpah7oGhVty8aIIBArgJe1cF/+Id/6OjosFtUxpi+vr6tW7dGz+zbt68hkMqvV2xaNzQfqtZ47dq19vFYsmRJ1dILgquuusomuG7duiwJYiXXw0puRUu5APMKKyvA2m4p6h5gVZfINlC0sjE5QEBRgDoox8QKKyuguLYzr6wqBwgUIsAzKGfHCisrQB20FHUPFK3q9kUDBBDIVcCTOjg+Pv6FL3zBbk6FB5dccsmrr776b//2b/b8GWecMT4+3hBI5dcrNq0bmg9Va7xmzRr7eCxdurRq6QXBtddeaxO85ZZbsiSIlVwPK7kVLeUCzCusrABru6Woe4BVXSLbQNHKxuQAAUUB6qAcEyusrIDi2s68sqocIFCIAM+gnB0rrKwAddBS1D1QtKrbFw0QQCBXAR/q4PHjxz/zmc/YnanwYPHixSdOnAiCIDrCyy+/vFGNyq9XbFo3OiUq1X7FihX2yRkcHKxUbr9LZnBw0Ca4YsWKLAliJdfDSm5FS7kA8worK8DabinqHmBVl8g2ULSyMTlAQFGAOijHxAorK6C4tjOvrCoHCBQiwDMoZ8cKKytAHbQUdQ8Urer2RQMEEMhVoPA6+MYbb1x88cV2W8oerFy5Mkz8j//4j+3Ju+66q1GNyq9XbFo3OiUq1T76AGfc0/XTRTFBxVBY+SkgH1XlJ4OcwmXLyrMrJqgYyuUtlvelmKBiKPn4XbZUTFAxlEsBeV+VT1BOQUs/BSo/RRUTVAxV+cmAlfwWYyW3oiUCeQjwDMpVscLKCihOBsVQdnheHVQ+Qa+0GQwCuQoU/jiPj49v3Lhx2rRpdmc6evDoo492d3fbM1u3bm1Uo/AEGx1wo+3ZtG5UrFLtKz+/FRNUDOXnHFJMUDFU5a38TNDPUTGv5PcFK6ysgOJkUAxlh+fVQeUT9EqbwTQhUPkpqpigYqgm7pSDSxQTVAzlIPEmulBMUDFUE4k4uKTyCTowpItcBSo/RRUTVAyV6z1tOrhigoqhmk4n1wsVE1QMlWvKTQevfIJNy3AhAqUT8ORxfvPNN2+88cb29na7P508aGtrO3z4cKPCniTY6LDl7dm0lltVsGXl57digoqh/JxJigkqhqq8lZ8J+jkq5pX8vmCFlRVQnAyKoezwvDqofIJeaTOYJgQqP0UVE1QM1cSdcnCJYoKKoRwk3kQXigkqhmoiEQeXVD5BB4Z0katA5aeoYoKKoXK9p00HV0xQMVTT6eR6oWKCiqFyTbnp4JVPsGkZLkSgdAJePc7PPPNMcq/anvngBz/YBK9XCTYx/rqXsGldl6jKDSo/vxUTVAzl55RSTFAxVOWt/EzQz1Exr+T3BSusrIDiZFAMZYfn1UHlE/RKm8E0IVD5KaqYoGKoJu6Ug0sUE1QM5SDxJrpQTFAxVBOJOLik8gk6MKSLXAUqP0UVE1QMles9bTq4YoKKoZpOJ9cLFRNUDJVryk0Hr3yCTctwIQKlE/Dqcd65c6fdok4eXH/99U3wepVgE+Ovewmb1nWJqtyg8vNbMUHFUH5OKcUEFUNV3sp9gqOjo2/87tfo6Kj73rP0yLyS62GFlRVQnAyKoezwvDqofIJeaRc4GOpggfjpXSs+g4qh0sdc1LeKCSqGKkojvV/FBBVDpY+5qG8rn2BRsL71Sx307Y7Y8Sg+g4qh7PC8OlBMUDGUV0R2MIoJKoayw/PqoPIJeqVd4GDKWwcLRCtd1/48zhMTE8mN6uiZhx56qAlefxJsYvCSS9i0lihVtk3l57digoqh/JxPigkqhqq8lbMEd+/evXLlyvnz53d3d4elsbu7e/78+StXrnz22WedDSNLR8wruR5WWFkBxcmgGMoOz6uDyifolbb7wVAH3Zs32qPiM6gYqtEs3LRXTFAxlJvcG+1FMUHFUI1m4aZ95RN0w+htL9RBb2+NHZjiM6gYyg7PqwPFBBVDeUVkB6OYoGIoOzyvDiqfoFfa7gdTgTroHq28PTp7nE+ePPmzn/3s4Ycf/sY3vrHhd7++8Y1vPPzwwz/72c9GRkaCIFi5cmV0i9oY88wzz3z0ox+1J/ft29eEs7MEmxibyiVsWqswljVI5ee3YoKKofycLooJKoaqvJWDBPfs2dPf329r4aQH/f39e/bscTCYLF0wr+R6WGFlBRQng2IoOzyvDiqfoFfaLgdDHXSpnaUvxWdQMVSWjPK7VjFBxVD55ZslsmKCiqGyZJTftZVPMD86zyNTBz2/QXZ4is+gYig7PK8OFBNUDOUVkR2MYoKKoezwvDqofIJeabscTGXqoEu0sveV6+N89OjRhx566Oqrr/7gBz/Y0dEx6Z+0G2M6OjrOP//82LfDw8NBEIyPj2/cuHHatGlnnHHG+Ph4E9q5JtjEeNQvYdNanbRMASs/vxUTVAzl5xRRTFAxVOWtck1wYmJiaGioq6srViAn/djV1TU0NDQxMZHrkLIEZ17J9bDCygooTgbFUHZ4Xh1UPkGvtN0MhjroxlmrF8VnUDGUVna6cRQTVAylm6NWNMUEFUNpZacbp/IJ6nKVIhp1sBS3yQ5S8RlUDGWH59WBYoKKobwisoNRTFAxlB2eVweVT9ArbTeDqVgddINWjV7yeJwnJiZ+/OMfX3PNNe95z3sm/aP1uif/6I/+KPoH72+++ebGjRubA88jweZGktNVbFrnBFuOsJWf34oJKobyc3IoJqgYqvJW+SU4MTFx44031q2XsQY33nhjtHzmN7wmIjOv5GhYYWUFFCeDYig7PK8OKp+gV9oOBkMddICs24XiM6gYSjdHrWiKCSqG0spON45igoqhdHPUilb5BLWgyhKHOliWO2XHqfgMKoayw/PqQDFBxVBeEdnBKCaoGMoOz6uDyifolbaDwVSvDjpAq0wX6o/ztm3bLrjggtifojfx8YILLti2bVt2Z/UEsw9JN0KZNq1/8pOffPKTnzz99NPf8573XHLJJf/6r/+qa9GC0fKY3y+//HL0ie3s7DznnHMWL17805/+1AofPXp0xowZPT09zz//vD0ZHqxfv94Yc91118XON/dRMUHFULFc0sXuu+8+Y8znP//52FVBEOzcubOtrW3+/PljY2PJbxs9o5igYiibRbpS2Oxb3/pWdO4ljy+99FIbMMtBHglmGc+k1w4NDSUFJGeGhoYmDVj4yTzYJfOK9Sq89Vg1+giki7G2y+cVa3ujc4/2oQB1UDIT0leqMAJ1MHTASjKjom3SxaiD8nlFHYzOK47lAtRBiVX6ShVGoA6GDlhJZlS0TboYdVA+r6iD0XnFsVygenVQnjstFf8M+b//+7+vuuqq9D9Rnz179sDAwJ/+7tfAwMDs2bPT2y9ZsuR//ud/stwmxQSzDCO/a0uzaf3YY491dXWddtppy5Ytu+WWW2bMmGGMuffee/OjaYXIeczv8LVs9uzZX/rdr1tvvfWyyy4zxnR1dT3++ONWdceOHckN171793Z3d8+YMePo0aO2ZZYDxQQVQ8UyShd750dPfOxjHzPGbNmyJXrhW2+91dfXN2XKlH379kXPN32smKBiKJtOulLYbPfu3eGsS/7vWWedZYxZsWKFDZjlII8Es4wnee2ePXuEPxU8WUS7urr8/LhtuxQAACAASURBVPet82CXzKsgCFivgiDAKvmgpZ9JF2NtD/XSlcI2rO3pM41vJxWgDk7KkjwpeQapg6EbVsn5k34mXYw6KJ9X1MH0mca3kwpQBydlSZ5MX6lse34/yO8H7WSQH6TPLupgKJmuFLahDspnHS2tQCXroM2Og7oCKn+GPDEx8cADD5x22mnJPzzv6OhYuHDh3/7t3/7Xf/3XpNtYy5cvT14VPXPaaac98MADdROp1UAlwVrBfThfjk3rsbGx2bNn9/T0vFOoQrXDhw9/4AMf6O7uPnDggA+OJR1DHvM7fOG4/PLLoybhf9w0MDAQPXnTTTcZY+6+++7w5Ojo6Ic//OG2trbHHnss2izLsWKCiqFiGdUVO3DgwNSpU3t7ew8ePGivveGGG4wx9913nz2T8UAxQcVQNqm6SrZl8uDee+81xsybN+/kyZPJb5s4k0eCTQwj5ZL+/v5oIWz0uL+/PyV4UV/lwS6fV6xXWDU68+uKsbbbP/ySvDMk/VtwbU8icKaWAHWwlkzsfN2VyranDmJlJ4PwoK4YdZA6KJxLNGtCgDooRKu7Utk41EGs7GQQHtQVow5SB4VziWZNCFSyDjbh0LKXZP8z5LGxsUn/2c3zzz//a1/72iuvvJJie+jQodgfxd92223nn39+7KQx5qabbmruB+hmTzBl/D58VY5N661btxpjrr322ijZt7/97eiWZ/QrjoUCeczvSV/LXn/9dWPMqaeeGh3Y8ePHzz333K6urvC/Rbj99tuNMTfffHO0TcZjxQQVQ8WSkoht3LjRGLN48eLw2h/96EfGmMsuu0zxnx9WTFAxlLWSKNnG0YNt27Z1dHRMnz79V7/6VfR8luM8Eswynti1u3fvTlbBRs88++yzsbCFf8yDXT6vWK+wavQRkIixtkuUJpVvwbV9UgdOTipAHZyUZdKT8meQOojVpFMo5aREjDooUZoUmTo4KQsnQwHqoHwmyJ9B6iBW8nkVtpSIUQclSpPKUwcnZeFkKFDVOsj9lQtk/DPkt99++9Of/nTsz9LPPPPMv//7vx8fH687jClTpkSvDf8a5/j4+AMPPHDGGWdEvzLGfPrTn3777bfrxow1yJhgLJqHH8uxab127VpjzHe/+92o4CuvvGKM+fjHPx49yXFDAnnM75QXjtNPPz02vCeffLK9vf3CCy984oknOjo6zjvvvBMnTsTaZPmomKBiqFhGQrGFCxcaY77zne8cOnTo/e9//9SpU3V/zIBigoqhrJVQybYPD/bv3//e9763s7Mz+qPpY22a+JhHgk0Mo9YlK1eujNW/Jj7q/ucjtYba0Pk82BuaVy2+XmHV0HSt9d+Mh/8JV7QasrYbY2J/0zqpFMNvzbU9hsDHFAHqYApO7CvW9hhIykesUnAm/UooRh2kDk46fziZRYA6KNcTrlRhQH4/KF+vWtwqnDDC2UUdlM8r+2jz+0FLwcGkAlWtg5Mmy8lJBbL8GfLo6OgVV1wR+7P0a6655rXXXpu0r9jJnTt3xq4dHR21bV577bVrrrkm1uCKK66ItrGNUw6yJJgS1p+vyrFpvWjRImPMrl27YnB/8Ad/8Id/+Iexk3yUC+Qxvyd9LbvnnnuMMZ/61KeSY7v11luNMT09PR0dHU899VSyQZYzigkqhoplJBR79dVXzzrrrDPPPPPKK680xmzcuDEWJ+NHxQQVQ9mkhEq2fRAEx44du/DCC40x999/f/R89uM8Esw+Khth/vz5seLXxMeLLrrIBvTkIA/2RudVK69XWDX6IAjFWNuTf0iR8s7Qymt7ozOwldtTB+V3X7hS2YDUwdh/ZJOyXrWyVThhhLOLOkgdtCsMB1oC1EG5pHClsgFbeW3Hyk4D4YFQjDpIHRTOKJrJBapaB+UCtMzyZ8i33XZb9A/Su7u7v/Od7whJJyYmotcaYx588MHktf/8z//c3d0dbfnFL34x2SzlTJYEU8L681U5Nq3/9E//1Bjz4osvxuDOOeecqVOnxk66/zgxMXGsnL+WLVtmH48VK1ao0IWvZbNnz/7S737deuutl112mTGmt7d33759yS6OHj16yimnhD/EP/ltxjPRB3jZsmVZ7lIeVmF2crFHHnkkvF8LFy7MKJO83HMruZJNLfyPXWL/rID9NsuBolWWOTnptYcOHYqVPfuMN3TQ09Nz+PDhSbso6mQez2Cj86qV1yusGl005GKs7fJ3hiAIWnNtL2rhLWO/1MGGFiv5ShWGpQ7K16tWtgpni3x2UQfl84o6WMbC5HjM1EHq4LFjx/i9s/y5y8OKOih/DOVvCzYmvx+UT+/WbFnhOtiaN7S5rJte2x999NHon5+feuqpO3futOtP3YPk3/KvdcnOnTtPPfVU21dbW9u2bdtqNU6ej+5NaG3qJXsp8Ayb1gr4x44dszOsvAda8zt84Yg5nH322cn/5iCkv/POO8PG55577vHjxxXuRyRE9AGODSnLRy2rcKQNiV188cXGmEm3/yN5N3PouVVDSkEQfPnLXzbGXHLJJSMjI81wpF6Tk1WWOdlq12o9g43Oq1Zer7BKXRUm+bIhMdb26CKW8s7A2h6F4riVBaiD8ruPlXursChSByd5OUicakiJ3+PIJzMtKy/A2i6/xVi5t6IOJspdzRPUQfn8pCUCCDQnIK+Dr732Wm9vr+2lq6vriSeeqLl+Jb44dOiQvTY8GB4eTrT6/Yknnniiq6vLXnL22WcLfwJ5EATRvQl5gr/v2/ujcmxae/7jwdm0js7z8IXD/ui8119//Wtf+1p7e/sFF1zw1ltvRVsGQbBr167Ozs7zzjsv/CFL6v+MbvQBtktA9gPdtaAhsUsvvdQY8/LLL8cks3/03KohpR/84Aft7e1nn332b37zm+wyyQg5WWWfma0TQesZbGhetfh6hVVyKUg/05AYa3uImf7OwNreOos8mdYVoA7WJbINsLIUdQ+0rMIlnTqY/p7QhBJ1sO4cpkHrCGitVw2tVPx+MPpjnNPf21vcqokVnt8Phmjp84o62DqLPJkioCggf2f49Kc/He33vvvuk7zP2zZTpkyJXj4wMGC/qnXwN3/zN9FL/uIv/qJWy9j56N6EPMFYEJ8/lmPTeu3atcaY7373u1HKV155xRjz8Y9/PHqykGN+PHiUPfbSH351++23G2NWrVoVbTkyMjJnzpzwn7IeHR390Ic+1NbW9vjjj0fbZDyOPsCe/3hwu82fIhYEgZsXWQ+t5PPql7/85emnn97d3f3kk09mnD+1LlecV839kJOUqyr8Y3Ca/tEute5jEATyecV6hVXKRJr0K7kYa7ukArb42p6y7PNVTIA6OOmKVOukfKWiDmJVaxbVOi8Xow5SB2MrOR+zCFAHay1Kk56Xr1TUQawmnUIpJ+Vi1EHqYJZln2tjAhWug7FM+Zgi0MSfIf/85z+P7h//+Z//+cTERMoiH/tq586d0cuNMaOjo7E2yY/j4+Of/OQnoxc+//zzyWbJM9G9CTatkz6OzvzoRz8yxsT+bdpvf/vbxpi7777b0SCq2E0e83vS17ITJ06cc845XV1d0b8iHP7t6rVr14a0u3fv7urqmj17tuIPCVdMUDFUbCrJxZy9yGZc7PKwEiodOXLk/PPPN8Y88MADMWfFj3kkqDi8+fPnR6tdc8cXXXSR4pBUQuXBLpxXQRCwXmHV6DSWi7G2x/6QIvnOwNre6PRr8fbUQfkEkK9U1EGs5PMqbCkXow5SBxudXbRPF6AOpvtEv5WvVNRBrKIzR3IsF6MOUgclM4o2coGq1kG5AC2b+DPkpUuX2j9Cf+973/v666/LGScmJuy14cGDDz4ovPy1114788wz7eXXXXed5MImEpSE9adNOf6m9djY2KxZs3p6enbv3h3aHT58+AMf+EB3d3d0E9Qf1rKMJI/5PelrWRAEX//6140xS5cuDXGefPLJ9vb2Cy+88O2337Zcd911lzHmpptusmcyHigmqBgqlpRQLLzKzd+0LsumdWxeTUxMXHHFFcaYG264IYas+zG/yaAyzpUrV9pS1/SB+s/qz55aHuzCp4/1qtbfSo89g0EQYGWnunB2he1Z261beBB9Z2Btj+Hwsa4AdbAukW0gXKlY26mDds7ID4SzKwxIHYzBUgdjIHxsSIA6KOcSrlTUQeqgfFLZlsLZFbanDlq38IA6GAPhY0MCVa2DDSG0eONG/wz5lVde6e7utn+KfvvttzcEmJxyDV3+V3/1V7br7u7uV155pe7ljSZYN6BvDcqxaR0EwWOPPdbV1XXaaactW7bslltumTFjhjHm3nvv9Q20XOPJY37Xei07efLkOeec09nZOTw8fOzYsXPPPberq+uZZ56Jio2NjX3kIx9pa2v78Y9/HD3f9LFigoqhYulIxOwlvMhaivAgOq+++tWvGmO6u7vf+ev7X6rxK3Z5cx/zmwzNjSd21e7du22pa/rg2WefjYUt/GMe7JKnj/UqvPVYNfoISMRsTNZ2SxEesLbHQPjYkAB1UM4lWamog6EnVvJ5JRezMamDliI8oA7GQPjYkAB1UM7F2o5VHn/OEKpKZpf1pw5aivCAOhgD4WNDAlWtgw0htHjjRtf28C9Shn+K3t3d/eqrr8oBDx06FPvj9+HhYfnlQRDEtszvuuuuupc3mmDdgL41KM2mdRAETz/99J/92Z9NnTr1lFNOufjii//lX/7FN83SjSeP+V3rtSwIgvvvv98Y87nPfS7sd9If7b53797u7u6ZM2ceO3Ysu6digoqhYnlJxOwlvMhaCntg59U111wTKxLJj/aqLAf5TYYso4pe29/fn8xdfqa/vz8azZPjPNglT1/YL+sVVo0+CBIxG5O13VLYA9Z2S8FBEwLUQSGaZKWiDoaYWAknlW0mEbONqYOWwh5QBy0FB00IUAeFaJKVijoYYmIlnFS2mUTMNqYOWgp7QB20FBw0IVDJOtiEQ8te0uifIQ8MDNg/Nhf+gG5rO2XKFHutMWZgYMB+JT+I/nDySy+9tO6FjSZYN6BvDcq0ae2bXQXGU/n5rZigYig/Z45igoqhKm+VU4J79uzp6uqKlkz5cVdX1969e3MaWJawzCu5HlZYWQHFyaAYyg7Pq4PKJ+iVdt6DoQ7mLZxHfMVnUDFUHplmj6mYoGKo7HnlEUExQcVQeWSaPWblE8xOVKII1MES3Sw7VMVnUDGUHZ5XB4oJKobyisgORjFBxVB2eF4dVD5Br7TzHkwl62DeaFWK39DjPDY29p73vMf+yfl//Md/yCl27txpLwwPRkdH5Zfbllu2bLFxTj311LGxMfvVpAcNJThpBM9Psmnt+Q3Kd3iVn9+KCSqGyvemNhtdMUHFUM1mk+91pUhwaGjIVruGDoaGhvLlazZ6KdibTe7/v04xQcVQWTLK71rFBBVD5ZdvlsiKCSqGypJRftdWPsH86PyMTB30876kjErxGVQMlTLgAr9STFAxVIEgKV0rJqgYKmXABX5V+QQLtC2ka+pgIexZOlV8BhVDZckov2sVE1QMlV++WSIrJqgYKktG+V1b+QTzo/MzcvXqoJ/Ofo6qocc59vPkX3/9dWFSExMTsT9yf/DBB4XXxpq99tpr0VB1/9XOhhKM9VWKj2xal+I25TXIys9vxQQVQ+V1O7PFVUxQMVS2nPK6uhQJTkxM3HjjjdGCJzm+6aabJiYm8oLLFrcU7FlSVExQMVSWjPK7VjFBxVD55ZslsmKCiqGyZJTftZVPMD86PyNTB/28LymjUnwGFUOlDLjArxQTVAxVIEhK14oJKoZKGXCBX1U+wQJtC+maOlgIe5ZOFZ9BxVBZMsrvWsUEFUPll2+WyIoJKobKklF+11Y+wfzo/IxcvTrop7Ofo2rocf67v/s7+2fms2fPlme0cuVKe2F4IL822XLWrFk22gMPPJBsED3TUILRC8tyzKZ1We5ULuOs/PxWTFAxVC73MnNQxQQVQ2VOK5cAZUlwYmJiaGhI+HPCu7q6hoaGvN2x1v2LyLlMi8xBFeeVYqjMaeUSQDFBxVC5pJo5qGKCiqEyp5VLgMonmIua30Gpg37fn/joFJ9BxVDxUfrxWTFBxVB+2MRHoZigYqj4KP34XPkE/WB2OgrqoFPuzJ0pPoOKoTKnlUsAxQQVQ+WSauagigkqhsqcVi4BKp9gLmp+B61YHfQb26/RNfQ4r1271u4WL1q0SJjJoUOH7FXhwfDwsPDaSZt95jOfsQHXrVs3aRt7sqEE7VUlOmDTukQ3S3+olZ/figkqhtK/kRoRFRNUDKWRmX6MciW4Z8+e/v5+W/YmPejv7/fz37GO3rxysUdHLjxWTFAxlHDwjpspJqgYyjGCsDvFBBVDCQfvuFnlE3Ts6U931EF/7kX6SBSfQcVQ6WMu6lvFBBVDFaWR3q9igoqh0sdc1LeVT7Ao2ML7pQ4WfguEA1B8BhVDCQfvuJligoqhHCMIu1NMUDGUcPCOm1U+Qcee/nRXmTroD6n/I2nocV69erX90/LrrrtOmN2UKVPsVcaYgYEB4YW1mi1dutQGXLNmTa1m4fmGEkwP5ee3bFr7eV8cjary81sxQcVQju5ug90oJqgYqsEkHDUvY4LPPvvszTfffNFFF3V3d4clsKen56KLLrr55pvr/jsZjljrdVNG9no5vet7xQQVQ71riN58UExQMZQ3PO8aiGKCiqHeNURvPlQ+QW+kixkIdbAY90Z6VXwGFUM1koG7tooJKoZyl38jPSkmqBiqkQzcta18gu4oveyJOujlbXnXoBSfQcVQ7xqiNx8UE1QM5Q3PuwaimKBiqHcN0ZsPlU/QG+liBlKBOlgMXDl7behx/vWvf/3UU0/t3Lnzhz/8ofAPyXfu3Gk3mMOD0dHRjFS7d+/+4Q9/uHPnzqeeeurXv/51erSGEkwP5ee3bFr7eV8cjary81sxQcVQju5ug90oJqgYqsEkHDUvdYKHDx8Oq+nhw4cdeSl1U2p2iYFigoqhJCN330YxQcVQ7h0kPSomqBhKMnL3bSqfoHtSP3ukDvp5X3T/HZDKP86KCSqG8nNqKSaoGKryVn4myKhCAeqgtzNBcZFRDOUnl2KCiqGw8lNAPqrKTwY5RbVblrcOVvu+6GaX6+M8MTER27F+8MEHdcdfN1quCdbt3UEDNq0dIPvbReXnt2KCiqH8nBCKCSqGqryV+wSPHTsWVtZjx4657z1Lj8wruR5WWFkBxcmgGMoOz6uDyifolXaBg6EOFoif3rXiM6gYKn3MRX2rmKBiqKI00vtVTFAxVPqYi/q28gkWBetbv9RB3+6IHY/iM6gYyg7PqwPFBBVDeUVkB6OYoGIoOzyvDiqfoFfaBQ6mvHWwQLTSdZ3r47xy5crYprV7n1wTdJ9Oskc2rZMmLXSm8vNbMUHFUH7OMMUEFUNV3sp9guV9OWNeyWcLVlhZAcXJoBjKDs+rg8on6JV2gYOhDhaIn9614jOoGCp9zEV9q5igYqiiNNL7VUxQMVT6mIv6tvIJFgXrW7/UQd/uiB2P4jOoGMoOz6sDxQQVQ3lFZAejmKBiKDs8rw4qn6BX2gUOprx1sEC00nWd3+N86NCh2I718PCwe5/8EnSfy6Q9smk9KUurnKz8/FZMUDGUn9NLMUHFUJW3cp9geV/OmFfy2YIVVlZAcTIohrLD8+qg8gl6pV3gYKiDBeKnd634DCqGSh9zUd8qJqgYqiiN9H4VE1QMlT7mor6tfIJFwfrWL3XQtztix6P4DCqGssPz6kAxQcVQXhHZwSgmqBjKDs+rg8on6JV2gYMpbx0sEK10Xef3OE+ZMiW6aT0wMFAITn4JFpJOslM2rZMmLXSm8vNbMUHFUH7OMMUEFUNV3sp9guV9OWNeyWcLVlhZAcXJoBjKDs+rg8on6JV2gYOhDhaIn9614jOoGCp9zEV9q5igYqiiNNL7VUxQMVT6mIv6tvIJFgXrW7/UQd/uiB2P4jOoGMoOz6sDxQQVQ3lFZAejmKBiKDs8rw4qn6BX2gUOprx1sEC00nWd0+O8c+fO6I61MWZ0dLQQnJwSLCSXSTtl03pSllY5GZ3fg4OD1Ut7cHDQLiUrVqzIkiBWcj2s5FbuW5b35Yx5JZ8tWGFlBaiDlqLugaJV3b5oUKAAdbBA/PSuFZ9B6mA6dfRbrKIa6cdYpfvwbVkEqIPe3inqoPzWYIWVXEDeUnFeyTulpXuB8tZB91bl7TGP9/aJiQm7zRQePPjgg0URVX69YtO6qKnlRb9r1qyxD9vSpUu9GJPqIK699lqb4C233JIlNlZyPazkVu5blvfljHklny1YYWUFqIOWou6BolXdvmhQoAB1sED89K4Vn0HqYDp19Fusohrpx1il+/BtWQSog97eKeqg/NZghZVcQN5ScV7JO6Wle4Hy1kH3VuXtMY/39pUrV9ptpvCgQJ/Kr1dsWhc4u4rveu3atfZhW7JkSfED0h7BVVddZRNct25dlvBYyfWwklu5b1nelzPmlXy2YIWVFaAOWoq6B4pWdfuiQYEC1MEC8dO7VnwGqYPp1NFvsYpqpB9jle7Dt2URoA56e6eog/JbgxVWcgF5S8V5Je+Ulu4FylsH3VuVt0f19/ZDhw7ZPabwYHh4uECfyq9XbFoXOLuK73rDhg32eVuwYEHxA9IewYIFC2yCGzZsyBIeK7keVnIr9y3L+3LGvJLPFqywsgLUQUtR90DRqm5fNChQgDpYIH5614rPIHUwnTr6LVZRjfRjrNJ9+LYsAtRBb+8UdVB+a7DCSi4gb6k4r+Sd0tK9QHnroHur8vao/t4+ZcoUu8dkjBkYGCgWp/LrFZvWxU6wgnvfvHmzfd56e3sLHk0O3U+fPt0muGXLliw9YCXXw0pu5b5leV/OmFfy2YIVVlaAOmgp6h4oWtXtiwYFClAHC8RP71rxGaQOplNHv8UqqpF+jFW6D9+WRYA66O2dog7Kbw1WWMkF5C0V55W8U1q6FyhvHXRvVd4edd/bn3/+ebvBFB6Mjo4Wi1P59YpN62InWMG979u3L/rIHTlypOABqXZ/5MiRaHYvvPBClvBYyfWwklu5b1nelzPmlXy2YIVVKEAdlM8EXSt5v7R0L0AddG8u6VH3GaQOSszDNlhhFQroPoNyVVq6F6AOujeX9Kj7DLK2S8zDNlhhFQroPoNyVVq6FyhvHXRvVd4eFdf2iYmJyy67LLrH9OCDDxYr0wrrFZvWxc6xgnsfGRlpa2uzT92uXbsKHpBq97t27bKptbe3j4yMZAmPlVwPK7mV+5blfTljXslnC1ZYhQLUQflM0LWS90tL9wLUQffmkh51n0HqoMQ8bIMVVqGA7jMoV6WlewHqoHtzSY+6zyBru8Q8bIMVVqGA7jMoV6Wle4Hy1kH3VuXtUXFtHxkZufHGG9vb28NtJh/+gd1WWK/YtC7v06cz8r6+Pruzu379ep2gfkQZGhqyqc2cOTP7oLCSG2Ilt3LcstQvZ8wr+WzBCqsgCKiD8mmgbiXvmpaOBaiDjsGF3ak/g9RBoXwQBFhhlcc7g1yVlo4FqIOOwYXdUQeFUHmsV9RBOT5WcitaeitQ6jroraqHA9Ndr5555pmPfvSjU6dOfeWVVwpPVv2dofCMkgNg0zpp0lpnli9fbnd2582bV6Xk586da1MbHBzMnhpWckOs5FaOW5b65Yx5JZ8tWGEVBAF1UD4N1K3kXdPSsQB10DG4sDv1Z5A6KJQPggArrPJ4Z5Cr0tKxAHXQMbiwO+qgECqP9Yo6KMfHSm5FS28FSl0HvVX1cGDq69X4+Pjzzz/vQ6bq7ww+JBUbA5vWMZCW+7h9+3a7s2uM2b9/fzUIhoeHo3nt2LEje15YyQ2xkls5blnqlzPmlXy2YIUVdVA+B/KwkvdOS8cC1EHH4JLu8ngGqYMS+bANVljl8QzKVWnpWIA66Bhc0l0ezyBru0Q+bIMVVnk8g3JVWjoWKHUddGxV6u5Y20t9+9i0LvXtUxj82NjYtGnT7P7u6tWrFYJ6EGL16tU2qenTp4+NjWUfFFZyQ6zkVo5blvrljHklny1YYUUdlM+BPKzkvdPSsQB10DG4pLs8nkHqoEQ+bIMVVnk8g3JVWjoWoA46Bpd0l8czyNoukQ/bYIVVHs+gXJWWjgVKXQcdW5W6O9b2Ut8+Nq1Lfft0Bj84OGj3dzs6Op577jmduMVF2bt3b0dHh01K5WeDh9lgJb+rWMmtXLYs+8sZ80o+W7DCijoomQP5vTNIeqeNewHqoHvz9B7zewapg+ny0W+ximqkH2OV7sO3/gtQB327R9RB+R3BCiu5gLxlfvNKPgZauhQoex10aVX2vnhvL+8dZNO6vPdObeTDw8M9PT32j7YHBgbGx8fVojsPND4+3t/fb9Pp6ekZHh7WGgVWckms5FYuW5b95Yx5JZ8tWGEVlkLqYMpMyPWdIaVfvipQgDpYIH6y61yfQepgErzWGaxqySTPY5U04Uy5BKiDXt0v6qD8dmCFlVxA3jLXeSUfBi1dCpS9Drq0KntfvLeX9w6yaV3ee6c58jvuuMPu8hpjli1bVtJ96/Hx8WXLlkVzufPOOzWlggAruSdWcitnLSvwcsa8ks8WrLAyxlAHa00DB+8MtbrmfIEC1MEC8WNdO3gGqYMx85SPWKXgxL7CKgbCx3IJUAf9uV/UQfm9wAoruYC8pYN5JR8MLZ0JVKAOOrOqQEe8t5f0JrJpXdIbpzzs48ePz5gxI7rXW8Z96+TbRl9f34kTJ3SxsJJ7YiW3ctayAi9nzCv5bMEKK+pgrTng5p2hVu+cL1CAOlggfrRrN88gdTBqnn6MVbpP9Fusohocl06AOujJLaMOym8EVljJBeQt3cwr+Xho6UygAnXQmVUFOuK9vaQ3kU3rkt44/WFv3bq1s7Mzum/d39+/d+9e/Z7yibh3797oTwU3xnR2dm7dujWP3rCSq2Ilt3LTWX1IbAAAIABJREFUshovZ8wr+WzBCiu5gLwl80puRUvfBKiDPtwR3tvldwErrOQC8pYu55V8VLR0I0AddOOc3ovLZ5D39vR7Ef0Wq6hG+jFW6T5867NANeqgz8K+jY31yrc7IhkPm9YSpVZps2nTpti+dUdHx+rVqxX/Teg8KIeHh1evXt3R0RHdce/s7Ny0aVMe3YUxsZLbYiW3ctCyMi9nzCv5bMEKK7mAvCXzSm5FS68EqIPF3g7e2+X+WGElF5C3LGReyYdHSwcC1EEHyCldFPIM8t6eckdiX2EVA0n5iFUKDl/5LFCZOugzsm9jY73y7Y7UHQ+b1nWJWqtB8hkOd4Lnzp07NDS0a9euI0eO+CBy5MiRXbt2DQ0NzZ07N7pXHR7nvWMdCmAlnwlYya3yblmllzPmlXy2YIWVXEDeknklt6KlPwLUQff3gvd2uTlWWMkF5C19mFfy0dIybwHqYN7Cyfg+PIO8tyfvS60zWNWSSZ7HKmnCGf8FqlQH/df2Z4SsV/7cC8lI2LSWKLVWm61bt/b19SV3gu2Z6dOnL1iw4Kqrrrr22msHBwdXOPk1ODh47bXXXnXVVQsWLJg+fbodTPKgr68vp58KnpwHWCVNap3BqpaM4/MVezljXsnnD1ZYyQXkLZlXcitaeiJAHXTw5s57uxwZK6zkAvKWfs4rT6oAw6AOyh+lplv6+Qzy3i5//LHCSi5Ay9IJVKwOls6/wAGztheI32jXbFo3KtYS7U+cOHHnnXf29PQkt4R9PtPT03PnnXeeOHHC5U3CSq6Nldwqv5bVezljXslnC1ZYyQXkLZlXcita+iBAHfTkZZ73dvmNwAoruYC8ZSHzyocqwBiog/LHJNeWhTyDvLfLVwCssJIL0LJcAtWrg+XyL3a0rO3F+st7Z9NabtVyLYeHhwcHB6dNm5brm7pK8OnTpw8ODhb4b29jJX88sJJb5dGyqi9nzCv5bMEKK7mAvCXzSm5Fy2IFqIMq795ZgvDeLtfDCiu5gLxl4fOq2CpA79RB+cOSU8vCn0He2+XrAFZYyQVoWRaBqtbBsvj7ME7Wdh/uQvoY2LRO9+HbYGxsbMeOHYODgzNnzmxra8vprb2JsG1tbTNnzhwcHNyxY8fY2JgPtwor+V3ASm6l27LaL2fMK/lswQoruYC8JfNKbkXLogSog028dWe/hPd2uSFWWMkF5C09nFdFVQH6pQ7KHxzFlh4+g7y3y1cDrLCSC9DSf4Fq10H//f0ZIWu7P/ciORI2rZMmnKkpMDIy8sILL2zZsmXDhg3r1q275ZZbmv43fpq48JZbblm3bt2GDRu2bNnywgsvjIyM1ByoB19gJb8JWMmtsrdsnZcz5pV8tmCFlVxA3pJ5JbeipUsB6mATL+FNXMJ7uxwNK6zkAvKW5ZpXLqsAfVEH5c9RlpblegZ5b5evDFhhJRegpZ8CrVMH/fT3c1Ss7b7dFzatfbsjjAcBBBDIUYCXsxxxCY0AAggg4L0AddD7W8QAEUAAAQRyFKAO5ohLaAQQQAAB7wWog97fIgaIQMCmNZMAAQQQaCEBXs5a6GaTKgIIIIBAQoA6mCDhBAIIIIBACwlQB1voZpMqAggggEBCgDqYIOEEAt4JsGnt3S1hQAgggEB+Aryc5WdLZAQQQAAB/wWog/7fI0aIAAIIIJCfAHUwP1siI4AAAgj4L0Ad9P8eMUIE2LRmDiCAAAItJMDLWQvdbFJFAAEEEEgIUAcTJJxAAAEEEGghAepgC91sUkUAAQQQSAhQBxMknEDAOwE2rb27JQwIAQQQyE+Al7P8bImMAAIIIOC/AHXQ/3vECBFAAAEE8hOgDuZnS2QEEEAAAf8FqIP+3yNGiACb1swBBBBAoIUEeDlroZtNqggggAACCQHqYIKEEwgggAACLSRAHWyhm02qCCCAAAIJAepggoQTCHgnwKa1d7eEASGAAAL5CfBylp8tkRFAAAEE/BegDvp/jxghAggggEB+AtTB/GyJjAACCCDgvwB10P97xAgRYNOaOYAAAgi0kAAvZy10s0kVAQQQQCAhQB1MkHACAQQQQKCFBKiDLXSzSRUBBBBAICFAHUyQcAIB7wTYtPbuljAgBBBAID8BXs7ysyUyAggggID/AtRB/+8RI0QAAQQQyE+AOpifLZERQAABBPwXoA76f48YIQJsWjMHEEAAgRYS4OWshW42qSKAAAIIJASogwkSTiCAAAIItJAAdbCFbjapIoAAAggkBKiDCRJOIOCdAJvW3t0SBoQAAgjkJ8DLWX62REYAAQQQ8F+AOuj/PWKECCCAAAL5CVAH87MlMgIIIICA/wLUQf/vESNEgE1r5gACCCDQQgK8nLXQzSZVBBBAAIGEAHUwQcIJBBBAAIEWEqAOttDNJlUEEEAAgYQAdTBBwgkEvBNg09q7W8KAEEAAgfwEeDnLz5bICCCAAAL+C1AH/b9HjBABBBBAID8B6mB+tkRGAAEEEPBfgDro/z1ihAiwac0cQAABBFpIgJezFrrZpIoAAgggkBCgDiZIOIEAAggg0EIC1MEWutmkigACCCCQEKAOJkg4gYB3Amxae3dLGBACCCCQnwAvZ/nZEhkBBBBAwH8B6qD/94gRIoAAAgjkJ0AdzM+WyAgggAAC/gtQB/2/R4wQATatmQMIIIBACwnwctZCN5tUEUAAAQQSAtTBBAknEEAAAQRaSIA62EI3m1QRQAABBBIC1MEECScQ8E6ATWvvbgkDQgABBPIT4OUsP1siI4AAAgj4L0Ad9P8eMUIEEEAAgfwEqIP52RIZAQQQQMB/Aeqg//eIESLApjVzAAEEEGghAV7OWuhmkyoCCCCAQEKAOpgg4QQCCCCAQAsJUAdb6GaTKgIIIIBAQoA6mCDhBALeCbBp7d0tYUAIIIBAfgK8nOVnS2QEEEAAAf8FqIP+3yNGiAACCCCQnwB1MD9bIiOAAAII+C9AHfT/HjFCBNi0Zg4ggAACLSTAy1kL3WxSRQABBBBICFAHEyScQAABBBBoIQHqYAvdbFJFAAEEEEgIUAcTJJxAwDsBNq29uyU+D2hkZGTfvn2bN2/esGHD2rVr16xZs8LhrzVr1qxdu3bDhg2bN2/et2/fyMgIVrX4saolkzxfLqvsc56Xs+yG1YvA2i6/p1hhJReQt2Reya2yt6QOZjesXgSeQfk9xQoruYC8JfNKbpW9JXUwu2H1IvAMyu8pVljJBeQtmVdyq+wtqYPZDYmAQN4CbFrnLVz6+GNjY9u3b1++fHlfX19bW5vx5ldbW1tfX9/y5cu3b98+NjbmAzRW8ruAldxKtyUvZ7qe5Y3GMyi/d1hhJReQt2Reya10W1IHdT3LG41nUH7vsMJKLiBvybySW+m2pA7qepY3Gs+g/N5hhZVcQN6SeSW30m1JHdT1JBoCeQiwaZ2HakVivvjii4ODg9OmTfNmn7rmQKZNmzY4ODg8PFwUPVZyeazkVnm05OUsD9VyxeQZlN8vrLCSC8hbMq/kVnm0pA7moVqumDyD8vuFFVZyAXlL5pXcKo+W1ME8VMsVk2dQfr+wwkouIG/JvJJb5dGSOpiHKjER0BVg01rXsyLRjh8/fscdd3R3d9fcJfbyi56enjvuuOP48eMubwNWcm2s5Fb5teTlLD9b/yPzDMrvEVZYyQXkLZlXcqv8WlIH87P1PzLPoPweYYWVXEDeknklt8qvJXUwP1v/I/MMyu8RVljJBeQtmVdyq/xaUgfzsyUyAloCbFprSVYnztatW2fMmJGyK93b27tgwYIlS5YsXbp0cHAw+Y8E53FmcHBw6dKlS5YsWbBgQW9vb8rw+vr6tm7d6uZ+YCV3xkpulWtLXs5y5fU5OM+g/O5ghZVcQN6SeSW3yrUldTBXXp+D8wzK7w5WWMkF5C2ZV3KrXFtSB3Pl9Tk4z6D87mCFlVxA3pJ5JbfKtSV1MFdegiOgIsCmtQpjdYJs2rSps7MzuSU8b9689evX79q168iRIz5ke+TIkV27dq1fv37u3LnJ0XZ2dm7atCnvcWIlF8ZKbpV3S17O8hb2Mz7PoPy+YIWVXEDeknklt8q7JXUwb2E/4/MMyu8LVljJBeQtmVdyq7xbUgfzFvYzPs+g/L5ghZVcQN6SeSW3yrsldTBvYeIjkF2ATevshtWJkKygHR0dq1ev3r9/v89JDg8Pr169uqOjI7p7nfe+NVbyKYGV3MpBS17OHCD71gXPoPyOYIWVXEDeknklt3LQkjroANm3LngG5XcEK6zkAvKWzCu5lYOW1EEHyL51wTMovyNYYSUXkLdkXsmtHLSkDjpApgsEMgqwaZ0RsDqXb926NfZ3rAcGBp577rmyZPjcc88NDAzE9q1z+jnhWMlnBVZyKzcteTlz4+xPLzyD8nuBFVZyAXlL5pXcyk1L6qAbZ3964RmU3wussJILyFsyr+RWblpSB904+9MLz6D8XmCFlVxA3pJ5Jbdy05I66MaZXhDIIsCmdRa96lx7/Pjx2L9jvWzZsvHx8XJlOD4+vmzZsui+dV9f34kTJ3SzwEruiZXcylnLo0ePhs/I0aNHnXVKR0UJ8AzK5bHCineGWnPAzftVrd7Vz1MH1Ul9DsjaLr87WGFFHaw1B6iDtWQ4778Aa7v8HmGFFXWw1hygDtaS4TwCCOQkwKZ1TrAlC3vHHXdE93rLuGMdiifr6J133ql7M7CSe2Ilt8qp5Ztvvrl9+/b169cvXrx41qxZU6ZMiT7pU6ZMmTVr1uLFi7/yla9s3779zTffzGkYhC1KgGdQLo8VVsYY3hlqTQMH71e1us54njqYEbDsl7O2y+8gVlhRB1PmAHUwBYevfBZgbZffHaywog6mzAHqYAoOXyGAgLoAm9bqpOUL+OKLL/b09NitrIGBgdL9Heso+vj4eH9/v02np6dneHg42iDLMVZyPazkVuotf/GLX6xatWrWrFn2QRAezJo1a9WqVb/4xS/Uh0RA9wI8g3JzrLAKF0neGVJmQq7vVyn9NvcVdbA5t4pdxdouv6FYYUUdrDsHqIN1iWjgmwBru/yOYIUVdbDuHKAO1iWiAQIIaAmwaa0lWeI4g4ODdkOro6OjRP+OdS30vXv3dnR02KQGBwdrtWz0PFZyMazkVlotx8bGHnnkkU984hN28htjZs6cuWjRovXr12/btu2ll17av39/+O3+/ftfeumlbdu2rV+/ftGiRTNnzoxe9YlPfOKRRx4ZGxvTGhtx3AvwDMrNscLKLoC8M6RMhvzer1I6begr6mBDXJVvzNouv8VYYUUdlMwB6qBEiTb+CLC2y+8FVlhRByVzgDooUaINAghkF2DTOrthuSOMjY1NmzbN1ubVq1eXO5//G/3q1attUtOnT1fZe8Pq/3Tr/z9W9Y1UW5w8efKv//qv3/e+94XTvr29feHChVu2bHnjjTdi/Rw7dixsc+zYsdhXb7zxxpYtWxYuXNje3h62ed/73nfPPfeMjIzEWvLRfwGeQfk9wgor3hnkcyAPK3nvKS2pgyk4rfkVa7v8vmOFVR5rO/NKPq9UWlIHVRirFIRnUH43scKKOiifA3lYyXtPaUkdTMHhKwRKJ8CmdelumfKAt2/fbjd3jTH79+9X7qCgcMPDw9G8duzYkX0gWMkNsZJbZW/59NNPz5kzJ5zw06ZNW7du3YEDB2qFTdm0tpccOHBg3bp19j9nmTNnzk9+8hP7LQelEOAZlN8mrLDinUE+B/KwkvdeqyV1sJZMK59nbZfffaywymNtZ17J51X2ltTB7IbVi8AzKL+nWGFFHZTPgTys5L3XakkdrCXDeQRKKsCmdUlvnNqwly9fbjd3582bpxbXg0Bz5861qan8tE+s5HcVK7lVlpYnT5687bbbwr8Y3dvb+/DDD9f9W9GSTetwSCMjIw8//HBvb68xpr29/Ytf/OLJkyezjJZrXQrwDMq1scIqCALeGeTTQN1K3nWyJXUwacKZUIC1XT4TsMKKOiifA3lYNdR7rDF1MAbCRyvA2m4p6h5gVZfINsDKUtQ9wKoukUoD6qAKI0EQ8E2ATWvf7ojr8fT19dmd3fXr17vuPs/+hoaGbGozZ87M3hVWckOs5FZNt3z66acvuOCCcJJfffXVBw8elISSb1qH0Q4ePHj11VeHvcyZM+fpp5+W9EKbwgV4BuW3ACusgiDgnUE+DdSt5F3HWlIHYyB8jAqwtkc10o+xSveJfotVVCP9GKt0H5VvqYMqjFUNwjMov7NYYcXvB+VzIA+rhnqPNqYORjU4RqBKAmxaV+luNpzLyMhIW1ub3dndtWtXwyE8vmDXrl02tXf+nmjdv4GangpW6T7Rb7GKauR0/O///u9dXV3GmN7e3u9///vyXhrdtA4jf//7358+fboxpqur63vf+568O1oWIsAzKGfHCqtQgHcG+UzQtZL3G2tJHYyB8DEqwNoe1Ug/xirdJ/otVlGN9GOs0n1UvqUOqjBWNQjPoPzOYoVVKKD7exzmlXxeNd2SOtg0HRci4L8Am9b+36McR7hv3z67rWuMOXr0aI6dOQ995MiRaHYvvPBCliFgJdfDSm7VXMuHHnoo/JHgV155pfAvWNuOmtu0DoLg4MGDV155Zfijwjdu3GgDcuChAM+g/KZghVUowDuDfCboWsn7jbakDkY1OE4KsLYnTWqdwaqWTPI8VkmTWmewqiWjdZ46qCVZ1Tg8g/I7ixVWoYDu73GYV/J51VxL6mBzblyFQFkE2LQuy53KZZybN2+227q9vb259FFo0PDvhoY5btmyJctYsJLrYSW3aqLlxo0bwyl93XXX/fa3v200QtOb1kEQ/Pa3v73uuuvC3tm3blTeZXueQbk2VlhZAd4ZLEXdA0Wrun0lG1AHkyaciQmwtsdAUj5ilYIT+wqrGEjKR6xScLJ/RR3Mblj5CDyD8luMFVZWQPH3OMwrq5rHAXUwD1ViIuCVAJvWXt0O14PZsGGD3bResGCB6+7z72/BggU2wQ0bNmTpECu5HlZyq0Zbfu973wv/jvWqVasmJiYavTwIgiyb1kEQTExMrFq1Kvz71o888kgTA+ASBwI8g3JkrLCyArwzWIq6B4pWdfuKNaAOxkD4OKkAa/ukLJOexGpSlklPYjUpy6QnsZqUReUkdVCFsfJBeAbltxgrrKyA4u9xmFdWVf2AOqhOSkAEPBRg09rDm+JuSGvXrrV7ukuWLHHXsauerrrqKpvgunXrsnSLlVwPK7lVQy2ffvrp8N+xvv7665vbsc6+aR3uW4d/37qrq+snP/lJQynQ2I0Az6DcGSusrADvDJai7oGiVd2+og2og1ENjlMEWNtTcGJfYRUDSfmIVQpO7CusYiBaH6mDWpKVj8MzKL/FWGFlBRR/j8O8sqq6B9RBXU+iIeCtAJvW3t4aFwNbs2aN3dNdunSpiy7d9nHttdfaBG+55ZYsnWMl18NKbiVvefLkyQsuuMAYc+WVVzbxU8FtRxn/pnUY57e//W3471vPmTPn5MmTNjgHngjwDMpvBFZYWQHeGSxF3QNFq7p92QbUQUvBQV0B1va6RLYBVpai7gFWdYlsA6wsheIBdVARs/KheAbltxgrrKyA4u9xmFdWVfGAOqiISSgEPBdg09rzG5Tv8FasWGH3dAcHB/PtrIjog4ODNsEVK1ZkGQJWcj2s5Fbyll/84heNMb29vQcPHpRflWypsmkdBMH//u//hv/ez9q1a5O9cKZYAZ5BuT9WWFkB3hksRd0DRau6fdkG1EFLwUFdAdb2ukS2AVaWou4BVnWJbAOsLIXiAXVQEbPyoXgG5bcYK6ysgOLvcZhXVlXxgDqoiEkoBDwXYNPa8xuU7/CiRTTjnm6+A202umKCiqGazSbf6xQTVAyVb87NRnef4NNPPx3+U9bf//73mx31/7tOa9M6CIJNmzaF/7g1PyQ8401Rv9z9FFVPIT2gYoKKodLHXNS3igkqhipKI71fxQQVQ6WPuahv3SdIHSzqXpe0X/dT1DGUYoKKoRwjCLtTTFAxlHDwjpspJqgYyjGCsDv3CVIHhbeGZqGA+ynqWF4xQcVQjhGE3SkmqBhKOHjHzRQTVAzlGEHYnfsEqYPCW0MzBKohwKZ1Ne5jk1m4rzFNDrTZyxQTVAzVbDb5XqeYoGKofHNuNrrjBE+ePDlnzhxjzNVXX93skH9/neKmdRAEf/mXf2mMmTNnzsjIyO/74KhoAcdT1H26igkqhnLvIOlRMUHFUJKRu2+jmKBiKPcOkh4dJ0gdlNwU2kQFHE/RaNdujhUTVAzlJvdGe1FMUDFUo1m4aa+YoGIoN7k32ovjBKmDjd4g2jueou7BFRNUDOXeQdKjYoKKoSQjd99GMUHFUO4dJD06TpA6KLkptEGgSgJsWlfpbjaci+Ma0/D4Ml+gmKBiqMxp5RJAMUHFULmkmjmo4wTvuecelR8MHuatu2l98ODB3t5eY8w999yT2ZUAagKOp6jauMWBFBNUDCUevtOGigkqhnJKIO5MMUHFUOLhO23oOEHqoNO7W4nOHE9R92aKCSqGcu8g6VExQcVQkpG7b6OYoGIo9w6SHh0nSB2U3BTaRAUcT9Fo126OFRNUDOUm90Z7UUxQMVSjWbhpr5igYig3uTfai+MEqYON3iDaI1B2ATaty34HM43fcY3JNNamLlZMUDFUU6nkfpFigoqhck+7qQ5cJjg2Nva+973PGPPwww83Ndj4Rbqb1kEQ/OM//qMx5v3vf//Y2Fi8Mz4XJOByihaSomKCiqEKoajbqWKCiqHqDruQBooJKoYqhKJupy4TpA7WvR00SAq4nKLJ3h2cUUxQMZSDxJvoQjFBxVBNJOLgEsUEFUM5SLyJLlwmSB1s4gZxicspWoi2YoKKoQqhqNupYoKKoeoOu5AGigkqhiqEom6nLhOkDta9HTRAoHoCbFpX7542kJHLGtPAsPSaKiaoGEovP81IigkqhtLMUC+WywQfeeQRY8z06dO1fv62+qb1yMjItGnTjDGbNm3SM/Yi0ujo6Bu/+zU6OurFgMSDcDlFxYPSbKiYoGIozQz1YikmqBhKLz/NSIoJKobSzFAvlssEqYN6963hSNTBhslcXaD4DCqGcpV9Y/0oJqgYqrEcXLVWTFAxlKvsG+vHZYLUwcbujWpr6qAqp2YwxWdQMZRmhnqxFBNUDKWXn2YkxQQVQ2lmqBfLZYLUQb371nCk8tbBhlPlAs8E2LT27Ia4HY7LGuM2s//Xm2KCiqEKoajbqWKCiqHqDruQBi4T/MQnPmGMWbdunVam6pvWQRCsXbvWGPMnf/InWoMsNs7u3btXrlw5f/787u5u87tf3d3d8+fPX7ly5bPPPlvs2IS9u5yiwiHpNlNMUDGUbo5a0RQTVAyllZ1uHMUEFUPp5qgVzWWC1EGtuyaPQx2UWxXVUvEZVAxVlEZ6v4oJKoZKH3NR3yomqBiqKI30fl0mSB1Mvxd5fEsdzENVN6biM6gYSjdHrWiKCSqG0spON45igoqhdHPUiuYyQeqg1l2Tx6lAHZQnS0s/Bdi09vO+OBqVyxrjKKV3d6OYoGKod4/Rl0+KCSqG8kXn3eNwluALL7xgjGlvbz9w4MC7h9D8pzw2rQ8cONDW1maM+cUvftH8yDy4cs+ePf39/eFGda3/7e/v37NnjweDTRuCsymaNog8v1NMUDFUnhk3H1sxQcVQzeeT55WKCSqGyjPj5mM7S5A62PxNaupK6mBTbAVcpPgMKoYqAELQpWKCiqEEAy+giWKCiqEKgBB06SxB6qDgbmg2oQ5qauYZS/EZVAyVZ8bNx1ZMUDFU8/nkeaVigoqh8sy4+djOEqQONn+TmrqyMnWwqey5yCMBNq09uhnuh+KsxrhPLexRMUHFUEVppPermKBiqPQxF/WtswRXrVpljFm4cKFipnlsWgdBcMUVVxhjVq1apThUl6EmJiaGhoa6urpq7VVHz3d1dQ0NDU1MTLgcYUN9OZuiDY1KsbFigoqhFBNUDKWYoGIoxQQVQykmqBhKMUHFUM4SpA4q3rX0UNTBdB/fvlV8BhVD+aYUjkcxQcVQWPkpIB+Vs8lAHZTflIwtqYMZAR1frvgMKoZyjCDsTjFBxVDCwTtuppigYijHCMLunCVIHRTekezNKlYHs4MQoVgBNq2L9S+4d2c1pqg8FRNUDFWURnq/igkqhkofc1HfOktw1qxZxpgtW7YoZprTpvXmzZuNMbNnz1YcqrNQExMTN954Y3RbWnJ84403ertv7WyKOrtHsY4UE1QMFRukJx8VE1QM5QlObBiKCSqGig3Sk4/OEqQOurnj1EE3zoq9KD6DiqEUE1QMpZigYijFBBVDKSaoGEoxQcVQzhKkDiretZRQ1MEUHD+/UnwGFUNh5aeAfFSKk0ExlHz8Lls6S5A66Oa2Vq8OunGjl/wESrNp/U//9E833HDDvHnzwn9k9Fvf+lZ+KK0TOY8a8/LLL0f3ezo7O88555zFixf/9Kc/tbBHjx6dMWNGT0/P888/b0+GB+vXrzfGXHfddbHzzX1UTFAxVCyXdLH77rvPGPP5z38+dlUQBDt37mxra5s/f/7Y2Fjy20bPKCaoGMpmka4UNvvWt74VnXvJ40svvdQGzHKQR4LJ8bz55pthCm+88Uby26bP5LRpffDgwXC0hw4danpsRV04NDSUnC2SM0NDQ0WNOb3fPKao5BlkbQ/vC1bp8zP5bboYdVA+r6iDydmVPEMdTJpQB5MmyTPpK1XYnjoYOmCVnD/pZ9LFqIPyeUUdTJ9p4bfUwaQSdTBpkjyTvlKF7amDoQNWyfmTfiZdjDoon1fUwfSZFn5LHUwqVa8OJnPkTLkESrNpPWPGDGPMWWedFR6waa0yz/Lb2HjnL1x+6Xe/br311ssuu8wY09XV9fjjj9th79ixI7nhunfv3u7u7hkzZhw9etS2zHKgmKBiqFhG4ctZLbGJiYnYkYw5AAAgAElEQVSPfexjyb9u+9Zbb/X19U2ZMmXfvn2xgM19VExQMZTNJV0pbLZ79+5w1iX/96yzzjLGrFixwgbMcpBHgsnxbN++3Rgzc+bM5FdZzuT0chYEQV9fnzFmx44dWYbn/to9e/YIfyp4chu7q6vLz3/fOo8pKnkGgyBgbQ+CAKtGH+R0Mepg6JmuFLahDkrmHnUwpkQdjIHU+ih5BqmDoR5WtWZRrfPpYtRB+byiDtaaY9Hz1MGoRhAE1MEYSK2P6SuVvYrfD/L7QTsZ5Afps4s6GEqmK4VtqIOSWUcdjClVsg7GcuRj6QRKs2m9bdu2AwcOBEEQ/qcfbFqrTLX8NjYuv/zy6AjDuzYwMBA9edNNNxlj7r777vDk6Ojohz/84ba2tsceeyzaLMuxYoKKoWIZha8dKWIHDhyYOnVqb2/vwYMH7bU33HCDMea+++6zZzIeKCaoGMomVVfJtkwe3HvvvcaYefPmnTx5MvltE2fySDA5jPCnDixatCj5VZYz+b2cLVq0yBjzla98Jcvw3F/b39+f3I2Wn+nv73c/5ro95jFF5c8gaztWdadorEFdMeqg/cOvlLeFmGr0I3UwqkEdjGq8s8lKHYyB1PpYd6WyF1IHsbKTQXhQV4w6SB0UziVJM+pgTIk6GAOp9bHuSmUvpA5iZSeD8KCuGHWQOiicS5Jm1MGYUiXrYCxHPpZOoDSb1laWTWtLkf3A2cbG66+/bow59dRTo2M+fvz4ueee29XV9c5/CBYEwe23326Mufnmm6NtMh4rJqgYKpbUpC9nMbGNGzcaYxYvXhxe+6Mf/cgYc9lllyn+k7qKCSqGslYSJds4erBt27aOjo7p06f/6le/ip7PcpxHgsnxLF682Bizfv365FdZzuT3chYuzp/97GezDM/xtbt375bvT9dq+eyzzzoedt3u8pii8meQtR2rulM01kAiRh2UKMVgw4/UwRgLdTAKQh2MaqQfy59B6iBW6XMp+a1EjDooUUraBkFAHYyxUAejINTBqEb6sfwZpA5ilT6Xkt9KxKiDEqWkLXUwaUIdjJpUtQ5Gc+S4jAJsWpfxrqmN2fHGxumnnx4b+pNPPtne3n7hhRc+8cQTHR0d55133okTJ2JtsnxUTFAxVCyjlNeOqNjChQuNMd/5zncOHTr0/ve/f+rUqeHPHohFa/qjYoKKoWw6QiXbPjzYv3//e9/73s7OzuiPpo+1aeJjHgkmhzFr1ixjzLZt25JfZTmT38vZo48+aox55wfdZxme42tXrlxZaytafl73P7VREchjijb0DLb42o5Vo9NYKEYdNMbE/qZ1+J+4Rd8WYvjUwRhIEATUwagJdTCqkX4sXKnCINRB+XrV4lbhhBHOLuqgfF7Zx5k6aCnsAXXQUgRBQB2MaqQfC1eqMEiLr+1Ypc+l5LdCMeogdTA5eZo4Qx2MolW1DkZz5LiMAmxal/GuqY3Z2cbGPffcY4z51Kc+lRz6rbfeaozp6enp6Oh46qmnkg2ynFFMUDFULKNJX86SYq+++upZZ5115plnXnnllcaYjRs3xuJk/KiYoGIom5RQybYP/1T6wgsvNMbcf//90fPZj/NIMDmqKVOmGGNeeuml5FdZzuT3cvbSSy+98+PBTznllCzDc3zt/Pnz5ZvTtVpedNFFjoddt7s8pmijz2Arr+1Y1Z2isQZCMepg8g8pkm8LUdtjx45RB6Mg4TF1MGpCHYxqpB8LVyobhDoY+49sUtarVrYKJ4xwdlEHqYN2hclyQB2M6lEHoxrpx8KVygZp5bUdKzsNhAdCMeogdVA4o9KbUQejPlWtg9EcOS6jAJvWCndtYmLiWDl/LVu2zG7DrFixQsEiCMJXjXf+tuWXfvfr1ltvveyyy4wxvb29+/btS3Zx9OjRU045xRhz0003Jb/NeCa6c7Ns2bIsdykPqzA7udgjjzwS3q+FCxdmlEle7rmVXMmmFv4Ty9dee609o3WgaFVrTh49ejS81/v376/Vprnzr732Whj5tddeay5Crav2798fRj569GitNl6dP3ToUHd3dzjmLP/b09Nz+PBhr1LLY71q9Bls5bUdq0YXW7kYdVD+fhUEAXVw0pWZOmhZqIMNLVbylSoMSx2Ur1etbBXOFvnsog7K5xV10K72sQPqoAWhDlIHjx07xu+d7RNR9yAPK+qg/DGUvy3YmPx+cNJZTR20LBWugzZH9weK/5arfZZb8IBNa4Wbbv8LnSzbHoVfq7tpHUvn7LPPfvHFFye1vvPOO8PG55577vHjxydt0/TJ6OZibEhZPmpZhXmFrx2x8dQSu/jii40xk27/N60UXui5VUNKQRB8+ctfNsZccsklIyMjGWWSl+dkFZsDfERARUBrvWr0GWzltR2r5LKZfqYhMepgdGWo9bZAHYwqcdziAtRB+QTAyr1VWB+pg+nvCU0oUQflk5mWlRdgbZffYqzcWzWxwvP7weht4veDUQ2OEfBB4NixY5I3W9qkC7Bpne4j+pZN6yhT+Ftu++PgXn/99a997Wvt7e0XXHDBW2+9FW0ZBMGuXbs6OzvPO++88AcHqf/TsDltLmq9yIYaDYldeumlxpiXX345Jpn9o+dWDSn94Ac/aG9vP/vss3/zm99kl0lGyMnKh8rKGKonoLVeNfQMtvjajlVy2Uw/05AYdTDETH+/og5WbzEno6YFqINyOqzcW4VLOnUw/T2hCSXqoHwy07LyAqzt8luMlXurJlZ4fj8YovH7Qfl0pSUCLgXYtJa82Ndtw6Z1XaL6Dfjx4FGj2G+5w69uv/12Y8yqVauiLUdGRubMmRP+U9ajo6Mf+tCH2traHn/88WibjMfRzUXPfzy43eZPEQuCwM3LmYdW8nn1y1/+8vTTT+/u7n7yySczzp9alyvOq1o/pYQfD15LRvF8hX8MTh4/tkv+DLK2Y1Vr8ax1Xi5GHZS8LVAH0ysFPw7O+lAHay1Kk56Xr1TUQawmnUIpJ+Vi1EHqoF3Dmz6gDlo66mDKupT8Sr5SUQexSs6f9DNyMeogddCu4U0fUActXYXroM3R/QE/Hjx9wRd+y6a1EKqazaJ7bzn9F4Uh3IkTJ84555yurq7oXxEO/3b12rVrwza7d+/u6uqaPXu24g8JV0xQMVRsMk36cjapmLOXs4yTIQ8rodKRI0fOP/98Y8wDDzwQc1b8mEeCyeFNmTLFGPPSSy8lv8pyxv5kCPX/8uull14yxpxyyilZhuf42vnz52f/r+0uuugix8Ou210eU1T4DAZBwNqOVd0pGmsgF6MOxv6QIvm2QB2Mza7kR+pg1IQ6GNVIP5avVNRBrNLnUvJbuRh1kDqYnD+NnqEORsWog1GN9GP5SkUdxCp9LiW/lYtRB6mDyfnT6BnqYFSsqnUwmiPHZRRg07qMd01tzM42NoIg+PrXv26MWbp0aTj6J598sr29/cILL3z77bdtPnfddZcx5qabbrJnMh4oJqgYKpbUpC9nSbHwKjd/07osm9YxpYmJiSuuuMIYc8MNN8SQdT/mNxmi45w1a5YxZtu2bdGT2Y/zezl79NFHjTGzZ8/OPkhnEVauXJl901r93zXInn4eU1S4UrG2B0GAVaNzWCgWhqUOxnij71fUwRjOpB+pg1EW6mBUI/1YuFJRB6mD6RNp0m+Fsyu8ljoYM6QOxkDqfqQORomog1GN9GPhSkUdpA6mT6RJvxXOrvBa6mDMkDoYA6n7kToYJapqHYzmyHEZBUqzaf3Nb37zmt/9mjt37jsbOQsWLAg/fvOb3yyjuydjdrmxcfLkyXPOOaezs3N4ePjYsWPnnntuV1fXM888E6UYGxv7yEc+0tbW9uMf/zh6vuljxQQVQ8XSqfVyFhWzl/ByZinCg6jSV7/6VWNMd3f3O399/0s1fsUub+5jfpMhOp7FixcbY9avXx89mf04v5ezoaEhY8xnP/vZ7IN0FmH37t3ZN62fffZZZwMWdpTHFJWsVKzt4Q3CSjhRbTOJmG1MHbQU4QF1MAZS9yN1MEpEHYxqpB9LVirqYGiIVfpcSn4rEbNXUQctRXhAHYyB1P1IHYwSUQejGunHkpWKOhgaYpU+l5LfSsTsVdRBSxEeUAdjIHU/UgejRFWtg9EcOS6jQGk2ra+55ppJtxauueaaMrp7MmaXGxtBENx///3GmM997nNhv3fffXfSYe/evd3d3TNnzlT52cWKCSqGimVd6+UsKmYv4eXMUtgDO69qrRLRpcNeleUgv8kQHdX69euNMYsWLYqezH6c38vZokWL3vnx4F/5yleyD9JlhP7+/ugMafS4v7/f5WiFfeUxRSUrVdgvaztWwolqm0nEbGPqoKWwB9RBSyE5oA7GlKiDMZBaHyUrFXUw1MOq1iyqdV4iZq+lDloKe0AdtBSSA+pgTIk6GAOp9VGyUlEHQz2sas2iWuclYvZa6qClsAfUQUshOaAOxpQqWQdjOfKxdAKl2bQunWwpBpzHxoZXiSsmqBjKKyI7GMUEFUPZ4Xl14CbB7du3G2Nmzpypm3t+L2d9fX3GmB07dugOOO9oe/bs6erqanSvOmzf1dW1d+/evEfYRHw3U7SJgWldopigYiit7HTj/H/t3VGMFdd9+PGzuyxr1CpRquxualx5YS2lXslVi5v2AUFqmbYPESC1YGzUNgVKfEUtL0aWwtKYNFLLYrfIqvLSl2Lhh6pSzVqgPhSbbZPWD4Gu6hSrQOVdTKs8NPFiAjHsrZfd+8+/0xyP5+7M/d07v3Pm3JmvH5K5M+f+zvl9zpn7m+vj3VVMUDGUbo5a0RQTVAyllZ1uHD8JUgd1Zy0tGnUwTSbk84r3oGKoMMUUE1QMhVWYAvJR+VkM1EH5jORpSR3Mo1fUexXvQcVQRWlk96uYoGKo7DEXdVUxQcVQRWlk9+snQepg9ixoXS1lHdTCIU5RAmxaFyUfRL9+akyBqSomqBiqQJCMrhUTVAyVMeACL/lJ8IMPPoh2Rm/cuKGYrKNN6/n5+Wi0N2/eVBytn1DRLzbvYN96cnLSzwjb7cXPEm13VIrtFRNUDKWYoGIoxQQVQykmqBhKMUHFUIoJKobykyB1UHHKskNRB7N9AryqeA8qhgoQqtFoKCaoGAqrMAXko/KzGKiD8hnJ2ZI6mBPQ/9sV70HFUP4dJD0qJqgYSjJy/20UE1QM5d9B0qOfBKmDkrlQaVO+OqjCQpACBdi0LhC/+K791JgC81RMUDFUgSAZXSsmqBgqY8AFXvKW4Pr1640xZ8+eVUzW0ab1mTNnjDGjo6OKQ/UWanl5+Q//8A/b3bR+5plnlpeXvQ2yrY68LdG2RqXYWDFBxVCKCSqGUkxQMZRigoqhFBNUDKWYoGIobwlSBxVnLSMUdTADJ8xLivegYiiswhSQj0pxMSiGko/fZ0tvCVIH/UwrddCPs2IvivegYijFBBVDKSaoGEoxQcVQigkqhlJMUDGUtwSpg4qzlhGqfHUwI1kudYUAm9ZdMU2uBumtxrhKoFVcxQQVQ7UadTHXFRNUDFWMRatevSU4Pj5ujNm2bVurEbVx3dGm9datW40x4+PjbQwlpKbLy8uTk5PC3xPe398/OTkZ7I617g8VhTRLH49F8R5UDPXx+EI6UkxQMVRIQh+PRTFBxVAfjy+kI28JUge9TTt10Bu1SkeK96BiKJXU1IMoJqgYSj1NlYCKCSqGUklNPYi3BKmD6nOXFpA6mCYT5nnFe1AxFFZhCshHpbgYFEPJx++zpbcEqYPeprVkddCbGx05EmDT2hFsd4T1VmOK4lBMUDFUURrZ/SomqBgqe8xFXfWW4NWrV40xvb29169f10rWxab1e++919PTY4y5evWq1jgLifNv//ZvmzZtyv6R602bNoX5d6zjYt6WaLxTn8eKCSqG8ikg70sxQcVQ8vH7bKmYoGIonwLyvrwlSB2UT4pKS+qgCqOHIIr3oGIoD4l30IVigoqhOkjEw1sUE1QM5SHxDrrwliB1sIPZyfMW6mAePZ/vVbwHFUP5FJD3pZigYij5+H22VExQMZRPAXlf3hKkDsonRaVlaeqgigZBChRg07pA/OK79lZjikpVMUHFUEVpZPermKBiqOwxF3XVZ4KPP/64MebIkSNaybrYtJ6YmDDGbNmyRWuQxcb57ne/++yzz37hC19YvXp1tIE9MDDwhS984dlnn/3ud79b7NiEvftcosIh6TZTTFAxlG6OWtEUE1QMpZWdbhzFBBVD6eaoFc1ngtRBrVmTx6EOyq2Kaql4DyqGKkoju1/FBBVDZY+5qKuKCSqGKkoju1+fCVIHs+fCxVXqoAtV3ZiK96BiKN0ctaIpJqgYSis73TiKCSqG0s1RK5rPBKmDWrMmj1OCOihPlpZhCrBpHea8eBqVzxrjKaVPdqOYoGKoT44xlFeKCSqGCkXnk+PwmeDp06eNMUNDQ/V6/ZOj6PCV+qZ1vV4fHBw0xkxNTXU4plDf9sMf/jDatP7hD38Y6hhXHpfPJbryCByfVUxQMZTjpDsMr5igYqgOk3H8NsUEFUM5TrrD8D4TpA52OEkab6MOaig6iaF4DyqGcpJq7qCKCSqGyp2WkwCKCSqGcpJq7qA+E6QO5p6uzgNQBzu3c/xOxXtQMZTjpDsMr5igYqgOk3H8NsUEFUM5TrrD8D4TpA52OEkab+veOqiRPTGKFGDTukj9wvv2WWMKSVYxQcVQhVC07FQxQcVQLYddSAOfCS4uLq5du9YY8+qrr6okq75pferUKWPMAw88sLi4qDLCcIKoW3lLzecS9ZZUvCPFBBVDxUcYzrFigoqhwvGJj0QxQcVQ8RGGc+wzQepggfNOHSwQP7trxXtQMVT2mIu6qpigYqiiNLL7VUxQMVT2mIu66jNB6mBRs9xoNKiDBeJnd614DyqGyh5zUVcVE1QMVZRGdr+KCSqGyh5zUVd9JkgdLGqWu7oOFohG1yoCbFqrMHZrEJ81phAjxQQVQxVC0bJTxQQVQ7UcdiENPCd47NgxY8zw8PD8/Hz+fHW/eM/Pzw8PDxtjjh07ln9soUXQtfKZnecl6jO1qC/FBBVD+XeQ9KiYoGIoycj9t1FMUDGUfwdJj54TpA5KJsVFG+qgC1WVmIr3oGIoldTUgygmqBhKPU2VgIoJKoZSSU09iOcEqYPqMygMSB0UQvlvpngPKoby7yDpUTFBxVCSkftvo5igYij/DpIePSdIHZRMios23VsHXWgQ06cAm9Y+tYPry3ON8Z+/YoKKofw7SHpUTFAxlGTk/tt4TrBer4+NjRljdu/enT9Z3QeOp556yhgzNjam9dvL8yeoGEHXSnFgLUN5XqItx6PeQDFBxVDqaaoEVExQMZRKaupBFBNUDKWepkpAzwlSB1VmrYMg1MEO0Py8RfEeVAzlJ/d2e1FMUDFUu1n4aa+YoGIoP7m324vnBKmD7U6QVnvqoJakehzFe1AxlHqaKgEVE1QMpZKaehDFBBVDqaepEtBzgtRBlVnrIEj31sEOkuUtQQmwaR3UdPgejOca4zu9RkMxQcVQ/h0kPSomqBhKMnL/bfwneOHChd7eXmPM66+/njNfxQeOqakpY0xfX9/FixdzjirMtytaeU7Q/xLt3gSxks8dVlhZAf+LgTpo8X0eUAd9arfVl+I9qBiqrRS8NVZMUDGUt/Tb6kgxQcVQbaXgrbH/BKmD3iY33hF1MK4R1LHiPagYKigiOxjFBBVD2eEFdaCYoGKooIjsYPwnSB20+D4PurcO+lSiLxcCbFq7UO2amPEaU6vVumbc4oHWajXzk38OHDggft8KDbFaASXlFFYpMLlOHz58WOWXhGs9cLz//vtDQ0PGmImJiVyJBfxmLSv/KXIPys2xwsoK8MxgKVoeKFq17Ms2oA5aCm8H1EFv1O12pHgPUgfl+FhhZQUU70Ebs+UBdbAlkXoD6qA6qVZAxXuQz3b5pGCFlRVQvAdtzJYH1MGWROoNurcOqlMQ0LMAm9aewcPq7rnnnvvJlq7Zu3dvWIPTGM2ePXtsgocOHcoTEiu5HlZyK3nLhYWF6JeEb9++/d69e/I3JlqqPHDcu3dv+/btJf7F4BGailXC389L7kG5M1ZYWQGeGSxFywNFq5Z92QbUQUvh7YA66I263Y4U70HqoBwfK6ysgOI9aGO2PKAOtiRSb0AdVCfVCqh4D/LZLp8UrLCyAor3oI3Z8oA62JJIvUH31kF1CgJ6FmDT2jN4WN1NTEzYPd0nn3wyrMFpjGbXrl02wSNHjuQJiZVcDyu5VVstL1y40N/fb4zZt2/f8vJyW++1jfM/cCwvL+/bt88Ys3r16rL+YvCIK7+VZfd8wD0oB8cKKyvAM4OlaHmgaNWyr3gD6mBcw8MxddADcmddKN6D1EH5FGCFlRVQvAdtTMkBdVCipNiGOqiIqRtK8R7ks10+NVhhZQUU70EbU3JAHZQoKbbp3jqoiECoQgTYtC6EPZROT5w4Yfd0N27cGMqw9MaxceNGm+CJEyfyBMZKroeV3Krdlq+99lr0x63Hx8c727fO+cCxvLw8Pj5ujOnt7T19+nS74++u9jmtCkyWe1COjxVWVoBnBkvR8kDRqmVfiQbUwQSI05fUQae8eYIr3oPUQflEYIWVFVC8B21M4QF1UAil0ow6qMLoIojiPchnu3yCsMLKCijegzam8IA6KIRSada9dVAlfYIUKMCmdYH4xXd95swZu6c7PDxc/IC0RxD9zd0ox7Nnz+YJj5VcDyu5VQctT548GS3pffv2dfB7wvM8cNy7d2/v3r1R76+88koHg++ut+SxKjZT7kG5P1ZYWQGeGSxFywNFq5Z9NTegDjabODpDHXQEmz+s4j1IHZRPB1ZYWQHFe9DGlB9QB+VWOVtSB3MCunu74j3IZ7t8mrDCygoo3oM2pvyAOii3ytmye+tgzsR5e+ECbFoXPgVFDuDy5ct209oYc+vWrSJHo933rVu34tlduXIlTw9YyfWwklt11vLkyZPRz1tv3759fn6+rSAdP3C8//770d+x7u3trcKOdaPR6NiqrRlx0Zh7UK6KFVaRAM8M8pWgayXvN96SOhjXcHdMHXRnmyey7j1IHZTPBVZYRQK696BcNd6SOhjXcHdMHXRnmyey7j3IZ7t8LrDCKhLQvQflqvGW1MG4hrvj7q2D7kyI7EeATWs/zoH2Uq/Xe3p67M7uzMxMoAPtaFgzMzM2td7e3nq93lGY/3sTVnI9rORWHbd87bXXor9vPTQ0NDU1JY/T2QPH1NRU9N9R9vf3l/63glvMzqzs2ws84B6U42OFVSTAM4N8JehayftNtKQOJkBcvKQOulDNH1P3HqQOymcEK6wiAd17UK6aaEkdTIC4eEkddKGaP6buPchnu3xGsMIqEtC9B+WqiZbUwQSIi5fdWwddaBDTpwCb1j61Q+xrZGTE7uweP348xCF2OqbJyUmb2rp16zoN8/H7sPrYotURVq2EFK5fuHDh4Ycfjhb57t27hT9y3e4Dx/z8/FNPPRX1MjY2dvHiRYWhd0mIdq2CSot7UD4dWGHVaDR4ZpAvA3UredeJltTBBIj6S+qgOqlKQPV7kDoonxessHLxzCBXTbSkDiZA1F9SB9VJVQJSB+WMWGElF5C3VF9X8q4TLamDCRD1l11dB9U1COhTgE1rn9oh9vX000/bnd1HH300xCF2OqYNGzbY1Gq1WqdhPn4fVh9btDrCqpWQzvWFhYXDhw9Hvyp8eHj41KlTLX+jgPyBo16vnzp1anh42BjT29s7MTGxsLCgM+4uiSK3CjAh7kH5pGCFVaPR4JlBvgzUreRdN7ekDjabKJ6hDipiKoZSvwepg/LZwQorF88MctXmltTBZhPFM9RBRUzFUNRBOSZWWMkF5C3V15W86+aW1MFmE8UzXV0HFR0I5V+ATWv/5mH1eP78ebuza4yZm5sLa3ydjmZ2djae1/T0dKeRPn4fVh9btDrCqpWQ5vWLFy+OjY1FC35wcHBiYuL69etpHUgeOK5fvz4xMTE4OBjFrNoPWFs6iZVtHNoB96B8RrDCimcG+RpwYSXvPa0ldTBNJud56mBOQBdvd3EPUgflM4UVVi7uQblqWkvqYJpMzvPUwZyALt7u4h7ks10+U1hh5eIelKumtaQOpsnkPN/VdTBn7ry9WAE2rYv1L773xcVFuzVljDl48GDxY9IYwcGDB+2m9dDQ0OLiYv6oWMkNsZJbqbRcWFg4duzY2rVro2Xf29u7devWM2fO3LhxIxE/44Hjxo0bZ86c2bp1q/1T9w888MCxY8da/vR2oovSvMywCj9H7kH5HGGFFc8M8jXgwkree0ZL6mAGTseXqIMd07l7o4t7kDoony+ssHJxD8pVM1pSBzNwOr5EHeyYzt0bXdyDfLbL5wsrrFzcg3LVjJbUwQycji91dR3sOGveGIIAm9YhzELBY6jVanZ/t6+v75133il4QLm7v3TpUl9fn01K5XeDR4PCSj45WMmttFouLi5OTU1t2bLFLn5jzMjIyI4dOyYnJ994441r167Nzc1FV+fm5q5du/bGG29MTk7u2LEj/if6jDFbtmyZmppS+a89tLLzH6fbH864B+VrBius7McmzwwZi8Hd81VGp21dog62xdWyMXWwJZHnBu7uQeqgfCqxwsrFM4NcNbsldTDbp92r1MF2xVy3pw7KhbHCSi4gb+luXcnHkN2SOpjt0+7Vbq+D7eZL+3AE2LQOZy4KG8ns7OzAwID96rV58+alpaXCRpO746WlpU2bNtl0BgYGZmdnc0f9vwBYySWxklupt7x69er4+Pjo6Ki9EYQHo6Oj4+PjV69eVR9SNwbs9ocz7kH5qsMKq+hDkmeGjJXg9Pkqo9/OLlEHO3NLvIs6mAAp9qXTe5A6KJ9crLBy8cwgVxW2pA4KobKbUQezfTxfpQ7KwbHCSi4gb+l0XcmHIWxJHRRCZTfr9uEj8nEAACAASURBVDqYnR1XQxZg0zrk2fE3thdeeCG+p7V///4u3bdeWlrav39/PJejR4/qOmIl98RKbuWo5c2bN6enp1988cUnnnhidHR0zZo18btjzZo1o6OjTzzxxEsvvTQ9PX3z5k1Hw+jSsCV4OOMelK89rLAyxvDMkLYMPDxfpXWd8zx1MA8gdTCPnu57PdyD1EH5lGGFlYtnBrlqWy2pg21xJRpTBxMgBb6kDsrxscJKLiBv6WFdyQfTVkvqYFtcicYlqIOJjHjZLQJsWnfLTLkd5507dx588MH4blY37ls3V9CRkZG7d+/q2mEl98RKbuWt5dLS0o3//adL/8MUb1CNRqMED2fcg/IFgxVWPDOkrQE/z1dpvaufpw7KSamDciunLf3cg9RB+SRihZWLZwa5as6W1EE5IHVQbuW0JXVQzosVVnIBeUs/60o+npwtqYNywBLUQXmytAxKgE3roKajyMGcO3du1apV8X3rTZs2Xbp0qcgxtdP3pUuX4r8V3BizatWqc+fOtRND2hYrqVSjgZXcipahCZTj4Yx7UL6usMJKLiBvybqSW9EyNAHqYAgzwncc+SxghZVcQN7S57qSj4qWfgSog36cs3vxeQ/y3J49F/GrWMU1so+xyvbhasgC5aiDIQsztjQBNq3TZKp4fmpqKrFv3dfXd/DgQcW/Ce2CdXZ29uDBg319ffEd91WrVk1NTbnoLoqJldwWK7kVLYMSKM3DGfegfF1hhZVcQN6SdSW3omVQAtTBYqeD7zhyf6ywkgvIWxayruTDo6UHAeqgB+SMLgq5B3luz5iRxCWsEiAZL7HKwOFSyAKlqYMhIzO2FQXYtF6Rpbonm+totBO8YcOGycnJmZmZW7duhaBz69atmZmZycnJDRs2xPeqo2PXO9aRAFbylYCV3IqW4QiU6eGMe1C+rrDCSi4gb8m6klvRMhwB6qD/ueA7jtwcK6zkAvKWIawr+Whp6VqAOuhauDl+CPcgz+3N85J2Bqs0mebzWDWbcCZ8gTLVwfC1GWFcgE3ruAbH/1/g3LlzIyMjzTvB9szQ0NDGjRt37dq1Z8+eWq12wMs/tVptz549u3bt2rhx49DQkB1M88HIyIij3wrevD6wajZJO4NVmgzngxUo2cMZ96B8pWGFlVxA3pJ1JbeiZSAC1EEP33L4jiNHxgoruYC8ZZjrKpAqwDCog/JbqeOWYd6DPLfLb3+ssJIL0LLrBEpWB7vOv8oDZtO6yrOfmvvdu3ePHj06MDDQvCUc8pmBgYGjR4/evXs3NTEHF7CSo2Ilt6JlCALlezjjHpSvK6ywkgvIW7Ku5Fa0DEGAOhjIFx++48gnAius5ALyloWsqxCqAGOgDspvE6ctC7kHeW6XfwJghZVcgJbdJVC+Othd/lUeLZvWVZ79FrnPzs7WarXBwUGnT58qwYeGhmq1WoF/exurFospdhmrGAaHQQuU9eGMe1C+7LDCSi4gb8m6klvRslgB6qDK95Q8QfiOI9fDCiu5gLxl4euq2CpA79RB+c3iqGXh9yDP7fLPAaywkgvQslsEyloHu8W/yuNk07rKsy/KfXFxcXp6ularrVu3rqenx9GTaAdhe3p61q1bV6vVpqenFxcXRck4boSVHBgruRUtixIo98MZ96B8XWGFlVxA3pJ1JbeiZVEC1MEOvqHkfwvfceSGWGElF5C3DHBdFVUF6Jc6KL9xFFsGeA/y3C7/NMAKK7kALcMXKHcdDN+/yiNk07rKs9927vV6/cqVK2fPnj1x4sSRI0cOHTrU8d+t6eCNhw4dOnLkyIkTJ86ePXvlypV6vd52Ah7fgJUcGyu5FS19ClTn4Yx7UL6usMJKLiBvybqSW9HSpwB1sIMvLB28he84cjSssJILyFt217ryWQXoizoov4/ytOyue5DndvknA1ZYyQVoGaZAdepgmP5VHhWb1lWefXJHAAEEEEgV4OEslYYLCCCAAAIVEKAOVmCSSREBBBBAIFWAOphKwwUEEEAAgQoIUAcrMMmBpsimdaATw7AQQAABBIoV4OGsWH96RwABBBAoVoA6WKw/vSOAAAIIFCtAHSzWn94RQAABBIoVoA4W61/l3tm0rvLskzsCCCCAQKoAD2epNFxAAAEEEKiAAHWwApNMiggggAACqQLUwVQaLiCAAAIIVECAOliBSQ40RTatA50YhoUAAgggUKwAD2fF+tM7AggggECxAtTBYv3pHQEEEECgWAHqYLH+9I4AAgggUKwAdbBY/yr3zqZ1lWef3BFAAAEEUgV4OEul4QICCCCAQAUEqIMVmGRSRAABBBBIFaAOptJwAQEEEECgAgLUwQpMcqApsmkd6MQwLAQQQACBYgV4OCvWn94RQAABBIoVoA4W60/vCCCAAALFClAHi/WndwQQQACBYgWog8X6V7l3Nq2rPPvkjgACCCCQKsDDWSoNFxBAAAEEKiBAHazAJJMiAggggECqAHUwlYYLCCCAAAIVEKAOVmCSA02RTetAJ4ZhIYAAAggUK8DDWbH+9I4AAgggUKwAdbBYf3pHAAEEEChWgDpYrD+9I4AAAggUK0AdLNa/yr2zaV3l2Sd3BBBAAIFUAR7OUmm4gAACCCBQAQHqYAUmmRQRQAABBFIFqIOpNFxAAAEEEKiAAHWwApMcaIpsWgc6MQwLAQQQQKBYAR7OivWndwQQQACBYgWog8X60zsCCCCAQLEC1MFi/ekdAQQQQKBYAepgsf5V7p1N6yrPPrkjgAACCKQK8HCWSsMFBBBAAIEKCFAHKzDJpIgAAgggkCpAHUyl4QICCCCAQAUEqIMVmORAU2TTOtCJYVgIIIAAAsUK8HBWrD+9I4AAAggUK0AdLNaf3hFAAAEEihWgDhbrT+8IIIAAAsUKUAeL9a9y72xaV3n2yR0BBBBAIFWAh7NUGi4ggAACCFRAgDpYgUkmRQQQQACBVAHqYCoNFxBAAAEEKiBAHazAJAeaIpvWgU4Mw0IAAQQQKFaAh7Ni/ekdAQQQQKBYAepgsf70jgACCCBQrAB1sFh/ekcAAQQQKFaAOlisf5V7Z9O6yrNP7ggggAACqQI8nKXScAEBBBBAoAIC1MEKTDIpIoAAAgikClAHU2m4gAACCCBQAQHqYAUmOdAU2bQOdGIYFgIIIIBAsQI8nBXrT+8IIIAAAsUKUAeL9ad3BBBAAIFiBaiDxfrTOwIIIIBAsQLUwWL9q9w7m9ZVnn1yRwABBBBIFeDhLJWGCwgggAACFRCgDlZgkkkRAQQQQCBVgDqYSsMFBBBAAIEKCFAHKzDJgabIpnWgE8OwEEAAAQSKFeDhrFh/ekcAAQQQKFaAOlisP70jgAACCBQrQB0s1p/eEUAAAQSKFaAOFutf5d7ZtK7y7JM7AggggECqAA9nqTRcQAABBBCogAB1sAKTTIoIIIAAAqkC1MFUGi4ggAACCFRAgDpYgUkONEU2rQOdGIaFAAIIIFCsAA9nxfrTOwIIIIBAsQLUwWL96R0BBBBAoFgB6mCx/vSOAAIIIFCsAHWwWP8q986mdZVnv+3c6/X65cuXz5w5c+LEiYmJieeee+6Ax3+ee+65iYmJEydOnDlz5vLly/V6ve0EPL4BKzk2VnIrWvoUqM7DGfegfF1hhZVcQN6SdSW3oqVPAeqgny86fMeRO2OFlVxA3rK71pXPKkBf1EH5fZSnZXfdgzy3yz8ZsMJKLkDLMAWqUwfD9K/yqNi0rvLsi3JfXFw8f/78008/PTIy0tPTY4L5p6enZ2Rk5Omnnz5//vzi4qIoGceNsJIDYyW3omVRAuV+OOMelK8rrLCSC8hbsq7kVrQsSoA6WMj3Hr7jyNmxwkouIG8Z4LoqqgrQL3VQfuMotgzwHuS5Xf5pgBVWcgFahi9Q7joYvn+VR8imdZVnv0Xu7777bq1WGxwcVHz6dBRqcHCwVqvNzs62SMnZZazktFjJrWhZrEBZH864B+XrCius5ALylqwruRUtixWgDjr65iIPy3ccrOQC8pasqy6yKrYK0Dt1UH6zOGrJ55UcFius5ALyloWvKypRsQJlrYPFqtK7RIBNa4lS5drcuXPnhRdeWL16tbyMhdByYGDghRdeuHPnjs8Jw0qujZXcipYhCJTv4Yx7UL6usMJKLiBvybqSW9EyBAHqYAhfcIwxfMeRTwRWWMkF5C0LWVchVAHGQB2U3yZOWxZyD/LcLv8EwAoruQAtu0ugfHWwu/yrPFo2ras8+yvnfu7cuQcffDDjiXN4eHjjxo1PPvnk3r17a7Vanj9dI39vrVbbu3fvk08+uXHjxuHh4YzhjYyMnDt3buXctM9iJRfFSm5Fy0AESvZwxj0oX1dYYSUXkLdkXcmtaBmIAHVQ/lWl45Z8x5HTYYWVXEDeMsx1FUgVYBjUQfmt1HHLMO9Bntvltz9WWMkFaNl1AiWrg13nX+UBs2ld5dlfIfepqalVq1Y1bwk/+uijx48fn5mZuXXr1gpv837q1q1bMzMzx48f37BhQ/NoV61aNTU15XpQWMmFsZJb0TIcgTI9nHEPytcVVljJBeQtWVdyK1qGI0Ad9D8XfMeRm2OFlVxA3jKEdSUfLS1dC1AHXQs3xw/hHuS5vXle0s5glSbTfB6rZhPOhC9QpjoYvjYjjAuwaR3XqPpxcwXt6+s7ePDg3NxcyDSzs7MHDx7s6+uL71673rfGSr4ksJJb0TIogdI8nHEPytcVVljJBeQtWVdyK1oGJUAdLHY6+I4j98cKK7mAvGUh60o+PFp6EKAOekDO6KKQe5Dn9owZSVzCKgGS8RKrDBwuhSxQmjoYMjJjW1GATesVWap48ty5c4mfsd68efM777zTLRbvvPPO5s2bE/vWjn5POFbyVYGV3IqWoQmU4+GMe1C+rrDCSi4gb8m6klvRMjQB6mAIM8J3HPksYIWVXEDe0ue6ko+Kln4EqIN+nLN78XkP8tyePRfxq1jFNbKPscr24WrIAuWogyELM7Y0ATat02Sqdf7OnTuJv2O9f//+paWl7lJYWlrav39/fN96ZGTk7t27ullgJffESm5FywAFbt++HX2e3L59O8DhSYbEPShRitpghRXPDGlrwM/zVVrvnC9QgDpYIH68az/3IHUwbp59jFW2T/wqVnENjrtOgDoYyJRRB+UTgRVWcgF5Sz/rSj4eWnoTKEEd9GZFR7oCbFrrenZrtBdeeCG+19uNO9YRfXMdPXr0qO6sYCX3xEpuRcvCBT744IPz588fP358586d69evv+++++Kfivfdd9/69et37tz54osvnj9//oMPPih8wJIBcA9KlKI2WGFljOGZIW0ZeHi+Suua894EqIPeqDvoyMM9SB2UzwtWWLl4ZpCr0tKRAHXQEaxKWOqgnBErrOQC8pYe1pV8MLR0JFDKOujIirCuBdi0di3cBfHffffdgYEBuz2zefPmrvsZ67jy0tLSpk2bbDoDAwOzs7PxBnmOsZLrYSW3omWBAlevXh0fH1+/fr390BAerF+/fnx8/OrVqwUOPrtr7sFsn/hVrOIa2cdYZfvEr2IV1+A4WAHqYLBTkxgY33ESIBkvscrASVzCKgGS8dKpVUa/XHItQB10LawV3+k9yHO7fJqwwir6l2a6/75drkpLdYES10F1KwJ6E2DT2ht1uB3VajW7SdPX19dFf8c6zfTSpUt9fX02qVqtltay3fNYycWwklvR0r/A4uLi6dOnH3/8cftBYYxZt27djh07jh8//uabb167dm1ubi66Ojc3d+3atTfffPP48eM7duxYt25d/F2PP/746dOnFxcX/WeR3SP3YLZP/CpWcY3sY6yyfeJXsYprcByaAHUwtBmRjIfvOBKlqA1WWMkF5C3drSv5GGipJUAd1JL0GcfdPchzu3wescLK/gsxxX/fLlelpZZAFeqglhVx/Auwae3fPKweFxcXBwcHbb05ePBgWOPrdDQHDx60SQ0NDansJ2Elnw2s5Fa09CywsLDwp3/6p2vXro0+Inp7e7dt23b27NkbN24kRvLhhx9GbT788MPEpRs3bpw9e3bbtm29vb1Rm7Vr1x47dqxerydaFvWSe1AujxVWPDPI14ALK3nvtFQRoA6qMBYVxMU9SB2UzyZWWLm4B+WqtFQRoA6qMBYVxMU9yGe7fDaxwsrFPShXpaWKQEXqoIoVQYoSYNO6KPlQ+j1//rzd3DXGzM3NhTKyfOOYnZ2N5zU9PZ0v3v9/N1ZyQ6zkVrT0KXDhwoWxsbHow2FwcPDIkSPXr19PG0DGprV9y/Xr148cOWL/05+xsbGLFy/aqwUecA/K8bHCimcG+RpwYSXvnZb5BaiD+Q2LjeDiHqQOyucUK6xc3INyVVrmF6AO5jcsNoKLe5DPdvmcYoWVi3tQrkrL/ALVqYP5rYhQoACb1gXiB9H1008/bTd3H3300SDGpDSIDRs22NRUfmMJVvKZwUpuRUs/AgsLC1/96lejH4weHh5+9dVXW/5UtGTTOhp8vV5/9dVXh4eHjTG9vb2HDx9eWFjwk1daL9yDaTLN57FqNkk7g1WaTPN5rJpNOFOsAHWwWH/F3vmOI8fECiu5gLyl+rqSd03LPALUwTx6Qb1X/R7kuV0+v1hh1Wg01O9BuSot8whUrQ7mseK9hQuwaV34FBQ8gJGREbuze/z48YJHo9r95OSkTW3dunX5Y2MlN8RKbkVLDwIXLlx4+OGHow+E3bt3z8/PSzqVb1pH0ebn53fv3h31MjY2duHCBUkvjtpwD8phscKq0WjwzCBfBupW8q5p2bEAdbBjugDfqH4PUgfls4wVVi6eGeSqtOxYgDrYMV2Ab6QOyicFK6zkAvKW6utK3jUtOxaoYB3s2Io3hiDApnUIs1DYGOr1ek9Pj93ZnZmZKWwoDjqemZmxqf34Zx9b/lRl9hCwyvaJX8UqrsFx4QJ/+7d/29/fb4wZHh5+/fXX5eNpd9M6ivz6668PDQ0ZY/r7+1977TV5d4otuQflmFhhFQnwzCBfCbpW8n5p2bEAdZDvOBmLhzqYgZO4hFUCJOMlVhk4XPIvQB2kDmasOj6vMnASl7BKgGS8xCoDh0v+BSpYB/0j06OuAJvWup5dFu3y5ct2W9cYc/v27S5LIHO4t27dimd35cqVzOYtLmLVAih2GasYBocFC/zVX/1V9CvBt2/fLvwBazvizjatG43G/Pz89u3bo18VfvLkSRvQ2wH3oJwaK6wiAZ4Z5CtB10reLy07E6AO8h0ne+VQB7N94leximtkH2OV7cNVnwLUQepg9nrj8yrbJ34Vq7hG9jFW2T5c9SlQzTroU5i+XAiwae1CtWtinjlzxm7rDg8Pd824xQONft4xyvHs2bPi963QEKsVUFJOYZUCw2nfAidPnoxu/3379t27d6/d7jvetG40Gvfu3du3b1/Uu/99a+5B+VxjhZUV4JnBUrQ8ULRq2RcN8ghQB6Pfs5LHMMz3Kt6D1EH5FGOFlRVQvAdtTA5cCFAHqYMt1xWf7S2JbAOsLEXLA6xaEtHAj0Bl66AfXnpxJ8CmtTvbLoh84sQJu2m9cePGLhhxm0PcuHGjTfDEiRNtvvsTzbH6BEfmC6wyebjoSeC1116LfsZ6fHx8eXm5g17zbFo3Go3l5eXx8fHo561Pnz7dwQA6fgv3oJwOK6ysAM8MlqLlgaJVy75o0LEAdTD6FsB3nOwlRB3M9olfxSqukX2MVbYPV/0IUAepg5KVxueVRClqgxVWVoDvg5Yi5IMq18GQ54WxSQTYtJYolbbNxMSE3dN98skny5fnrl27bIJHjhzJkyBWcj2s5Fa0dCRw4cKF6O9Y/8Ef/EFnO9aNRiPnpnW0bx39vHV/f//FixcdJdsclnuw2STtDFZpMs3nsWo2STuDVZoM570JUAftVwC+42SvOj6vsn3iV7GKa2QfY5Xtw1UPAtRB6qBwmfF5JYRqNBpYYWUFFP99u43Jga5AxeugLibR/Auwae3fPKAen3vuOfsgu3fv3oBGpjSUPXv22AQPHTqUJypWcj2s5Fa0dCGwsLDw8MMPG2O2b9/ewW8Ft0PKv2kd/Z7w6O9bj42NLSws2OBOD7gH5bxYYWUFeGawFC0PFK1a9kWDDgSog3y2y5cNVlhZAcXPdtaVVeWgEAHqIPegfOFhhZUVoA5aipYHilYt+6JBBwLUwQ7QeEtQAmxaBzUdvgdz4MABu6dbq9V8d+++v1qtZhM8cOBAng6xkuthJbeipQuBw4cPR3+7a35+Pk98lU3rRqPx/vvvR3/3bmJiIs945O/lHsTKClAHLUXLA6xaEtkGilY2JgeKAtRB6qB8OWGFlRVQ/GxnXVlVDgoRoA5yD8oXHlZYWQHqoKVoeaBo1bIvGnQgQB3sAI23BCXApnVQ0+F7MPGHs5x7ur6HLutPMUHFULKx+26lmKBiKN8Ksv5Kn6CMIdBWFy5ciP6U9euvv55ziFqb1o1GY2pqKvrj1n5+SXjpl6higoqhcq43R29XTFAxlKNkc4ZVTFAxVM6kHL299Ak6cvMTljrYaDRKv0QVE1QM5WeFt9uLYoKKodrNwk97xQQVQ/nJvd1eSp9guyBBtacOUgfbWpClv50VE1QM1dYceWusmKBiKG/pt9VR6RNsSyO0xtTB0GaE8XQgwKZ1B2jleUvpa4xigoqhwlxAigkqhiq9VZgJdu+oFhYWxsbGjDG7d+/On4XipnWj0XjqqaeMMWNjY/V6Pf/YsiNwD2b7xK9iFdfIPsYq2yd+Fau4Bsc+BaiDkTb3oHzVYYWVFVBcDIqh7PCCOih9gkFptzUY6mDEVfolqpigYqi21qq3xooJKobyln5bHSkmqBiqrRS8NS59gt4k1TuiDqqTErAQATatC2EPpdPS1xjFBBVDhTL9nxyHYoKKoT45xlBelT7BUKDbH8exY8dUfjF41LPupvX8/Pzw8LAx5tixY+1n1t47Sr9EFRNUDNXeJPlqrZigYihf2bfXj2KCiqHay8FX69In6AtSvx/qYGRa+iWqmKBiKP0FrRFRMUHFUBqZ6cdQTFAxlH6eGhFLn6AGUjExqIORe+mXqGKCiqGKWfStelVMUDFUq1EXc10xQcVQxVi06rX0CbYCCPc6dTDcuWFk7Qiwad2OVunalr7GKCaoGCrMdaSYoGKo0luFmWCXjmpxcXHt2rXGmFdffVUlBd1N60ajcerUKWPMAw88sLi4qDLCtCDcg2kyzeexajZJO4NVmkzzeayaTTjjQYA6aJG5By1FywOsWhLZBlhZipYHWLUkooELAeqgVeUetBQtD7BqSWQbYGUpWh5g1ZKIBi4EqIMuVIlZiACb1oWwh9IpRVQ+E1hhZQVKvxhspt11cPr0aWPM0NCQ1u/fVt+0rtfrg4ODxpipqSmntqVfoooJKoZyOqcdB1dMUDFUx+k4faNigoqhnKbccfDSJ9ixTLFvpA5a/9IvUcUEFUNZ/6AOFBNUDBUUkR2MYoKKoezwgjoofYJBacsHQx20VqVfoooJKoay/kEdKCaoGCooIjsYxQQVQ9nhBXVQ+gSD0pYPhjoot6Jl4AJsWgc+QW6HV/oao5igYii3k9ppdMUEFUN1mo3b95U+Qbd8zqI//vjjxpgjR45o9aC+ad1oNCYmJowxW7Zs0RrkinFKv0QVE1QMteJcFH5SMUHFUIWzrDgAxQQVQ6041MJPlj7BwoU7GwB10LqVfokqJqgYyvoHdaCYoGKooIjsYBQTVAxlhxfUQekTDEpbPhjqoLUq/RJVTFAxlPUP6kAxQcVQQRHZwSgmqBjKDi+og9InGJS2fDDUQbkVLQMXYNM68AlyO7zS1xjFBBVDuZ3UTqMrJqgYqtNs3L6v9Am65XMT/cqVK8aY3t7e69eva/XgYtP6+vXrPT09xpirV69qjbM5TumXqGKCiqGaJyKEM4oJKoYKQaZ5DIoJKoZqHmcIZ0qfYAjI7Y6BOhgXK/0SVUxQMVR8CsI5VkxQMVQ4PvGRKCaoGCo+wnCOS59gONTykVAH41alX6KKCSqGik9BOMeKCSqGCscnPhLFBBVDxUcYznHpEwyHWj4S6qDcipbhC7BpHf4cORxh6WuMYoKKoRzOaI7QigkqhsqRkMO3lj5Bh3bOQo+Pjxtjtm3bptiDi03rRqOxdetWY8z4+LjiUBOhSr9EFRNUDJWYhUBeKiaoGCoQnMQwFBNUDJUYZCAvS59gIM5tDYM6GOcq/RJVTFAxVHwKwjlWTFAxVDg+8ZEoJqgYKj7CcI5Ln2A41PKRUAfjVqVfoooJKoaKT0E4x4oJKoYKxyc+EsUEFUPFRxjOcekTDIdaPhLqoNyKluELsGkd/hw5HGHpa4xigoqhHM5ojtCKCSqGypGQw7eWPkGHds5Cr1+/3hhz9uxZxR4cbVqfOXPGGDM6Oqo41ESo0i9RxQQVQyVmIZCXigkqhgoEJzEMxQQVQyUGGcjL0icYiHNbw6AOxrlKv0QVE1QMFZ+CcI4VE1QMFY5PfCSKCSqGio8wnOPSJxgOtXwk1MG4VemXqGKCiqHiUxDOsWKCiqHC8YmPRDFBxVDxEYZzXPoEw6GWj4Q6KLeiZfgC3bFp/b3vfe/ll1/+9V//9Z/7uZ/r7+8fHh7+rd/6re985zvh+wY+Qhc15r333jOxf1atWnX//ffv3LnzX/7lX6zG7du3H3zwwYGBgX//93+3J6OD48ePG2P27duXON/ZS8UEFUMlcskWe/nll40xv//7v594V6PR+Md//Meenp5f/uVfXlxcbL7a7hnFBBVD2SyylaJmr7zySmzprXD4xS9+0QbMc+AiwTzj4b0ffPBBNN83btxQ1HC0aT0/Px+N9ubNm4qjjYdysUQl9yCf7dEsYBVfjZLjbDHqoHxdUQcl662UbaiDiWmlDiZAMl5ilYGTuOTCKuqCOpigXvFltlL0FurginRVOEkdTMyyi88ryT3I98FoSr15cwAAIABJREFUIrBKLMiWL7PF+D4oX1fUwZaLrawNqINlndnK5tUdm9Zf/epXo59L27dv3+HDh3/7t3+7r6+vt7f3b/7mbyo7cyqJu3uQ/fEPEX79f/95/vnnH3vsMWNMf3//t7/9bTvs6enp5g3XS5curV69+sEHH7x9+7ZtmedAMUHFUImMooezNLHl5eVf+7Vfa/4R0h/96EcjIyP33Xff5cuXEwE7e6mYoGIom0u2UtTs7bffjlZd8/9+9rOfNcYcOHDABsxz4CLBPOPhvefPnzfGrFu3TpfC0aZ1o9EYGRkxxkxPT+sO2EZzsUQl92Cj0eCzvdFoYGWXovAgW4w6GDFmK0VtqIPCJVe+ZtTBxJxSBxMgGS+xysBJXHJhFXWR/QlPHZQoRW2og4lFW52X1MHEXLv4vMr+pLID4Psg3wftYpAfZK8u6mAkma0UtaEOylddyVpSB0s2oaTTHZvWp0+f/ta3vhWfrX/6p3/q7+//zGc+U6/X4+c5bkvA3YPsb/7mb8ZHMjk5aYzZvHlz/OQzzzxjjPnGN74Rnfzoo49+8Rd/saen5x/+4R/izfIcKyaoGCqRUfTYkSF2/fr1T33qU8PDw/Pz8/a9X/nKV4wxL7/8sj2T80AxQcVQNqmWSrZl88Gf//mfG2MeffTRhYWF5qsdnHGRYAfD4C1WIPoNDTt27LBnVA7cbVrv2LHDGPPiiy+qjLM5iIslKr8H+WzHqnlNZp9pKUYdtP/yK+NpIQOZOpiBU45L1MHEPFIHEyAZL7HKwElccmEVdUEdTFCv+LKl0orvik5SBzNwynGJOpiYRxefV/J7kO+DWCUWZMuXLcX4Psj3wZarqOINqIMVXwDlS787Nq1XdP+N3/gNY0z8l06v2IyTGQLeHmR/8IMfGGN+6qd+Kj6YO3fuPPTQQ/39/T/+D8EajcbXvvY1Y8yzzz4bb5PzWDFBxVCJpFZ8OEuInTx50hizc+fO6L1///d/b4x57LHHlpeXE9E6fqmYoGIom45EyTaOH7z55pt9fX1DQ0P/9V//FT+f59hFgnnGw3t37txpjDl+/LguhbtN6+i/43niiSd0B2yjuVii8nuQz3as7FIUHkjEqIMSpRXBqYMrspTsJHUwMaHUwQRIxkusMnASl1xYRV1IPuGpgxKlxJRFL6mDK7KU7CR1MDGhLj6v5Pcg3wexSizIli8lYtRBidKK1NTBFVlKdpI6WLIJJZ0u3rT+0pe+ZIyJ9juZyM4EPD/IfvrTn06M86233urt7X3kkUf++Z//ua+v7/Of//zdu3cTbfK8VExQMVQio4zHjrjYtm3bjDF//dd/ffPmzQceeOBTn/rU9evXE6HyvFRMUDGUzUioZNtHB3Nzcz/zMz+zatWq+K+mT7Tp4KWLBDsYBm+xAuvXrzfGvPnmm/aMyoG7Tes33ngj+psXKuNsDuJiibZ1D1b8sx2r5jWZfUYoRh00xiR+0jr6T9ziTwsJaupgAqSsL6mDiZmlDiZAMl5ilYGTuOTCKuqCOpigXvGlUCnxXupgAqSsL6mDiZl18XnV1j3I90H5c3vFraKlK1xdfB+Uryv7mUAdtBTlPqAOlnt+K5hdt25a/+d//ufAwMDP/uzP3rt3r4LTppWytwfZY8eO/fjH4r/0pS81j/z55583xgwMDPT19X3nO99pbpDnjGKCiqESGa34cNYs9t///d+f/exnP/OZz2zfvt0Yc/LkyUScnC8VE1QMZZMSKtn2jUbjww8/fOSRR4wx3/zmN+Pn8x+7SDD/qKoc4b777jPGXLt2TRfB3ab1tWvXfvzrwdesWaM7YBvNxRJt9x6s8mc7VnYpCg+EYtTB5n9J0fy0EDenDsY1yn1MHUzML3UwAZLxEqsMnMQlF1ZRF9TBBPWKL4VK8fdSB+Ma5T6mDibm18XnVbv3IN8HE/+xacZze5WtoqUrXF18H+T7YOKzjpdWgDpoKTgoh0BXblp/9NFHmzdvNsa8+uqrIUzD8vLyh935z/79+81P/jlw4IAKZvSoMTo6+vX//ef5559/7LHHjDHDw8OXL19u7uL27dtr1qwxxjzzzDPNV3OeiT+p79+/P88subCKspOLnT59Opqubdu25ZRpfnvgVnIlm1r0Z4P37Nljz2gdKFrlWZO8NxK4fft2dF/Mzc3pmnz/+9+PIn//+9/XjTw3NxdFvn37tm7kKJqLz6t278Eqf7Zj1e6HrVyMOih/vmo0GtRBFx+wAcakDjZPCnWw2STtDFZpMs3nXVhFFZM6KHlykCvZaNTB5mVcyjPUweZpdfF51e49yPdB+XN7la2og7ZmtTxo9x7k+2DzZ2NZz1AHg5pZxb/l2vJjocQNum/Temlpaffu3caY/fv3BzIx9qfxok2ILv1f3U3rBMLnPve5d999d8X5Onr0aNT4oYceunPnzoptOj4Z31xMDCnPSy2rKK/osSMxnjSxX/mVXzHGrLj937FS9MbArdpSajQaf/Inf2KM+dVf/dV6vZ5TpvntjqwSa4CXCKgIaH1etXsPVvmzHavmj83sM22JUQfjnwxpTwvUwbgSxxUXoA7KFwBW/q2i+kgdzH5O6ECJOihfzLQsvQCf7fIpxsq/VQef8HwfjE8T3wfjGhwjEILAhx9+KHmypU22QJdtWi8tLX35y182xvzO7/zO0tJSdm7errJpHaeOvnLbX4Pzgx/84M/+7M96e3sffvjhH/3oR/GWjUZjZmZm1apVn//856NfhvPss88mGuR86WhzUetBNsquLbEvfvGLxpj33nsvp0zz2wO3akvp7/7u73p7ez/3uc9973vfa840/xlHViFUVsZQPgGtz6u27sGKf7Zj1e7HbFti1MGIN/v5ijpYvg9zMupYgDoop8PKv1X0kU4dlDw5tKVEHZQvZlqWXoDPdvkUY+XfijooqYAdKFEH5YuZlgjoCrBpLf9Yy2jZTZvWS0tLv/d7v2eMeeqpp4L6U9b8evD4Ckt8mYwufe1rXzPGjI+Px1vW6/WxsbHoT1l/9NFHv/ALv9DT0/Ptb3873ibncXxzMfBfD263+TPEGo2Gn39ZH6CVfF39x3/8x6c//enVq1e/9dZbOddP2tsV11VQv8CkSwfDr8Fpnjh3vw5O8knFZ7v88wqr6GNWLkYdlNyD1MHmT8Vyn6EONs8vdbDZJO0MVmkyzeddWFEH075wNZ+XPy1QB5tXb7nPUAeb59fF55X8HuQ7DlbNn+HZZ+RifB/k+2DzJx5nqINBrQF+PXj2B77watdsWtsd6127dgW1Yy2EDrNZfO/N0X9RGCV+9+7d+++/v7+/P/4jwtFPV09MTERt3n777f7+/tHRUcVfEq6YoGKoxGJY8eFsRTFvD2c5F4MLK6HSrVu3fv7nf94Y85d/+ZcJZ8WXLhJUHF4FQ913333GmGvXrunmbn+Lhvp/JXft2jVjzJo1a3QHbKO5WKLCe7DRaPDZjpVdisIDuRh1MPEvKZqfFqiDwlVXsmbUwcSEUgcTIBkvscrASVxyYRV1QR1MUK/4UqhEHVxRr/QnqYOJKXbxeSW8B/k+2Gg0sEosyJYv5WJ8H+T7YMvlVM0G1MFqznuJs+6OTWv7W8F37ty5uLhY4vnwnJq3B9lGo/EXf/EXxpi9e/dGOb711lu9vb2PPPLI//zP/9is//iP/9gY88wzz9gzOQ8UE1QMlUhqxYezZrHoXX5+0rpbNq0TSsvLy1u3bjXGfOUrX0kg6750txh0x1mdaOvXrzfGvPnmm7opu9u0fuONN4wxo6OjugO20VwsUeEnFZ/taf+SIvF51Wg0sLIrVri6ovbUQesWHcSfr6iDCZzqvKQOJuaaOpgAyXiJVQZO4pILq6gL6mCCesWXEiXq4Ip0VThJHUzMsovPK8k9yHecaCKwSizIli+FYlEcvg8mPPk+mACp5kvqYDXnvcRZd8em9de//nVjzE//9E//0R/90dc/+c/bb79d4ulxnZrPB9mFhYX7779/1apVs7OzH3744UMPPdTf3/+v//qv8RwXFxd/6Zd+qaen51vf+lb8fMfHigkqhkqkk/ZwFhezb+HhzFJEB3Gll156yRizevXqH//4/ic/Jz5+lXh7Zy/dLYbOxsO7du7caYw5fvy4LoW7TevJyUljzBNPPKE7YBvNxRKVfFLx2R5NAVZ2KQoPJGI2FHXQUkQH1MEESDVfUgcT804dTIBkvMQqAydxyYVV1AV1MEG94kuJEt8HV6SrwknqYGKWXXxeSe5Bvg9GE4FVYkG2fCkRs0H4PmgpogO+DyZAqvmSOljNeS9x1t2xaf3lL3857S+iv/LKKyWeHtep+XyQbTQa3/zmN40xv/u7vxv1+41vfKM5wUuXLq1evXrdunUqv49XMUHFUIms0x7O4mL2LTycWQp7YNdVxgeF/QCx78pz4G4x5BlVld97/PhxY8yOHTt0EdxtWu/YsePHvx78xRdf1B2wjeZiiUo+qaJ++WzHyi5F4YFEzIaiDloKe0AdtBSVPaAOJqaeOpgAyXiJVQZO4pILq6gL6mCCesWXEiW+D65IV4WT1MHELLv4vJLcg1G/fB/EKrEgW76UiNkgfB+0FPaA74OWorIH1MHKTn1ZE++OTeuy6heel4sH2cKTig9AMUHFUPERhnOsmKBiqHB84iMpfYLxZLvi+Pz588aYdevW6Y7W3ab1yMiIMWZ6elp3wDZa6ZeoYoKKoax/UAeKCSqGCorIDkYxQcVQdnhBHZQ+waC0JYOhDiaUSr9EFRNUDJWYhUBeKiaoGCoQnMQwFBNUDJUYZCAvS59gIM7yYVAHE1alX6KKCSqGSsxCIC8VE1QMFQhOYhiKCSqGSgwykJelTzAQZ/kwqINyK1p2hQCb1l0xTa4GWfoao5igYihX05kvrmKCiqHy5eTq3aVP0BWcs7gffPBB9MP0N27cUOzE0ab1/Px8NNqbN28qjjYeqvRLVDFBxVDxKQjnWDFBxVDh+MRHopigYqj4CMM5Ln2C4VALR0IdTECVfokqJqgYKjELgbxUTFAxVCA4iWEoJqgYKjHIQF6WPsFAnOXDoA4mrEq/RBUTVAyVmIVAXiomqBgqEJzEMBQTVAyVGGQgL0ufYCDO8mFQB+VWtOwKATatu2KaXA2y9DVGMUHFUK6mM19cxQQVQ+XLydW7S5+gKziXcdevX2+MOXv2rGInjjatz5w5Y4wZHR1VHGoiVOmXqGKCiqESsxDIS8UEFUMFgpMYhmKCiqESgwzkZekTDMS5rWFQB+NcpV+iigkqhopPQTjHigkqhgrHJz4SxQQVQ8VHGM5x6RMMh1o+Eupg3Kr0S1QxQcVQ8SkI51gxQcVQ4fjER6KYoGKo+AjDOS59guFQy0dCHZRb0TJ8ATatw58jhyMsfY1RTFAxlMMZzRFaMUHFUDkScvjW0ifo0M5Z6PHxcWPMtm3bFHtwtGm9detWY8z4+LjiUBOhSr9EFRNUDJWYhUBeKiaoGCoQnMQwFBNUDJUYZCAvS59gIM5tDYM6GOcq/RJVTFAxVHwKwjlWTFAxVDg+8ZEoJqgYKj7CcI5Ln2A41PKRUAfjVqVfoooJKoaKT0E4x4oJKoYKxyc+EsUEFUPFRxjOcekTDIdaPhLqoNyKluELsGkd/hw5HGHpa4xigoqhHM5ojtCKCSqGypGQw7eWPkGHds5CX7161RjT29t7/fp1rU5cbFq/9957PT09xpirV69qjbM5TumXqGKCiqGaJyKEM4oJKoYKQaZ5DIoJKoZqHmcIZ0qfYAjI7Y6BOhgXK/0SVUxQMVR8CsI5VkxQMVQ4PvGRKCaoGCo+wnCOS59gONTykVAH41alX6KKCSqGik9BOMeKCSqGCscnPhLFBBVDxUcYznHpEwyHWj4S6qDcipbhC7BpHf4cORxh6WuMYoKKoRzOaI7QigkqhsqRkMO3lj5Bh3YuQz/++OPGmCNHjmh14mLTemJiwhizZcsWrUGuGKf0S1QxQcVQK85F4ScVE1QMVTjLigNQTFAx1IpDLfxk6RMsXLizAVAHrVvpl6higoqhrH9QB4oJKoYKisgORjFBxVB2eEEdlD7BoLTlg6EOWqvSL1HFBBVDWf+gDhQTVAwVFJEdjGKCiqHs8II6KH2CQWnLB0MdlFvRMnABNq0DnyC3wyt9jVFMUDGU20ntNLpigoqhOs3G7ftKn6BbPmfRT58+bYwZGhqq1+sqnahvWtfr9cHBQWPM1NSUygjTgpR+iSomqBgqbTqKPa+YoGKoYk3SeldMUDFU2miLPV/6BIvl7bh36qClK/0SVUxQMZT1D+pAMUHFUEER2cEoJqgYyg4vqIPSJxiUtnww1EFrVfolqpigYijrH9SBYoKKoYIisoNRTFAxlB1eUAelTzAobflgqINyK1oGLsCmdeAT5HZ4pa8xigkqhnI7qZ1GV0xQMVSn2bh9X+kTdMvnLPri4uLatWuNMa+++qpKJ+qb1qdOnTLGPPDAA4uLiyojTAtS+iWqmKBiqLTpKPa8YoKKoYo1SetdMUHFUGmjLfZ86RMslrfj3qmDlq70S1QxQcVQ1j+oA8UEFUMFRWQHo5igYig7vKAOSp9gUNrywVAHrVXpl6higoqhrH9QB4oJKoYKisgORjFBxVB2eEEdlD7BoLTlg6EOyq1oGbgAm9aBT5Db4ZW+xigmqBjK7aR2Gl0xQcVQnWbj9n2lT9Atn8vox44dM8YMDw/Pz8/n70d303p+fn54eNgYc+zYsfxjy45Q+iWqmKBiqOxJKeqqYoKKoYrSyO5XMUHFUNljLupq6RMsCjZ/v9TByLD0S1QxQcVQ+RewiwiKCSqGcpFp/piKCSqGyp+XiwilT9AFmp+Y1MHIufRLVDFBxVB+Fnm7vSgmqBiq3Sz8tFdMUDGUn9zb7aX0CbYLEk576mA4c8FI8giwaZ1Hr+vfW/oao5igYqgw141igoqhSm8VZoLdO6p6vT42NmaM2b17d/4sdDetn3rqKWPM2NiY1m8vz0iQezADJ3EJqwRIxkusMnASl7BKgPDSmwB1MKLmHpQvOaywsgKKi0ExlB1eUAelTzAo7bYGQx2MuEq/RBUTVAzV1lr11lgxQcVQ3tJvqyPFBBVDtZWCt8alT9CbpHpH1EF1UgIWIsCmdSHsoXRa+hqjmKBiqFCm/5PjUExQMdQnxxjKq9InGAp0R+O4cOFCb2+vMeb111/vKMDHb1LctJ6amjLG9PX1Xbx48eMOnB2VfokqJqgYytl85gqsmKBiqFwpOXuzYoKKoZylmytw6RPMpVP0m6mDjUaj9EtUMUHFUEWv/ZX7V0xQMdTKYy36rGKCiqGKVlm5/9InuHLaXXKWOkgdbGuplv52VkxQMVRbc+StsWKCiqG8pd9WR6VPsC2N0BpTB0ObEcbTgQCb1h2glect8RpTq9XKk9hPMqnVauYn/xw4cOAnpzv5f6zkaljJrWjpQuDw4cMqvyRca9P6/fffHxoaMsZMTEy4yLc5Jvdgs0naGazSZJrPY9VsknYGqzQZzvsRoA5yD8pXGlZYWQG+O1uKlgeKVi37okEHAtRBPtvlywYrrKyA4mc768qqclCIAHWwEHY6VRRg01oRs/tCPffccz/Z0jV79+7tvgRajXjPnj02wUOHDrVqnnUdqyydT17D6pMevPItsLCwEP2S8O3bt9+7d6/j7lU2re/du7d9+3Zvvxg8SpZ7UD7pWGFlBXhmsBQtDxStWvZFgw4EqIN8tsuXDVZYWQHFz3bWlVXloBAB6iD3oHzhYYWVFaAOWoqWB4pWLfuiQQcC1MEO0HhLUAJsWgc1Hb4HMzExYfd0n3zySd/du+9v165dNsEjR47k6RAruR5WcitaOhK4cOFCf3+/MWbfvn3Ly8ud9ZJ/03p5eXnfvn3GmNWrV/v5xeBRptyD8hnHCisrwDODpWh5oGjVsi8adCZAHbRfAfiOk72EqIPZPvGrWMU1so+xyvbhqgcB6iB1ULjM+LwSQjUaDaywsgJ8H7QUwR5UvA4GOy8MTCjAprUQqpzNTpw4YR9kN27cWL4kN27caBM8ceJEngSxkuthJbeipTuB1157Lfrj1uPj453tW+fctF5eXh4fHzfG9Pb2nj592l2mzZG5B5tN0s5glSbTfB6rZpO0M1ilyXDepwB1MPoWwHec7FXH51W2T/wqVnGN7GOssn246keAOkgdlKw0Pq8kSlEbrLCyAor/vt3G5EBdoMp1UB2TgJ4F2LT2DB5Wd2fOnLF7usPDw2ENTmM00d+RjXI8e/ZsnpBYyfWwklvR0qnAyZMno9t/3759Hfye8Dyb1vfu3du7d2/U+yuvvOI0zebg3IPNJmlnsEqTaT6PVbNJ2hms0mQ471mAOmiM4TtO9qrj8yrbJ34Vq7hG9jFW2T5c9SZAHaQOtlxsfF61JLINsLIULQ+waklEAz8Cla2DfnjpxZ0Am9bubLsg8uXLl+2mtTHm1q1bXTBo8RBv3boVz+7KlSvit67QEKsVUFJOYZUCw+kCBE6ePBn9vPX27dvn5+fbGkHHm9bvv/9+9Hese3t7/e9YNxoN7kH5RGOFVSTAM4N8JehayfulZWcC1EG+42SvHOpgtk/8KlZxjexjrLJ9uOpTgDpIHcxeb3xeZfvEr2IV18g+xirbh6s+BapZB30K05cLATatXah2Tcx6vd7T02N3dmdmZrpm6IKBzszM2NR6e3vr9brgTalNsEqlabqAVRMJJ4oUeO2116K/bz00NDQ1NSUfSmeb1lNTU9HveOjv7/f8W8FtatyDlqLlAVYtiWwDrCxFywOsWhLRwKcAdZDvOBnrjc+rDJzEJawSIBkvscrA4ZJ/AeogdTBj1fF5lYGTuIRVAiTjJVYZOFzyL1DBOugfmR51Bdi01vXsvmgjIyN2Z/f48ePdl0D6iCcnJ21q69atS28ovYKVVKrRwEpuRUsPAhcuXHj44YejD4Tdu3cLf+S63U3r+fn5p556KuplbGzs4sWLHlJL64J7ME2m+TxWzSZpZ7BKk2k+j1WzCWcKFKAOFoiv3jXfceSkWGElF5C3VF9X8q5p2bEAdbBjugDfqH4P8twun2WssGo0Gur3oFyVlh0LVLAOdmzFG0MQYNM6hFkocgxPP/203dl99NFHixyKdt8bNmywqdVqtfzhsZIbYiW3oqUfgYWFhcOHD0e/Knx4ePjUqVMtf/uCfNO6Xq+fOnVqeHjYGNPb2zsxMbGwsOAnr7ReuAfTZJrPY9VsknYGqzSZ5vNYNZtwplgB6mCx/oq98x1HjokVVnIBeUv1dSXvmpZ5BKiDefSCeq/6Pchzu3x+scKq0Wio34NyVVrmEahaHcxjxXsLF2DTuvApKHgA58+ftzu7xpi5ubmCB6TU/ezsbDyv6enp/IGxkhtiJbeipU+Bixcvjo2NRR8Og4ODExMT169fTxuAZNP6+vXrExMTg4ODUczCf8Da5sI9aClaHmDVksg2wMpStDzAqiURDQoRoA4Wwq7YKd9x5JhYYSUXkLd0sa7kvdMyvwB1ML9hsRFc3IM8t8vnFCusXNyDclVa5heoTh3Mb0WEAgXYtC4QP4iuFxcX7XaLMebgwYNBDCv3IA4ePGg3rYeGhhYXF3OHbGAlN8RKbkVLzwILCwvHjh1bu3Zt9BHR29u7devWM2fO3LhxIzGSjE3rGzdunDlzZuvWrT09PVGcBx544NixYy1/ejvRhbuX3INyW6yw4plBvgZcWMl7p6WKAHVQhbGoIC7uQeqgfDaxwsrFPShXpaWKAHVQhbGoIC7uQT7b5bOJFVYu7kG5Ki1VBCpSB1WsCFKUAJvWRckH1G+tVrP7u319fe+8805Ag+toKJcuXerr67NJqfxu8GggWMknBCu5FS39CywuLk5NTW3ZssV+UBhjRkZGduzYMTk5+cYbb1y7dm1ubi66Ojc3d+3atTfeeGNycnLHjh3xP+NkjNmyZcvU1JTKfxmj68A9KPfECiv7UcAzQ8ZicPd8ldEplxwJUAcdwToN6+4epA7KJw4rrFw8M8hVaaklQB3UkvQZhzoo18YKK7mAvKW7dSUfAy21BKpQB7WsiONfgE1r/+bB9Tg7OzswMGC/em3evHlpaSm4UYoHtLS0tGnTJpvOwMDA7Oys+N0tGmLVAih2GasYBofhCly9enV8fHx0dNR+aAgPRkdHx8fHr169Gmxu3IPyqcEKq+jG55khYyU4fb7K6JdLrgWog66FteI7vQepg/JpwgorF88MclVaqgtQB9VJHQWkDsphscJKLiBv6XRdyYdBS3WBEtdBdSsCehNg09obddAdvfDCC/F9mv3793fpvvXS0tL+/fvjuRw9elSXHiu5J1ZyK1oWLnDz5s3p6ekXX3zxiSeeGB0dXbNmTfyTZM2aNaOjo0888cRLL700PT198+bNwgcsGQD3oEQpaoMVVsYYnhnSloGH56u0rjnvTYA66I26g4483IPUQfm8YIWVi2cGuSotHQlQBx3BqoSlDsoZscJKLiBv6WFdyQdDS0cCpayDjqwI61qATWvXwt0R/86dOw8++GB8h6Yb962bK+jIyMjdu3d15wAruSdWcitaBiiwtLR043//6dL/iKfRaHAPytcVVljxzJC2Bvw8X6X1zvkCBaiDBeLHu/ZzD1IH4+bZx1hl+8SvYhXX4LjrBKiDgUwZdVA+EVhhJReQt/SzruTjoaU3gRLUQW9WdKQrwKa1rmcXRzt37tyqVavi+9abNm26dOlSt6R06dKl+G8FN8asWrXq3LlzLsaPlVwVK7kVLRFwIcA9KFfFCiu5gLwl60puRUsEXAhwD8pVscJKLiBvybqSW9ESARcC3INyVaywkgvIW7Ku5Fa0RAABBCIBNq1ZCR8LTE1NJfat+/r6Dh48qPg3oT/uTO9odnb24MGDfX198R33VatWTU1N6XWSjIRVUiT9NVbpNlxBwIcA96BcGStizq4vAAAOrElEQVSs5ALylqwruRUtEXAhwD0oV8UKK7mAvCXrSm5FSwRcCHAPylWxwkouIG/JupJb0RIBBBBoNBpsWrMMPiHQXEejneANGzZMTk7OzMzcunXrE28o6MWtW7dmZmYmJyc3bNgQ36uOjl3vWEdJYyWffKzkVrREwIUA96BcFSus5ALylqwruRUtEXAhwD0oV8UKK7mAvCXrSm5FSwRcCHAPylWxwkouIG/JupJb0RIBBBBg05o1kBQ4d+7cyMhI806wPTM0NLRx48Zdu3bt2bOnVqsd8PJPrVbbs2fPrl27Nm7cODQ0ZAfTfDAyMuLot4InpRoNrJpN0s5glSbDeQT8CHAPyp2xwkouIG/JupJb0RIBFwLcg3JVrLCSC8hbsq7kVrREwIUA96BcFSus5ALylqwruRUtEUCg4gJsWld8Aayc/t27d48ePTowMNC8JRzymYGBgaNHj969e3flrNycxUruipXcipYIuBDgHpSrYoWVXEDeknUlt6IlAi4EuAflqlhhJReQt2Rdya1oiYALAe5BuSpWWMkF5C1ZV3IrWiKAQJUF2LSu8uy3yH12drZWqw0ODoa8UR2NbWhoqFarFfi3t7FqsZhil7GKYXCIQAEC3INydKywkgvIW7Ku5Fa0RMCFAPegXBUrrOQC8pasK7kVLRFwIcA9KFfFCiu5gLwl60puRUsEEKimAJvW1Zz3NrJeXFycnp6u1Wrr1q3r6ekJZwO7p6dn3bp1tVptenp6cXGxjZScNcVKTouV3IqWCLgQ4B6Uq2KFlVxA3pJ1JbeiJQIuBLgH5apYYSUXkLdkXcmtaImACwHuQbkqVljJBeQtWVdyK1oigEDVBNi0rtqM58q3Xq9fuXLl7NmzJ06cOHLkyKFDh7z8Pev/6+TQoUNHjhw5ceLE2bNnr1y5Uq/XcyXj+M1YyYGxklvREgEXAtyDclWssJILyFuyruRWtETAhQD3oFwVK6zkAvKWrCu5FS0RcCHAPShXxQoruYC8JetKbkVLBBCoggCb1lWYZXJEAAEEEEAAAQQQQAABBBBAAAEEEEAAAQQQQAABBBBAAAEEAhVg0zrQiWFYCCCAAAIIIIAAAggggAACCCCAAAIIIIAAAggggAACCCCAQBUE2LSuwiyTIwIIIIAAAggggAACCCCAAAIIIIAAAggggAACCCCAAAIIIBCoAJvWgU4Mw0IAAQQQQAABBBBAAAEEEEAAAQQQQAABBBBAAAEEEEAAAQSqIMCmdRVmmRwRQAABBBBAAAEEEEAAAQQQQAABBBBAAAEEEEAAAQQQQACBQAXYtA50YhgWAggggAACCCCAAAIIIIAAAggggAACCCCAAAIIIIAAAgggUAUBNq2rMMvkiAACCCCAAAIIIIAAAggggAACCCCAAAIIIIAAAggggAACCAQqwKZ1oBPDsBBAAAEEEEAAAQQQQAABBBBAAAEEEEAAAQQQQAABBBBAAIEqCLBpXYVZJkcEEEAAAQQQQAABBBBAAAEEEEAAAQQQQAABBBBAAAEEEEAgUAE2rQOdGIaFAAIIIIAAAggggAACCCCAAAIIIIAAAggggAACCCCAAAIIVEGATesqzDI5IoAAAggggAACCCCAAAIIIIAAAggggAACCCCAAAIIIIAAAoEKsGkd6MQwLAQQQAABBBBAAAEEEEAAAQQQQAABBBBAAAEEEEAAAQQQQKAKAmxaV2GWyREBBBBAAAEEEEAAAQQQQAABBBBAAAEEEEAAAQQQQAABBBAIVIBN60AnhmEhgAACCCCAAAIIIIAAAggggAACCCCAAAIIIIAAAggggAACVRBg07oKs0yOCCCAAAIIIIAAAggggAACCCCAAAIIIIAAAggggAACCCCAQKACbFoHOjEMCwEEEEAAAQQQQAABBBBAAAEEEEAAAQQQQAABBBBAAAEEEKiCAJvWVZhlckQAAQQQQAABBBBAAAEEEEAAAQQQQAABBBBAAAEEEEAAAQQCFWDTOtCJYVgIIIAAAggggAACCCCAAAIIIIAAAggggAACCCCAAAIIIIBAFQTYtK7CLJMjAggggAACCCCAAAIIIIAAAggggAACCCCAAAIIIIAAAgggEKgAm9aBTgzDQgABBBBAAAEEEEAAAQQQQAABBBBAAAEEEEAAAQQQQAABBKogwKZ1FWaZHBFAAAEEEEAAAQQQQAABBBBAAAEEEEAAAQQQQAABBBBAAIFABdi0DnRiGBYCCCCAAAIIIIAAAggggAACCCCAAAIIIIAAAggggAACCCBQBQE2raswy+SIAAIIIIAAAggggAACCCCAAAIIIIAAAggggAACCCCAAAIIBCrApnWgE8OwEEAAAQQQQAABBBBAAAEEEEAAAQQQQAABBBBAAAEEEEAAgSoIsGldhVkmRwQQQAABBBBAAAEEEEAAAQQQQAABBBBAAAEEEEAAAQQQQCBQATatA50YhoUAAggggAACCCCAAAIIIIAAAggggAACCCCAAAIIIIAAAghUQYBN6yrMMjkigAACCCCAAAIIIIAAAggggAACCCCAAAIIIIAAAggggAACgQqwaR3oxDAsBBBAAAEEEEAAAQQQQAABBBBAAAEEEEAAAQQQQAABBBBAoAoCbFpXYZbJEQEEEEAAAQQQQAABBBBAAAEEEEAAAQQQQAABBBBAAAEEEAhUgE3rQCeGYSGAAAIIIIAAAggggAACCCCAAAIIIIAAAggggAACCCCAAAJVEGDTugqzTI4IIIAAAggggAACCCCAAAIIIIAAAggggAACCCCAAAIIIIBAoAJsWgc6MQwLAQQQQAABBBBAAAEEEEAAAQQQQAABBBBAAAEEEEAAAQQQqIIAm9ZVmGVyRAABBBBAAAEEEEAAAQQQQAABBBBAAAEEEEAAAQQQQAABBAIVYNM60IlhWAgggAACCCCAAAIIIIAAAggggAACCCCAAAIIIIAAAggggEAVBNi0rsIskyMCCCCAAAIIIIAAAggggAACCCCAAAIIIIAAAggggAACCCAQqACb1oFODMNCAAEEEEAAAQQQQAABBBBAAAEEEEAAAQQQQAABBBBAAAEEqiDApnUVZpkcEUAAAQQQQAABBBBAAAEEEEAAAQQQQAABBBBAAAEEEEAAgUAF2LQOdGIYFgIIIIAAAggggAACCCCAAAIIIIAAAggggAACCCCAAAIIIFAFATatqzDL5IgAAggggAACCCCAAAIIIIAAAggggAACCCCAAAIIIIAAAggEKsCmdaATw7AQQAABBBBAAAEEEEAAAQQQQAABBBBAAAEEEEAAAQQQQACBKgiwaV2FWSZHBBBAAAEEEEAAAQQQQAABBBBAAAEEEEAAAQQQQAABBBBAIFABNq0DnRiGhQACCCCAAAIIIIAAAggggAACCCCAAAIIIIAAAggggAACCFRBgE3rKswyOSKAAAIIIIAAAggggAACCCCAAAIIIIAAAggggAACCCCAAAKBCrBpHejEMCwEEEAAAQQQQAABBBBAAAEEEEAAAQQQQAABBBBAAAEEEECgCgJsWldhlskRAQQQQAABBBBAAAEEEEAAAQQQQAABBBBAAAEEEEAAAQQQCFSATetAJ4ZhIYAAAggggAACCCCAAAIIIIAAAggggAACCCCAAAIIIIAAAlUQYNO6CrNMjggggAACCCCAAAIIIIAAAggggAACCCCAAAIIIIAAAggggECgAmxaBzoxDAsBBBBAAAEEEEAAAQQQQAABBBBAAAEEEEAAAQQQQAABBBCoggCb1lWYZXJEAAEEEEAAAQQQQAABBBBAAAEEEEAAAQQQQAABBBBAAAEEAhVg0zrQiWFYCCCAAAIIIIAAAggggAACCCCAAAIIIIAAAggggAACCCCAQBUE2LSuwiyTIwIIIIAAAggggAACCCCAAAIIIIAAAggggAACCCCAAAIIIBCoAJvWgU4Mw0IAAQQQQAABBBBAAAEEEEAAAQQQQAABBBBAAAEEEEAAAQSqIMCmdRVmmRwRQAABBBBAAAEEEEAAAQQQQAABBBBAAAEEEEAAAQQQQACBQAXYtA50YhgWAggggAACCCCAAAIIIIAAAggggAACCCCAAAIIIIAAAgggUAUBNq2rMMvkiAACCCCAAAIIIIAAAggggAACCCCAAAIIIIAAAggggAACCAQqwKZ1oBPDsBBAAAEEEEAAAQQQQAABBBBAAAEEEEAAAQQQQAABBBBAAIEqCLBpXYVZJkcEEEAAAQQQQAABBBBAAAEEEEAAAQQQQAABBBBAAAEEEEAgUAE2rQOdGIaFAAIIIIAAAggggAACCCCAAAIIIIAAAggggAACCCCAAAIIVEGATesqzDI5IoAAAggggAACCCCAAAIIIIAAAggggAACCCCAAAIIIIAAAoEKsGkd6MQwLAQQQAABBBBAAAEEEEAAAQQQQAABBBBAAAEEEEAAAQQQQKAKAmxaV2GWyREBBBBAAAEEEEAAAQQQQAABBBBAAAEEEEAAAQQQQAABBBAIVIBN60AnhmEhgAACCCCAAAIIIIAAAggggAACCCCAAAIIIIAAAggggAACVRBg07oKs0yOCCCAAAIIIIAAAggggAACCCCAAAIIIIAAAggggAACCCCAQKACbFoHOjEMCwEEEEAAAQQQQAABBBBAAAEEEEAAAQQQQAABBBBAAAEEEKiCAJvWVZhlckQAAQQQQAABBBBAAAEEEEAAAQQQQAABBBBAAAEEEEAAAQQCFWDTOtCJYVgIIIAAAggggAACCCCAAAIIIIAAAggggAACCCCAAAIIIIBAFQTYtK7CLJMjAggggAACCCCAAAIIIIAAAggggAACCCCAAAIIIIAAAgggEKgAm9aBTgzDQgABBBBAAAEEEEAAAQQQQAABBBBAAAEEEEAAAQQQQAABBKogwKZ1FWaZHBFAAAEEEEAAAQQQQAABBBBAAAEEEEAAAQQQQAABBBBAAIFABdi0DnRiGBYCCCCAAAIIIIAAAggggAACCCCAAAIIIIAAAggggAACCCBQBYH/Bw79lfNvWgqJAAAAAElFTkSuQmCC)"
   ]
  },
  {
   "cell_type": "code",
   "execution_count": 105,
   "metadata": {
    "executionInfo": {
     "elapsed": 8,
     "status": "ok",
     "timestamp": 1745583576007,
     "user": {
      "displayName": "Tomaž Poljanšek",
      "userId": "16982243430376534286"
     },
     "user_tz": -120
    },
    "id": "sgs43AeMc1UP"
   },
   "outputs": [],
   "source": [
    "from pennylane.optimize import AdamOptimizer\n",
    "from tqdm.notebook import tqdm"
   ]
  },
  {
   "cell_type": "code",
   "execution_count": 106,
   "metadata": {
    "executionInfo": {
     "elapsed": 60,
     "status": "ok",
     "timestamp": 1745583576795,
     "user": {
      "displayName": "Tomaž Poljanšek",
      "userId": "16982243430376534286"
     },
     "user_tz": -120
    },
    "id": "J4pH7oxXMC2n"
   },
   "outputs": [],
   "source": [
    "def target_function(x):\n",
    "    return (\n",
    "        0.6 * np.sin(2 * x)\n",
    "        + 0.3 * np.sin(5 * x + 0.5)\n",
    "        + 0.1 * np.sin(9 * x + 1.0)\n",
    "    )"
   ]
  },
  {
   "cell_type": "code",
   "execution_count": 107,
   "metadata": {
    "executionInfo": {
     "elapsed": 14,
     "status": "ok",
     "timestamp": 1745583579002,
     "user": {
      "displayName": "Tomaž Poljanšek",
      "userId": "16982243430376534286"
     },
     "user_tz": -120
    },
    "id": "ppQjrnhBMLmP"
   },
   "outputs": [],
   "source": [
    "def pqc_exponential(x, weights):\n",
    "    n_qubits = len(weights[0])\n",
    "    variational_layer(weights[0], range(n_qubits))\n",
    "    for wl in weights[1:]:\n",
    "        exponential_encoding(x, range(n_qubits))\n",
    "        variational_layer(wl, range(n_qubits))\n",
    "    return qml.expval(qml.PauliZ(0))\n",
    "\n",
    "\n",
    "def pqc_parallel_pauli(x, weights):\n",
    "    n_qubits = len(weights[0])\n",
    "    variational_layer(weights[0], range(n_qubits))\n",
    "    for wl in weights[1:]:\n",
    "        parallel_pauli_encoding(x, range(n_qubits))\n",
    "        variational_layer(wl, range(n_qubits))\n",
    "    return qml.expval(qml.PauliZ(0))\n"
   ]
  },
  {
   "cell_type": "code",
   "execution_count": 108,
   "metadata": {
    "executionInfo": {
     "elapsed": 16,
     "status": "ok",
     "timestamp": 1745583581187,
     "user": {
      "displayName": "Tomaž Poljanšek",
      "userId": "16982243430376534286"
     },
     "user_tz": -120
    },
    "id": "356IDXfhaUgB"
   },
   "outputs": [],
   "source": [
    "# Defining the model\n",
    "@qml.qnode(dev)\n",
    "def exponential_model(x,weights):\n",
    "  return pqc_exponential(x,weights)\n",
    "\n",
    "@qml.qnode(dev)\n",
    "def parallel_pauli_model(x,weights):\n",
    "  return pqc_parallel_pauli(x,weights)"
   ]
  },
  {
   "cell_type": "code",
   "execution_count": 109,
   "metadata": {
    "executionInfo": {
     "elapsed": 13,
     "status": "ok",
     "timestamp": 1745583582136,
     "user": {
      "displayName": "Tomaž Poljanšek",
      "userId": "16982243430376534286"
     },
     "user_tz": -120
    },
    "id": "JHdbNSiIZA0O"
   },
   "outputs": [],
   "source": [
    "# Dataset\n",
    "X = np.linspace(0, 2*np.pi, 100)\n",
    "Y = np.array([target_function(x) for x in X])"
   ]
  },
  {
   "cell_type": "code",
   "execution_count": 110,
   "metadata": {
    "colab": {
     "base_uri": "https://localhost:8080/",
     "height": 49,
     "referenced_widgets": [
      "80c5efff8821497cab7749f3f452b055",
      "4556882a127448cb8752e596f1e05075",
      "d2106194e25347f58df578c4b83e2be2",
      "65cb5e0f34ab44b88938b9c7e52f2484",
      "c1abd93a327041a5ae87ef056ed287d5",
      "39410311663c4c30acf6cfb0b05ce9fe",
      "916018cc36c44d94aee54e625abbf4fe",
      "ac9bcb087de74a55ba2e67ac41f19aee",
      "72ee32fd3a06430b8f307cea6b6effaa",
      "2633c308212b43cfa06793e1f63ba252",
      "e90001e2798a44fbac70d1282b5d2fce"
     ]
    },
    "executionInfo": {
     "elapsed": 877129,
     "status": "ok",
     "timestamp": 1745584461669,
     "user": {
      "displayName": "Tomaž Poljanšek",
      "userId": "16982243430376534286"
     },
     "user_tz": -120
    },
    "id": "ynRrgKs1MXX-",
    "outputId": "68e7c32a-bb2e-475a-b66d-eec538e16d47"
   },
   "outputs": [
    {
     "data": {
      "application/vnd.jupyter.widget-view+json": {
       "model_id": "80c5efff8821497cab7749f3f452b055",
       "version_major": 2,
       "version_minor": 0
      },
      "text/plain": [
       "  0%|          | 0/100 [00:00<?, ?it/s]"
      ]
     },
     "metadata": {},
     "output_type": "display_data"
    }
   ],
   "source": [
    "# Exponential model fit\n",
    "\n",
    "# Parameters\n",
    "np.random.seed(42)\n",
    "nlayers = 4\n",
    "weights = np.random.randn(nlayers, n_qubits, 3, requires_grad=True)\n",
    "opt = AdamOptimizer(stepsize=0.05)\n",
    "\n",
    "steps = 100\n",
    "losses = []\n",
    "\n",
    "# Cost function\n",
    "def cost(w):\n",
    "    preds = np.array([exponential_model(x, w) for x in X])\n",
    "    return np.mean((preds - Y)**2)\n",
    "\n",
    "# Training\n",
    "for _ in tqdm(range(steps)):\n",
    "    weights = opt.step(cost, weights)\n",
    "    losses.append(cost(weights))"
   ]
  },
  {
   "cell_type": "code",
   "execution_count": 111,
   "metadata": {
    "colab": {
     "base_uri": "https://localhost:8080/",
     "height": 49,
     "referenced_widgets": [
      "74bd20bd3f08443eb020adf8be297285",
      "0d120af5a6ad4d91ae2cd70fd9d6a862",
      "de5f8a57b5a64528b9b7b9e51142f46e",
      "dcce1b8ae05f445ba3afd58bb30a53ba",
      "8f33373ba7c94153a35ed9a888a5ed0e",
      "34ba9baeb9614493a101d8a87235da05",
      "285e295bb5a04b5dabac165b056c89f1",
      "1e7aba6dbcb847cd8ba0360d5b261f95",
      "3f7c716e180243f8a370b43e476af158",
      "a04cc6dae89244ce856188f0de61b0e7",
      "4d9669c724934d48b815e90d26a8b612"
     ]
    },
    "executionInfo": {
     "elapsed": 871806,
     "status": "ok",
     "timestamp": 1745585333489,
     "user": {
      "displayName": "Tomaž Poljanšek",
      "userId": "16982243430376534286"
     },
     "user_tz": -120
    },
    "id": "geLjs6wyYtmy",
    "outputId": "0354d5af-73a2-49ff-c3fe-506a20e4c577"
   },
   "outputs": [
    {
     "data": {
      "application/vnd.jupyter.widget-view+json": {
       "model_id": "74bd20bd3f08443eb020adf8be297285",
       "version_major": 2,
       "version_minor": 0
      },
      "text/plain": [
       "  0%|          | 0/100 [00:00<?, ?it/s]"
      ]
     },
     "metadata": {},
     "output_type": "display_data"
    }
   ],
   "source": [
    "# Parallel Pauli model fit\n",
    "\n",
    "# Parameters\n",
    "np.random.seed(42)\n",
    "nlayers = 4\n",
    "weights_pauli = np.random.randn(nlayers, n_qubits, 3, requires_grad=True)\n",
    "opt = AdamOptimizer(stepsize=0.05)\n",
    "\n",
    "steps = 100\n",
    "losses_pauli = []\n",
    "\n",
    "# Cost function\n",
    "def cost(w):\n",
    "    preds = np.array([parallel_pauli_model(x, w) for x in X])\n",
    "    return np.mean((preds - Y)**2)\n",
    "\n",
    "# Training\n",
    "for _ in tqdm(range(steps)):\n",
    "    weights_pauli = opt.step(cost, weights_pauli)\n",
    "    losses_pauli.append(cost(weights_pauli))"
   ]
  },
  {
   "cell_type": "code",
   "execution_count": 112,
   "metadata": {
    "colab": {
     "base_uri": "https://localhost:8080/",
     "height": 472
    },
    "executionInfo": {
     "elapsed": 156,
     "status": "ok",
     "timestamp": 1745585333650,
     "user": {
      "displayName": "Tomaž Poljanšek",
      "userId": "16982243430376534286"
     },
     "user_tz": -120
    },
    "id": "7H3Js59cQDnk",
    "outputId": "2448afc8-1910-4370-b935-9d4b0c85d884"
   },
   "outputs": [
    {
     "data": {
      "image/png": "[encoded data removed]",
      "text/plain": [
       "<Figure size 640x480 with 1 Axes>"
      ]
     },
     "metadata": {},
     "output_type": "display_data"
    }
   ],
   "source": [
    "import matplotlib.pyplot as plt\n",
    "\n",
    "plt.plot(losses, label=\"Exponential\")\n",
    "plt.plot(losses_pauli,label=\"Parallel Pauli\")\n",
    "plt.legend()\n",
    "plt.title(\"Training Loss\")\n",
    "plt.xlabel(\"Step\")\n",
    "plt.ylabel(\"MSE\")\n",
    "plt.show()\n"
   ]
  },
  {
   "cell_type": "code",
   "execution_count": 113,
   "metadata": {
    "colab": {
     "base_uri": "https://localhost:8080/",
     "height": 452
    },
    "executionInfo": {
     "elapsed": 4050,
     "status": "ok",
     "timestamp": 1745585337705,
     "user": {
      "displayName": "Tomaž Poljanšek",
      "userId": "16982243430376534286"
     },
     "user_tz": -120
    },
    "id": "HYzFvndvMeZj",
    "outputId": "9130a0a6-616e-4313-b182-ecc84e9f9460"
   },
   "outputs": [
    {
     "data": {
      "image/png": "[encoded data removed]",
      "text/plain": [
       "<Figure size 640x480 with 1 Axes>"
      ]
     },
     "metadata": {},
     "output_type": "display_data"
    }
   ],
   "source": [
    "Y_pred = np.array([exponential_model(x, weights) for x in X])\n",
    "Y_pred_pauli = np.array([parallel_pauli_model(x, weights_pauli) for x in X])\n",
    "\n",
    "plt.plot(X, Y, label=\"Target\")\n",
    "plt.plot(X, Y_pred, \"--\", label=\"Exponential PQC\")\n",
    "plt.plot(X, Y_pred_pauli, \"--\", label=\"Parallel Pauli PQC\")\n",
    "plt.legend()\n",
    "plt.title(\"Function Fitting with PQC\")\n",
    "plt.show()"
   ]
  },
  {
   "cell_type": "code",
   "execution_count": 114,
   "metadata": {
    "colab": {
     "base_uri": "https://localhost:8080/",
     "height": 126
    },
    "executionInfo": {
     "elapsed": 362,
     "status": "ok",
     "timestamp": 1745585338072,
     "user": {
      "displayName": "Tomaž Poljanšek",
      "userId": "16982243430376534286"
     },
     "user_tz": -120
    },
    "id": "z-cDYN4biELR",
    "outputId": "6c2471af-d432-4ff4-ea40-820c127f60b6"
   },
   "outputs": [
    {
     "data": {
      "image/png": "[encoded data removed]",
      "text/plain": [
       "<Figure size 2600x400 with 1 Axes>"
      ]
     },
     "metadata": {},
     "output_type": "display_data"
    }
   ],
   "source": [
    "qml.drawer.use_style('black_white')\n",
    "fig, ax = qml.draw_mpl(parallel_pauli_model)(0.4, weights)"
   ]
  }
 ],
 "metadata": {
  "colab": {
   "provenance": [
    {
     "file_id": "1fcCLltRx0FHss1LGmo3CFfM3DXFIvYkF",
     "timestamp": 1745577922163
    }
   ],
   "toc_visible": true
  },
  "kernelspec": {
   "display_name": "Python 3",
   "name": "python3"
  },
  "language_info": {
   "name": "python"
  },
  "widgets": {
   "application/vnd.jupyter.widget-state+json": {
    "0d120af5a6ad4d91ae2cd70fd9d6a862": {
     "model_module": "@jupyter-widgets/controls",
     "model_module_version": "1.5.0",
     "model_name": "HTMLModel",
     "state": {
      "_dom_classes": [],
      "_model_module": "@jupyter-widgets/controls",
      "_model_module_version": "1.5.0",
      "_model_name": "HTMLModel",
      "_view_count": null,
      "_view_module": "@jupyter-widgets/controls",
      "_view_module_version": "1.5.0",
      "_view_name": "HTMLView",
      "description": "",
      "description_tooltip": null,
      "layout": "IPY_MODEL_34ba9baeb9614493a101d8a87235da05",
      "placeholder": "​",
      "style": "IPY_MODEL_285e295bb5a04b5dabac165b056c89f1",
      "value": "100%"
     }
    },
    "1e7aba6dbcb847cd8ba0360d5b261f95": {
     "model_module": "@jupyter-widgets/base",
     "model_module_version": "1.2.0",
     "model_name": "LayoutModel",
     "state": {
      "_model_module": "@jupyter-widgets/base",
      "_model_module_version": "1.2.0",
      "_model_name": "LayoutModel",
      "_view_count": null,
      "_view_module": "@jupyter-widgets/base",
      "_view_module_version": "1.2.0",
      "_view_name": "LayoutView",
      "align_content": null,
      "align_items": null,
      "align_self": null,
      "border": null,
      "bottom": null,
      "display": null,
      "flex": null,
      "flex_flow": null,
      "grid_area": null,
      "grid_auto_columns": null,
      "grid_auto_flow": null,
      "grid_auto_rows": null,
      "grid_column": null,
      "grid_gap": null,
      "grid_row": null,
      "grid_template_areas": null,
      "grid_template_columns": null,
      "grid_template_rows": null,
      "height": null,
      "justify_content": null,
      "justify_items": null,
      "left": null,
      "margin": null,
      "max_height": null,
      "max_width": null,
      "min_height": null,
      "min_width": null,
      "object_fit": null,
      "object_position": null,
      "order": null,
      "overflow": null,
      "overflow_x": null,
      "overflow_y": null,
      "padding": null,
      "right": null,
      "top": null,
      "visibility": null,
      "width": null
     }
    },
    "2633c308212b43cfa06793e1f63ba252": {
     "model_module": "@jupyter-widgets/base",
     "model_module_version": "1.2.0",
     "model_name": "LayoutModel",
     "state": {
      "_model_module": "@jupyter-widgets/base",
      "_model_module_version": "1.2.0",
      "_model_name": "LayoutModel",
      "_view_count": null,
      "_view_module": "@jupyter-widgets/base",
      "_view_module_version": "1.2.0",
      "_view_name": "LayoutView",
      "align_content": null,
      "align_items": null,
      "align_self": null,
      "border": null,
      "bottom": null,
      "display": null,
      "flex": null,
      "flex_flow": null,
      "grid_area": null,
      "grid_auto_columns": null,
      "grid_auto_flow": null,
      "grid_auto_rows": null,
      "grid_column": null,
      "grid_gap": null,
      "grid_row": null,
      "grid_template_areas": null,
      "grid_template_columns": null,
      "grid_template_rows": null,
      "height": null,
      "justify_content": null,
      "justify_items": null,
      "left": null,
      "margin": null,
      "max_height": null,
      "max_width": null,
      "min_height": null,
      "min_width": null,
      "object_fit": null,
      "object_position": null,
      "order": null,
      "overflow": null,
      "overflow_x": null,
      "overflow_y": null,
      "padding": null,
      "right": null,
      "top": null,
      "visibility": null,
      "width": null
     }
    },
    "285e295bb5a04b5dabac165b056c89f1": {
     "model_module": "@jupyter-widgets/controls",
     "model_module_version": "1.5.0",
     "model_name": "DescriptionStyleModel",
     "state": {
      "_model_module": "@jupyter-widgets/controls",
      "_model_module_version": "1.5.0",
      "_model_name": "DescriptionStyleModel",
      "_view_count": null,
      "_view_module": "@jupyter-widgets/base",
      "_view_module_version": "1.2.0",
      "_view_name": "StyleView",
      "description_width": ""
     }
    },
    "34ba9baeb9614493a101d8a87235da05": {
     "model_module": "@jupyter-widgets/base",
     "model_module_version": "1.2.0",
     "model_name": "LayoutModel",
     "state": {
      "_model_module": "@jupyter-widgets/base",
      "_model_module_version": "1.2.0",
      "_model_name": "LayoutModel",
      "_view_count": null,
      "_view_module": "@jupyter-widgets/base",
      "_view_module_version": "1.2.0",
      "_view_name": "LayoutView",
      "align_content": null,
      "align_items": null,
      "align_self": null,
      "border": null,
      "bottom": null,
      "display": null,
      "flex": null,
      "flex_flow": null,
      "grid_area": null,
      "grid_auto_columns": null,
      "grid_auto_flow": null,
      "grid_auto_rows": null,
      "grid_column": null,
      "grid_gap": null,
      "grid_row": null,
      "grid_template_areas": null,
      "grid_template_columns": null,
      "grid_template_rows": null,
      "height": null,
      "justify_content": null,
      "justify_items": null,
      "left": null,
      "margin": null,
      "max_height": null,
      "max_width": null,
      "min_height": null,
      "min_width": null,
      "object_fit": null,
      "object_position": null,
      "order": null,
      "overflow": null,
      "overflow_x": null,
      "overflow_y": null,
      "padding": null,
      "right": null,
      "top": null,
      "visibility": null,
      "width": null
     }
    },
    "39410311663c4c30acf6cfb0b05ce9fe": {
     "model_module": "@jupyter-widgets/base",
     "model_module_version": "1.2.0",
     "model_name": "LayoutModel",
     "state": {
      "_model_module": "@jupyter-widgets/base",
      "_model_module_version": "1.2.0",
      "_model_name": "LayoutModel",
      "_view_count": null,
      "_view_module": "@jupyter-widgets/base",
      "_view_module_version": "1.2.0",
      "_view_name": "LayoutView",
      "align_content": null,
      "align_items": null,
      "align_self": null,
      "border": null,
      "bottom": null,
      "display": null,
      "flex": null,
      "flex_flow": null,
      "grid_area": null,
      "grid_auto_columns": null,
      "grid_auto_flow": null,
      "grid_auto_rows": null,
      "grid_column": null,
      "grid_gap": null,
      "grid_row": null,
      "grid_template_areas": null,
      "grid_template_columns": null,
      "grid_template_rows": null,
      "height": null,
      "justify_content": null,
      "justify_items": null,
      "left": null,
      "margin": null,
      "max_height": null,
      "max_width": null,
      "min_height": null,
      "min_width": null,
      "object_fit": null,
      "object_position": null,
      "order": null,
      "overflow": null,
      "overflow_x": null,
      "overflow_y": null,
      "padding": null,
      "right": null,
      "top": null,
      "visibility": null,
      "width": null
     }
    },
    "3f7c716e180243f8a370b43e476af158": {
     "model_module": "@jupyter-widgets/controls",
     "model_module_version": "1.5.0",
     "model_name": "ProgressStyleModel",
     "state": {
      "_model_module": "@jupyter-widgets/controls",
      "_model_module_version": "1.5.0",
      "_model_name": "ProgressStyleModel",
      "_view_count": null,
      "_view_module": "@jupyter-widgets/base",
      "_view_module_version": "1.2.0",
      "_view_name": "StyleView",
      "bar_color": null,
      "description_width": ""
     }
    },
    "4556882a127448cb8752e596f1e05075": {
     "model_module": "@jupyter-widgets/controls",
     "model_module_version": "1.5.0",
     "model_name": "HTMLModel",
     "state": {
      "_dom_classes": [],
      "_model_module": "@jupyter-widgets/controls",
      "_model_module_version": "1.5.0",
      "_model_name": "HTMLModel",
      "_view_count": null,
      "_view_module": "@jupyter-widgets/controls",
      "_view_module_version": "1.5.0",
      "_view_name": "HTMLView",
      "description": "",
      "description_tooltip": null,
      "layout": "IPY_MODEL_39410311663c4c30acf6cfb0b05ce9fe",
      "placeholder": "​",
      "style": "IPY_MODEL_916018cc36c44d94aee54e625abbf4fe",
      "value": "100%"
     }
    },
    "4d9669c724934d48b815e90d26a8b612": {
     "model_module": "@jupyter-widgets/controls",
     "model_module_version": "1.5.0",
     "model_name": "DescriptionStyleModel",
     "state": {
      "_model_module": "@jupyter-widgets/controls",
      "_model_module_version": "1.5.0",
      "_model_name": "DescriptionStyleModel",
      "_view_count": null,
      "_view_module": "@jupyter-widgets/base",
      "_view_module_version": "1.2.0",
      "_view_name": "StyleView",
      "description_width": ""
     }
    },
    "65cb5e0f34ab44b88938b9c7e52f2484": {
     "model_module": "@jupyter-widgets/controls",
     "model_module_version": "1.5.0",
     "model_name": "HTMLModel",
     "state": {
      "_dom_classes": [],
      "_model_module": "@jupyter-widgets/controls",
      "_model_module_version": "1.5.0",
      "_model_name": "HTMLModel",
      "_view_count": null,
      "_view_module": "@jupyter-widgets/controls",
      "_view_module_version": "1.5.0",
      "_view_name": "HTMLView",
      "description": "",
      "description_tooltip": null,
      "layout": "IPY_MODEL_2633c308212b43cfa06793e1f63ba252",
      "placeholder": "​",
      "style": "IPY_MODEL_e90001e2798a44fbac70d1282b5d2fce",
      "value": " 100/100 [14:37&lt;00:00,  8.77s/it]"
     }
    },
    "72ee32fd3a06430b8f307cea6b6effaa": {
     "model_module": "@jupyter-widgets/controls",
     "model_module_version": "1.5.0",
     "model_name": "ProgressStyleModel",
     "state": {
      "_model_module": "@jupyter-widgets/controls",
      "_model_module_version": "1.5.0",
      "_model_name": "ProgressStyleModel",
      "_view_count": null,
      "_view_module": "@jupyter-widgets/base",
      "_view_module_version": "1.2.0",
      "_view_name": "StyleView",
      "bar_color": null,
      "description_width": ""
     }
    },
    "74bd20bd3f08443eb020adf8be297285": {
     "model_module": "@jupyter-widgets/controls",
     "model_module_version": "1.5.0",
     "model_name": "HBoxModel",
     "state": {
      "_dom_classes": [],
      "_model_module": "@jupyter-widgets/controls",
      "_model_module_version": "1.5.0",
      "_model_name": "HBoxModel",
      "_view_count": null,
      "_view_module": "@jupyter-widgets/controls",
      "_view_module_version": "1.5.0",
      "_view_name": "HBoxView",
      "box_style": "",
      "children": [
       "IPY_MODEL_0d120af5a6ad4d91ae2cd70fd9d6a862",
       "IPY_MODEL_de5f8a57b5a64528b9b7b9e51142f46e",
       "IPY_MODEL_dcce1b8ae05f445ba3afd58bb30a53ba"
      ],
      "layout": "IPY_MODEL_8f33373ba7c94153a35ed9a888a5ed0e"
     }
    },
    "80c5efff8821497cab7749f3f452b055": {
     "model_module": "@jupyter-widgets/controls",
     "model_module_version": "1.5.0",
     "model_name": "HBoxModel",
     "state": {
      "_dom_classes": [],
      "_model_module": "@jupyter-widgets/controls",
      "_model_module_version": "1.5.0",
      "_model_name": "HBoxModel",
      "_view_count": null,
      "_view_module": "@jupyter-widgets/controls",
      "_view_module_version": "1.5.0",
      "_view_name": "HBoxView",
      "box_style": "",
      "children": [
       "IPY_MODEL_4556882a127448cb8752e596f1e05075",
       "IPY_MODEL_d2106194e25347f58df578c4b83e2be2",
       "IPY_MODEL_65cb5e0f34ab44b88938b9c7e52f2484"
      ],
      "layout": "IPY_MODEL_c1abd93a327041a5ae87ef056ed287d5"
     }
    },
    "8f33373ba7c94153a35ed9a888a5ed0e": {
     "model_module": "@jupyter-widgets/base",
     "model_module_version": "1.2.0",
     "model_name": "LayoutModel",
     "state": {
      "_model_module": "@jupyter-widgets/base",
      "_model_module_version": "1.2.0",
      "_model_name": "LayoutModel",
      "_view_count": null,
      "_view_module": "@jupyter-widgets/base",
      "_view_module_version": "1.2.0",
      "_view_name": "LayoutView",
      "align_content": null,
      "align_items": null,
      "align_self": null,
      "border": null,
      "bottom": null,
      "display": null,
      "flex": null,
      "flex_flow": null,
      "grid_area": null,
      "grid_auto_columns": null,
      "grid_auto_flow": null,
      "grid_auto_rows": null,
      "grid_column": null,
      "grid_gap": null,
      "grid_row": null,
      "grid_template_areas": null,
      "grid_template_columns": null,
      "grid_template_rows": null,
      "height": null,
      "justify_content": null,
      "justify_items": null,
      "left": null,
      "margin": null,
      "max_height": null,
      "max_width": null,
      "min_height": null,
      "min_width": null,
      "object_fit": null,
      "object_position": null,
      "order": null,
      "overflow": null,
      "overflow_x": null,
      "overflow_y": null,
      "padding": null,
      "right": null,
      "top": null,
      "visibility": null,
      "width": null
     }
    },
    "916018cc36c44d94aee54e625abbf4fe": {
     "model_module": "@jupyter-widgets/controls",
     "model_module_version": "1.5.0",
     "model_name": "DescriptionStyleModel",
     "state": {
      "_model_module": "@jupyter-widgets/controls",
      "_model_module_version": "1.5.0",
      "_model_name": "DescriptionStyleModel",
      "_view_count": null,
      "_view_module": "@jupyter-widgets/base",
      "_view_module_version": "1.2.0",
      "_view_name": "StyleView",
      "description_width": ""
     }
    },
    "a04cc6dae89244ce856188f0de61b0e7": {
     "model_module": "@jupyter-widgets/base",
     "model_module_version": "1.2.0",
     "model_name": "LayoutModel",
     "state": {
      "_model_module": "@jupyter-widgets/base",
      "_model_module_version": "1.2.0",
      "_model_name": "LayoutModel",
      "_view_count": null,
      "_view_module": "@jupyter-widgets/base",
      "_view_module_version": "1.2.0",
      "_view_name": "LayoutView",
      "align_content": null,
      "align_items": null,
      "align_self": null,
      "border": null,
      "bottom": null,
      "display": null,
      "flex": null,
      "flex_flow": null,
      "grid_area": null,
      "grid_auto_columns": null,
      "grid_auto_flow": null,
      "grid_auto_rows": null,
      "grid_column": null,
      "grid_gap": null,
      "grid_row": null,
      "grid_template_areas": null,
      "grid_template_columns": null,
      "grid_template_rows": null,
      "height": null,
      "justify_content": null,
      "justify_items": null,
      "left": null,
      "margin": null,
      "max_height": null,
      "max_width": null,
      "min_height": null,
      "min_width": null,
      "object_fit": null,
      "object_position": null,
      "order": null,
      "overflow": null,
      "overflow_x": null,
      "overflow_y": null,
      "padding": null,
      "right": null,
      "top": null,
      "visibility": null,
      "width": null
     }
    },
    "ac9bcb087de74a55ba2e67ac41f19aee": {
     "model_module": "@jupyter-widgets/base",
     "model_module_version": "1.2.0",
     "model_name": "LayoutModel",
     "state": {
      "_model_module": "@jupyter-widgets/base",
      "_model_module_version": "1.2.0",
      "_model_name": "LayoutModel",
      "_view_count": null,
      "_view_module": "@jupyter-widgets/base",
      "_view_module_version": "1.2.0",
      "_view_name": "LayoutView",
      "align_content": null,
      "align_items": null,
      "align_self": null,
      "border": null,
      "bottom": null,
      "display": null,
      "flex": null,
      "flex_flow": null,
      "grid_area": null,
      "grid_auto_columns": null,
      "grid_auto_flow": null,
      "grid_auto_rows": null,
      "grid_column": null,
      "grid_gap": null,
      "grid_row": null,
      "grid_template_areas": null,
      "grid_template_columns": null,
      "grid_template_rows": null,
      "height": null,
      "justify_content": null,
      "justify_items": null,
      "left": null,
      "margin": null,
      "max_height": null,
      "max_width": null,
      "min_height": null,
      "min_width": null,
      "object_fit": null,
      "object_position": null,
      "order": null,
      "overflow": null,
      "overflow_x": null,
      "overflow_y": null,
      "padding": null,
      "right": null,
      "top": null,
      "visibility": null,
      "width": null
     }
    },
    "c1abd93a327041a5ae87ef056ed287d5": {
     "model_module": "@jupyter-widgets/base",
     "model_module_version": "1.2.0",
     "model_name": "LayoutModel",
     "state": {
      "_model_module": "@jupyter-widgets/base",
      "_model_module_version": "1.2.0",
      "_model_name": "LayoutModel",
      "_view_count": null,
      "_view_module": "@jupyter-widgets/base",
      "_view_module_version": "1.2.0",
      "_view_name": "LayoutView",
      "align_content": null,
      "align_items": null,
      "align_self": null,
      "border": null,
      "bottom": null,
      "display": null,
      "flex": null,
      "flex_flow": null,
      "grid_area": null,
      "grid_auto_columns": null,
      "grid_auto_flow": null,
      "grid_auto_rows": null,
      "grid_column": null,
      "grid_gap": null,
      "grid_row": null,
      "grid_template_areas": null,
      "grid_template_columns": null,
      "grid_template_rows": null,
      "height": null,
      "justify_content": null,
      "justify_items": null,
      "left": null,
      "margin": null,
      "max_height": null,
      "max_width": null,
      "min_height": null,
      "min_width": null,
      "object_fit": null,
      "object_position": null,
      "order": null,
      "overflow": null,
      "overflow_x": null,
      "overflow_y": null,
      "padding": null,
      "right": null,
      "top": null,
      "visibility": null,
      "width": null
     }
    },
    "d2106194e25347f58df578c4b83e2be2": {
     "model_module": "@jupyter-widgets/controls",
     "model_module_version": "1.5.0",
     "model_name": "FloatProgressModel",
     "state": {
      "_dom_classes": [],
      "_model_module": "@jupyter-widgets/controls",
      "_model_module_version": "1.5.0",
      "_model_name": "FloatProgressModel",
      "_view_count": null,
      "_view_module": "@jupyter-widgets/controls",
      "_view_module_version": "1.5.0",
      "_view_name": "ProgressView",
      "bar_style": "success",
      "description": "",
      "description_tooltip": null,
      "layout": "IPY_MODEL_ac9bcb087de74a55ba2e67ac41f19aee",
      "max": 100,
      "min": 0,
      "orientation": "horizontal",
      "style": "IPY_MODEL_72ee32fd3a06430b8f307cea6b6effaa",
      "value": 100
     }
    },
    "dcce1b8ae05f445ba3afd58bb30a53ba": {
     "model_module": "@jupyter-widgets/controls",
     "model_module_version": "1.5.0",
     "model_name": "HTMLModel",
     "state": {
      "_dom_classes": [],
      "_model_module": "@jupyter-widgets/controls",
      "_model_module_version": "1.5.0",
      "_model_name": "HTMLModel",
      "_view_count": null,
      "_view_module": "@jupyter-widgets/controls",
      "_view_module_version": "1.5.0",
      "_view_name": "HTMLView",
      "description": "",
      "description_tooltip": null,
      "layout": "IPY_MODEL_a04cc6dae89244ce856188f0de61b0e7",
      "placeholder": "​",
      "style": "IPY_MODEL_4d9669c724934d48b815e90d26a8b612",
      "value": " 100/100 [14:31&lt;00:00,  8.67s/it]"
     }
    },
    "de5f8a57b5a64528b9b7b9e51142f46e": {
     "model_module": "@jupyter-widgets/controls",
     "model_module_version": "1.5.0",
     "model_name": "FloatProgressModel",
     "state": {
      "_dom_classes": [],
      "_model_module": "@jupyter-widgets/controls",
      "_model_module_version": "1.5.0",
      "_model_name": "FloatProgressModel",
      "_view_count": null,
      "_view_module": "@jupyter-widgets/controls",
      "_view_module_version": "1.5.0",
      "_view_name": "ProgressView",
      "bar_style": "success",
      "description": "",
      "description_tooltip": null,
      "layout": "IPY_MODEL_1e7aba6dbcb847cd8ba0360d5b261f95",
      "max": 100,
      "min": 0,
      "orientation": "horizontal",
      "style": "IPY_MODEL_3f7c716e180243f8a370b43e476af158",
      "value": 100
     }
    },
    "e90001e2798a44fbac70d1282b5d2fce": {
     "model_module": "@jupyter-widgets/controls",
     "model_module_version": "1.5.0",
     "model_name": "DescriptionStyleModel",
     "state": {
      "_model_module": "@jupyter-widgets/controls",
      "_model_module_version": "1.5.0",
      "_model_name": "DescriptionStyleModel",
      "_view_count": null,
      "_view_module": "@jupyter-widgets/base",
      "_view_module_version": "1.2.0",
      "_view_name": "StyleView",
      "description_width": ""
     }
    }
   }
  }
 },
 "nbformat": 4,
 "nbformat_minor": 0
}
