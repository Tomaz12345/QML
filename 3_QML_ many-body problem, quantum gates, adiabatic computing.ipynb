{
 "cells": [
  {
   "cell_type": "markdown",
   "metadata": {
    "id": "9Ew_SZnZ-Egt"
   },
   "source": [
    "**Setting up the environment**"
   ]
  },
  {
   "cell_type": "code",
   "execution_count": 1,
   "metadata": {
    "executionInfo": {
     "elapsed": 23385,
     "status": "ok",
     "timestamp": 1743160960901,
     "user": {
      "displayName": "Tomaž Poljanšek",
      "userId": "16982243430376534286"
     },
     "user_tz": -60
    },
    "id": "PR8t5jHwupyF"
   },
   "outputs": [],
   "source": [
    "%%capture\n",
    "files = !ls\n",
    "files = [f.split(\"  \") for f in files][0]\n",
    "\n",
    "isFRIQML = 'fri_qml' in files\n",
    "isFRIQMLPath = isFRIQML and \"setup.py\" in files\n",
    "\n",
    "# Clone the entire repo. Only run once!\n",
    "if not isFRIQML:\n",
    "  !git clone -l -s https://github.com/znajob/fri_qml.git fri_qml\n",
    "\n",
    "if not isFRIQMLPath:\n",
    "  %cd fri_qml\n",
    "\n",
    "!git pull\n",
    "!pip install -e ."
   ]
  },
  {
   "cell_type": "code",
   "execution_count": 2,
   "metadata": {
    "executionInfo": {
     "elapsed": 5785,
     "status": "ok",
     "timestamp": 1743160986730,
     "user": {
      "displayName": "Tomaž Poljanšek",
      "userId": "16982243430376534286"
     },
     "user_tz": -60
    },
    "id": "6NKitHqB8qJm"
   },
   "outputs": [],
   "source": [
    "# MAIN IMPORTS\n",
    "import pennylane as qml\n",
    "from pennylane import numpy as np\n",
    "from friqml.visualisation import plot_quantum_state, plot_histogram\n",
    "from friqml.utils import eps, random_state_normalized, random_state_unnormalized\n",
    "from functools import partial\n",
    "from tqdm.notebook import tqdm"
   ]
  },
  {
   "cell_type": "markdown",
   "metadata": {
    "id": "QgFYEP3Nqj3r"
   },
   "source": [
    "When solving the exercises refer to the [PennyLane documentation](https://pennylane.readthedocs.io/en/stable/)."
   ]
  },
  {
   "cell_type": "markdown",
   "metadata": {
    "id": "G6vSYsXhHHPL"
   },
   "source": [
    "## Many-body problem"
   ]
  },
  {
   "cell_type": "markdown",
   "metadata": {
    "id": "jumhaWG3L_Yg"
   },
   "source": [
    "### Exercise 1\n",
    "\n",
    "The **Ising model** is a basic model of statistical mechanics that explains a lot about how quantum optimizers work. Its energy is described by its Hamiltonian:\n",
    "\n",
    "\\begin{align}\n",
    "H=-\\sum_{i=1}^{n-1} J_{i,i+1} \\sigma_i \\sigma_{i+1} - \\sum_{i=1}^n h_i \\sigma_i.\n",
    "\\end{align}\n",
    "\n",
    "Write a function `h_ising` that calculates this energy for a linear chain of spins. The function takes three arguments: `J`, `h`, and `sigma`, corresponding to the coupling strengths, the onsite field at each site, and the specific spin configuration."
   ]
  },
  {
   "cell_type": "code",
   "execution_count": null,
   "metadata": {
    "executionInfo": {
     "elapsed": 2,
     "status": "ok",
     "timestamp": 1743165154161,
     "user": {
      "displayName": "Tomaž Poljanšek",
      "userId": "16982243430376534286"
     },
     "user_tz": -60
    },
    "id": "jR4I8ZhBmQ9h"
   },
   "outputs": [],
   "source": [
    "from friqml.utils import eps"
   ]
  },
  {
   "cell_type": "code",
   "execution_count": null,
   "metadata": {
    "executionInfo": {
     "elapsed": 40,
     "status": "ok",
     "timestamp": 1743161209847,
     "user": {
      "displayName": "Tomaž Poljanšek",
      "userId": "16982243430376534286"
     },
     "user_tz": -60
    },
    "id": "yr6KXbxvH7DW"
   },
   "outputs": [],
   "source": [
    "def h_ising(J, h, sigma):\n",
    "    s = 0\n",
    "    for i in range(len(J)):\n",
    "        s -= J[i] * sigma[i] * sigma[i+1]\n",
    "    for i in range(len(h)):\n",
    "        s -= h[i] * sigma[i]\n",
    "    return s"
   ]
  },
  {
   "cell_type": "code",
   "execution_count": 9,
   "metadata": {
    "colab": {
     "base_uri": "https://localhost:8080/"
    },
    "executionInfo": {
     "elapsed": 32,
     "status": "ok",
     "timestamp": 1743161210811,
     "user": {
      "displayName": "Tomaž Poljanšek",
      "userId": "16982243430376534286"
     },
     "user_tz": -60
    },
    "id": "TNxLynTlH_2p",
    "outputId": "1b953024-669c-473b-e632-fc33cc2f2a20"
   },
   "outputs": [
    {
     "name": "stdout",
     "output_type": "stream",
     "text": [
      "True\n",
      "True\n"
     ]
    }
   ],
   "source": [
    "# TESTS\n",
    "J = [1.0, -1.0]\n",
    "h = [0.5, 0.5, 0.4]\n",
    "sigma = [+1, -1, +1]\n",
    "print( abs(h_ising(J, h, sigma)+0.4) < eps )\n",
    "J = [-1.0, 0.5, 0.9]\n",
    "h = [4, 0.2, 0.4, 0.7]\n",
    "sigma = [+1, -1, -1, -1]\n",
    "print(abs(h_ising(J, h, sigma)+5.1) < eps)"
   ]
  },
  {
   "cell_type": "markdown",
   "metadata": {
    "id": "PmivJwfYMMmq"
   },
   "source": [
    "### Exercise 2\n",
    "Finding the lowest possible energy of the Ising Hamiltonian is a combinatorial optimization problem, and it is a known NP-hard problem. Many heuristic methods have been invented to tackle the problem. One of them is simulated annealing. It is implemented in [dimod](https://docs.dwavequantum.com/en/latest/ocean/api_ref_dimod/index.html#dimod).\n",
    "\n",
    "1.   Write a function `random_antiferromagnetic_ising` with one argument `n` that creates a random antiferromagnetic model on `n` sites with no external field $h=0$ and returns the variables `J` and `h`. Then write a function `ising_solution` that (given given `J` and `h`) iterates over all possible configurations, calculates the corresponding energies and returns the configuration with the smallest energy and a list of all energies in ascending order.\n",
    "\n",
    "2.   Create the same antiferromagnetic model in dimod with the same `J` and `h`. Keep in mind that dimod uses a plus and not a minus sign in the Hamiltonian, so the sign of your couplings should be reversed. Store the model in an object called `model`, which should be a [`BinaryQuadraticModel`](https://docs.dwavequantum.com/en/latest/ocean/api_ref_dimod/models.html#dimod.binary.BinaryQuadraticModel). Sample the solution space a hundred times and write the response in an object called [`sampleset`](https://docs.dwavequantum.com/en/latest/ocean/api_ref_dimod/sampler_composites.html#dimod.reference.samplers.SimulatedAnnealingSampler).\n",
    "\n",
    "\n"
   ]
  },
  {
   "cell_type": "code",
   "execution_count": null,
   "metadata": {
    "executionInfo": {
     "elapsed": 2,
     "status": "ok",
     "timestamp": 1743165157676,
     "user": {
      "displayName": "Tomaž Poljanšek",
      "userId": "16982243430376534286"
     },
     "user_tz": -60
    },
    "id": "OhEhsjzN85J9"
   },
   "outputs": [],
   "source": [
    "#SOLUTION\n",
    "import dimod\n"
   ]
  },
  {
   "cell_type": "code",
   "execution_count": null,
   "metadata": {
    "executionInfo": {
     "elapsed": 107,
     "status": "ok",
     "timestamp": 1743163788722,
     "user": {
      "displayName": "Tomaž Poljanšek",
      "userId": "16982243430376534286"
     },
     "user_tz": -60
    },
    "id": "8HMcaT7sZ46K"
   },
   "outputs": [],
   "source": [
    "def dimod_qubo_ising(J, h):\n",
    "    a = -h\n",
    "    b = np.diag(-J, 1)\n",
    "    qbm = dimod.BinaryQuadraticModel(a, b, \"SPIN\")\n",
    "    return qbm\n",
    "\n",
    "def random_antiferromagnetic_ising(n):\n",
    "    J = []\n",
    "    h = []\n",
    "    for i in range(n-1):\n",
    "        J.append(-np.random.sample())\n",
    "        h.append(0)\n",
    "    h.append(0)\n",
    "\n",
    "    return np.array(J), np.array(h)\n",
    "\n",
    "def ising_solution(J, h):\n",
    "    min_energy = np.inf\n",
    "    energies_all = []\n",
    "    sigma_best = None\n",
    "    for i in range(2**len(h)):\n",
    "        #sigma = [2*int(x)-1 for x in bin(i)[2:]]\n",
    "        sigma = [2*int(x)-1 for x in bin(i)[2:].zfill(len(h))]\n",
    "        energy = h_ising(J, h, sigma)\n",
    "        if energy < min_energy:\n",
    "          sigma_best = sigma\n",
    "          min_energy = energy\n",
    "        energies_all.append(energy)\n",
    "    return sigma_best, sorted(energies_all)\n"
   ]
  },
  {
   "cell_type": "code",
   "execution_count": null,
   "metadata": {
    "colab": {
     "base_uri": "https://localhost:8080/"
    },
    "executionInfo": {
     "elapsed": 673,
     "status": "ok",
     "timestamp": 1743163790256,
     "user": {
      "displayName": "Tomaž Poljanšek",
      "userId": "16982243430376534286"
     },
     "user_tz": -60
    },
    "id": "stdkEo8fPQE_",
    "outputId": "25f193c2-c2ea-4354-b238-e45df93447c1"
   },
   "outputs": [
    {
     "name": "stdout",
     "output_type": "stream",
     "text": [
      "True\n",
      "True\n",
      "True\n"
     ]
    }
   ],
   "source": [
    "# TESTS\n",
    "n=3\n",
    "J,h = random_antiferromagnetic_ising(n)\n",
    "sigma,elist=ising_solution(J,h)\n",
    "#print(sigma)\n",
    "#print(elist)\n",
    "model = dimod_qubo_ising(J,h)\n",
    "#print(model)\n",
    "sampleset = dimod.SimulatedAnnealingSampler().sample(model,num_reads=100)\n",
    "#print(sampleset.first.sample)\n",
    "\n",
    "print(all([sigma[i]*sigma[i+1] == -1 for i, _ in enumerate(J)]))\n",
    "print(len(sampleset) == 100)\n",
    "sample = sampleset.first.sample\n",
    "print(all([sample[i]*sample[i+1] == -1 for i, _ in enumerate(J)]))"
   ]
  },
  {
   "cell_type": "markdown",
   "metadata": {
    "id": "il_YzsARPEHL"
   },
   "source": [
    "### Exercise 3\n",
    "A quantum formulation of the classical Ising model is written in terms of the Pauli matrix $\\sigma^{\\rm z}=\\begin{pmatrix}1 & 0\\\\ 0& -1\\end{pmatrix}$. The Hamiltonian is\n",
    "\n",
    "\\begin{align}\n",
    "H= -\\sum_{<i,j>}J_{i,j}\\sigma^{\\rm z}_i\\sigma^{\\rm z}_j-\\sum_jh_j\\sigma^{\\rm z}_j.\n",
    "\\end{align}\n",
    "Write a function `classical_ising` that receives `J` and `h` as arguments and returns a matrix representing the quantum Hamiltonian of the 1D classical Ising model. Then calculate the spectrum of the Hamiltonian and check that it corresponds to all possible values of the function `h_ising`. Also check that the Hamiltonian is diagonal."
   ]
  },
  {
   "cell_type": "code",
   "execution_count": null,
   "metadata": {
    "executionInfo": {
     "elapsed": 4,
     "status": "ok",
     "timestamp": 1743165659232,
     "user": {
      "displayName": "Tomaž Poljanšek",
      "userId": "16982243430376534286"
     },
     "user_tz": -60
    },
    "id": "pYx7nI9u97sk"
   },
   "outputs": [],
   "source": [
    "def sz(i, n):\n",
    "    assert i < n, \"i has to be smaller than n\"\n",
    "    return np.kron(np.kron(np.eye(2**(i)), np.array([[1, 0], [0, -1]])), np.eye(2**(n-i-1)))\n",
    "\n",
    "\n",
    "def classical_ising(J, h):\n",
    "    n = len(J)\n",
    "    H = np.zeros((2**n, 2**n))\n",
    "    sz = np.array([[1,0], [0,-1]])\n",
    "    for i in range(n-1):\n",
    "      H -= J[i] * np.kron(np.eye(2**(i)), np.kron(sz, np.eye(2**(n-i)))) @ np.kron(np.eye(2**(i+1)), np.kron(sz, np.eye(2**(n-i-2))))\n",
    "    for i in range(n):\n",
    "      H -= h[i] * np.kron(np.eye(2**(i)), np.kron(sz, np.eye(2**(n-i))))"
   ]
  },
  {
   "cell_type": "code",
   "execution_count": 72,
   "metadata": {
    "colab": {
     "base_uri": "https://localhost:8080/",
     "height": 452
    },
    "executionInfo": {
     "elapsed": 105,
     "status": "error",
     "timestamp": 1743165660580,
     "user": {
      "displayName": "Tomaž Poljanšek",
      "userId": "16982243430376534286"
     },
     "user_tz": -60
    },
    "id": "vxW-S1KuV9ej",
    "outputId": "e02e298d-146f-48cc-b2e5-8fc5fd961dc7"
   },
   "outputs": [
    {
     "ename": "ValueError",
     "evalue": "operands could not be broadcast together with shapes (64,64) (128,128) (64,64) ",
     "output_type": "error",
     "traceback": [
      "\u001b[0;31m---------------------------------------------------------------------------\u001b[0m",
      "\u001b[0;31mValueError\u001b[0m                                Traceback (most recent call last)",
      "\u001b[0;32m<ipython-input-72-f37072185954>\u001b[0m in \u001b[0;36m<cell line: 0>\u001b[0;34m()\u001b[0m\n\u001b[1;32m      3\u001b[0m \u001b[0mJ\u001b[0m\u001b[0;34m,\u001b[0m\u001b[0mh\u001b[0m \u001b[0;34m=\u001b[0m \u001b[0mrandom_antiferromagnetic_ising\u001b[0m\u001b[0;34m(\u001b[0m\u001b[0mn\u001b[0m\u001b[0;34m)\u001b[0m\u001b[0;34m\u001b[0m\u001b[0;34m\u001b[0m\u001b[0m\n\u001b[1;32m      4\u001b[0m \u001b[0msigma\u001b[0m\u001b[0;34m,\u001b[0m\u001b[0melist\u001b[0m\u001b[0;34m=\u001b[0m\u001b[0mising_solution\u001b[0m\u001b[0;34m(\u001b[0m\u001b[0mJ\u001b[0m\u001b[0;34m,\u001b[0m\u001b[0mh\u001b[0m\u001b[0;34m)\u001b[0m\u001b[0;34m\u001b[0m\u001b[0;34m\u001b[0m\u001b[0m\n\u001b[0;32m----> 5\u001b[0;31m \u001b[0mH\u001b[0m \u001b[0;34m=\u001b[0m \u001b[0mclassical_ising\u001b[0m\u001b[0;34m(\u001b[0m\u001b[0mJ\u001b[0m\u001b[0;34m,\u001b[0m\u001b[0mh\u001b[0m\u001b[0;34m)\u001b[0m\u001b[0;34m\u001b[0m\u001b[0;34m\u001b[0m\u001b[0m\n\u001b[0m\u001b[1;32m      6\u001b[0m \u001b[0mes\u001b[0m \u001b[0;34m=\u001b[0m \u001b[0mnp\u001b[0m\u001b[0;34m.\u001b[0m\u001b[0mlinalg\u001b[0m\u001b[0;34m.\u001b[0m\u001b[0meigvalsh\u001b[0m\u001b[0;34m(\u001b[0m\u001b[0mH\u001b[0m\u001b[0;34m)\u001b[0m\u001b[0;34m\u001b[0m\u001b[0;34m\u001b[0m\u001b[0m\n\u001b[1;32m      7\u001b[0m \u001b[0mprint\u001b[0m\u001b[0;34m(\u001b[0m\u001b[0mmax\u001b[0m\u001b[0;34m(\u001b[0m\u001b[0mabs\u001b[0m\u001b[0;34m(\u001b[0m\u001b[0mes\u001b[0m\u001b[0;34m-\u001b[0m \u001b[0melist\u001b[0m\u001b[0;34m)\u001b[0m\u001b[0;34m)\u001b[0m\u001b[0;34m<\u001b[0m\u001b[0meps\u001b[0m\u001b[0;34m)\u001b[0m\u001b[0;34m\u001b[0m\u001b[0;34m\u001b[0m\u001b[0m\n",
      "\u001b[0;32m<ipython-input-71-1accb3a22e90>\u001b[0m in \u001b[0;36mclassical_ising\u001b[0;34m(J, h)\u001b[0m\n\u001b[1;32m      9\u001b[0m     \u001b[0;31m#  H -= J[i] * np.kron(np.eye(2**(i)), np.kron(sz, np.eye(2**(n-i)))) @ np.kron(np.eye(2**(i+1)), np.kron(sz, np.eye(2**(n-i-2))))\u001b[0m\u001b[0;34m\u001b[0m\u001b[0;34m\u001b[0m\u001b[0m\n\u001b[1;32m     10\u001b[0m     \u001b[0;32mfor\u001b[0m \u001b[0mi\u001b[0m \u001b[0;32min\u001b[0m \u001b[0mrange\u001b[0m\u001b[0;34m(\u001b[0m\u001b[0mn\u001b[0m\u001b[0;34m)\u001b[0m\u001b[0;34m:\u001b[0m\u001b[0;34m\u001b[0m\u001b[0;34m\u001b[0m\u001b[0m\n\u001b[0;32m---> 11\u001b[0;31m       \u001b[0mH\u001b[0m \u001b[0;34m-=\u001b[0m \u001b[0mh\u001b[0m\u001b[0;34m[\u001b[0m\u001b[0mi\u001b[0m\u001b[0;34m]\u001b[0m \u001b[0;34m*\u001b[0m \u001b[0mnp\u001b[0m\u001b[0;34m.\u001b[0m\u001b[0mkron\u001b[0m\u001b[0;34m(\u001b[0m\u001b[0mnp\u001b[0m\u001b[0;34m.\u001b[0m\u001b[0meye\u001b[0m\u001b[0;34m(\u001b[0m\u001b[0;36m2\u001b[0m\u001b[0;34m**\u001b[0m\u001b[0;34m(\u001b[0m\u001b[0mi\u001b[0m\u001b[0;34m)\u001b[0m\u001b[0;34m)\u001b[0m\u001b[0;34m,\u001b[0m \u001b[0mnp\u001b[0m\u001b[0;34m.\u001b[0m\u001b[0mkron\u001b[0m\u001b[0;34m(\u001b[0m\u001b[0msz\u001b[0m\u001b[0;34m,\u001b[0m \u001b[0mnp\u001b[0m\u001b[0;34m.\u001b[0m\u001b[0meye\u001b[0m\u001b[0;34m(\u001b[0m\u001b[0;36m2\u001b[0m\u001b[0;34m**\u001b[0m\u001b[0;34m(\u001b[0m\u001b[0mn\u001b[0m\u001b[0;34m-\u001b[0m\u001b[0mi\u001b[0m\u001b[0;34m-\u001b[0m\u001b[0mi\u001b[0m\u001b[0;34m)\u001b[0m\u001b[0;34m)\u001b[0m\u001b[0;34m)\u001b[0m\u001b[0;34m)\u001b[0m\u001b[0;34m\u001b[0m\u001b[0;34m\u001b[0m\u001b[0m\n\u001b[0m",
      "\u001b[0;32m/usr/local/lib/python3.11/dist-packages/pennylane/numpy/tensor.py\u001b[0m in \u001b[0;36m__array_ufunc__\u001b[0;34m(self, ufunc, method, *inputs, **kwargs)\u001b[0m\n\u001b[1;32m    153\u001b[0m         \u001b[0;31m# call the ndarray.__array_ufunc__ method to compute the result\u001b[0m\u001b[0;34m\u001b[0m\u001b[0;34m\u001b[0m\u001b[0m\n\u001b[1;32m    154\u001b[0m         \u001b[0;31m# of the vectorized ufunc\u001b[0m\u001b[0;34m\u001b[0m\u001b[0;34m\u001b[0m\u001b[0m\n\u001b[0;32m--> 155\u001b[0;31m         \u001b[0mres\u001b[0m \u001b[0;34m=\u001b[0m \u001b[0msuper\u001b[0m\u001b[0;34m(\u001b[0m\u001b[0;34m)\u001b[0m\u001b[0;34m.\u001b[0m\u001b[0m__array_ufunc__\u001b[0m\u001b[0;34m(\u001b[0m\u001b[0mufunc\u001b[0m\u001b[0;34m,\u001b[0m \u001b[0mmethod\u001b[0m\u001b[0;34m,\u001b[0m \u001b[0;34m*\u001b[0m\u001b[0margs\u001b[0m\u001b[0;34m,\u001b[0m \u001b[0;34m**\u001b[0m\u001b[0mkwargs\u001b[0m\u001b[0;34m)\u001b[0m\u001b[0;34m\u001b[0m\u001b[0;34m\u001b[0m\u001b[0m\n\u001b[0m\u001b[1;32m    156\u001b[0m \u001b[0;34m\u001b[0m\u001b[0m\n\u001b[1;32m    157\u001b[0m         \u001b[0;32mif\u001b[0m \u001b[0misinstance\u001b[0m\u001b[0;34m(\u001b[0m\u001b[0mres\u001b[0m\u001b[0;34m,\u001b[0m \u001b[0mOperator\u001b[0m\u001b[0;34m)\u001b[0m\u001b[0;34m:\u001b[0m\u001b[0;34m\u001b[0m\u001b[0;34m\u001b[0m\u001b[0m\n",
      "\u001b[0;31mValueError\u001b[0m: operands could not be broadcast together with shapes (64,64) (128,128) (64,64) "
     ]
    }
   ],
   "source": [
    "# TESTS\n",
    "n=7\n",
    "J,h = random_antiferromagnetic_ising(n)\n",
    "sigma,elist=ising_solution(J,h)\n",
    "H = classical_ising(J,h)\n",
    "es = np.linalg.eigvalsh(H)\n",
    "print(max(abs(es- elist))<eps)\n",
    "print(np.max(abs(H-np.diag(np.diag(H))))==0.0)"
   ]
  },
  {
   "cell_type": "markdown",
   "metadata": {
    "id": "d2EIfNI8gdfB"
   },
   "source": [
    "### Exercise 4\n",
    "A model consisting only of $\\sigma^{\\rm z}$ terms is classical since all operators in the Hamiltonian commute. Moreover, the only non-zero elements are on the diagonal. The simplest \"quantum\" model is obtained by adding a local field in the $x$ direction\n",
    "\n",
    "\\begin{align}\n",
    "H= -\\sum_{<i,j>}J_{i,j}\\sigma^{\\rm z}_i\\sigma^{\\rm z}_j-\\sum_j(h^{\\rm z}_j\\sigma^{\\rm z}_j+ h^{\\rm x}_j\\sigma^{\\rm x}_j).\n",
    "\\end{align}\n",
    "Create a function `transverse_ising` that receives `J`, `hz` and `hx` as arguments and returns the Hamiltonian of the transverse field Ising model. Check that the Hamiltonian is not diagonal and that the ground state (the state with the smallest energy) is an entangled state.\n"
   ]
  },
  {
   "cell_type": "code",
   "execution_count": null,
   "metadata": {
    "id": "s-CqzIt3loxg"
   },
   "outputs": [],
   "source": [
    "\n",
    "from friqml.solutions.entanglement import is_entangled\n",
    "from friqml.utils import eps, sz, sx"
   ]
  },
  {
   "cell_type": "code",
   "execution_count": null,
   "metadata": {
    "id": "Lbtpw-u0gdfE"
   },
   "outputs": [],
   "source": [
    "def transverse_ising(J, hz, hx):\n",
    "    n = len(hz)\n",
    "    H = classical_ising(J, hz)\n",
    "    for i in range(n):\n",
    "        H -= hx[i]*sx(i, n)\n",
    "    return H"
   ]
  },
  {
   "cell_type": "code",
   "execution_count": null,
   "metadata": {
    "id": "duuX_AE-yvv4"
   },
   "outputs": [],
   "source": [
    "n=4\n",
    "J = np.random.rand(n-1)\n",
    "hz = np.random.rand(n)\n",
    "hx = np.random.rand(n)\n",
    "H = transverse_ising(J,hz,hx)\n",
    "if n<=2:\n",
    "  print(H)"
   ]
  },
  {
   "cell_type": "code",
   "execution_count": null,
   "metadata": {
    "colab": {
     "base_uri": "https://localhost:8080/"
    },
    "executionInfo": {
     "elapsed": 20,
     "status": "ok",
     "timestamp": 1743160027579,
     "user": {
      "displayName": "Bojan Žunkovič",
      "userId": "04354960200638355485"
     },
     "user_tz": -60
    },
    "id": "RbQtb2cbgdfF",
    "outputId": "f1b47df4-7fd7-4ee2-9dab-cf29c4e062d5"
   },
   "outputs": [
    {
     "name": "stdout",
     "output_type": "stream",
     "text": [
      "True\n",
      "True\n"
     ]
    }
   ],
   "source": [
    "# TESTS\n",
    "print(np.max(abs(H-np.diag(np.diag(H))))>eps)\n",
    "val,vec = np.linalg.eigh(H)\n",
    "print(is_entangled(vec[0]))"
   ]
  },
  {
   "cell_type": "markdown",
   "metadata": {
    "id": "Y9D5QuKUJ1VE"
   },
   "source": [
    "## Gate model of quantum computing"
   ]
  },
  {
   "cell_type": "markdown",
   "metadata": {
    "id": "StdSHpECryug"
   },
   "source": [
    "### Exercise 1\n",
    "Quantum computers typically initialize their qubit registers in the $|0\\rangle$ state. This means that if there is any particular state we would like to work with, first we have to figure out how to create that state with a circuit. Some states are easier to prepare than others. If you are just given a random vector, say, $\\begin{bmatrix}0.36\\\\  0.8704\\end{bmatrix}$, it is not easy to figure out how to prepare it. In fact, the very purpose of quantum computing is to prepare a probability distribution of interest, that is, a state. So in some ways, generic state preparation is as hard as or equivalent to quantum computation. On the other hand, some states are easy to prepare; for instance, the state $\\frac{-|0\\rangle + |1\\rangle}{\\sqrt{2}}$. Create a template `haar_random_unitary` represents a Haar random unitary, i.e. prepares a Haar random state by applying the unitary on $|0\\rangle$. For more in depth undersanding of the Haar measure consult the PennyLane demo [Understanding the Haar Measure](https://pennylane.ai/qml/demos/tutorial_haar_measure.html)"
   ]
  },
  {
   "cell_type": "code",
   "execution_count": null,
   "metadata": {
    "id": "vLbL9zLL9Hso"
   },
   "outputs": [],
   "source": [
    "# DEVICE\n",
    "dev = qml.device('default.qubit', wires=1, shots=None)"
   ]
  },
  {
   "cell_type": "code",
   "execution_count": null,
   "metadata": {
    "id": "niupJMVitlNz"
   },
   "outputs": [],
   "source": [
    "from friqml.utils import get_vector\n",
    "from scipy.stats import rv_continuous"
   ]
  },
  {
   "cell_type": "code",
   "execution_count": null,
   "metadata": {
    "id": "IxBXjtG_oH2C"
   },
   "outputs": [],
   "source": [
    "class sin_prob_dist(rv_continuous):\n",
    "    def _pdf(self, theta):\n",
    "        # The 0.5 is so that the distribution is normalized\n",
    "        return 0.5 * np.sin(theta)\n",
    "\n",
    "\n",
    "# Samples of theta should be drawn from between 0 and pi\n",
    "sin_sampler = sin_prob_dist(a=0, b=np.pi)\n",
    "\n",
    "\n",
    "def haar_random_unitary(wires):\n",
    "    # Sample phi and omega as normal\n",
    "    phi, omega = 2 * np.pi * np.random.uniform(size=2)\n",
    "    theta = sin_sampler.rvs(size=1)  # Sample theta from our new distribution\n",
    "    qml.Rot(phi, theta, omega, wires=wires)\n"
   ]
  },
  {
   "cell_type": "code",
   "execution_count": null,
   "metadata": {
    "id": "1bOlDCJKt_nn"
   },
   "outputs": [],
   "source": [
    "@qml.qnode(dev)\n",
    "def circuit():\n",
    "  haar_random_unitary(wires=0)\n",
    "  return qml.state()"
   ]
  },
  {
   "cell_type": "code",
   "execution_count": null,
   "metadata": {
    "id": "slhwxKSFotCL"
   },
   "outputs": [],
   "source": [
    "'''def bloch_sphere_coordinates(alpha, beta):\n",
    "    \"\"\"\n",
    "    Compute the Bloch sphere coordinates (theta, phi) and Cartesian coordinates (x, y, z) of a qubit given its state coefficients.\n",
    "\n",
    "    Parameters:\n",
    "        alpha (complex): The amplitude of the |0> state.\n",
    "        beta (complex): The amplitude of the |1> state.\n",
    "\n",
    "    Returns:\n",
    "        tuple: (theta, phi, x, y, z) in radians and Cartesian coordinates.\n",
    "    \"\"\"\n",
    "    # Normalize the state\n",
    "    norm = np.sqrt(abs(alpha)**2 + abs(beta)**2)\n",
    "    alpha /= norm\n",
    "    beta /= norm\n",
    "\n",
    "    # Compute theta\n",
    "    theta = 2 * np.arccos(abs(alpha))\n",
    "\n",
    "    # Compute phi (azimuthal angle)\n",
    "    phi = np.angle(beta) - np.angle(alpha)\n",
    "\n",
    "    # Ensure phi is in range [0, 2pi)\n",
    "    phi = (phi + 2 * np.pi) % (2 * np.pi)\n",
    "\n",
    "    # Compute Cartesian coordinates\n",
    "    x = np.sin(theta) * np.cos(phi)\n",
    "    y = np.sin(theta) * np.sin(phi)\n",
    "    z = np.cos(theta)\n",
    "\n",
    "    return [x, y, z], [theta, phi]'''"
   ]
  },
  {
   "cell_type": "code",
   "execution_count": null,
   "metadata": {
    "colab": {
     "base_uri": "https://localhost:8080/",
     "height": 84,
     "referenced_widgets": [
      "5cea9c8e5d6b4d70af11338b4acb3c4b",
      "a9b825399e004ea89a11a04861d674dd",
      "5796fdeec21c4004b270d4df31e3077b",
      "96a900ac0aa546ee89937dedd5e010d3",
      "4735f43d2ead4e7e847b44785f9daf5c",
      "07c576ec4f86486581d513339421136e",
      "babd8b798ce64ba6832b9c875b52ec56",
      "f7cfebfd706846ebaa76bc4229678a59",
      "591801c2afc644258b2d6c18673ad91e",
      "2d6aeac80a234dc5904456e8af430a86",
      "57bd8df8524b45f5a7d4e71761e36512"
     ]
    },
    "executionInfo": {
     "elapsed": 64858,
     "status": "ok",
     "timestamp": 1743160092541,
     "user": {
      "displayName": "Bojan Žunkovič",
      "userId": "04354960200638355485"
     },
     "user_tz": -60
    },
    "id": "k5StnvQPKgSJ",
    "outputId": "d3bcf4e5-5558-47ea-ace4-fc4b662e5c2d"
   },
   "outputs": [
    {
     "data": {
      "application/vnd.jupyter.widget-view+json": {
       "model_id": "5cea9c8e5d6b4d70af11338b4acb3c4b",
       "version_major": 2,
       "version_minor": 0
      },
      "text/plain": [
       "  0%|          | 0/10000 [00:00<?, ?it/s]"
      ]
     },
     "metadata": {},
     "output_type": "display_data"
    },
    {
     "name": "stdout",
     "output_type": "stream",
     "text": [
      "True\n",
      "True\n"
     ]
    }
   ],
   "source": [
    "# TESTS\n",
    "nsamp = 10000\n",
    "thetas = np.zeros(nsamp)\n",
    "phis = np.zeros(nsamp)\n",
    "for i in tqdm(range(nsamp)):\n",
    "  psi = circuit()[0]\n",
    "  a=psi[0]/abs(psi[0])\n",
    "  _,angles = get_vector(psi[0]/a,psi[1]/a)\n",
    "  thetas[i] = np.real(angles[0])\n",
    "  phis[i] = np.real(angles[1])\n",
    "\n",
    "cths = np.cos(thetas)\n",
    "cthdens,_=np.histogram(cths,density=True,bins=10)\n",
    "phidens,_=np.histogram(phis,density=True,bins=10)\n",
    "print((abs(cthdens-1/(max(cths)-min(cths)))<0.05).all())\n",
    "print((abs(phidens-1/(max(phis)-min(phis)))<0.05).all())"
   ]
  },
  {
   "cell_type": "code",
   "execution_count": null,
   "metadata": {
    "colab": {
     "base_uri": "https://localhost:8080/"
    },
    "executionInfo": {
     "elapsed": 412,
     "status": "ok",
     "timestamp": 1743160092960,
     "user": {
      "displayName": "Bojan Žunkovič",
      "userId": "04354960200638355485"
     },
     "user_tz": -60
    },
    "id": "_qQdGMIHsaLZ",
    "outputId": "1de51b73-e1de-46d0-a3b3-ce3f0a35d830"
   },
   "outputs": [
    {
     "data": {
      "text/plain": [
       "tensor([0.01800306, 0.00900153, 0.01850314, 0.01450246, 0.00350059,\n",
       "        0.0165028 , 0.01100187, 0.02700459, 0.00250042, 0.01150195], requires_grad=True)"
      ]
     },
     "execution_count": 22,
     "metadata": {},
     "output_type": "execute_result"
    }
   ],
   "source": [
    "abs(cthdens-1/(max(cths)-min(cths)))"
   ]
  },
  {
   "cell_type": "markdown",
   "metadata": {
    "id": "yppY1A3-EoDw"
   },
   "source": [
    "### Exercise 2\n",
    "Create a function `circuit` that prepares the state $\\frac{1}{\\sqrt{2}}(|000\\rangle+|111\\rangle)$ and returns 100 samples in the computational basis."
   ]
  },
  {
   "cell_type": "code",
   "execution_count": null,
   "metadata": {
    "id": "0yWYBVKWFzBF"
   },
   "outputs": [],
   "source": [
    "# DEVICE\n",
    "nsample=100\n",
    "dev = qml.device('default.qubit', wires=3, shots=nsample)"
   ]
  },
  {
   "cell_type": "code",
   "execution_count": null,
   "metadata": {
    "id": "8NcWqiUgwxO9"
   },
   "outputs": [],
   "source": [
    "# SOLUTION\n",
    "from friqml.solutions.gate_model import e2_circuit\n",
    "circuit = qml.qnode(dev)(e2_circuit)"
   ]
  },
  {
   "cell_type": "code",
   "execution_count": null,
   "metadata": {
    "id": "3q9ymbr-X_H0"
   },
   "outputs": [],
   "source": [
    "def e2_circuit():\n",
    "    qml.Hadamard(wires=0)\n",
    "    qml.CNOT(wires=[0, 1])\n",
    "    qml.CNOT(wires=[0, 2])\n",
    "    return qml.sample()"
   ]
  },
  {
   "cell_type": "code",
   "execution_count": null,
   "metadata": {
    "colab": {
     "base_uri": "https://localhost:8080/"
    },
    "executionInfo": {
     "elapsed": 4,
     "status": "ok",
     "timestamp": 1743160092970,
     "user": {
      "displayName": "Bojan Žunkovič",
      "userId": "04354960200638355485"
     },
     "user_tz": -60
    },
    "id": "wtIO-BdmqA7M",
    "outputId": "70c47ee0-5063-4a5a-c9af-c0661534f533"
   },
   "outputs": [
    {
     "name": "stdout",
     "output_type": "stream",
     "text": [
      "True\n",
      "False\n"
     ]
    }
   ],
   "source": [
    "# TESTS\n",
    "samples = circuit()\n",
    "nzero = len([1 for x in samples if x[0]==0 and x[1]==0 and x[2]==0])\n",
    "none = len([1 for x in samples if x[0]==1 and x[1]==1 and x[2]==1])\n",
    "print(nzero+none==nsample)\n",
    "print((nzero-none)/nsample<0.1)"
   ]
  },
  {
   "cell_type": "markdown",
   "metadata": {
    "id": "YjztY2W2KNZI"
   },
   "source": [
    "## Adiabatic quantum computing"
   ]
  },
  {
   "cell_type": "markdown",
   "metadata": {
    "id": "1wv0z60tpbT7"
   },
   "source": [
    "### Exercise 1\n",
    "In an adiabatic process, conditions change slowly enough for the system to adapt to the new configuration. We can start from some Hamiltonian $H_0$ and slowly change it to some other Hamiltonian $H_1$, for instance, on a linear schedule: $H(t) = (1-t) H_0 + t H_1$. The speed of change heavily depends on the energy gap, that is, the difference between the ground state energy and the first excited state of all Hamiltonians $H(t)$, $t\\in[0,1]$.\n",
    "\n",
    "It is easy to craft a Hamiltonian where this gap is small, so the speed limit has to be low. If you take a classical Ising model with coupling strengths on vastly different scales, that is what you get, for example\n",
    "\n",
    "\\begin{align}\n",
    "H_{\\rm small-gap}=-1000\\sigma^Z_1\\sigma^Z_2-0.1\\sigma^Z_2\\sigma^Z_3-0.5\\sigma^Z_1\n",
    "\\end{align}\n",
    "Write a function `small_gap_hamiltonian` that returns a matrix representing the above Hamiltonian. Calculate the spectral gap, i.e. the difference between two smallest eigenvalues of the returned matrix.\n",
    "\n",
    "\n",
    "For comparison write also a function `big_gap_hamiltonian` that returns the matrix representation of the Hamiltonian\n",
    "\n",
    "\\begin{align}\n",
    "H_{\\rm big-gap} = -\\sigma^{\\rm x}_1-\\sigma^{\\rm x}_2-\\sigma^{\\rm x}_3\n",
    "\\end{align}\n",
    "\n",
    "\n",
    "Remember that since you have three qubits, the $\\sigma^Z_1\\sigma^Z_2$ operator, for instance, actually means $\\sigma^Z\\otimes\\sigma^Z\\otimes\\mathbb{1}$."
   ]
  },
  {
   "cell_type": "code",
   "execution_count": null,
   "metadata": {
    "id": "wVObW_X8tdLj"
   },
   "outputs": [],
   "source": [
    "def small_gap_hamiltonian():\n",
    "    H = -1000*sz(0, 3)@sz(1, 3) - 0.1*sz(1, 3)@sz(2, 3) - 0.5*sz(0, 3)\n",
    "    return H\n",
    "\n",
    "\n",
    "def big_gap_hamiltonian():\n",
    "    H = -sx(0, 3)-sx(1, 3)-sx(2, 3)\n",
    "    return H"
   ]
  },
  {
   "cell_type": "code",
   "execution_count": null,
   "metadata": {
    "colab": {
     "base_uri": "https://localhost:8080/"
    },
    "executionInfo": {
     "elapsed": 16,
     "status": "ok",
     "timestamp": 1743160093002,
     "user": {
      "displayName": "Bojan Žunkovič",
      "userId": "04354960200638355485"
     },
     "user_tz": -60
    },
    "id": "KvRkKdNaz4rC",
    "outputId": "4d08429d-f869-4359-ac18-770ffa5cfae2"
   },
   "outputs": [
    {
     "name": "stdout",
     "output_type": "stream",
     "text": [
      "True\n",
      "True\n"
     ]
    }
   ],
   "source": [
    "H = small_gap_hamiltonian()\n",
    "e = np.linalg.eigvalsh(H)\n",
    "gap = e[1]-e[0]\n",
    "print(np.isclose(gap,0.2))\n",
    "\n",
    "H = big_gap_hamiltonian()\n",
    "e = np.linalg.eigvalsh(H)\n",
    "gap = e[1]-e[0]\n",
    "print(np.isclose(gap,2))"
   ]
  },
  {
   "cell_type": "markdown",
   "metadata": {
    "id": "HOgriY1CprXM"
   },
   "source": [
    "### Exercise 2\n",
    " On a real quantum annealing device, we drop the stringent theoretical requirements of following the adiabatic pathway and we repeat the transition over and over again. Then we choose the lowest energy solution as our optimum.\n",
    "\n",
    "The classical 'simulator' for a quantum annealer is some heuristic solver of combinatorial optimization, for instance, simulated annealing. Use the dimod package to implement the Hamiltonian with a small gap: $H_1=-1000\\sigma^Z_1\\sigma^Z_2-0.1\\sigma^Z_2\\sigma^Z_3-0.5\\sigma^Z_1$. Write a function `small_gap_model` that returns a `BinaryQuadraticModel` object for the \"small gap\" Hamiltonian."
   ]
  },
  {
   "cell_type": "code",
   "execution_count": null,
   "metadata": {
    "id": "hMWSmStH1skC"
   },
   "outputs": [],
   "source": [
    "# SOLUTION\n",
    "import dimod"
   ]
  },
  {
   "cell_type": "code",
   "execution_count": null,
   "metadata": {
    "id": "bAsfZAFp4810"
   },
   "outputs": [],
   "source": [
    "def small_gap_model():\n",
    "    a = np.zeros(3)\n",
    "    a[0] = -0.5\n",
    "\n",
    "    b = np.zeros([3, 3])\n",
    "    b[0, 1] = -1000\n",
    "    b[1, 2] = -0.1\n",
    "\n",
    "    qbm = dimod.BinaryQuadraticModel(a, b, \"SPIN\")\n",
    "    return qbm"
   ]
  },
  {
   "cell_type": "code",
   "execution_count": null,
   "metadata": {
    "colab": {
     "base_uri": "https://localhost:8080/"
    },
    "executionInfo": {
     "elapsed": 29,
     "status": "ok",
     "timestamp": 1743160093034,
     "user": {
      "displayName": "Bojan Žunkovič",
      "userId": "04354960200638355485"
     },
     "user_tz": -60
    },
    "id": "eIpddoQ335M-",
    "outputId": "8664c27b-d33e-4ca6-ae1d-e90d3c4f71ec"
   },
   "outputs": [
    {
     "name": "stdout",
     "output_type": "stream",
     "text": [
      "True\n"
     ]
    }
   ],
   "source": [
    "# TESTS\n",
    "model = small_gap_model()\n",
    "sampler = dimod.SimulatedAnnealingSampler()\n",
    "response = sampler.sample(model, num_reads=10)\n",
    "print(np.isclose(response.first.energy, -1000.6))"
   ]
  },
  {
   "cell_type": "markdown",
   "metadata": {
    "id": "O4TIumvt6I90"
   },
   "source": [
    "**Note:** Unlike in the case of a simple system, you often do not get the ground state:"
   ]
  },
  {
   "cell_type": "code",
   "execution_count": null,
   "metadata": {
    "colab": {
     "base_uri": "https://localhost:8080/"
    },
    "executionInfo": {
     "elapsed": 43,
     "status": "ok",
     "timestamp": 1743160093078,
     "user": {
      "displayName": "Bojan Žunkovič",
      "userId": "04354960200638355485"
     },
     "user_tz": -60
    },
    "id": "BjM6B1n26IG4",
    "outputId": "0f281bfd-ac71-4d45-bb0d-9358409c5b07"
   },
   "outputs": [
    {
     "name": "stdout",
     "output_type": "stream",
     "text": [
      "[np.float64(-1000.6), np.float64(-1000.6), np.float64(-1000.6), np.float64(-1000.6), np.float64(-1000.6), np.float64(-999.6), np.float64(-999.6), np.float64(-999.6), np.float64(-999.6), np.float64(-999.6)]\n"
     ]
    }
   ],
   "source": [
    "print([solution.energy for solution in response.data()])"
   ]
  }
 ],
 "metadata": {
  "colab": {
   "provenance": [
    {
     "file_id": "1uscUoaBTjaLceiKMYhwmSVMPQTPzNI6c",
     "timestamp": 1743160813276
    },
    {
     "file_id": "17hKzm3w2ic8Ey0lply4bohRE8wUBdD74",
     "timestamp": 1646565126779
    }
   ],
   "toc_visible": true
  },
  "kernelspec": {
   "display_name": "Python 3",
   "name": "python3"
  },
  "language_info": {
   "name": "python"
  },
  "widgets": {
   "application/vnd.jupyter.widget-state+json": {
    "07c576ec4f86486581d513339421136e": {
     "model_module": "@jupyter-widgets/base",
     "model_module_version": "1.2.0",
     "model_name": "LayoutModel",
     "state": {
      "_model_module": "@jupyter-widgets/base",
      "_model_module_version": "1.2.0",
      "_model_name": "LayoutModel",
      "_view_count": null,
      "_view_module": "@jupyter-widgets/base",
      "_view_module_version": "1.2.0",
      "_view_name": "LayoutView",
      "align_content": null,
      "align_items": null,
      "align_self": null,
      "border": null,
      "bottom": null,
      "display": null,
      "flex": null,
      "flex_flow": null,
      "grid_area": null,
      "grid_auto_columns": null,
      "grid_auto_flow": null,
      "grid_auto_rows": null,
      "grid_column": null,
      "grid_gap": null,
      "grid_row": null,
      "grid_template_areas": null,
      "grid_template_columns": null,
      "grid_template_rows": null,
      "height": null,
      "justify_content": null,
      "justify_items": null,
      "left": null,
      "margin": null,
      "max_height": null,
      "max_width": null,
      "min_height": null,
      "min_width": null,
      "object_fit": null,
      "object_position": null,
      "order": null,
      "overflow": null,
      "overflow_x": null,
      "overflow_y": null,
      "padding": null,
      "right": null,
      "top": null,
      "visibility": null,
      "width": null
     }
    },
    "2d6aeac80a234dc5904456e8af430a86": {
     "model_module": "@jupyter-widgets/base",
     "model_module_version": "1.2.0",
     "model_name": "LayoutModel",
     "state": {
      "_model_module": "@jupyter-widgets/base",
      "_model_module_version": "1.2.0",
      "_model_name": "LayoutModel",
      "_view_count": null,
      "_view_module": "@jupyter-widgets/base",
      "_view_module_version": "1.2.0",
      "_view_name": "LayoutView",
      "align_content": null,
      "align_items": null,
      "align_self": null,
      "border": null,
      "bottom": null,
      "display": null,
      "flex": null,
      "flex_flow": null,
      "grid_area": null,
      "grid_auto_columns": null,
      "grid_auto_flow": null,
      "grid_auto_rows": null,
      "grid_column": null,
      "grid_gap": null,
      "grid_row": null,
      "grid_template_areas": null,
      "grid_template_columns": null,
      "grid_template_rows": null,
      "height": null,
      "justify_content": null,
      "justify_items": null,
      "left": null,
      "margin": null,
      "max_height": null,
      "max_width": null,
      "min_height": null,
      "min_width": null,
      "object_fit": null,
      "object_position": null,
      "order": null,
      "overflow": null,
      "overflow_x": null,
      "overflow_y": null,
      "padding": null,
      "right": null,
      "top": null,
      "visibility": null,
      "width": null
     }
    },
    "4735f43d2ead4e7e847b44785f9daf5c": {
     "model_module": "@jupyter-widgets/base",
     "model_module_version": "1.2.0",
     "model_name": "LayoutModel",
     "state": {
      "_model_module": "@jupyter-widgets/base",
      "_model_module_version": "1.2.0",
      "_model_name": "LayoutModel",
      "_view_count": null,
      "_view_module": "@jupyter-widgets/base",
      "_view_module_version": "1.2.0",
      "_view_name": "LayoutView",
      "align_content": null,
      "align_items": null,
      "align_self": null,
      "border": null,
      "bottom": null,
      "display": null,
      "flex": null,
      "flex_flow": null,
      "grid_area": null,
      "grid_auto_columns": null,
      "grid_auto_flow": null,
      "grid_auto_rows": null,
      "grid_column": null,
      "grid_gap": null,
      "grid_row": null,
      "grid_template_areas": null,
      "grid_template_columns": null,
      "grid_template_rows": null,
      "height": null,
      "justify_content": null,
      "justify_items": null,
      "left": null,
      "margin": null,
      "max_height": null,
      "max_width": null,
      "min_height": null,
      "min_width": null,
      "object_fit": null,
      "object_position": null,
      "order": null,
      "overflow": null,
      "overflow_x": null,
      "overflow_y": null,
      "padding": null,
      "right": null,
      "top": null,
      "visibility": null,
      "width": null
     }
    },
    "5796fdeec21c4004b270d4df31e3077b": {
     "model_module": "@jupyter-widgets/controls",
     "model_module_version": "1.5.0",
     "model_name": "FloatProgressModel",
     "state": {
      "_dom_classes": [],
      "_model_module": "@jupyter-widgets/controls",
      "_model_module_version": "1.5.0",
      "_model_name": "FloatProgressModel",
      "_view_count": null,
      "_view_module": "@jupyter-widgets/controls",
      "_view_module_version": "1.5.0",
      "_view_name": "ProgressView",
      "bar_style": "success",
      "description": "",
      "description_tooltip": null,
      "layout": "IPY_MODEL_f7cfebfd706846ebaa76bc4229678a59",
      "max": 10000,
      "min": 0,
      "orientation": "horizontal",
      "style": "IPY_MODEL_591801c2afc644258b2d6c18673ad91e",
      "value": 10000
     }
    },
    "57bd8df8524b45f5a7d4e71761e36512": {
     "model_module": "@jupyter-widgets/controls",
     "model_module_version": "1.5.0",
     "model_name": "DescriptionStyleModel",
     "state": {
      "_model_module": "@jupyter-widgets/controls",
      "_model_module_version": "1.5.0",
      "_model_name": "DescriptionStyleModel",
      "_view_count": null,
      "_view_module": "@jupyter-widgets/base",
      "_view_module_version": "1.2.0",
      "_view_name": "StyleView",
      "description_width": ""
     }
    },
    "591801c2afc644258b2d6c18673ad91e": {
     "model_module": "@jupyter-widgets/controls",
     "model_module_version": "1.5.0",
     "model_name": "ProgressStyleModel",
     "state": {
      "_model_module": "@jupyter-widgets/controls",
      "_model_module_version": "1.5.0",
      "_model_name": "ProgressStyleModel",
      "_view_count": null,
      "_view_module": "@jupyter-widgets/base",
      "_view_module_version": "1.2.0",
      "_view_name": "StyleView",
      "bar_color": null,
      "description_width": ""
     }
    },
    "5cea9c8e5d6b4d70af11338b4acb3c4b": {
     "model_module": "@jupyter-widgets/controls",
     "model_module_version": "1.5.0",
     "model_name": "HBoxModel",
     "state": {
      "_dom_classes": [],
      "_model_module": "@jupyter-widgets/controls",
      "_model_module_version": "1.5.0",
      "_model_name": "HBoxModel",
      "_view_count": null,
      "_view_module": "@jupyter-widgets/controls",
      "_view_module_version": "1.5.0",
      "_view_name": "HBoxView",
      "box_style": "",
      "children": [
       "IPY_MODEL_a9b825399e004ea89a11a04861d674dd",
       "IPY_MODEL_5796fdeec21c4004b270d4df31e3077b",
       "IPY_MODEL_96a900ac0aa546ee89937dedd5e010d3"
      ],
      "layout": "IPY_MODEL_4735f43d2ead4e7e847b44785f9daf5c"
     }
    },
    "96a900ac0aa546ee89937dedd5e010d3": {
     "model_module": "@jupyter-widgets/controls",
     "model_module_version": "1.5.0",
     "model_name": "HTMLModel",
     "state": {
      "_dom_classes": [],
      "_model_module": "@jupyter-widgets/controls",
      "_model_module_version": "1.5.0",
      "_model_name": "HTMLModel",
      "_view_count": null,
      "_view_module": "@jupyter-widgets/controls",
      "_view_module_version": "1.5.0",
      "_view_name": "HTMLView",
      "description": "",
      "description_tooltip": null,
      "layout": "IPY_MODEL_2d6aeac80a234dc5904456e8af430a86",
      "placeholder": "​",
      "style": "IPY_MODEL_57bd8df8524b45f5a7d4e71761e36512",
      "value": " 10000/10000 [01:04&lt;00:00, 196.68it/s]"
     }
    },
    "a9b825399e004ea89a11a04861d674dd": {
     "model_module": "@jupyter-widgets/controls",
     "model_module_version": "1.5.0",
     "model_name": "HTMLModel",
     "state": {
      "_dom_classes": [],
      "_model_module": "@jupyter-widgets/controls",
      "_model_module_version": "1.5.0",
      "_model_name": "HTMLModel",
      "_view_count": null,
      "_view_module": "@jupyter-widgets/controls",
      "_view_module_version": "1.5.0",
      "_view_name": "HTMLView",
      "description": "",
      "description_tooltip": null,
      "layout": "IPY_MODEL_07c576ec4f86486581d513339421136e",
      "placeholder": "​",
      "style": "IPY_MODEL_babd8b798ce64ba6832b9c875b52ec56",
      "value": "100%"
     }
    },
    "babd8b798ce64ba6832b9c875b52ec56": {
     "model_module": "@jupyter-widgets/controls",
     "model_module_version": "1.5.0",
     "model_name": "DescriptionStyleModel",
     "state": {
      "_model_module": "@jupyter-widgets/controls",
      "_model_module_version": "1.5.0",
      "_model_name": "DescriptionStyleModel",
      "_view_count": null,
      "_view_module": "@jupyter-widgets/base",
      "_view_module_version": "1.2.0",
      "_view_name": "StyleView",
      "description_width": ""
     }
    },
    "f7cfebfd706846ebaa76bc4229678a59": {
     "model_module": "@jupyter-widgets/base",
     "model_module_version": "1.2.0",
     "model_name": "LayoutModel",
     "state": {
      "_model_module": "@jupyter-widgets/base",
      "_model_module_version": "1.2.0",
      "_model_name": "LayoutModel",
      "_view_count": null,
      "_view_module": "@jupyter-widgets/base",
      "_view_module_version": "1.2.0",
      "_view_name": "LayoutView",
      "align_content": null,
      "align_items": null,
      "align_self": null,
      "border": null,
      "bottom": null,
      "display": null,
      "flex": null,
      "flex_flow": null,
      "grid_area": null,
      "grid_auto_columns": null,
      "grid_auto_flow": null,
      "grid_auto_rows": null,
      "grid_column": null,
      "grid_gap": null,
      "grid_row": null,
      "grid_template_areas": null,
      "grid_template_columns": null,
      "grid_template_rows": null,
      "height": null,
      "justify_content": null,
      "justify_items": null,
      "left": null,
      "margin": null,
      "max_height": null,
      "max_width": null,
      "min_height": null,
      "min_width": null,
      "object_fit": null,
      "object_position": null,
      "order": null,
      "overflow": null,
      "overflow_x": null,
      "overflow_y": null,
      "padding": null,
      "right": null,
      "top": null,
      "visibility": null,
      "width": null
     }
    }
   }
  }
 },
 "nbformat": 4,
 "nbformat_minor": 0
}
